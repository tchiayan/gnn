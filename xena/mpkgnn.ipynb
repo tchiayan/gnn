{
 "cells": [
  {
   "cell_type": "code",
   "execution_count": 1,
   "metadata": {},
   "outputs": [],
   "source": [
    "import pandas as pd \n",
    "from sklearn.feature_selection import VarianceThreshold , SelectKBest , f_classif\n",
    "from sklearn.preprocessing import OrdinalEncoder\n",
    "from sklearn.model_selection import train_test_split\n",
    "import math\n",
    "import itertools\n",
    "from amogel.utils.ac import generate_ac_feature_selection\n",
    "import warnings\n",
    "warnings.filterwarnings(\"ignore\")"
   ]
  },
  {
   "cell_type": "code",
   "execution_count": null,
   "metadata": {},
   "outputs": [],
   "source": [
    "# data preparation \n",
    "# download data from google drive \n",
    "!gdown --id 1tXtQwLBqoI6sjV6QTXR1Dbw_6MTexjez\n",
    "\n",
    "# unzip the data and delete the zip file\n",
    "!unzip -q xena_ggi_ppi_co.zip"
   ]
  },
  {
   "cell_type": "code",
   "execution_count": 2,
   "metadata": {},
   "outputs": [],
   "source": [
    "# load omic data \n",
    "def load_omic_data(omic_file):\n",
    "    omic_data = pd.read_csv(omic_file, sep=\"\\t\", index_col=0)\n",
    "    return omic_data\n",
    "\n",
    "\n",
    "def filtering_variance(df: pd.DataFrame , threshold:float): \n",
    "        \n",
    "    default_shape = df.shape\n",
    "    \n",
    "    sel = VarianceThreshold(threshold=threshold)\n",
    "    df_filtered  = pd.DataFrame(sel.fit_transform(df) , index=df.index , columns=df.columns[sel.get_support()])\n",
    "    \n",
    "    filter_shape = df_filtered.shape\n",
    "    print(f\"Variance filtering | Default shape: {default_shape} | Filtered shape: {filter_shape}\")\n",
    "    \n",
    "    return df_filtered\n",
    "\n",
    "def annovaf_filtering( df: pd.DataFrame , df_label: pd.DataFrame , target: str , threshold: float)->pd.DataFrame:\n",
    "        \n",
    "        assert isinstance(df , pd.DataFrame) , \"Invalid input\"\n",
    "        assert isinstance(df_label , pd.DataFrame) , \"Invalid input\"\n",
    "        assert target in df_label.columns , f\"Invalid target column name, not found in the label dataframe | {df_label.columns.tolist()}\"\n",
    "        \n",
    "        default_shape = df.shape\n",
    "        \n",
    "        df_merged = pd.concat([df , df_label[target]] , axis=1)\n",
    "        df_merged_mean = df_merged.groupby(target).mean()\n",
    "        combination = list(itertools.permutations(df_merged_mean.index , 2))\n",
    "        selected_genes = []\n",
    "        for idx , gene in enumerate(df_merged.columns[:-1]): \n",
    "            # calculate fold-change for each gene to different groups\n",
    "            # generate possible groups \n",
    "            try:\n",
    "                fold_change = [\n",
    "                    math.log2(df_merged_mean.loc[group1,gene]/df_merged_mean.loc[group2 , gene]) for group1 , group2 in combination\n",
    "                ]\n",
    "                \n",
    "                # check if the fold change is greater than the threshold\n",
    "                if any(x > 1 for x in fold_change):\n",
    "                    selected_genes.append(gene)\n",
    "            except Exception as e:\n",
    "                pass\n",
    "                #selected_genes.append(gene)\n",
    "            \n",
    "        print(f\"Selected genes: {len(selected_genes)} , {selected_genes[:5]}...\")\n",
    "        if len(selected_genes) > 10:\n",
    "            df = df[selected_genes]\n",
    "            \n",
    "        sel = SelectKBest(score_func=f_classif, k=threshold)\n",
    "        df_filtered = pd.DataFrame(sel.fit_transform(df, df_label[target]), index=df.index , columns=df.columns[sel.get_support()])\n",
    "        \n",
    "        filter_shape = df_filtered.shape\n",
    "        print(f\"ANOVA-F filtering | Default shape: {default_shape} | Filtered shape: {filter_shape}\")\n",
    "        \n",
    "        return  df_filtered"
   ]
  },
  {
   "cell_type": "code",
   "execution_count": 3,
   "metadata": {},
   "outputs": [],
   "source": [
    "# load omic\n",
    "cnv = load_omic_data(\"cnv.txt\")\n",
    "cnv.index = cnv.index.str.split(\"|\").str[0]\n",
    "cnv.columns = [\"-\".join(col.split(\"-\")[0:3]) for col in cnv.columns]\n",
    "cnv = cnv.T\n",
    "cnv.index.name = \"sample\"\n",
    "\n",
    "mRNA = load_omic_data(\"mRNA.txt\")\n",
    "mRNA.columns = [\"-\".join(col.split(\"-\")[0:3]) for col in mRNA.columns]\n",
    "mRNA = mRNA.T\n",
    "mRNA.index.name = \"sample\""
   ]
  },
  {
   "cell_type": "code",
   "execution_count": 4,
   "metadata": {},
   "outputs": [],
   "source": [
    "# load label \n",
    "label  = pd.read_csv(\"TCGAbiolinks.csv\")\n",
    "label = label[[\"patient\",\"BRCA_Subtype_PAM50\"]]\n",
    "label.set_index(\"patient\", inplace=True)\n",
    "label.columns = [\"class\"]\n",
    "label.index.name = \"sample\""
   ]
  },
  {
   "cell_type": "code",
   "execution_count": 5,
   "metadata": {},
   "outputs": [
    {
     "name": "stdout",
     "output_type": "stream",
     "text": [
      "cnv missing value:  0\n",
      "mRNA missing value:  0\n",
      "label missing value:  2\n"
     ]
    }
   ],
   "source": [
    "# check missing value \n",
    "print(\"cnv missing value: \", cnv.isnull().sum().sum())\n",
    "print(\"mRNA missing value: \", mRNA.isnull().sum().sum())\n",
    "print(\"label missing value: \", label.isnull().sum().sum())\n",
    "\n",
    "label = label.dropna()"
   ]
  },
  {
   "cell_type": "code",
   "execution_count": 6,
   "metadata": {},
   "outputs": [],
   "source": [
    "common_samples = set(cnv.index) & set(mRNA.index) & set(label.index)\n",
    "\n",
    "# filter data\n",
    "cnv = cnv.loc[list(common_samples)]\n",
    "mRNA = mRNA.loc[list(common_samples)]\n",
    "label = label.loc[list(common_samples)]"
   ]
  },
  {
   "cell_type": "code",
   "execution_count": 7,
   "metadata": {},
   "outputs": [
    {
     "data": {
      "text/plain": [
       "(1066, 20530)"
      ]
     },
     "execution_count": 7,
     "metadata": {},
     "output_type": "execute_result"
    }
   ],
   "source": [
    "# merge duplicated index with mean \n",
    "mRNA = mRNA.groupby(mRNA.index).mean()\n",
    "mRNA.shape"
   ]
  },
  {
   "cell_type": "code",
   "execution_count": 8,
   "metadata": {},
   "outputs": [],
   "source": [
    "# sort index\n",
    "cnv.sort_index(inplace=True)\n",
    "mRNA.sort_index(inplace=True)\n",
    "label.sort_index(inplace=True)"
   ]
  },
  {
   "cell_type": "code",
   "execution_count": 9,
   "metadata": {},
   "outputs": [
    {
     "data": {
      "text/plain": [
       "[array(['Basal', 'Her2', 'LumA', 'LumB', 'Normal'], dtype=object)]"
      ]
     },
     "execution_count": 9,
     "metadata": {},
     "output_type": "execute_result"
    }
   ],
   "source": [
    "label_enc = OrdinalEncoder()\n",
    "label[\"class\"] = label_enc.fit_transform(label[[\"class\"]])\n",
    "label_enc.categories_"
   ]
  },
  {
   "cell_type": "code",
   "execution_count": 10,
   "metadata": {},
   "outputs": [
    {
     "data": {
      "text/html": [
       "<div>\n",
       "<style scoped>\n",
       "    .dataframe tbody tr th:only-of-type {\n",
       "        vertical-align: middle;\n",
       "    }\n",
       "\n",
       "    .dataframe tbody tr th {\n",
       "        vertical-align: top;\n",
       "    }\n",
       "\n",
       "    .dataframe thead th {\n",
       "        text-align: right;\n",
       "    }\n",
       "</style>\n",
       "<table border=\"1\" class=\"dataframe\">\n",
       "  <thead>\n",
       "    <tr style=\"text-align: right;\">\n",
       "      <th></th>\n",
       "      <th>class</th>\n",
       "    </tr>\n",
       "    <tr>\n",
       "      <th>sample</th>\n",
       "      <th></th>\n",
       "    </tr>\n",
       "  </thead>\n",
       "  <tbody>\n",
       "    <tr>\n",
       "      <th>TCGA-3C-AAAU</th>\n",
       "      <td>2.0</td>\n",
       "    </tr>\n",
       "    <tr>\n",
       "      <th>TCGA-3C-AALI</th>\n",
       "      <td>1.0</td>\n",
       "    </tr>\n",
       "    <tr>\n",
       "      <th>TCGA-3C-AALJ</th>\n",
       "      <td>3.0</td>\n",
       "    </tr>\n",
       "    <tr>\n",
       "      <th>TCGA-3C-AALK</th>\n",
       "      <td>2.0</td>\n",
       "    </tr>\n",
       "    <tr>\n",
       "      <th>TCGA-4H-AAAK</th>\n",
       "      <td>2.0</td>\n",
       "    </tr>\n",
       "    <tr>\n",
       "      <th>...</th>\n",
       "      <td>...</td>\n",
       "    </tr>\n",
       "    <tr>\n",
       "      <th>TCGA-WT-AB44</th>\n",
       "      <td>2.0</td>\n",
       "    </tr>\n",
       "    <tr>\n",
       "      <th>TCGA-XX-A899</th>\n",
       "      <td>2.0</td>\n",
       "    </tr>\n",
       "    <tr>\n",
       "      <th>TCGA-XX-A89A</th>\n",
       "      <td>2.0</td>\n",
       "    </tr>\n",
       "    <tr>\n",
       "      <th>TCGA-Z7-A8R5</th>\n",
       "      <td>2.0</td>\n",
       "    </tr>\n",
       "    <tr>\n",
       "      <th>TCGA-Z7-A8R6</th>\n",
       "      <td>3.0</td>\n",
       "    </tr>\n",
       "  </tbody>\n",
       "</table>\n",
       "<p>1066 rows × 1 columns</p>\n",
       "</div>"
      ],
      "text/plain": [
       "              class\n",
       "sample             \n",
       "TCGA-3C-AAAU    2.0\n",
       "TCGA-3C-AALI    1.0\n",
       "TCGA-3C-AALJ    3.0\n",
       "TCGA-3C-AALK    2.0\n",
       "TCGA-4H-AAAK    2.0\n",
       "...             ...\n",
       "TCGA-WT-AB44    2.0\n",
       "TCGA-XX-A899    2.0\n",
       "TCGA-XX-A89A    2.0\n",
       "TCGA-Z7-A8R5    2.0\n",
       "TCGA-Z7-A8R6    3.0\n",
       "\n",
       "[1066 rows x 1 columns]"
      ]
     },
     "execution_count": 10,
     "metadata": {},
     "output_type": "execute_result"
    }
   ],
   "source": [
    "label"
   ]
  },
  {
   "cell_type": "code",
   "execution_count": 11,
   "metadata": {},
   "outputs": [],
   "source": [
    "# load STRING database\n",
    "string_link = pd.read_csv(\"9606.protein.links.detailed.v12.0.txt\", sep=\"\\s\", engine=\"python\")\n",
    "string_info = pd.read_csv(\"9606.protein.info.v12.0.txt\", sep=\"\\t\")"
   ]
  },
  {
   "cell_type": "code",
   "execution_count": 12,
   "metadata": {},
   "outputs": [],
   "source": [
    "merged = pd.merge(string_link , string_info[[\"#string_protein_id\", \"preferred_name\"]], left_on=\"protein1\", right_on=\"#string_protein_id\")\n",
    "merged.rename(columns={\"preferred_name\":\"protein1_name\"}, inplace=True)\n",
    "merged = pd.merge(merged , string_info[[\"#string_protein_id\", \"preferred_name\"]], left_on=\"protein2\", right_on=\"#string_protein_id\")\n",
    "merged.rename(columns={\"preferred_name\":\"protein2_name\"}, inplace=True)\n",
    "merged = merged[[\"protein1_name\", \"protein2_name\", \"neighborhood\" , \"coexpression\"]]\n"
   ]
  },
  {
   "cell_type": "code",
   "execution_count": 13,
   "metadata": {},
   "outputs": [],
   "source": [
    "GGI = pd.read_csv(\"ggi.txt\", sep=\"\\t\")"
   ]
  },
  {
   "cell_type": "code",
   "execution_count": 14,
   "metadata": {},
   "outputs": [
    {
     "data": {
      "text/plain": [
       "(1243032, 37)"
      ]
     },
     "execution_count": 14,
     "metadata": {},
     "output_type": "execute_result"
    }
   ],
   "source": [
    "GGI.shape"
   ]
  },
  {
   "cell_type": "code",
   "execution_count": 15,
   "metadata": {},
   "outputs": [
    {
     "name": "stdout",
     "output_type": "stream",
     "text": [
      "Variance filtering | Default shape: (1066, 24776) | Filtered shape: (1066, 24776)\n",
      "Variance filtering | Default shape: (1066, 20530) | Filtered shape: (1066, 19856)\n",
      "Selected genes: 10075 , ['ACAP3', 'ACTRT2', 'AGRN', 'ANKRD65', 'ATAD3A']...\n",
      "ANOVA-F filtering | Default shape: (1066, 24776) | Filtered shape: (1066, 1000)\n",
      "Selected genes: 2991 , ['HIF3A', 'RNF17', 'HMGCLL1', 'LRRTM1', 'CAMKV']...\n",
      "ANOVA-F filtering | Default shape: (1066, 19856) | Filtered shape: (1066, 1000)\n"
     ]
    }
   ],
   "source": [
    "cnv_filter = filtering_variance(cnv, 0.01)\n",
    "mrna_filter = filtering_variance(mRNA, 0.01)\n",
    "cnv_filter = annovaf_filtering(cnv_filter, label, \"class\", 1000)\n",
    "mrna_filter = annovaf_filtering(mrna_filter, label, \"class\", 1000)\n"
   ]
  },
  {
   "cell_type": "code",
   "execution_count": 16,
   "metadata": {},
   "outputs": [],
   "source": [
    "cnv_filter = cnv_filter / cnv_filter.max().max()\n",
    "mrna_filter = mrna_filter / mrna_filter.max().max()"
   ]
  },
  {
   "cell_type": "code",
   "execution_count": 17,
   "metadata": {},
   "outputs": [],
   "source": [
    "X_train, X_test, _ , _ = train_test_split(label.index, label[\"class\"], test_size=0.3, random_state=41)"
   ]
  },
  {
   "cell_type": "code",
   "execution_count": 18,
   "metadata": {},
   "outputs": [],
   "source": [
    "cnv_train = cnv_filter.loc[X_train]\n",
    "cnv_test = cnv_filter.loc[X_test]\n",
    "mrna_train = mrna_filter.loc[X_train]\n",
    "mrna_test = mrna_filter.loc[X_test]\n",
    "label_train = label.loc[X_train]\n",
    "label_test = label.loc[X_test]"
   ]
  },
  {
   "cell_type": "code",
   "execution_count": 19,
   "metadata": {},
   "outputs": [
    {
     "name": "stderr",
     "output_type": "stream",
     "text": [
      "Generate CARs for class 4.0: 100%|██████████| 5/5 [00:18<00:00,  3.80s/it]            \n"
     ]
    },
    {
     "name": "stdout",
     "output_type": "stream",
     "text": [
      "------ ARM summary [Gene Filter: 0]---------\n",
      "    data_shape  itemset_length  support  support_percentage  cars_length  \\\n",
      "0  (123, 2000)            1564      115           93.495935         1564   \n",
      "1   (56, 2000)            1092       44           78.571429         1092   \n",
      "2  (389, 2000)            1259      338           86.889460         1259   \n",
      "3  (153, 2000)            1033      133           86.928105         1033   \n",
      "4   (25, 2000)            1111       19           76.000000         1111   \n",
      "\n",
      "   avg_confidence  \n",
      "0        0.667755  \n",
      "1        0.268794  \n",
      "2        0.542277  \n",
      "3        0.204541  \n",
      "4        0.286349  \n",
      "Top 1000 | 0.5000 | Lens gene: 845\n"
     ]
    },
    {
     "name": "stderr",
     "output_type": "stream",
     "text": [
      "Generate information-edge tensor: 100%|██████████| 5000/5000 [01:24<00:00, 59.03it/s] "
     ]
    },
    {
     "name": "stdout",
     "output_type": "stream",
     "text": [
      "Best K: 1000 | Best Acc: 0.5000\n"
     ]
    },
    {
     "name": "stderr",
     "output_type": "stream",
     "text": [
      "\n"
     ]
    }
   ],
   "source": [
    "from amogel.utils.ac import generate_ac_feature_selection\n",
    "# merged cnv_train and mrna_train\n",
    "train_data = pd.concat([mrna_train, cnv_train], axis=1)\n",
    "test_data = pd.concat([mrna_test, cnv_test], axis=1)\n",
    "\n",
    "train_columns = train_data.columns.tolist()\n",
    "test_columns = test_data.columns.tolist()   \n",
    "\n",
    "train_data.columns = [ i for i in range(len(train_columns))]\n",
    "test_data.columns = [ i for i in range(len(test_columns))]\n",
    "\n",
    "train_data.index = [ i for i in range(train_data.shape[0])]\n",
    "test_data.index = [ i for i in range(test_data.shape[0])]\n",
    "label_train.index = [ i for i in range(label_train.shape[0])]\n",
    "label_test.index = [ i for i in range(label_test.shape[0])]\n",
    "\n",
    "est , selected_gene , information_edge_tensor  = generate_ac_feature_selection(train_data.copy(deep=True) , label_train.copy(deep=True) , \"\" , n_bins=3 , df_test_data=test_data.copy(deep=True) , df_test_label=label_test.copy(deep=True) , fixed_k=1000)"
   ]
  },
  {
   "cell_type": "code",
   "execution_count": 20,
   "metadata": {},
   "outputs": [
    {
     "data": {
      "text/plain": [
       "torch.Size([2000, 2000])"
      ]
     },
     "execution_count": 20,
     "metadata": {},
     "output_type": "execute_result"
    }
   ],
   "source": [
    "information_edge_tensor.shape"
   ]
  },
  {
   "cell_type": "code",
   "execution_count": 21,
   "metadata": {},
   "outputs": [
    {
     "name": "stdout",
     "output_type": "stream",
     "text": [
      "Selected gene distribution: {0: 280, 1: 565}\n"
     ]
    }
   ],
   "source": [
    "selected_gene = sorted(selected_gene)\n",
    "selection = {0:0,1:0}\n",
    "for gene in selected_gene: \n",
    "    if gene in range(0 , cnv_train.shape[1]):\n",
    "        selection[0] += 1\n",
    "    else:\n",
    "        selection[1] += 1\n",
    "print(f\"Selected gene distribution: {selection}\")"
   ]
  },
  {
   "cell_type": "code",
   "execution_count": 22,
   "metadata": {},
   "outputs": [
    {
     "data": {
      "text/html": [
       "<div>\n",
       "<style scoped>\n",
       "    .dataframe tbody tr th:only-of-type {\n",
       "        vertical-align: middle;\n",
       "    }\n",
       "\n",
       "    .dataframe tbody tr th {\n",
       "        vertical-align: top;\n",
       "    }\n",
       "\n",
       "    .dataframe thead th {\n",
       "        text-align: right;\n",
       "    }\n",
       "</style>\n",
       "<table border=\"1\" class=\"dataframe\">\n",
       "  <thead>\n",
       "    <tr style=\"text-align: right;\">\n",
       "      <th></th>\n",
       "      <th>protein1_name</th>\n",
       "      <th>protein2_name</th>\n",
       "      <th>neighborhood</th>\n",
       "      <th>coexpression</th>\n",
       "    </tr>\n",
       "  </thead>\n",
       "  <tbody>\n",
       "    <tr>\n",
       "      <th>0</th>\n",
       "      <td>ARF5</td>\n",
       "      <td>RALGPS2</td>\n",
       "      <td>0</td>\n",
       "      <td>45</td>\n",
       "    </tr>\n",
       "    <tr>\n",
       "      <th>1</th>\n",
       "      <td>ARF5</td>\n",
       "      <td>FHDC1</td>\n",
       "      <td>0</td>\n",
       "      <td>0</td>\n",
       "    </tr>\n",
       "    <tr>\n",
       "      <th>2</th>\n",
       "      <td>ARF5</td>\n",
       "      <td>ATP6V1E1</td>\n",
       "      <td>0</td>\n",
       "      <td>118</td>\n",
       "    </tr>\n",
       "    <tr>\n",
       "      <th>3</th>\n",
       "      <td>ARF5</td>\n",
       "      <td>CYTH2</td>\n",
       "      <td>0</td>\n",
       "      <td>56</td>\n",
       "    </tr>\n",
       "    <tr>\n",
       "      <th>4</th>\n",
       "      <td>ARF5</td>\n",
       "      <td>PSD3</td>\n",
       "      <td>0</td>\n",
       "      <td>0</td>\n",
       "    </tr>\n",
       "    <tr>\n",
       "      <th>...</th>\n",
       "      <td>...</td>\n",
       "      <td>...</td>\n",
       "      <td>...</td>\n",
       "      <td>...</td>\n",
       "    </tr>\n",
       "    <tr>\n",
       "      <th>13715399</th>\n",
       "      <td>RFX7</td>\n",
       "      <td>MPHOSPH9</td>\n",
       "      <td>0</td>\n",
       "      <td>60</td>\n",
       "    </tr>\n",
       "    <tr>\n",
       "      <th>13715400</th>\n",
       "      <td>RFX7</td>\n",
       "      <td>VCX</td>\n",
       "      <td>0</td>\n",
       "      <td>55</td>\n",
       "    </tr>\n",
       "    <tr>\n",
       "      <th>13715401</th>\n",
       "      <td>RFX7</td>\n",
       "      <td>YPEL2</td>\n",
       "      <td>0</td>\n",
       "      <td>0</td>\n",
       "    </tr>\n",
       "    <tr>\n",
       "      <th>13715402</th>\n",
       "      <td>RFX7</td>\n",
       "      <td>SAMD3</td>\n",
       "      <td>0</td>\n",
       "      <td>0</td>\n",
       "    </tr>\n",
       "    <tr>\n",
       "      <th>13715403</th>\n",
       "      <td>RFX7</td>\n",
       "      <td>ZSCAN9</td>\n",
       "      <td>0</td>\n",
       "      <td>49</td>\n",
       "    </tr>\n",
       "  </tbody>\n",
       "</table>\n",
       "<p>13715404 rows × 4 columns</p>\n",
       "</div>"
      ],
      "text/plain": [
       "         protein1_name protein2_name  neighborhood  coexpression\n",
       "0                 ARF5       RALGPS2             0            45\n",
       "1                 ARF5         FHDC1             0             0\n",
       "2                 ARF5      ATP6V1E1             0           118\n",
       "3                 ARF5         CYTH2             0            56\n",
       "4                 ARF5          PSD3             0             0\n",
       "...                ...           ...           ...           ...\n",
       "13715399          RFX7      MPHOSPH9             0            60\n",
       "13715400          RFX7           VCX             0            55\n",
       "13715401          RFX7         YPEL2             0             0\n",
       "13715402          RFX7         SAMD3             0             0\n",
       "13715403          RFX7        ZSCAN9             0            49\n",
       "\n",
       "[13715404 rows x 4 columns]"
      ]
     },
     "execution_count": 22,
     "metadata": {},
     "output_type": "execute_result"
    }
   ],
   "source": [
    "merged"
   ]
  },
  {
   "cell_type": "code",
   "execution_count": 24,
   "metadata": {},
   "outputs": [],
   "source": [
    "# generate ppi edge \n",
    "import torch\n",
    "gene_df = pd.DataFrame({\"gene_name\":train_columns, \"gene_idx\": range(len(train_columns))})\n",
    "merged = pd.merge(merged , gene_df, left_on=\"protein1_name\", right_on=\"gene_name\")\n",
    "merged.rename(columns={\"gene_idx\":\"gene1_idx\"}, inplace=True)\n",
    "merged = pd.merge(merged , gene_df, left_on=\"protein2_name\", right_on=\"gene_name\")\n",
    "merged.rename(columns={\"gene_idx\":\"gene2_idx\"}, inplace=True)\n",
    "ppi_tensor = torch.zeros((len(train_columns), len(train_columns)))\n",
    "ppi_tensor[merged[\"gene1_idx\"].values , merged['gene2_idx'].values] = torch.tensor(merged['neighborhood'] , dtype=torch.float)\n",
    "ppi_tensor[merged[\"gene2_idx\"].values , merged['gene1_idx'].values] = torch.tensor(merged['neighborhood'] , dtype=torch.float)\n"
   ]
  },
  {
   "cell_type": "code",
   "execution_count": 25,
   "metadata": {},
   "outputs": [],
   "source": [
    "co_tensor = torch.zeros((len(train_columns), len(train_columns)))\n",
    "co_tensor[merged[\"gene1_idx\"].values , merged['gene2_idx'].values] = torch.tensor(merged['coexpression'] , dtype=torch.float)\n",
    "co_tensor[merged[\"gene2_idx\"].values , merged['gene1_idx'].values] = torch.tensor(merged['coexpression'] , dtype=torch.float)"
   ]
  },
  {
   "cell_type": "code",
   "execution_count": 26,
   "metadata": {},
   "outputs": [
    {
     "data": {
      "text/html": [
       "<div>\n",
       "<style scoped>\n",
       "    .dataframe tbody tr th:only-of-type {\n",
       "        vertical-align: middle;\n",
       "    }\n",
       "\n",
       "    .dataframe tbody tr th {\n",
       "        vertical-align: top;\n",
       "    }\n",
       "\n",
       "    .dataframe thead th {\n",
       "        text-align: right;\n",
       "    }\n",
       "</style>\n",
       "<table border=\"1\" class=\"dataframe\">\n",
       "  <thead>\n",
       "    <tr style=\"text-align: right;\">\n",
       "      <th></th>\n",
       "      <th>gene1_name</th>\n",
       "      <th>gene2_name</th>\n",
       "      <th>gene_name_x</th>\n",
       "      <th>gene1_idx</th>\n",
       "      <th>gene_name_y</th>\n",
       "      <th>gene2_idx</th>\n",
       "    </tr>\n",
       "  </thead>\n",
       "  <tbody>\n",
       "    <tr>\n",
       "      <th>0</th>\n",
       "      <td>PFN2</td>\n",
       "      <td>FHOD1</td>\n",
       "      <td>PFN2</td>\n",
       "      <td>1002</td>\n",
       "      <td>FHOD1</td>\n",
       "      <td>1805</td>\n",
       "    </tr>\n",
       "    <tr>\n",
       "      <th>1</th>\n",
       "      <td>GATA1</td>\n",
       "      <td>ZFPM2</td>\n",
       "      <td>GATA1</td>\n",
       "      <td>132</td>\n",
       "      <td>ZFPM2</td>\n",
       "      <td>1255</td>\n",
       "    </tr>\n",
       "    <tr>\n",
       "      <th>2</th>\n",
       "      <td>AR</td>\n",
       "      <td>PAK6</td>\n",
       "      <td>AR</td>\n",
       "      <td>420</td>\n",
       "      <td>PAK6</td>\n",
       "      <td>1518</td>\n",
       "    </tr>\n",
       "    <tr>\n",
       "      <th>3</th>\n",
       "      <td>SYN2</td>\n",
       "      <td>SYN2</td>\n",
       "      <td>SYN2</td>\n",
       "      <td>979</td>\n",
       "      <td>SYN2</td>\n",
       "      <td>979</td>\n",
       "    </tr>\n",
       "    <tr>\n",
       "      <th>4</th>\n",
       "      <td>TRIM10</td>\n",
       "      <td>TRIM10</td>\n",
       "      <td>TRIM10</td>\n",
       "      <td>688</td>\n",
       "      <td>TRIM10</td>\n",
       "      <td>688</td>\n",
       "    </tr>\n",
       "    <tr>\n",
       "      <th>...</th>\n",
       "      <td>...</td>\n",
       "      <td>...</td>\n",
       "      <td>...</td>\n",
       "      <td>...</td>\n",
       "      <td>...</td>\n",
       "      <td>...</td>\n",
       "    </tr>\n",
       "    <tr>\n",
       "      <th>5322</th>\n",
       "      <td>KRT6A</td>\n",
       "      <td>KRT20</td>\n",
       "      <td>KRT6A</td>\n",
       "      <td>745</td>\n",
       "      <td>KRT20</td>\n",
       "      <td>38</td>\n",
       "    </tr>\n",
       "    <tr>\n",
       "      <th>5323</th>\n",
       "      <td>HP</td>\n",
       "      <td>KRT14</td>\n",
       "      <td>HP</td>\n",
       "      <td>1854</td>\n",
       "      <td>KRT14</td>\n",
       "      <td>161</td>\n",
       "    </tr>\n",
       "    <tr>\n",
       "      <th>5324</th>\n",
       "      <td>HP</td>\n",
       "      <td>KRT16</td>\n",
       "      <td>HP</td>\n",
       "      <td>1854</td>\n",
       "      <td>KRT16</td>\n",
       "      <td>197</td>\n",
       "    </tr>\n",
       "    <tr>\n",
       "      <th>5325</th>\n",
       "      <td>AMBP</td>\n",
       "      <td>ITIH2</td>\n",
       "      <td>AMBP</td>\n",
       "      <td>231</td>\n",
       "      <td>ITIH2</td>\n",
       "      <td>1427</td>\n",
       "    </tr>\n",
       "    <tr>\n",
       "      <th>5326</th>\n",
       "      <td>ACE2</td>\n",
       "      <td>ACE2</td>\n",
       "      <td>ACE2</td>\n",
       "      <td>631</td>\n",
       "      <td>ACE2</td>\n",
       "      <td>631</td>\n",
       "    </tr>\n",
       "  </tbody>\n",
       "</table>\n",
       "<p>5327 rows × 6 columns</p>\n",
       "</div>"
      ],
      "text/plain": [
       "     gene1_name gene2_name gene_name_x  gene1_idx gene_name_y  gene2_idx\n",
       "0          PFN2      FHOD1        PFN2       1002       FHOD1       1805\n",
       "1         GATA1      ZFPM2       GATA1        132       ZFPM2       1255\n",
       "2            AR       PAK6          AR        420        PAK6       1518\n",
       "3          SYN2       SYN2        SYN2        979        SYN2        979\n",
       "4        TRIM10     TRIM10      TRIM10        688      TRIM10        688\n",
       "...         ...        ...         ...        ...         ...        ...\n",
       "5322      KRT6A      KRT20       KRT6A        745       KRT20         38\n",
       "5323         HP      KRT14          HP       1854       KRT14        161\n",
       "5324         HP      KRT16          HP       1854       KRT16        197\n",
       "5325       AMBP      ITIH2        AMBP        231       ITIH2       1427\n",
       "5326       ACE2       ACE2        ACE2        631        ACE2        631\n",
       "\n",
       "[5327 rows x 6 columns]"
      ]
     },
     "execution_count": 26,
     "metadata": {},
     "output_type": "execute_result"
    }
   ],
   "source": [
    "ggi = GGI[[\"Official Symbol Interactor A\", \"Official Symbol Interactor B\"]]\n",
    "ggi.rename(columns={\"Official Symbol Interactor A\":\"gene1_name\", \"Official Symbol Interactor B\":\"gene2_name\"}, inplace=True)\n",
    "ggi = pd.merge(ggi , gene_df, left_on=\"gene1_name\", right_on=\"gene_name\")\n",
    "ggi.rename(columns={\"gene_idx\":\"gene1_idx\"}, inplace=True)\n",
    "ggi = pd.merge(ggi , gene_df, left_on=\"gene2_name\", right_on=\"gene_name\")\n",
    "ggi.rename(columns={\"gene_idx\":\"gene2_idx\"}, inplace=True)\n",
    "ggi"
   ]
  },
  {
   "cell_type": "code",
   "execution_count": 27,
   "metadata": {},
   "outputs": [],
   "source": [
    "ggi_tensor = torch.zeros((len(train_columns), len(train_columns)))\n",
    "ggi_tensor[ggi[\"gene1_idx\"].values , ggi['gene2_idx'].values] = 1\n",
    "ggi_tensor[ggi[\"gene2_idx\"].values , ggi['gene1_idx'].values] = 1"
   ]
  },
  {
   "cell_type": "code",
   "execution_count": 28,
   "metadata": {},
   "outputs": [
    {
     "name": "stdout",
     "output_type": "stream",
     "text": [
      "Train data shape: (746, 2000)\n",
      "Test data shape: (320, 2000)\n",
      "Train label shape: (746, 1)\n",
      "Test label shape: (320, 1)\n",
      "AC information shape: torch.Size([2000, 2000])\n",
      "PPI information shape: torch.Size([2000, 2000])\n",
      "CO information shape: torch.Size([2000, 2000])\n",
      "GGI information shape: torch.Size([2000, 2000])\n"
     ]
    }
   ],
   "source": [
    "# print all information shape \n",
    "print(f\"Train data shape: {train_data.shape}\")\n",
    "print(f\"Test data shape: {test_data.shape}\")\n",
    "print(f\"Train label shape: {label_train.shape}\")\n",
    "print(f\"Test label shape: {label_test.shape}\")\n",
    "print(f\"AC information shape: {information_edge_tensor.shape}\")\n",
    "print(f\"PPI information shape: {ppi_tensor.shape}\")\n",
    "print(f\"CO information shape: {co_tensor.shape}\")\n",
    "print(f\"GGI information shape: {ggi_tensor.shape}\")"
   ]
  },
  {
   "cell_type": "code",
   "execution_count": 31,
   "metadata": {},
   "outputs": [
    {
     "data": {
      "text/plain": [
       "list"
      ]
     },
     "execution_count": 31,
     "metadata": {},
     "output_type": "execute_result"
    }
   ],
   "source": [
    "type(selected_gene)"
   ]
  },
  {
   "cell_type": "code",
   "execution_count": 79,
   "metadata": {},
   "outputs": [
    {
     "name": "stdout",
     "output_type": "stream",
     "text": [
      "General edges shape: torch.Size([845, 845, 4])\n"
     ]
    }
   ],
   "source": [
    "# create unified edges matrix \n",
    "\n",
    "general_edges = []\n",
    "info_edge = information_edge_tensor[selected_gene][:,selected_gene]\n",
    "info_edge[torch.isnan(info_edge)] = 0\n",
    "\n",
    "mean_info_edge = info_edge.mean()\n",
    "\n",
    "ppi_edge = ppi_tensor[selected_gene][: , selected_gene]*mean_info_edge\n",
    "co_edge = co_tensor[selected_gene][: , selected_gene]*mean_info_edge\n",
    "ggi_edge = ggi_tensor[selected_gene][: , selected_gene]*mean_info_edge\n",
    "\n",
    "general_edges = torch.stack([info_edge , ppi_edge , co_edge , ggi_edge] , dim=-1)\n",
    "print(f\"General edges shape: {general_edges.shape}\")"
   ]
  },
  {
   "cell_type": "code",
   "execution_count": 80,
   "metadata": {},
   "outputs": [
    {
     "data": {
      "text/plain": [
       "tensor(0)"
      ]
     },
     "execution_count": 80,
     "metadata": {},
     "output_type": "execute_result"
    }
   ],
   "source": [
    "general_edges[0][general_edges[0] > 0].count_nonzero()"
   ]
  },
  {
   "cell_type": "code",
   "execution_count": 81,
   "metadata": {},
   "outputs": [
    {
     "name": "stderr",
     "output_type": "stream",
     "text": [
      "Generating training graphs: 100%|██████████| 746/746 [00:29<00:00, 25.15it/s]\n",
      "Generating test graphs: 100%|██████████| 320/320 [00:12<00:00, 25.32it/s]\n"
     ]
    }
   ],
   "source": [
    "from tqdm import tqdm \n",
    "from torch.nn.functional import one_hot \n",
    "from amogel.utils.common import symmetric_matrix_to_pyg\n",
    "\n",
    "train_transformed = pd.DataFrame(est.transform(train_data)).iloc[: , selected_gene]\n",
    "train_graphs = []\n",
    "with tqdm(total=train_data.shape[0] , desc=\"Generating training graphs\") as pbar: \n",
    "    for idx, sample in train_transformed.iterrows():\n",
    "        torch_sample = torch.tensor(sample.values , dtype=torch.float32).unsqueeze(-1)\n",
    "        torch_sample = one_hot(torch_sample.long() , num_classes=3).squeeze(1).float() \n",
    "        graph = symmetric_matrix_to_pyg(\n",
    "            matrix = general_edges ,\n",
    "            node_features=torch_sample, \n",
    "            y=torch.tensor(label_train.loc[idx].values , dtype=torch.long), \n",
    "            edge_threshold=0.0\n",
    "        )\n",
    "        \n",
    "        train_graphs.append(graph)\n",
    "        pbar.update(1)\n",
    "        \n",
    "test_transformed = pd.DataFrame(est.transform(test_data)).iloc[: , selected_gene]\n",
    "test_graphs = []\n",
    "with tqdm(total=test_data.shape[0] , desc=\"Generating test graphs\") as pbar: \n",
    "    for idx, sample in test_transformed.iterrows():\n",
    "        torch_sample = torch.tensor(sample.values , dtype=torch.float32).unsqueeze(-1)\n",
    "        torch_sample = one_hot(torch_sample.long() , num_classes=3).squeeze(1).float() \n",
    "        graph = symmetric_matrix_to_pyg(\n",
    "            matrix = general_edges ,\n",
    "            node_features=torch_sample, \n",
    "            y=torch.tensor(label_train.loc[idx].values , dtype=torch.long), \n",
    "            edge_threshold=0.0\n",
    "        )\n",
    "        \n",
    "        test_graphs.append(graph)\n",
    "        pbar.update(1)"
   ]
  },
  {
   "cell_type": "code",
   "execution_count": 82,
   "metadata": {},
   "outputs": [
    {
     "name": "stdout",
     "output_type": "stream",
     "text": [
      "Node dimension: torch.Size([845, 3]) , Edge dimension: torch.Size([2, 322390]) ,                     Edge attribute dimension: torch.Size([322390, 4]) ,                     Edge max: tensor([ 0.4034,  6.0181, 47.7151,  0.0478]) ,                     Edge mean: tensor([1.0578e-01, 2.9829e-03, 1.2105e-01, 1.1319e-04]) ,                     Nonzero edge: tensor([322390,    370,   7912,    764])\n"
     ]
    }
   ],
   "source": [
    "print(f\"Node dimension: {test_graphs[0].x.shape} , Edge dimension: {test_graphs[0].edge_index.shape} , \\\n",
    "                    Edge attribute dimension: {test_graphs[0].edge_attr.shape} , \\\n",
    "                    Edge max: {test_graphs[0].edge_attr.max(dim=0).values} , \\\n",
    "                    Edge mean: {test_graphs[0].edge_attr.mean(dim=0)} , \\\n",
    "                    Nonzero edge: {torch.count_nonzero(test_graphs[0].edge_attr , dim=0)}\")"
   ]
  },
  {
   "cell_type": "code",
   "execution_count": null,
   "metadata": {},
   "outputs": [],
   "source": []
  }
 ],
 "metadata": {
  "kernelspec": {
   "display_name": "gnn",
   "language": "python",
   "name": "python3"
  },
  "language_info": {
   "codemirror_mode": {
    "name": "ipython",
    "version": 3
   },
   "file_extension": ".py",
   "mimetype": "text/x-python",
   "name": "python",
   "nbconvert_exporter": "python",
   "pygments_lexer": "ipython3",
   "version": "3.9.19"
  }
 },
 "nbformat": 4,
 "nbformat_minor": 2
}
