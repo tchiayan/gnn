{
 "cells": [
  {
   "cell_type": "code",
   "execution_count": 1,
   "metadata": {},
   "outputs": [],
   "source": [
    "%load_ext autoreload\n",
    "%autoreload 2"
   ]
  },
  {
   "cell_type": "code",
   "execution_count": 2,
   "metadata": {},
   "outputs": [],
   "source": [
    "import pandas as pd \n",
    "from sklearn.feature_selection import VarianceThreshold , SelectKBest , f_classif\n",
    "from sklearn.preprocessing import OrdinalEncoder\n",
    "from sklearn.model_selection import train_test_split\n",
    "import math\n",
    "import itertools\n",
    "from amogel.utils.ac import generate_ac_feature_selection\n",
    "import warnings\n",
    "warnings.filterwarnings(\"ignore\")"
   ]
  },
  {
   "cell_type": "code",
   "execution_count": 3,
   "metadata": {},
   "outputs": [],
   "source": [
    "# data preparation \n",
    "# download data from google drive \n",
    "# !gdown --id 1tXtQwLBqoI6sjV6QTXR1Dbw_6MTexjez\n",
    "\n",
    "# unzip the data and delete the zip file\n",
    "# !unzip -q xena_ggi_ppi_co.zip"
   ]
  },
  {
   "cell_type": "code",
   "execution_count": 4,
   "metadata": {},
   "outputs": [],
   "source": [
    "# load omic data \n",
    "def load_omic_data(omic_file):\n",
    "    omic_data = pd.read_csv(omic_file, sep=\"\\t\", index_col=0)\n",
    "    return omic_data\n",
    "\n",
    "\n",
    "def filtering_variance(df: pd.DataFrame , threshold:float): \n",
    "        \n",
    "    default_shape = df.shape\n",
    "    \n",
    "    sel = VarianceThreshold(threshold=threshold)\n",
    "    df_filtered  = pd.DataFrame(sel.fit_transform(df) , index=df.index , columns=df.columns[sel.get_support()])\n",
    "    \n",
    "    filter_shape = df_filtered.shape\n",
    "    print(f\"Variance filtering | Default shape: {default_shape} | Filtered shape: {filter_shape}\")\n",
    "    \n",
    "    return df_filtered\n",
    "\n",
    "def annovaf_filtering( df: pd.DataFrame , df_label: pd.DataFrame , target: str , threshold: float)->pd.DataFrame:\n",
    "        \n",
    "        assert isinstance(df , pd.DataFrame) , \"Invalid input\"\n",
    "        assert isinstance(df_label , pd.DataFrame) , \"Invalid input\"\n",
    "        assert target in df_label.columns , f\"Invalid target column name, not found in the label dataframe | {df_label.columns.tolist()}\"\n",
    "        \n",
    "        default_shape = df.shape\n",
    "        \n",
    "        df_merged = pd.concat([df , df_label[target]] , axis=1)\n",
    "        df_merged_mean = df_merged.groupby(target).mean()\n",
    "        combination = list(itertools.permutations(df_merged_mean.index , 2))\n",
    "        selected_genes = []\n",
    "        for idx , gene in enumerate(df_merged.columns[:-1]): \n",
    "            # calculate fold-change for each gene to different groups\n",
    "            # generate possible groups \n",
    "            try:\n",
    "                fold_change = [\n",
    "                    math.log2(df_merged_mean.loc[group1,gene]/df_merged_mean.loc[group2 , gene]) for group1 , group2 in combination\n",
    "                ]\n",
    "                \n",
    "                # check if the fold change is greater than the threshold\n",
    "                if any(x > 1 for x in fold_change):\n",
    "                    selected_genes.append(gene)\n",
    "            except Exception as e:\n",
    "                pass\n",
    "                #selected_genes.append(gene)\n",
    "            \n",
    "        print(f\"Selected genes: {len(selected_genes)} , {selected_genes[:5]}...\")\n",
    "        if len(selected_genes) > 10:\n",
    "            #df = df[selected_genes]\n",
    "            df = df\n",
    "        \n",
    "            \n",
    "        sel = SelectKBest(score_func=f_classif, k=threshold)\n",
    "        df_filtered = pd.DataFrame(sel.fit_transform(df, df_label[target]), index=df.index , columns=df.columns[sel.get_support()])\n",
    "        \n",
    "        filter_shape = df_filtered.shape\n",
    "        print(f\"ANOVA-F filtering | Default shape: {default_shape} | Filtered shape: {filter_shape}\")\n",
    "        \n",
    "        return  df_filtered"
   ]
  },
  {
   "cell_type": "code",
   "execution_count": 5,
   "metadata": {},
   "outputs": [
    {
     "name": "stdout",
     "output_type": "stream",
     "text": [
      "cnv missing value:  0\n",
      "mRNA missing value:  0\n",
      "label missing value:  725\n"
     ]
    },
    {
     "data": {
      "text/plain": [
       "[array(['Basal-like', 'HER2-enriched', 'Luminal A', 'Luminal B',\n",
       "        'Normal-like'], dtype=object)]"
      ]
     },
     "execution_count": 5,
     "metadata": {},
     "output_type": "execute_result"
    }
   ],
   "source": [
    "# load STRING database\n",
    "string_link = pd.read_csv(\"9606.protein.links.detailed.v12.0.txt\", sep=\"\\s\", engine=\"python\")\n",
    "string_info = pd.read_csv(\"9606.protein.info.v12.0.txt\", sep=\"\\t\")\n",
    "\n",
    "# load GGI database \n",
    "GGI = pd.read_csv(\"ggi.txt\", sep=\"\\t\")\n",
    "\n",
    "# preprocess \n",
    "ppi_df = pd.merge(string_link , string_info[[\"#string_protein_id\", \"preferred_name\"]], left_on=\"protein1\", right_on=\"#string_protein_id\")\n",
    "ppi_df.rename(columns={\"preferred_name\":\"protein1_name\"}, inplace=True)\n",
    "ppi_df = pd.merge(ppi_df , string_info[[\"#string_protein_id\", \"preferred_name\"]], left_on=\"protein2\", right_on=\"#string_protein_id\")\n",
    "ppi_df.rename(columns={\"preferred_name\":\"protein2_name\"}, inplace=True)\n",
    "ppi_df = ppi_df[[\"protein1_name\", \"protein2_name\", \"neighborhood\" , \"coexpression\"]]\n",
    "\n",
    "# load omic\n",
    "# cnv = load_omic_data(\"cnv.txt\")\n",
    "cnv = load_omic_data(\"cnv2.csv\")\n",
    "cnv.index = cnv.index.str.split(\"|\").str[0]\n",
    "cnv.columns = [\"-\".join(col.split(\"-\")[0:3]) for col in cnv.columns]\n",
    "cnv = cnv.T\n",
    "cnv.index.name = \"sample\"\n",
    "\n",
    "mRNA = load_omic_data(\"mRNA.txt\")\n",
    "mRNA.columns = [\"-\".join(col.split(\"-\")[0:3]) for col in mRNA.columns]\n",
    "mRNA = mRNA.T\n",
    "mRNA.index.name = \"sample\"\n",
    "\n",
    "# load label \n",
    "# label  = pd.read_csv(\"TCGAbiolinks.csv\")\n",
    "# label = label[[\"patient\",\"BRCA_Subtype_PAM50\"]]\n",
    "# label.set_index(\"patient\", inplace=True)\n",
    "# label.columns = [\"class\"]\n",
    "# label.index.name = \"sample\"\n",
    "label  = pd.read_csv(\"phenotype.csv\", sep=\"\\t\")\n",
    "label = label[[\"sampleID\",\"PAM50_mRNA_nature2012\"]]\n",
    "label.rename({\"sampleID\":\"patient\"}, axis=1, inplace=True)\n",
    "label[\"patient\"] = label[\"patient\"].apply(lambda x: \"-\".join(x.split(\"-\")[0:3]))\n",
    "label.set_index(\"patient\", inplace=True)\n",
    "label.columns = [\"class\"]\n",
    "label.index.name = \"sample\"\n",
    "\n",
    "# check missing value \n",
    "print(\"cnv missing value: \", cnv.isnull().sum().sum())\n",
    "print(\"mRNA missing value: \", mRNA.isnull().sum().sum())\n",
    "print(\"label missing value: \", label.isnull().sum().sum())\n",
    "\n",
    "label = label.dropna()\n",
    "\n",
    "common_samples = set(cnv.index) & set(mRNA.index) & set(label.index)\n",
    "\n",
    "# filter data\n",
    "cnv = cnv.loc[list(common_samples)]\n",
    "mRNA = mRNA.loc[list(common_samples)]\n",
    "label = label.loc[list(common_samples)]\n",
    "\n",
    "# merge duplicated index with mean \n",
    "mRNA = mRNA.groupby(mRNA.index).mean()\n",
    "\n",
    "# sort index\n",
    "cnv.sort_index(inplace=True)\n",
    "mRNA.sort_index(inplace=True)\n",
    "label.sort_index(inplace=True)\n",
    "\n",
    "label_enc = OrdinalEncoder()\n",
    "label[\"class\"] = label_enc.fit_transform(label[[\"class\"]])\n",
    "label_enc.categories_"
   ]
  },
  {
   "cell_type": "code",
   "execution_count": 6,
   "metadata": {},
   "outputs": [
    {
     "name": "stdout",
     "output_type": "stream",
     "text": [
      "Variance filtering | Default shape: (507, 24776) | Filtered shape: (507, 24776)\n",
      "Variance filtering | Default shape: (507, 20530) | Filtered shape: (507, 20210)\n",
      "Selected genes: 8256 , ['LINC00622', 'ZNF697', 'PHGDH', 'HMGCS2', 'REG4']...\n",
      "ANOVA-F filtering | Default shape: (507, 24776) | Filtered shape: (507, 1000)\n",
      "Selected genes: 2636 , ['HIF3A', 'RNF17', 'MTVR2', 'LOC339240', 'LRRTM1']...\n",
      "ANOVA-F filtering | Default shape: (507, 20210) | Filtered shape: (507, 1000)\n"
     ]
    }
   ],
   "source": [
    "cnv_filter = filtering_variance(cnv, 0.00)\n",
    "mrna_filter = filtering_variance(mRNA, 0.00)\n",
    "cnv_filter = annovaf_filtering(cnv_filter, label, \"class\", 1000)\n",
    "mrna_filter = annovaf_filtering(mrna_filter, label, \"class\", 1000)\n",
    "\n",
    "# scale data\n",
    "cnv_filter = (cnv_filter - cnv_filter.min().min()) / cnv_filter.max().max()\n",
    "mrna_filter = (mrna_filter - mrna_filter.min().min()) / mrna_filter.max().max()"
   ]
  },
  {
   "cell_type": "code",
   "execution_count": 7,
   "metadata": {},
   "outputs": [],
   "source": [
    "# data splitting\n",
    "X_train, X_test, _ , _ = train_test_split(label.index, label[\"class\"], test_size=0.3, random_state=45)\n",
    "\n",
    "cnv_train = cnv_filter.loc[X_train]\n",
    "cnv_test = cnv_filter.loc[X_test]\n",
    "mrna_train = mrna_filter.loc[X_train]\n",
    "mrna_test = mrna_filter.loc[X_test]\n",
    "label_train = label.loc[X_train]\n",
    "label_test = label.loc[X_test]"
   ]
  },
  {
   "cell_type": "code",
   "execution_count": 8,
   "metadata": {},
   "outputs": [
    {
     "name": "stderr",
     "output_type": "stream",
     "text": [
      "Generate CARs for class 4.0: 100%|██████████| 5/5 [00:05<00:00,  1.14s/it]            \n"
     ]
    },
    {
     "name": "stdout",
     "output_type": "stream",
     "text": [
      "------ ARM summary [Gene Filter: 0]---------\n",
      "    data_shape  itemset_length  support  support_percentage  cars_length  \\\n",
      "0   (69, 2000)            1604       62           89.855072         1604   \n",
      "1   (35, 2000)            1736       23           65.714286         1736   \n",
      "2  (156, 2000)            1261       86           55.128205         1261   \n",
      "3   (88, 2000)            1184       60           68.181818         1184   \n",
      "4    (6, 2000)              41        2           33.333333           41   \n",
      "\n",
      "   avg_confidence  \n",
      "0        0.968755  \n",
      "1        0.510361  \n",
      "2        0.741713  \n",
      "3        0.415230  \n",
      "4        1.000000  \n",
      "Top 1000 | 0.7147 | Lens gene: 1948\n"
     ]
    },
    {
     "name": "stderr",
     "output_type": "stream",
     "text": [
      "Generate information-edge tensor: 100%|██████████| 4041/4041 [00:04<00:00, 962.08it/s] "
     ]
    },
    {
     "name": "stdout",
     "output_type": "stream",
     "text": [
      "Best K: 1000 | Best Acc: 0.7147\n"
     ]
    },
    {
     "name": "stderr",
     "output_type": "stream",
     "text": [
      "\n"
     ]
    }
   ],
   "source": [
    "from amogel.utils.ac import generate_ac_feature_selection\n",
    "# merged cnv_train and mrna_train\n",
    "train_data = pd.concat([mrna_train, cnv_train], axis=1)\n",
    "test_data = pd.concat([mrna_test, cnv_test], axis=1)\n",
    "\n",
    "train_columns = train_data.columns.tolist()\n",
    "test_columns = test_data.columns.tolist()   \n",
    "\n",
    "train_data.columns = [ i for i in range(len(train_columns))]\n",
    "test_data.columns = [ i for i in range(len(test_columns))]\n",
    "\n",
    "train_data.index = [ i for i in range(train_data.shape[0])]\n",
    "test_data.index = [ i for i in range(test_data.shape[0])]\n",
    "label_train.index = [ i for i in range(label_train.shape[0])]\n",
    "label_test.index = [ i for i in range(label_test.shape[0])]\n",
    "\n",
    "est , selected_gene , information_edge_tensor  = generate_ac_feature_selection(train_data.copy(deep=True) , label_train.copy(deep=True) , \"\" , n_bins=3 , df_test_data=test_data.copy(deep=True) , df_test_label=label_test.copy(deep=True) , fixed_k=1000)\n",
    "\n",
    "# train_data = train_data[selected_gene]\n",
    "# test_data = test_data[selected_gene]"
   ]
  },
  {
   "cell_type": "code",
   "execution_count": 9,
   "metadata": {},
   "outputs": [
    {
     "name": "stdout",
     "output_type": "stream",
     "text": [
      "Selected gene distribution: {0: 948, 1: 1000}\n"
     ]
    }
   ],
   "source": [
    "selected_gene = sorted(selected_gene)\n",
    "selection = {0:0,1:0}\n",
    "for gene in selected_gene: \n",
    "    if gene in range(0 , cnv_train.shape[1]):\n",
    "        selection[0] += 1\n",
    "    else:\n",
    "        selection[1] += 1\n",
    "print(f\"Selected gene distribution: {selection}\")\n",
    "# selected_gene = [ x for x in range(2000)]"
   ]
  },
  {
   "cell_type": "code",
   "execution_count": 10,
   "metadata": {},
   "outputs": [
    {
     "name": "stdout",
     "output_type": "stream",
     "text": [
      "Train data shape: (354, 2000)\n",
      "Test data shape: (153, 2000)\n",
      "Train label shape: (354, 1)\n",
      "Test label shape: (153, 1)\n",
      "AC information shape: torch.Size([2000, 2000])\n",
      "PPI information shape: torch.Size([2000, 2000])\n",
      "CO information shape: torch.Size([2000, 2000])\n",
      "GGI information shape: torch.Size([2000, 2000])\n"
     ]
    }
   ],
   "source": [
    "# generate prior information edges\n",
    "import torch\n",
    "gene_df = pd.DataFrame({\"gene_name\":train_columns, \"gene_idx\": range(len(train_columns))})\n",
    "merged = pd.merge(ppi_df , gene_df, left_on=\"protein1_name\", right_on=\"gene_name\")\n",
    "merged.rename(columns={\"gene_idx\":\"gene1_idx\"}, inplace=True)\n",
    "merged = pd.merge(merged , gene_df, left_on=\"protein2_name\", right_on=\"gene_name\")\n",
    "merged.rename(columns={\"gene_idx\":\"gene2_idx\"}, inplace=True)\n",
    "\n",
    "ppi_tensor = torch.zeros((len(train_columns), len(train_columns)))\n",
    "ppi_tensor[merged[\"gene1_idx\"].values , merged['gene2_idx'].values] = torch.tensor(merged['neighborhood'] , dtype=torch.float)\n",
    "ppi_tensor[merged[\"gene2_idx\"].values , merged['gene1_idx'].values] = torch.tensor(merged['neighborhood'] , dtype=torch.float)\n",
    "\n",
    "co_tensor = torch.zeros((len(train_columns), len(train_columns)))\n",
    "co_tensor[merged[\"gene1_idx\"].values , merged['gene2_idx'].values] = torch.tensor(merged['coexpression'] , dtype=torch.float)\n",
    "co_tensor[merged[\"gene2_idx\"].values , merged['gene1_idx'].values] = torch.tensor(merged['coexpression'] , dtype=torch.float)\n",
    "\n",
    "ggi = GGI[[\"Official Symbol Interactor A\", \"Official Symbol Interactor B\"]]\n",
    "ggi.rename(columns={\"Official Symbol Interactor A\":\"gene1_name\", \"Official Symbol Interactor B\":\"gene2_name\"}, inplace=True)\n",
    "ggi = pd.merge(ggi , gene_df, left_on=\"gene1_name\", right_on=\"gene_name\")\n",
    "ggi.rename(columns={\"gene_idx\":\"gene1_idx\"}, inplace=True)\n",
    "ggi = pd.merge(ggi , gene_df, left_on=\"gene2_name\", right_on=\"gene_name\")\n",
    "ggi.rename(columns={\"gene_idx\":\"gene2_idx\"}, inplace=True)\n",
    "\n",
    "ggi_tensor = torch.zeros((len(train_columns), len(train_columns)))\n",
    "ggi_tensor[ggi[\"gene1_idx\"].values , ggi['gene2_idx'].values] = 1\n",
    "ggi_tensor[ggi[\"gene2_idx\"].values , ggi['gene1_idx'].values] = 1\n",
    "\n",
    "# print all information shape \n",
    "print(f\"Train data shape: {train_data.shape}\")\n",
    "print(f\"Test data shape: {test_data.shape}\")\n",
    "print(f\"Train label shape: {label_train.shape}\")\n",
    "print(f\"Test label shape: {label_test.shape}\")\n",
    "print(f\"AC information shape: {information_edge_tensor.shape}\")\n",
    "print(f\"PPI information shape: {ppi_tensor.shape}\")\n",
    "print(f\"CO information shape: {co_tensor.shape}\")\n",
    "print(f\"GGI information shape: {ggi_tensor.shape}\")"
   ]
  },
  {
   "cell_type": "code",
   "execution_count": 11,
   "metadata": {},
   "outputs": [
    {
     "name": "stdout",
     "output_type": "stream",
     "text": [
      "General edges shape: torch.Size([1948, 1948, 4])\n"
     ]
    }
   ],
   "source": [
    "# create unified edges matrix \n",
    "general_edges = []\n",
    "info_edge = information_edge_tensor[selected_gene][:,selected_gene]\n",
    "info_edge[torch.isnan(info_edge)] = 0\n",
    "info_edge[ info_edge < 0.35 ] = 0\n",
    "# filter \n",
    "\n",
    "mean_info_edge = info_edge.mean()\n",
    "\n",
    "# scale info_edge to 0-1\n",
    "info_edge = (info_edge - info_edge.min())/(info_edge.max()-info_edge.min())\n",
    "\n",
    "ppi_edge = ppi_tensor[selected_gene][: , selected_gene]\n",
    "#ppi_edge = (ppi_edge - ppi_edge.min())/(ppi_edge.max()-ppi_edge.min())\n",
    "ppi_edge = ppi_edge*mean_info_edge\n",
    "\n",
    "\n",
    "co_edge = co_tensor[selected_gene][: , selected_gene]\n",
    "#co_edge = (co_edge - co_edge.min())/(co_edge.max()-co_edge.min())\n",
    "co_edge = co_edge*mean_info_edge\n",
    "\n",
    "ggi_edge = ggi_tensor[selected_gene][: , selected_gene]*mean_info_edge\n",
    "\n",
    "general_edges = torch.stack([info_edge , ppi_edge , co_edge , ggi_edge] , dim=-1)\n",
    "print(f\"General edges shape: {general_edges.shape}\")"
   ]
  },
  {
   "cell_type": "code",
   "execution_count": 12,
   "metadata": {},
   "outputs": [
    {
     "data": {
      "text/plain": [
       "(array([3.790806e+06, 1.470000e+03, 1.716000e+03, 4.560000e+02,\n",
       "        2.240000e+02, 4.000000e+00, 0.000000e+00, 4.000000e+00,\n",
       "        2.000000e+01, 4.000000e+00]),\n",
       " array([0.        , 0.12357172, 0.24714343, 0.37071514, 0.49428686,\n",
       "        0.61785859, 0.74143028, 0.86500204, 0.98857373, 1.11214542,\n",
       "        1.23571718]),\n",
       " <BarContainer object of 10 artists>)"
      ]
     },
     "execution_count": 12,
     "metadata": {},
     "output_type": "execute_result"
    },
    {
     "data": {
      "image/png": "[encoded data removed]",
      "text/plain": [
       "<Figure size 640x480 with 1 Axes>"
      ]
     },
     "metadata": {},
     "output_type": "display_data"
    }
   ],
   "source": [
    "import matplotlib.pyplot as plt\n",
    "\n",
    "plt.hist(ppi_edge.flatten().numpy())"
   ]
  },
  {
   "cell_type": "code",
   "execution_count": 13,
   "metadata": {},
   "outputs": [
    {
     "data": {
      "text/plain": [
       "torch.Size([2000, 2000])"
      ]
     },
     "execution_count": 13,
     "metadata": {},
     "output_type": "execute_result"
    }
   ],
   "source": [
    "information_edge_tensor.shape"
   ]
  },
  {
   "cell_type": "code",
   "execution_count": 14,
   "metadata": {},
   "outputs": [
    {
     "name": "stderr",
     "output_type": "stream",
     "text": [
      "Generating training graphs:   0%|          | 0/354 [00:00<?, ?it/s]"
     ]
    },
    {
     "name": "stderr",
     "output_type": "stream",
     "text": [
      "Generating training graphs: 100%|██████████| 354/354 [01:00<00:00,  5.90it/s]\n",
      "Generating test graphs: 100%|██████████| 153/153 [00:25<00:00,  6.03it/s]\n"
     ]
    }
   ],
   "source": [
    "from tqdm import tqdm \n",
    "from torch.nn.functional import one_hot \n",
    "from amogel.utils.common import symmetric_matrix_to_pyg\n",
    "\n",
    "train_transformed = pd.DataFrame(est.transform(train_data)).iloc[: , selected_gene]\n",
    "train_graphs = []\n",
    "with tqdm(total=train_data.shape[0] , desc=\"Generating training graphs\") as pbar: \n",
    "    for idx, sample in train_transformed.iterrows():\n",
    "        torch_sample = torch.tensor(sample.values , dtype=torch.float32).unsqueeze(-1)\n",
    "        torch_sample = one_hot(torch_sample.long() , num_classes=3).squeeze(1).float() \n",
    "        graph = symmetric_matrix_to_pyg(\n",
    "            matrix = general_edges ,\n",
    "            node_features=torch_sample, \n",
    "            y=torch.tensor(label_train.loc[idx].values , dtype=torch.long), \n",
    "            edge_threshold=0.0\n",
    "        )\n",
    "        \n",
    "        train_graphs.append(graph)\n",
    "        pbar.update(1)\n",
    "        \n",
    "test_transformed = pd.DataFrame(est.transform(test_data)).iloc[: , selected_gene]\n",
    "test_graphs = []\n",
    "with tqdm(total=test_data.shape[0] , desc=\"Generating test graphs\") as pbar: \n",
    "    for idx, sample in test_transformed.iterrows():\n",
    "        torch_sample = torch.tensor(sample.values , dtype=torch.float32).unsqueeze(-1)\n",
    "        torch_sample = one_hot(torch_sample.long() , num_classes=3).squeeze(1).float() \n",
    "        graph = symmetric_matrix_to_pyg(\n",
    "            matrix = general_edges ,\n",
    "            node_features=torch_sample, \n",
    "            y=torch.tensor(label_test.loc[idx].values , dtype=torch.long), \n",
    "            edge_threshold=0.0\n",
    "        )\n",
    "        \n",
    "        test_graphs.append(graph)\n",
    "        pbar.update(1)"
   ]
  },
  {
   "cell_type": "code",
   "execution_count": 15,
   "metadata": {},
   "outputs": [
    {
     "name": "stdout",
     "output_type": "stream",
     "text": [
      "Node dimension: torch.Size([1948, 3]) , \n",
      "Edge dimension: torch.Size([2, 49074]) ,         \n",
      "Edge attribute dimension: torch.Size([49074, 4]) ,         \n",
      "Edge max: tensor([1.0000, 0.4389, 3.0583, 0.0048]) ,         \n",
      "Edge mean: tensor([7.3946e-01, 2.1681e-04, 1.5208e-02, 2.2945e-05]) ,         \n",
      "Nonzero edge: tensor([49074,    40,  1772,   236])\n"
     ]
    }
   ],
   "source": [
    "print(f\"Node dimension: {test_graphs[0].x.shape} , \\nEdge dimension: {test_graphs[0].edge_index.shape} , \\\n",
    "        \\nEdge attribute dimension: {test_graphs[0].edge_attr.shape} , \\\n",
    "        \\nEdge max: {test_graphs[0].edge_attr.max(dim=0).values} , \\\n",
    "        \\nEdge mean: {test_graphs[0].edge_attr.mean(dim=0)} , \\\n",
    "        \\nNonzero edge: {torch.count_nonzero(test_graphs[0].edge_attr , dim=0)}\")"
   ]
  },
  {
   "cell_type": "code",
   "execution_count": 17,
   "metadata": {},
   "outputs": [
    {
     "name": "stderr",
     "output_type": "stream",
     "text": [
      "2024/09/05 13:43:20 WARNING mlflow.utils.autologging_utils: You are using an unsupported version of pytorch. If you encounter errors during autologging, try upgrading / downgrading pytorch to a supported version, or try upgrading MLflow.\n",
      "INFO: GPU available: True (cuda), used: True\n"
     ]
    },
    {
     "name": "stdout",
     "output_type": "stream",
     "text": [
      "[2024-09-05 13:43:20,267: INFO: setup: GPU available: True (cuda), used: True]\n"
     ]
    },
    {
     "name": "stderr",
     "output_type": "stream",
     "text": [
      "INFO: TPU available: False, using: 0 TPU cores\n"
     ]
    },
    {
     "name": "stdout",
     "output_type": "stream",
     "text": [
      "[2024-09-05 13:43:20,269: INFO: setup: TPU available: False, using: 0 TPU cores]\n"
     ]
    },
    {
     "name": "stderr",
     "output_type": "stream",
     "text": [
      "INFO: IPU available: False, using: 0 IPUs\n"
     ]
    },
    {
     "name": "stdout",
     "output_type": "stream",
     "text": [
      "[2024-09-05 13:43:20,271: INFO: setup: IPU available: False, using: 0 IPUs]\n"
     ]
    },
    {
     "name": "stderr",
     "output_type": "stream",
     "text": [
      "INFO: HPU available: False, using: 0 HPUs\n"
     ]
    },
    {
     "name": "stdout",
     "output_type": "stream",
     "text": [
      "[2024-09-05 13:43:20,273: INFO: setup: HPU available: False, using: 0 HPUs]\n",
      "[2024-09-05 13:43:20,301: INFO: cuda: LOCAL_RANK: 0 - CUDA_VISIBLE_DEVICES: [0]]\n",
      "[2024-09-05 13:43:20,305: INFO: model_summary: \n",
      "   | Name         | Type                      | Params\n",
      "------------------------------------------------------------\n",
      "0  | conv1        | GATConv                   | 192   \n",
      "1  | bn1          | BatchNorm                 | 64    \n",
      "2  | conv2        | GATConv                   | 1.1 K \n",
      "3  | bn2          | BatchNorm                 | 64    \n",
      "4  | conv3        | GATConv                   | 1.1 K \n",
      "5  | lin_hidden   | Linear                    | 1.1 K \n",
      "6  | pooling      | SAGPooling                | 66    \n",
      "7  | lin          | Linear                    | 165   \n",
      "8  | mlp          | Sequential                | 3.4 K \n",
      "9  | criterion    | CrossEntropyLoss          | 0     \n",
      "10 | feedforward  | Sequential                | 6.5 M \n",
      "11 | accuracy     | MulticlassAccuracy        | 0     \n",
      "12 | precision    | MulticlassPrecision       | 0     \n",
      "13 | specificity  | MulticlassSpecificity     | 0     \n",
      "14 | recall       | MulticlassRecall          | 0     \n",
      "15 | auroc        | MulticlassAUROC           | 0     \n",
      "16 | f1score      | MulticlassF1Score         | 0     \n",
      "17 | cfm_training | MulticlassConfusionMatrix | 0     \n",
      "18 | cfm_testing  | MulticlassConfusionMatrix | 0     \n",
      "------------------------------------------------------------\n",
      "6.5 M     Trainable params\n",
      "0         Non-trainable params\n",
      "6.5 M     Total params\n",
      "26.148    Total estimated model params size (MB)]\n",
      "Sanity Checking DataLoader 0:  50%|█████     | 1/2 [00:00<00:00, 18.98it/s]"
     ]
    },
    {
     "name": "stdout",
     "output_type": "stream",
     "text": [
      "Epoch 499: 100%|██████████| 8/8 [00:00<00:00, 11.65it/s, v_num=39, val_loss=0.909, val_acc=0.739, val_preci=0.739, val_rec=0.624, val_auroc=0.829, train_loss=0.216, train_acc=0.941]              precision    recall  f1-score   support\n",
      "\n",
      "           0     0.9167    0.9565    0.9362        23\n",
      "           1     1.0000    0.4762    0.6452        21\n",
      "           2     0.7051    0.8088    0.7534        68\n",
      "           3     0.5854    0.6154    0.6000        39\n",
      "           4     0.0000    0.0000    0.0000         2\n",
      "\n",
      "    accuracy                         0.7255       153\n",
      "   macro avg     0.6414    0.5714    0.5870       153\n",
      "weighted avg     0.7377    0.7255    0.7171       153\n",
      "roc_auc_score: 0.9089\n",
      "Epoch 499: 100%|██████████| 8/8 [00:01<00:00,  4.56it/s, v_num=39, val_loss=0.915, val_acc=0.725, val_preci=0.725, val_rec=0.615, val_auroc=0.834, train_loss=0.162, train_acc=0.963]"
     ]
    },
    {
     "name": "stderr",
     "output_type": "stream",
     "text": [
      "INFO: `Trainer.fit` stopped: `max_epochs=500` reached.\n"
     ]
    },
    {
     "name": "stdout",
     "output_type": "stream",
     "text": [
      "\n",
      "-------- Confusion Matrix [Training] --------\n",
      "[[ 66   0   3   0   0]\n",
      " [  0  32   2   1   0]\n",
      " [  1   0 155   0   0]\n",
      " [  0   0   6  82   0]\n",
      " [  0   0   0   0   6]]\n",
      "[2024-09-05 13:52:04,555: INFO: fit_loop: `Trainer.fit` stopped: `max_epochs=500` reached.]\n",
      "Epoch 499: 100%|██████████| 8/8 [00:01<00:00,  4.20it/s, v_num=39, val_loss=0.915, val_acc=0.725, val_preci=0.725, val_rec=0.615, val_auroc=0.834, train_loss=0.162, train_acc=0.963]\n"
     ]
    },
    {
     "name": "stderr",
     "output_type": "stream",
     "text": [
      "2024/09/05 13:52:09 WARNING mlflow.utils.requirements_utils: The following packages were not found in the public PyPI package index as of 2023-10-28; if these packages are not present in the public PyPI index, you must install them manually before loading your model: {'amogel'}\n"
     ]
    },
    {
     "name": "stdout",
     "output_type": "stream",
     "text": [
      "MLFlow run ID: 499d42041b3d4edcb25ed51ac4b393cd\n"
     ]
    }
   ],
   "source": [
    "# model training\n",
    "from torch_geometric.loader import DataLoader\n",
    "from amogel.model.GCN import GCN\n",
    "import mlflow\n",
    "from pytorch_lightning import Trainer\n",
    "\n",
    "mlflow.pytorch.autolog()\n",
    "mlflow.set_experiment(\"MPKGNN\")\n",
    "        \n",
    "train_loader = DataLoader(train_graphs , batch_size=50 , shuffle=True)\n",
    "test_loader = DataLoader(test_graphs , batch_size=50 , shuffle=False)\n",
    "\n",
    "model = GCN(\n",
    "    in_channels=train_graphs[0].x.shape[1],\n",
    "    hidden_channels=32, # default is 32\n",
    "    dnn_hidden_nodes=1024, # default is 1024\n",
    "    num_classes=5, \n",
    "    lr=0.00005,\n",
    "    drop_out=0.05, \n",
    "    pooling_ratio=0.0,\n",
    "    decay=0.0001, \n",
    "    no_of_nodes=train_graphs[0].x.shape[0] * train_graphs[0].x.shape[1], \n",
    "    DNN=True , \n",
    "    GNN=True , \n",
    "    save_dir=\".\"\n",
    ")\n",
    "\n",
    "with mlflow.start_run() as run:\n",
    "    #mlflow.log_params(self.config.__dict__)\n",
    "    mlflow.log_params({\n",
    "        \"node_dim\": train_graphs[0].x.shape, \n",
    "        \"edge_dim\": train_graphs[0].edge_index.shape,\n",
    "        \"edge_attr_dim\": train_graphs[0].edge_attr.shape,\n",
    "        #\"edge_attr_max\": train_graph[0].edge_attr.max(dim=0).values,\n",
    "        \"nonzero_edge\": torch.count_nonzero(train_graphs[0].edge_attr , dim=0),\n",
    "        \"edge_attr_mean\": train_graphs[0].edge_attr.mean(dim=0)\n",
    "    })\n",
    "    mlflow.log_param(\"dataset\" , \"mpkgnn_brca\")\n",
    "    trainer = Trainer(max_epochs=500)\n",
    "    trainer.fit(model , train_loader , test_loader)\n",
    "    \n",
    "    # get mlflow run id\n",
    "    print(f\"MLFlow run ID: {run.info.run_id}\")"
   ]
  },
  {
   "cell_type": "code",
   "execution_count": null,
   "metadata": {},
   "outputs": [],
   "source": []
  }
 ],
 "metadata": {
  "kernelspec": {
   "display_name": "gnn",
   "language": "python",
   "name": "python3"
  },
  "language_info": {
   "codemirror_mode": {
    "name": "ipython",
    "version": 3
   },
   "file_extension": ".py",
   "mimetype": "text/x-python",
   "name": "python",
   "nbconvert_exporter": "python",
   "pygments_lexer": "ipython3",
   "version": "3.9.18"
  }
 },
 "nbformat": 4,
 "nbformat_minor": 2
}
