{
 "cells": [
  {
   "cell_type": "code",
   "execution_count": 1,
   "metadata": {},
   "outputs": [],
   "source": [
    "%load_ext autoreload\n",
    "%autoreload 2"
   ]
  },
  {
   "cell_type": "code",
   "execution_count": 2,
   "metadata": {},
   "outputs": [],
   "source": [
    "import pandas as pd \n",
    "from sklearn.feature_selection import VarianceThreshold , SelectKBest , f_classif\n",
    "from sklearn.preprocessing import OrdinalEncoder\n",
    "from sklearn.model_selection import train_test_split\n",
    "import math\n",
    "import itertools\n",
    "from amogel.utils.ac import generate_ac_feature_selection\n",
    "import warnings\n",
    "warnings.filterwarnings(\"ignore\")"
   ]
  },
  {
   "cell_type": "code",
   "execution_count": 2,
   "metadata": {},
   "outputs": [],
   "source": [
    "# data preparation \n",
    "# download data from google drive \n",
    "# !gdown --id 1tXtQwLBqoI6sjV6QTXR1Dbw_6MTexjez\n",
    "\n",
    "# unzip the data and delete the zip file\n",
    "# !unzip -q xena_ggi_ppi_co.zip"
   ]
  },
  {
   "cell_type": "code",
   "execution_count": 25,
   "metadata": {},
   "outputs": [],
   "source": [
    "# load omic data \n",
    "def load_omic_data(omic_file):\n",
    "    omic_data = pd.read_csv(omic_file, sep=\"\\t\", index_col=0)\n",
    "    return omic_data\n",
    "\n",
    "\n",
    "def filtering_variance(df: pd.DataFrame , threshold:float): \n",
    "        \n",
    "    default_shape = df.shape\n",
    "    \n",
    "    sel = VarianceThreshold(threshold=threshold)\n",
    "    df_filtered  = pd.DataFrame(sel.fit_transform(df) , index=df.index , columns=df.columns[sel.get_support()])\n",
    "    \n",
    "    filter_shape = df_filtered.shape\n",
    "    print(f\"Variance filtering | Default shape: {default_shape} | Filtered shape: {filter_shape}\")\n",
    "    \n",
    "    return df_filtered\n",
    "\n",
    "def annovaf_filtering( df: pd.DataFrame , df_label: pd.DataFrame , target: str , threshold: float)->pd.DataFrame:\n",
    "        \n",
    "        assert isinstance(df , pd.DataFrame) , \"Invalid input\"\n",
    "        assert isinstance(df_label , pd.DataFrame) , \"Invalid input\"\n",
    "        assert target in df_label.columns , f\"Invalid target column name, not found in the label dataframe | {df_label.columns.tolist()}\"\n",
    "        \n",
    "        default_shape = df.shape\n",
    "        \n",
    "        df_merged = pd.concat([df , df_label[target]] , axis=1)\n",
    "        df_merged_mean = df_merged.groupby(target).mean()\n",
    "        combination = list(itertools.permutations(df_merged_mean.index , 2))\n",
    "        selected_genes = []\n",
    "        for idx , gene in enumerate(df_merged.columns[:-1]): \n",
    "            # calculate fold-change for each gene to different groups\n",
    "            # generate possible groups \n",
    "            try:\n",
    "                fold_change = [\n",
    "                    math.log2(df_merged_mean.loc[group1,gene]/df_merged_mean.loc[group2 , gene]) for group1 , group2 in combination\n",
    "                ]\n",
    "                \n",
    "                # check if the fold change is greater than the threshold\n",
    "                if any(x > 1 for x in fold_change):\n",
    "                    selected_genes.append(gene)\n",
    "            except Exception as e:\n",
    "                pass\n",
    "                #selected_genes.append(gene)\n",
    "            \n",
    "        print(f\"Selected genes: {len(selected_genes)} , {selected_genes[:5]}...\")\n",
    "        if len(selected_genes) > 10:\n",
    "            #df = df[selected_genes]\n",
    "            df = df\n",
    "        \n",
    "            \n",
    "        sel = SelectKBest(score_func=f_classif, k=threshold)\n",
    "        df_filtered = pd.DataFrame(sel.fit_transform(df, df_label[target]), index=df.index , columns=df.columns[sel.get_support()])\n",
    "        \n",
    "        filter_shape = df_filtered.shape\n",
    "        print(f\"ANOVA-F filtering | Default shape: {default_shape} | Filtered shape: {filter_shape}\")\n",
    "        \n",
    "        return  df_filtered"
   ]
  },
  {
   "cell_type": "code",
   "execution_count": 4,
   "metadata": {},
   "outputs": [
    {
     "name": "stdout",
     "output_type": "stream",
     "text": [
      "cnv missing value:  0\n",
      "mRNA missing value:  0\n",
      "label missing value:  2\n"
     ]
    },
    {
     "data": {
      "text/plain": [
       "[array(['Basal', 'Her2', 'LumA', 'LumB', 'Normal'], dtype=object)]"
      ]
     },
     "execution_count": 4,
     "metadata": {},
     "output_type": "execute_result"
    }
   ],
   "source": [
    "# load STRING database\n",
    "string_link = pd.read_csv(\"9606.protein.links.detailed.v12.0.txt\", sep=\"\\s\", engine=\"python\")\n",
    "string_info = pd.read_csv(\"9606.protein.info.v12.0.txt\", sep=\"\\t\")\n",
    "\n",
    "# load GGI database \n",
    "GGI = pd.read_csv(\"ggi.txt\", sep=\"\\t\")\n",
    "\n",
    "# preprocess \n",
    "ppi_df = pd.merge(string_link , string_info[[\"#string_protein_id\", \"preferred_name\"]], left_on=\"protein1\", right_on=\"#string_protein_id\")\n",
    "ppi_df.rename(columns={\"preferred_name\":\"protein1_name\"}, inplace=True)\n",
    "ppi_df = pd.merge(ppi_df , string_info[[\"#string_protein_id\", \"preferred_name\"]], left_on=\"protein2\", right_on=\"#string_protein_id\")\n",
    "ppi_df.rename(columns={\"preferred_name\":\"protein2_name\"}, inplace=True)\n",
    "ppi_df = ppi_df[[\"protein1_name\", \"protein2_name\", \"neighborhood\" , \"coexpression\"]]\n",
    "\n",
    "# load omic\n",
    "cnv = load_omic_data(\"cnv.txt\")\n",
    "cnv.index = cnv.index.str.split(\"|\").str[0]\n",
    "cnv.columns = [\"-\".join(col.split(\"-\")[0:3]) for col in cnv.columns]\n",
    "cnv = cnv.T\n",
    "cnv.index.name = \"sample\"\n",
    "\n",
    "mRNA = load_omic_data(\"mRNA.txt\")\n",
    "mRNA.columns = [\"-\".join(col.split(\"-\")[0:3]) for col in mRNA.columns]\n",
    "mRNA = mRNA.T\n",
    "mRNA.index.name = \"sample\"\n",
    "\n",
    "# load label \n",
    "label  = pd.read_csv(\"TCGAbiolinks.csv\")\n",
    "label = label[[\"patient\",\"BRCA_Subtype_PAM50\"]]\n",
    "label.set_index(\"patient\", inplace=True)\n",
    "label.columns = [\"class\"]\n",
    "label.index.name = \"sample\"\n",
    "\n",
    "# check missing value \n",
    "print(\"cnv missing value: \", cnv.isnull().sum().sum())\n",
    "print(\"mRNA missing value: \", mRNA.isnull().sum().sum())\n",
    "print(\"label missing value: \", label.isnull().sum().sum())\n",
    "\n",
    "label = label.dropna()\n",
    "\n",
    "common_samples = set(cnv.index) & set(mRNA.index) & set(label.index)\n",
    "\n",
    "# filter data\n",
    "cnv = cnv.loc[list(common_samples)]\n",
    "mRNA = mRNA.loc[list(common_samples)]\n",
    "label = label.loc[list(common_samples)]\n",
    "\n",
    "# merge duplicated index with mean \n",
    "mRNA = mRNA.groupby(mRNA.index).mean()\n",
    "\n",
    "# sort index\n",
    "cnv.sort_index(inplace=True)\n",
    "mRNA.sort_index(inplace=True)\n",
    "label.sort_index(inplace=True)\n",
    "\n",
    "label_enc = OrdinalEncoder()\n",
    "label[\"class\"] = label_enc.fit_transform(label[[\"class\"]])\n",
    "label_enc.categories_"
   ]
  },
  {
   "cell_type": "code",
   "execution_count": 26,
   "metadata": {},
   "outputs": [
    {
     "name": "stdout",
     "output_type": "stream",
     "text": [
      "Variance filtering | Default shape: (1066, 24776) | Filtered shape: (1066, 24776)\n",
      "Variance filtering | Default shape: (1066, 20530) | Filtered shape: (1066, 20235)\n",
      "Selected genes: 10075 , ['ACAP3', 'ACTRT2', 'AGRN', 'ANKRD65', 'ATAD3A']...\n",
      "ANOVA-F filtering | Default shape: (1066, 24776) | Filtered shape: (1066, 1000)\n",
      "Selected genes: 3049 , ['HIF3A', 'RNF17', 'HMGCLL1', 'LRRTM1', 'CAMKV']...\n",
      "ANOVA-F filtering | Default shape: (1066, 20235) | Filtered shape: (1066, 1000)\n"
     ]
    }
   ],
   "source": [
    "cnv_filter = filtering_variance(cnv, 0.00)\n",
    "mrna_filter = filtering_variance(mRNA, 0.00)\n",
    "cnv_filter = annovaf_filtering(cnv_filter, label, \"class\", 1000)\n",
    "mrna_filter = annovaf_filtering(mrna_filter, label, \"class\", 1000)\n",
    "\n",
    "# scale data\n",
    "cnv_filter = (cnv_filter - cnv_filter.min().min()) / cnv_filter.max().max()\n",
    "mrna_filter = (mrna_filter - mrna_filter.min().min()) / mrna_filter.max().max()"
   ]
  },
  {
   "cell_type": "code",
   "execution_count": 27,
   "metadata": {},
   "outputs": [],
   "source": [
    "# data splitting\n",
    "X_train, X_test, _ , _ = train_test_split(label.index, label[\"class\"], test_size=0.3, random_state=42)\n",
    "\n",
    "cnv_train = cnv_filter.loc[X_train]\n",
    "cnv_test = cnv_filter.loc[X_test]\n",
    "mrna_train = mrna_filter.loc[X_train]\n",
    "mrna_test = mrna_filter.loc[X_test]\n",
    "label_train = label.loc[X_train]\n",
    "label_test = label.loc[X_test]"
   ]
  },
  {
   "cell_type": "code",
   "execution_count": 41,
   "metadata": {},
   "outputs": [
    {
     "name": "stderr",
     "output_type": "stream",
     "text": [
      "Generate CARs for class 4.0: 100%|██████████| 5/5 [00:22<00:00,  4.59s/it]            \n"
     ]
    },
    {
     "name": "stdout",
     "output_type": "stream",
     "text": [
      "------ ARM summary [Gene Filter: 0]---------\n",
      "    data_shape  itemset_length  support  support_percentage  cars_length  \\\n",
      "0  (125, 2000)            1542      118           94.400000         1542   \n",
      "1   (56, 2000)            1394       39           69.642857         1394   \n",
      "2  (391, 2000)            1175      362           92.583120         1175   \n",
      "3  (144, 2000)            1209      110           76.388889         1209   \n",
      "4   (30, 2000)            2074       21           70.000000         2074   \n",
      "\n",
      "   avg_confidence  \n",
      "0        0.910776  \n",
      "1        0.268642  \n",
      "2        0.609736  \n",
      "3        0.243214  \n",
      "4        0.257066  \n",
      "Top 1000 | 0.6300 | Lens gene: 1135\n"
     ]
    },
    {
     "name": "stderr",
     "output_type": "stream",
     "text": [
      "Generate information-edge tensor: 100%|██████████| 5000/5000 [01:01<00:00, 81.61it/s] "
     ]
    },
    {
     "name": "stdout",
     "output_type": "stream",
     "text": [
      "Best K: 1000 | Best Acc: 0.6300\n"
     ]
    },
    {
     "name": "stderr",
     "output_type": "stream",
     "text": [
      "\n"
     ]
    }
   ],
   "source": [
    "from amogel.utils.ac import generate_ac_feature_selection\n",
    "# merged cnv_train and mrna_train\n",
    "train_data = pd.concat([mrna_train, cnv_train], axis=1)\n",
    "test_data = pd.concat([mrna_test, cnv_test], axis=1)\n",
    "\n",
    "train_columns = train_data.columns.tolist()\n",
    "test_columns = test_data.columns.tolist()   \n",
    "\n",
    "train_data.columns = [ i for i in range(len(train_columns))]\n",
    "test_data.columns = [ i for i in range(len(test_columns))]\n",
    "\n",
    "train_data.index = [ i for i in range(train_data.shape[0])]\n",
    "test_data.index = [ i for i in range(test_data.shape[0])]\n",
    "label_train.index = [ i for i in range(label_train.shape[0])]\n",
    "label_test.index = [ i for i in range(label_test.shape[0])]\n",
    "\n",
    "est , selected_gene , information_edge_tensor  = generate_ac_feature_selection(train_data.copy(deep=True) , label_train.copy(deep=True) , \"\" , n_bins=3 , df_test_data=test_data.copy(deep=True) , df_test_label=label_test.copy(deep=True) , fixed_k=1000)\n",
    "\n",
    "# train_data = train_data[selected_gene]\n",
    "# test_data = test_data[selected_gene]"
   ]
  },
  {
   "cell_type": "code",
   "execution_count": 42,
   "metadata": {},
   "outputs": [
    {
     "name": "stdout",
     "output_type": "stream",
     "text": [
      "Selected gene distribution: {0: 242, 1: 893}\n"
     ]
    }
   ],
   "source": [
    "selected_gene = sorted(selected_gene)\n",
    "selection = {0:0,1:0}\n",
    "for gene in selected_gene: \n",
    "    if gene in range(0 , cnv_train.shape[1]):\n",
    "        selection[0] += 1\n",
    "    else:\n",
    "        selection[1] += 1\n",
    "print(f\"Selected gene distribution: {selection}\")\n",
    "# selected_gene = [ x for x in range(2000)]"
   ]
  },
  {
   "cell_type": "code",
   "execution_count": 43,
   "metadata": {},
   "outputs": [
    {
     "name": "stdout",
     "output_type": "stream",
     "text": [
      "Train data shape: (746, 2000)\n",
      "Test data shape: (320, 2000)\n",
      "Train label shape: (746, 1)\n",
      "Test label shape: (320, 1)\n",
      "AC information shape: torch.Size([2000, 2000])\n",
      "PPI information shape: torch.Size([2000, 2000])\n",
      "CO information shape: torch.Size([2000, 2000])\n",
      "GGI information shape: torch.Size([2000, 2000])\n"
     ]
    }
   ],
   "source": [
    "# generate prior information edges\n",
    "import torch\n",
    "gene_df = pd.DataFrame({\"gene_name\":train_columns, \"gene_idx\": range(len(train_columns))})\n",
    "merged = pd.merge(ppi_df , gene_df, left_on=\"protein1_name\", right_on=\"gene_name\")\n",
    "merged.rename(columns={\"gene_idx\":\"gene1_idx\"}, inplace=True)\n",
    "merged = pd.merge(merged , gene_df, left_on=\"protein2_name\", right_on=\"gene_name\")\n",
    "merged.rename(columns={\"gene_idx\":\"gene2_idx\"}, inplace=True)\n",
    "\n",
    "ppi_tensor = torch.zeros((len(train_columns), len(train_columns)))\n",
    "ppi_tensor[merged[\"gene1_idx\"].values , merged['gene2_idx'].values] = torch.tensor(merged['neighborhood'] , dtype=torch.float)\n",
    "ppi_tensor[merged[\"gene2_idx\"].values , merged['gene1_idx'].values] = torch.tensor(merged['neighborhood'] , dtype=torch.float)\n",
    "\n",
    "co_tensor = torch.zeros((len(train_columns), len(train_columns)))\n",
    "co_tensor[merged[\"gene1_idx\"].values , merged['gene2_idx'].values] = torch.tensor(merged['coexpression'] , dtype=torch.float)\n",
    "co_tensor[merged[\"gene2_idx\"].values , merged['gene1_idx'].values] = torch.tensor(merged['coexpression'] , dtype=torch.float)\n",
    "\n",
    "ggi = GGI[[\"Official Symbol Interactor A\", \"Official Symbol Interactor B\"]]\n",
    "ggi.rename(columns={\"Official Symbol Interactor A\":\"gene1_name\", \"Official Symbol Interactor B\":\"gene2_name\"}, inplace=True)\n",
    "ggi = pd.merge(ggi , gene_df, left_on=\"gene1_name\", right_on=\"gene_name\")\n",
    "ggi.rename(columns={\"gene_idx\":\"gene1_idx\"}, inplace=True)\n",
    "ggi = pd.merge(ggi , gene_df, left_on=\"gene2_name\", right_on=\"gene_name\")\n",
    "ggi.rename(columns={\"gene_idx\":\"gene2_idx\"}, inplace=True)\n",
    "\n",
    "ggi_tensor = torch.zeros((len(train_columns), len(train_columns)))\n",
    "ggi_tensor[ggi[\"gene1_idx\"].values , ggi['gene2_idx'].values] = 1\n",
    "ggi_tensor[ggi[\"gene2_idx\"].values , ggi['gene1_idx'].values] = 1\n",
    "\n",
    "# print all information shape \n",
    "print(f\"Train data shape: {train_data.shape}\")\n",
    "print(f\"Test data shape: {test_data.shape}\")\n",
    "print(f\"Train label shape: {label_train.shape}\")\n",
    "print(f\"Test label shape: {label_test.shape}\")\n",
    "print(f\"AC information shape: {information_edge_tensor.shape}\")\n",
    "print(f\"PPI information shape: {ppi_tensor.shape}\")\n",
    "print(f\"CO information shape: {co_tensor.shape}\")\n",
    "print(f\"GGI information shape: {ggi_tensor.shape}\")"
   ]
  },
  {
   "cell_type": "code",
   "execution_count": 44,
   "metadata": {},
   "outputs": [
    {
     "name": "stdout",
     "output_type": "stream",
     "text": [
      "General edges shape: torch.Size([1135, 1135, 4])\n"
     ]
    }
   ],
   "source": [
    "# create unified edges matrix \n",
    "general_edges = []\n",
    "info_edge = information_edge_tensor[selected_gene][:,selected_gene]\n",
    "info_edge[torch.isnan(info_edge)] = 0\n",
    "info_edge[ info_edge < 0.17 ] = 0\n",
    "# filter \n",
    "\n",
    "mean_info_edge = info_edge.mean()\n",
    "\n",
    "# scale info_edge to 0-1\n",
    "info_edge = (info_edge - info_edge.min())/(info_edge.max()-info_edge.min())\n",
    "\n",
    "ppi_edge = ppi_tensor[selected_gene][: , selected_gene]\n",
    "#ppi_edge = (ppi_edge - ppi_edge.min())/(ppi_edge.max()-ppi_edge.min())\n",
    "ppi_edge = ppi_edge*mean_info_edge\n",
    "\n",
    "\n",
    "co_edge = co_tensor[selected_gene][: , selected_gene]\n",
    "#co_edge = (co_edge - co_edge.min())/(co_edge.max()-co_edge.min())\n",
    "co_edge = co_edge*mean_info_edge\n",
    "\n",
    "ggi_edge = ggi_tensor[selected_gene][: , selected_gene]*mean_info_edge\n",
    "\n",
    "general_edges = torch.stack([info_edge , ppi_edge , co_edge , ggi_edge] , dim=-1)\n",
    "print(f\"General edges shape: {general_edges.shape}\")"
   ]
  },
  {
   "cell_type": "code",
   "execution_count": 45,
   "metadata": {},
   "outputs": [
    {
     "data": {
      "text/plain": [
       "(array([1.287315e+06, 3.640000e+02, 3.920000e+02, 8.200000e+01,\n",
       "        6.600000e+01, 2.000000e+00, 0.000000e+00, 0.000000e+00,\n",
       "        0.000000e+00, 4.000000e+00]),\n",
       " array([ 0.        ,  1.1663667 ,  2.33273339,  3.49909997,  4.66546679,\n",
       "         5.83183336,  6.99819994,  8.16456699,  9.33093357, 10.49730015,\n",
       "        11.66366673]),\n",
       " <BarContainer object of 10 artists>)"
      ]
     },
     "execution_count": 45,
     "metadata": {},
     "output_type": "execute_result"
    },
    {
     "data": {
      "image/png": "[encoded data removed]",
      "text/plain": [
       "<Figure size 640x480 with 1 Axes>"
      ]
     },
     "metadata": {},
     "output_type": "display_data"
    }
   ],
   "source": [
    "import matplotlib.pyplot as plt\n",
    "\n",
    "plt.hist(ppi_edge.flatten().numpy())"
   ]
  },
  {
   "cell_type": "code",
   "execution_count": 46,
   "metadata": {},
   "outputs": [
    {
     "data": {
      "text/plain": [
       "torch.Size([2000, 2000])"
      ]
     },
     "execution_count": 46,
     "metadata": {},
     "output_type": "execute_result"
    }
   ],
   "source": [
    "information_edge_tensor.shape"
   ]
  },
  {
   "cell_type": "code",
   "execution_count": 47,
   "metadata": {},
   "outputs": [
    {
     "name": "stderr",
     "output_type": "stream",
     "text": [
      "Generating training graphs:   1%|          | 4/746 [00:00<00:41, 17.93it/s]"
     ]
    },
    {
     "name": "stderr",
     "output_type": "stream",
     "text": [
      "Generating training graphs:   4%|▍         | 31/746 [00:45<47:19,  3.97s/it]"
     ]
    },
    {
     "ename": "",
     "evalue": "",
     "output_type": "error",
     "traceback": [
      "\u001b[1;31mThe Kernel crashed while executing code in the current cell or a previous cell. \n",
      "\u001b[1;31mPlease review the code in the cell(s) to identify a possible cause of the failure. \n",
      "\u001b[1;31mClick <a href='https://aka.ms/vscodeJupyterKernelCrash'>here</a> for more info. \n",
      "\u001b[1;31mView Jupyter <a href='command:jupyter.viewOutput'>log</a> for further details."
     ]
    }
   ],
   "source": [
    "from tqdm import tqdm \n",
    "from torch.nn.functional import one_hot \n",
    "from amogel.utils.common import symmetric_matrix_to_pyg\n",
    "\n",
    "train_transformed = pd.DataFrame(est.transform(train_data)).iloc[: , selected_gene]\n",
    "train_graphs = []\n",
    "with tqdm(total=train_data.shape[0] , desc=\"Generating training graphs\") as pbar: \n",
    "    for idx, sample in train_transformed.iterrows():\n",
    "        torch_sample = torch.tensor(sample.values , dtype=torch.float32).unsqueeze(-1)\n",
    "        torch_sample = one_hot(torch_sample.long() , num_classes=3).squeeze(1).float() \n",
    "        graph = symmetric_matrix_to_pyg(\n",
    "            matrix = general_edges ,\n",
    "            node_features=torch_sample, \n",
    "            y=torch.tensor(label_train.loc[idx].values , dtype=torch.long), \n",
    "            edge_threshold=0.0\n",
    "        )\n",
    "        \n",
    "        train_graphs.append(graph)\n",
    "        pbar.update(1)\n",
    "        \n",
    "test_transformed = pd.DataFrame(est.transform(test_data)).iloc[: , selected_gene]\n",
    "test_graphs = []\n",
    "with tqdm(total=test_data.shape[0] , desc=\"Generating test graphs\") as pbar: \n",
    "    for idx, sample in test_transformed.iterrows():\n",
    "        torch_sample = torch.tensor(sample.values , dtype=torch.float32).unsqueeze(-1)\n",
    "        torch_sample = one_hot(torch_sample.long() , num_classes=3).squeeze(1).float() \n",
    "        graph = symmetric_matrix_to_pyg(\n",
    "            matrix = general_edges ,\n",
    "            node_features=torch_sample, \n",
    "            y=torch.tensor(label_test.loc[idx].values , dtype=torch.long), \n",
    "            edge_threshold=0.0\n",
    "        )\n",
    "        \n",
    "        test_graphs.append(graph)\n",
    "        pbar.update(1)"
   ]
  },
  {
   "cell_type": "code",
   "execution_count": 36,
   "metadata": {},
   "outputs": [
    {
     "name": "stdout",
     "output_type": "stream",
     "text": [
      "Node dimension: torch.Size([1135, 3]) , \n",
      "Edge dimension: torch.Size([2, 263342]) ,         \n",
      "Edge attribute dimension: torch.Size([263342, 4]) ,         \n",
      "Edge max: tensor([ 1.0000, 11.2733, 48.7532,  0.0488]) ,         \n",
      "Edge mean: tensor([5.7728e-01, 1.9510e-03, 1.6341e-01, 2.2312e-04]) ,         \n",
      "Nonzero edge: tensor([263342,    180,   7232,   1204])\n"
     ]
    }
   ],
   "source": [
    "print(f\"Node dimension: {test_graphs[0].x.shape} , \\nEdge dimension: {test_graphs[0].edge_index.shape} , \\\n",
    "        \\nEdge attribute dimension: {test_graphs[0].edge_attr.shape} , \\\n",
    "        \\nEdge max: {test_graphs[0].edge_attr.max(dim=0).values} , \\\n",
    "        \\nEdge mean: {test_graphs[0].edge_attr.mean(dim=0)} , \\\n",
    "        \\nNonzero edge: {torch.count_nonzero(test_graphs[0].edge_attr , dim=0)}\")"
   ]
  },
  {
   "cell_type": "code",
   "execution_count": 37,
   "metadata": {},
   "outputs": [
    {
     "name": "stderr",
     "output_type": "stream",
     "text": [
      "2024/08/31 14:40:34 WARNING mlflow.utils.autologging_utils: You are using an unsupported version of pytorch. If you encounter errors during autologging, try upgrading / downgrading pytorch to a supported version, or try upgrading MLflow.\n",
      "INFO: GPU available: True (cuda), used: True\n"
     ]
    },
    {
     "name": "stdout",
     "output_type": "stream",
     "text": [
      "[2024-08-31 14:40:34,747: INFO: setup: GPU available: True (cuda), used: True]\n"
     ]
    },
    {
     "name": "stderr",
     "output_type": "stream",
     "text": [
      "INFO: TPU available: False, using: 0 TPU cores\n"
     ]
    },
    {
     "name": "stdout",
     "output_type": "stream",
     "text": [
      "[2024-08-31 14:40:34,749: INFO: setup: TPU available: False, using: 0 TPU cores]\n"
     ]
    },
    {
     "name": "stderr",
     "output_type": "stream",
     "text": [
      "INFO: IPU available: False, using: 0 IPUs\n"
     ]
    },
    {
     "name": "stdout",
     "output_type": "stream",
     "text": [
      "[2024-08-31 14:40:34,750: INFO: setup: IPU available: False, using: 0 IPUs]\n"
     ]
    },
    {
     "name": "stderr",
     "output_type": "stream",
     "text": [
      "INFO: HPU available: False, using: 0 HPUs\n"
     ]
    },
    {
     "name": "stdout",
     "output_type": "stream",
     "text": [
      "[2024-08-31 14:40:34,750: INFO: setup: HPU available: False, using: 0 HPUs]\n",
      "[2024-08-31 14:40:34,776: INFO: cuda: LOCAL_RANK: 0 - CUDA_VISIBLE_DEVICES: [0]]\n"
     ]
    },
    {
     "ename": "TypeError",
     "evalue": "__init__() got an unexpected keyword argument 'momentum'",
     "output_type": "error",
     "traceback": [
      "\u001b[0;31m---------------------------------------------------------------------------\u001b[0m",
      "\u001b[0;31mTypeError\u001b[0m                                 Traceback (most recent call last)",
      "Cell \u001b[0;32mIn[37], line 40\u001b[0m\n\u001b[1;32m     38\u001b[0m mlflow\u001b[38;5;241m.\u001b[39mlog_param(\u001b[38;5;124m\"\u001b[39m\u001b[38;5;124mdataset\u001b[39m\u001b[38;5;124m\"\u001b[39m , \u001b[38;5;124m\"\u001b[39m\u001b[38;5;124mmpkgnn_brca\u001b[39m\u001b[38;5;124m\"\u001b[39m)\n\u001b[1;32m     39\u001b[0m trainer \u001b[38;5;241m=\u001b[39m Trainer(max_epochs\u001b[38;5;241m=\u001b[39m\u001b[38;5;241m500\u001b[39m)\n\u001b[0;32m---> 40\u001b[0m \u001b[43mtrainer\u001b[49m\u001b[38;5;241;43m.\u001b[39;49m\u001b[43mfit\u001b[49m\u001b[43m(\u001b[49m\u001b[43mmodel\u001b[49m\u001b[43m \u001b[49m\u001b[43m,\u001b[49m\u001b[43m \u001b[49m\u001b[43mtrain_loader\u001b[49m\u001b[43m \u001b[49m\u001b[43m,\u001b[49m\u001b[43m \u001b[49m\u001b[43mtest_loader\u001b[49m\u001b[43m)\u001b[49m\n",
      "File \u001b[0;32m~/anaconda3/envs/gnn/lib/python3.9/site-packages/mlflow/utils/autologging_utils/safety.py:571\u001b[0m, in \u001b[0;36msafe_patch.<locals>.safe_patch_function\u001b[0;34m(*args, **kwargs)\u001b[0m\n\u001b[1;32m    569\u001b[0m     patch_function\u001b[38;5;241m.\u001b[39mcall(call_original, \u001b[38;5;241m*\u001b[39margs, \u001b[38;5;241m*\u001b[39m\u001b[38;5;241m*\u001b[39mkwargs)\n\u001b[1;32m    570\u001b[0m \u001b[38;5;28;01melse\u001b[39;00m:\n\u001b[0;32m--> 571\u001b[0m     \u001b[43mpatch_function\u001b[49m\u001b[43m(\u001b[49m\u001b[43mcall_original\u001b[49m\u001b[43m,\u001b[49m\u001b[43m \u001b[49m\u001b[38;5;241;43m*\u001b[39;49m\u001b[43margs\u001b[49m\u001b[43m,\u001b[49m\u001b[43m \u001b[49m\u001b[38;5;241;43m*\u001b[39;49m\u001b[38;5;241;43m*\u001b[39;49m\u001b[43mkwargs\u001b[49m\u001b[43m)\u001b[49m\n\u001b[1;32m    573\u001b[0m session\u001b[38;5;241m.\u001b[39mstate \u001b[38;5;241m=\u001b[39m \u001b[38;5;124m\"\u001b[39m\u001b[38;5;124msucceeded\u001b[39m\u001b[38;5;124m\"\u001b[39m\n\u001b[1;32m    575\u001b[0m try_log_autologging_event(\n\u001b[1;32m    576\u001b[0m     AutologgingEventLogger\u001b[38;5;241m.\u001b[39mget_logger()\u001b[38;5;241m.\u001b[39mlog_patch_function_success,\n\u001b[1;32m    577\u001b[0m     session,\n\u001b[0;32m   (...)\u001b[0m\n\u001b[1;32m    581\u001b[0m     kwargs,\n\u001b[1;32m    582\u001b[0m )\n",
      "File \u001b[0;32m~/anaconda3/envs/gnn/lib/python3.9/site-packages/mlflow/utils/autologging_utils/safety.py:250\u001b[0m, in \u001b[0;36mwith_managed_run.<locals>.patch_with_managed_run\u001b[0;34m(original, *args, **kwargs)\u001b[0m\n\u001b[1;32m    247\u001b[0m     managed_run \u001b[38;5;241m=\u001b[39m create_managed_run()\n\u001b[1;32m    249\u001b[0m \u001b[38;5;28;01mtry\u001b[39;00m:\n\u001b[0;32m--> 250\u001b[0m     result \u001b[38;5;241m=\u001b[39m \u001b[43mpatch_function\u001b[49m\u001b[43m(\u001b[49m\u001b[43moriginal\u001b[49m\u001b[43m,\u001b[49m\u001b[43m \u001b[49m\u001b[38;5;241;43m*\u001b[39;49m\u001b[43margs\u001b[49m\u001b[43m,\u001b[49m\u001b[43m \u001b[49m\u001b[38;5;241;43m*\u001b[39;49m\u001b[38;5;241;43m*\u001b[39;49m\u001b[43mkwargs\u001b[49m\u001b[43m)\u001b[49m\n\u001b[1;32m    251\u001b[0m \u001b[38;5;28;01mexcept\u001b[39;00m (\u001b[38;5;167;01mException\u001b[39;00m, \u001b[38;5;167;01mKeyboardInterrupt\u001b[39;00m):\n\u001b[1;32m    252\u001b[0m     \u001b[38;5;66;03m# In addition to standard Python exceptions, handle keyboard interrupts to ensure\u001b[39;00m\n\u001b[1;32m    253\u001b[0m     \u001b[38;5;66;03m# that runs are terminated if a user prematurely interrupts training execution\u001b[39;00m\n\u001b[1;32m    254\u001b[0m     \u001b[38;5;66;03m# (e.g. via sigint / ctrl-c)\u001b[39;00m\n\u001b[1;32m    255\u001b[0m     \u001b[38;5;28;01mif\u001b[39;00m managed_run:\n",
      "File \u001b[0;32m~/anaconda3/envs/gnn/lib/python3.9/site-packages/mlflow/pytorch/_lightning_autolog.py:386\u001b[0m, in \u001b[0;36mpatched_fit\u001b[0;34m(original, self, *args, **kwargs)\u001b[0m\n\u001b[1;32m    378\u001b[0m     \u001b[38;5;28mself\u001b[39m\u001b[38;5;241m.\u001b[39mcallbacks \u001b[38;5;241m+\u001b[39m\u001b[38;5;241m=\u001b[39m [\n\u001b[1;32m    379\u001b[0m         __MLflowPLCallback(\n\u001b[1;32m    380\u001b[0m             client, metrics_logger, run_id, log_models, log_every_n_epoch, log_every_n_step\n\u001b[1;32m    381\u001b[0m         )\n\u001b[1;32m    382\u001b[0m     ]\n\u001b[1;32m    384\u001b[0m client\u001b[38;5;241m.\u001b[39mflush(synchronous\u001b[38;5;241m=\u001b[39m\u001b[38;5;28;01mFalse\u001b[39;00m)\n\u001b[0;32m--> 386\u001b[0m result \u001b[38;5;241m=\u001b[39m \u001b[43moriginal\u001b[49m\u001b[43m(\u001b[49m\u001b[38;5;28;43mself\u001b[39;49m\u001b[43m,\u001b[49m\u001b[43m \u001b[49m\u001b[38;5;241;43m*\u001b[39;49m\u001b[43margs\u001b[49m\u001b[43m,\u001b[49m\u001b[43m \u001b[49m\u001b[38;5;241;43m*\u001b[39;49m\u001b[38;5;241;43m*\u001b[39;49m\u001b[43mkwargs\u001b[49m\u001b[43m)\u001b[49m\n\u001b[1;32m    388\u001b[0m \u001b[38;5;28;01mif\u001b[39;00m early_stop_callback \u001b[38;5;129;01mis\u001b[39;00m \u001b[38;5;129;01mnot\u001b[39;00m \u001b[38;5;28;01mNone\u001b[39;00m:\n\u001b[1;32m    389\u001b[0m     _log_early_stop_metrics(early_stop_callback, client, run_id)\n",
      "File \u001b[0;32m~/anaconda3/envs/gnn/lib/python3.9/site-packages/mlflow/utils/autologging_utils/safety.py:552\u001b[0m, in \u001b[0;36msafe_patch.<locals>.safe_patch_function.<locals>.call_original\u001b[0;34m(*og_args, **og_kwargs)\u001b[0m\n\u001b[1;32m    549\u001b[0m         original_result \u001b[38;5;241m=\u001b[39m original(\u001b[38;5;241m*\u001b[39m_og_args, \u001b[38;5;241m*\u001b[39m\u001b[38;5;241m*\u001b[39m_og_kwargs)\n\u001b[1;32m    550\u001b[0m         \u001b[38;5;28;01mreturn\u001b[39;00m original_result\n\u001b[0;32m--> 552\u001b[0m \u001b[38;5;28;01mreturn\u001b[39;00m \u001b[43mcall_original_fn_with_event_logging\u001b[49m\u001b[43m(\u001b[49m\u001b[43m_original_fn\u001b[49m\u001b[43m,\u001b[49m\u001b[43m \u001b[49m\u001b[43mog_args\u001b[49m\u001b[43m,\u001b[49m\u001b[43m \u001b[49m\u001b[43mog_kwargs\u001b[49m\u001b[43m)\u001b[49m\n",
      "File \u001b[0;32m~/anaconda3/envs/gnn/lib/python3.9/site-packages/mlflow/utils/autologging_utils/safety.py:487\u001b[0m, in \u001b[0;36msafe_patch.<locals>.safe_patch_function.<locals>.call_original_fn_with_event_logging\u001b[0;34m(original_fn, og_args, og_kwargs)\u001b[0m\n\u001b[1;32m    478\u001b[0m \u001b[38;5;28;01mtry\u001b[39;00m:\n\u001b[1;32m    479\u001b[0m     try_log_autologging_event(\n\u001b[1;32m    480\u001b[0m         AutologgingEventLogger\u001b[38;5;241m.\u001b[39mget_logger()\u001b[38;5;241m.\u001b[39mlog_original_function_start,\n\u001b[1;32m    481\u001b[0m         session,\n\u001b[0;32m   (...)\u001b[0m\n\u001b[1;32m    485\u001b[0m         og_kwargs,\n\u001b[1;32m    486\u001b[0m     )\n\u001b[0;32m--> 487\u001b[0m     original_fn_result \u001b[38;5;241m=\u001b[39m \u001b[43moriginal_fn\u001b[49m\u001b[43m(\u001b[49m\u001b[38;5;241;43m*\u001b[39;49m\u001b[43mog_args\u001b[49m\u001b[43m,\u001b[49m\u001b[43m \u001b[49m\u001b[38;5;241;43m*\u001b[39;49m\u001b[38;5;241;43m*\u001b[39;49m\u001b[43mog_kwargs\u001b[49m\u001b[43m)\u001b[49m\n\u001b[1;32m    489\u001b[0m     try_log_autologging_event(\n\u001b[1;32m    490\u001b[0m         AutologgingEventLogger\u001b[38;5;241m.\u001b[39mget_logger()\u001b[38;5;241m.\u001b[39mlog_original_function_success,\n\u001b[1;32m    491\u001b[0m         session,\n\u001b[0;32m   (...)\u001b[0m\n\u001b[1;32m    495\u001b[0m         og_kwargs,\n\u001b[1;32m    496\u001b[0m     )\n\u001b[1;32m    497\u001b[0m     \u001b[38;5;28;01mreturn\u001b[39;00m original_fn_result\n",
      "File \u001b[0;32m~/anaconda3/envs/gnn/lib/python3.9/site-packages/mlflow/utils/autologging_utils/safety.py:549\u001b[0m, in \u001b[0;36msafe_patch.<locals>.safe_patch_function.<locals>.call_original.<locals>._original_fn\u001b[0;34m(*_og_args, **_og_kwargs)\u001b[0m\n\u001b[1;32m    541\u001b[0m \u001b[38;5;66;03m# Show all non-MLflow warnings as normal (i.e. not as event logs)\u001b[39;00m\n\u001b[1;32m    542\u001b[0m \u001b[38;5;66;03m# during original function execution, even if silent mode is enabled\u001b[39;00m\n\u001b[1;32m    543\u001b[0m \u001b[38;5;66;03m# (`silent=True`), since these warnings originate from the ML framework\u001b[39;00m\n\u001b[1;32m    544\u001b[0m \u001b[38;5;66;03m# or one of its dependencies and are likely relevant to the caller\u001b[39;00m\n\u001b[1;32m    545\u001b[0m \u001b[38;5;28;01mwith\u001b[39;00m set_non_mlflow_warnings_behavior_for_current_thread(\n\u001b[1;32m    546\u001b[0m     disable_warnings\u001b[38;5;241m=\u001b[39m\u001b[38;5;28;01mFalse\u001b[39;00m,\n\u001b[1;32m    547\u001b[0m     reroute_warnings\u001b[38;5;241m=\u001b[39m\u001b[38;5;28;01mFalse\u001b[39;00m,\n\u001b[1;32m    548\u001b[0m ):\n\u001b[0;32m--> 549\u001b[0m     original_result \u001b[38;5;241m=\u001b[39m \u001b[43moriginal\u001b[49m\u001b[43m(\u001b[49m\u001b[38;5;241;43m*\u001b[39;49m\u001b[43m_og_args\u001b[49m\u001b[43m,\u001b[49m\u001b[43m \u001b[49m\u001b[38;5;241;43m*\u001b[39;49m\u001b[38;5;241;43m*\u001b[39;49m\u001b[43m_og_kwargs\u001b[49m\u001b[43m)\u001b[49m\n\u001b[1;32m    550\u001b[0m     \u001b[38;5;28;01mreturn\u001b[39;00m original_result\n",
      "File \u001b[0;32m~/anaconda3/envs/gnn/lib/python3.9/site-packages/pytorch_lightning/trainer/trainer.py:544\u001b[0m, in \u001b[0;36mTrainer.fit\u001b[0;34m(self, model, train_dataloaders, val_dataloaders, datamodule, ckpt_path)\u001b[0m\n\u001b[1;32m    542\u001b[0m \u001b[38;5;28mself\u001b[39m\u001b[38;5;241m.\u001b[39mstate\u001b[38;5;241m.\u001b[39mstatus \u001b[38;5;241m=\u001b[39m TrainerStatus\u001b[38;5;241m.\u001b[39mRUNNING\n\u001b[1;32m    543\u001b[0m \u001b[38;5;28mself\u001b[39m\u001b[38;5;241m.\u001b[39mtraining \u001b[38;5;241m=\u001b[39m \u001b[38;5;28;01mTrue\u001b[39;00m\n\u001b[0;32m--> 544\u001b[0m \u001b[43mcall\u001b[49m\u001b[38;5;241;43m.\u001b[39;49m\u001b[43m_call_and_handle_interrupt\u001b[49m\u001b[43m(\u001b[49m\n\u001b[1;32m    545\u001b[0m \u001b[43m    \u001b[49m\u001b[38;5;28;43mself\u001b[39;49m\u001b[43m,\u001b[49m\u001b[43m \u001b[49m\u001b[38;5;28;43mself\u001b[39;49m\u001b[38;5;241;43m.\u001b[39;49m\u001b[43m_fit_impl\u001b[49m\u001b[43m,\u001b[49m\u001b[43m \u001b[49m\u001b[43mmodel\u001b[49m\u001b[43m,\u001b[49m\u001b[43m \u001b[49m\u001b[43mtrain_dataloaders\u001b[49m\u001b[43m,\u001b[49m\u001b[43m \u001b[49m\u001b[43mval_dataloaders\u001b[49m\u001b[43m,\u001b[49m\u001b[43m \u001b[49m\u001b[43mdatamodule\u001b[49m\u001b[43m,\u001b[49m\u001b[43m \u001b[49m\u001b[43mckpt_path\u001b[49m\n\u001b[1;32m    546\u001b[0m \u001b[43m\u001b[49m\u001b[43m)\u001b[49m\n",
      "File \u001b[0;32m~/anaconda3/envs/gnn/lib/python3.9/site-packages/pytorch_lightning/trainer/call.py:44\u001b[0m, in \u001b[0;36m_call_and_handle_interrupt\u001b[0;34m(trainer, trainer_fn, *args, **kwargs)\u001b[0m\n\u001b[1;32m     42\u001b[0m     \u001b[38;5;28;01mif\u001b[39;00m trainer\u001b[38;5;241m.\u001b[39mstrategy\u001b[38;5;241m.\u001b[39mlauncher \u001b[38;5;129;01mis\u001b[39;00m \u001b[38;5;129;01mnot\u001b[39;00m \u001b[38;5;28;01mNone\u001b[39;00m:\n\u001b[1;32m     43\u001b[0m         \u001b[38;5;28;01mreturn\u001b[39;00m trainer\u001b[38;5;241m.\u001b[39mstrategy\u001b[38;5;241m.\u001b[39mlauncher\u001b[38;5;241m.\u001b[39mlaunch(trainer_fn, \u001b[38;5;241m*\u001b[39margs, trainer\u001b[38;5;241m=\u001b[39mtrainer, \u001b[38;5;241m*\u001b[39m\u001b[38;5;241m*\u001b[39mkwargs)\n\u001b[0;32m---> 44\u001b[0m     \u001b[38;5;28;01mreturn\u001b[39;00m \u001b[43mtrainer_fn\u001b[49m\u001b[43m(\u001b[49m\u001b[38;5;241;43m*\u001b[39;49m\u001b[43margs\u001b[49m\u001b[43m,\u001b[49m\u001b[43m \u001b[49m\u001b[38;5;241;43m*\u001b[39;49m\u001b[38;5;241;43m*\u001b[39;49m\u001b[43mkwargs\u001b[49m\u001b[43m)\u001b[49m\n\u001b[1;32m     46\u001b[0m \u001b[38;5;28;01mexcept\u001b[39;00m _TunerExitException:\n\u001b[1;32m     47\u001b[0m     _call_teardown_hook(trainer)\n",
      "File \u001b[0;32m~/anaconda3/envs/gnn/lib/python3.9/site-packages/pytorch_lightning/trainer/trainer.py:580\u001b[0m, in \u001b[0;36mTrainer._fit_impl\u001b[0;34m(self, model, train_dataloaders, val_dataloaders, datamodule, ckpt_path)\u001b[0m\n\u001b[1;32m    573\u001b[0m \u001b[38;5;28;01massert\u001b[39;00m \u001b[38;5;28mself\u001b[39m\u001b[38;5;241m.\u001b[39mstate\u001b[38;5;241m.\u001b[39mfn \u001b[38;5;129;01mis\u001b[39;00m \u001b[38;5;129;01mnot\u001b[39;00m \u001b[38;5;28;01mNone\u001b[39;00m\n\u001b[1;32m    574\u001b[0m ckpt_path \u001b[38;5;241m=\u001b[39m \u001b[38;5;28mself\u001b[39m\u001b[38;5;241m.\u001b[39m_checkpoint_connector\u001b[38;5;241m.\u001b[39m_select_ckpt_path(\n\u001b[1;32m    575\u001b[0m     \u001b[38;5;28mself\u001b[39m\u001b[38;5;241m.\u001b[39mstate\u001b[38;5;241m.\u001b[39mfn,\n\u001b[1;32m    576\u001b[0m     ckpt_path,\n\u001b[1;32m    577\u001b[0m     model_provided\u001b[38;5;241m=\u001b[39m\u001b[38;5;28;01mTrue\u001b[39;00m,\n\u001b[1;32m    578\u001b[0m     model_connected\u001b[38;5;241m=\u001b[39m\u001b[38;5;28mself\u001b[39m\u001b[38;5;241m.\u001b[39mlightning_module \u001b[38;5;129;01mis\u001b[39;00m \u001b[38;5;129;01mnot\u001b[39;00m \u001b[38;5;28;01mNone\u001b[39;00m,\n\u001b[1;32m    579\u001b[0m )\n\u001b[0;32m--> 580\u001b[0m \u001b[38;5;28;43mself\u001b[39;49m\u001b[38;5;241;43m.\u001b[39;49m\u001b[43m_run\u001b[49m\u001b[43m(\u001b[49m\u001b[43mmodel\u001b[49m\u001b[43m,\u001b[49m\u001b[43m \u001b[49m\u001b[43mckpt_path\u001b[49m\u001b[38;5;241;43m=\u001b[39;49m\u001b[43mckpt_path\u001b[49m\u001b[43m)\u001b[49m\n\u001b[1;32m    582\u001b[0m \u001b[38;5;28;01massert\u001b[39;00m \u001b[38;5;28mself\u001b[39m\u001b[38;5;241m.\u001b[39mstate\u001b[38;5;241m.\u001b[39mstopped\n\u001b[1;32m    583\u001b[0m \u001b[38;5;28mself\u001b[39m\u001b[38;5;241m.\u001b[39mtraining \u001b[38;5;241m=\u001b[39m \u001b[38;5;28;01mFalse\u001b[39;00m\n",
      "File \u001b[0;32m~/anaconda3/envs/gnn/lib/python3.9/site-packages/pytorch_lightning/trainer/trainer.py:965\u001b[0m, in \u001b[0;36mTrainer._run\u001b[0;34m(self, model, ckpt_path)\u001b[0m\n\u001b[1;32m    962\u001b[0m \u001b[38;5;28mself\u001b[39m\u001b[38;5;241m.\u001b[39m_logger_connector\u001b[38;5;241m.\u001b[39mreset_metrics()\n\u001b[1;32m    964\u001b[0m \u001b[38;5;66;03m# strategy will configure model and move it to the device\u001b[39;00m\n\u001b[0;32m--> 965\u001b[0m \u001b[38;5;28;43mself\u001b[39;49m\u001b[38;5;241;43m.\u001b[39;49m\u001b[43mstrategy\u001b[49m\u001b[38;5;241;43m.\u001b[39;49m\u001b[43msetup\u001b[49m\u001b[43m(\u001b[49m\u001b[38;5;28;43mself\u001b[39;49m\u001b[43m)\u001b[49m\n\u001b[1;32m    967\u001b[0m \u001b[38;5;66;03m# hook\u001b[39;00m\n\u001b[1;32m    968\u001b[0m \u001b[38;5;28;01mif\u001b[39;00m \u001b[38;5;28mself\u001b[39m\u001b[38;5;241m.\u001b[39mstate\u001b[38;5;241m.\u001b[39mfn \u001b[38;5;241m==\u001b[39m TrainerFn\u001b[38;5;241m.\u001b[39mFITTING:\n",
      "File \u001b[0;32m~/anaconda3/envs/gnn/lib/python3.9/site-packages/pytorch_lightning/strategies/single_device.py:78\u001b[0m, in \u001b[0;36mSingleDeviceStrategy.setup\u001b[0;34m(self, trainer)\u001b[0m\n\u001b[1;32m     76\u001b[0m \u001b[38;5;28;01mdef\u001b[39;00m \u001b[38;5;21msetup\u001b[39m(\u001b[38;5;28mself\u001b[39m, trainer: pl\u001b[38;5;241m.\u001b[39mTrainer) \u001b[38;5;241m-\u001b[39m\u001b[38;5;241m>\u001b[39m \u001b[38;5;28;01mNone\u001b[39;00m:\n\u001b[1;32m     77\u001b[0m     \u001b[38;5;28mself\u001b[39m\u001b[38;5;241m.\u001b[39mmodel_to_device()\n\u001b[0;32m---> 78\u001b[0m     \u001b[38;5;28;43msuper\u001b[39;49m\u001b[43m(\u001b[49m\u001b[43m)\u001b[49m\u001b[38;5;241;43m.\u001b[39;49m\u001b[43msetup\u001b[49m\u001b[43m(\u001b[49m\u001b[43mtrainer\u001b[49m\u001b[43m)\u001b[49m\n",
      "File \u001b[0;32m~/anaconda3/envs/gnn/lib/python3.9/site-packages/pytorch_lightning/strategies/strategy.py:151\u001b[0m, in \u001b[0;36mStrategy.setup\u001b[0;34m(self, trainer)\u001b[0m\n\u001b[1;32m    149\u001b[0m \u001b[38;5;28;01massert\u001b[39;00m \u001b[38;5;28mself\u001b[39m\u001b[38;5;241m.\u001b[39maccelerator \u001b[38;5;129;01mis\u001b[39;00m \u001b[38;5;129;01mnot\u001b[39;00m \u001b[38;5;28;01mNone\u001b[39;00m\n\u001b[1;32m    150\u001b[0m \u001b[38;5;28mself\u001b[39m\u001b[38;5;241m.\u001b[39maccelerator\u001b[38;5;241m.\u001b[39msetup(trainer)\n\u001b[0;32m--> 151\u001b[0m \u001b[38;5;28;43mself\u001b[39;49m\u001b[38;5;241;43m.\u001b[39;49m\u001b[43msetup_optimizers\u001b[49m\u001b[43m(\u001b[49m\u001b[43mtrainer\u001b[49m\u001b[43m)\u001b[49m\n\u001b[1;32m    152\u001b[0m \u001b[38;5;28mself\u001b[39m\u001b[38;5;241m.\u001b[39msetup_precision_plugin()\n\u001b[1;32m    153\u001b[0m _optimizers_to_device(\u001b[38;5;28mself\u001b[39m\u001b[38;5;241m.\u001b[39moptimizers, \u001b[38;5;28mself\u001b[39m\u001b[38;5;241m.\u001b[39mroot_device)\n",
      "File \u001b[0;32m~/anaconda3/envs/gnn/lib/python3.9/site-packages/pytorch_lightning/strategies/strategy.py:140\u001b[0m, in \u001b[0;36mStrategy.setup_optimizers\u001b[0;34m(self, trainer)\u001b[0m\n\u001b[1;32m    138\u001b[0m     \u001b[38;5;28;01mreturn\u001b[39;00m\n\u001b[1;32m    139\u001b[0m \u001b[38;5;28;01massert\u001b[39;00m \u001b[38;5;28mself\u001b[39m\u001b[38;5;241m.\u001b[39mlightning_module \u001b[38;5;129;01mis\u001b[39;00m \u001b[38;5;129;01mnot\u001b[39;00m \u001b[38;5;28;01mNone\u001b[39;00m\n\u001b[0;32m--> 140\u001b[0m \u001b[38;5;28mself\u001b[39m\u001b[38;5;241m.\u001b[39moptimizers, \u001b[38;5;28mself\u001b[39m\u001b[38;5;241m.\u001b[39mlr_scheduler_configs \u001b[38;5;241m=\u001b[39m \u001b[43m_init_optimizers_and_lr_schedulers\u001b[49m\u001b[43m(\u001b[49m\u001b[38;5;28;43mself\u001b[39;49m\u001b[38;5;241;43m.\u001b[39;49m\u001b[43mlightning_module\u001b[49m\u001b[43m)\u001b[49m\n",
      "File \u001b[0;32m~/anaconda3/envs/gnn/lib/python3.9/site-packages/pytorch_lightning/core/optimizer.py:177\u001b[0m, in \u001b[0;36m_init_optimizers_and_lr_schedulers\u001b[0;34m(model)\u001b[0m\n\u001b[1;32m    174\u001b[0m \u001b[38;5;250m\u001b[39m\u001b[38;5;124;03m\"\"\"Calls `LightningModule.configure_optimizers` and parses and validates the output.\"\"\"\u001b[39;00m\n\u001b[1;32m    175\u001b[0m \u001b[38;5;28;01mfrom\u001b[39;00m \u001b[38;5;21;01mpytorch_lightning\u001b[39;00m\u001b[38;5;21;01m.\u001b[39;00m\u001b[38;5;21;01mtrainer\u001b[39;00m \u001b[38;5;28;01mimport\u001b[39;00m call\n\u001b[0;32m--> 177\u001b[0m optim_conf \u001b[38;5;241m=\u001b[39m \u001b[43mcall\u001b[49m\u001b[38;5;241;43m.\u001b[39;49m\u001b[43m_call_lightning_module_hook\u001b[49m\u001b[43m(\u001b[49m\u001b[43mmodel\u001b[49m\u001b[38;5;241;43m.\u001b[39;49m\u001b[43mtrainer\u001b[49m\u001b[43m,\u001b[49m\u001b[43m \u001b[49m\u001b[38;5;124;43m\"\u001b[39;49m\u001b[38;5;124;43mconfigure_optimizers\u001b[39;49m\u001b[38;5;124;43m\"\u001b[39;49m\u001b[43m,\u001b[49m\u001b[43m \u001b[49m\u001b[43mpl_module\u001b[49m\u001b[38;5;241;43m=\u001b[39;49m\u001b[43mmodel\u001b[49m\u001b[43m)\u001b[49m\n\u001b[1;32m    179\u001b[0m \u001b[38;5;28;01mif\u001b[39;00m optim_conf \u001b[38;5;129;01mis\u001b[39;00m \u001b[38;5;28;01mNone\u001b[39;00m:\n\u001b[1;32m    180\u001b[0m     rank_zero_warn(\n\u001b[1;32m    181\u001b[0m         \u001b[38;5;124m\"\u001b[39m\u001b[38;5;124m`LightningModule.configure_optimizers` returned `None`, this fit will run with no optimizer\u001b[39m\u001b[38;5;124m\"\u001b[39m,\n\u001b[1;32m    182\u001b[0m     )\n",
      "File \u001b[0;32m~/anaconda3/envs/gnn/lib/python3.9/site-packages/pytorch_lightning/trainer/call.py:157\u001b[0m, in \u001b[0;36m_call_lightning_module_hook\u001b[0;34m(trainer, hook_name, pl_module, *args, **kwargs)\u001b[0m\n\u001b[1;32m    154\u001b[0m pl_module\u001b[38;5;241m.\u001b[39m_current_fx_name \u001b[38;5;241m=\u001b[39m hook_name\n\u001b[1;32m    156\u001b[0m \u001b[38;5;28;01mwith\u001b[39;00m trainer\u001b[38;5;241m.\u001b[39mprofiler\u001b[38;5;241m.\u001b[39mprofile(\u001b[38;5;124mf\u001b[39m\u001b[38;5;124m\"\u001b[39m\u001b[38;5;124m[LightningModule]\u001b[39m\u001b[38;5;132;01m{\u001b[39;00mpl_module\u001b[38;5;241m.\u001b[39m\u001b[38;5;18m__class__\u001b[39m\u001b[38;5;241m.\u001b[39m\u001b[38;5;18m__name__\u001b[39m\u001b[38;5;132;01m}\u001b[39;00m\u001b[38;5;124m.\u001b[39m\u001b[38;5;132;01m{\u001b[39;00mhook_name\u001b[38;5;132;01m}\u001b[39;00m\u001b[38;5;124m\"\u001b[39m):\n\u001b[0;32m--> 157\u001b[0m     output \u001b[38;5;241m=\u001b[39m \u001b[43mfn\u001b[49m\u001b[43m(\u001b[49m\u001b[38;5;241;43m*\u001b[39;49m\u001b[43margs\u001b[49m\u001b[43m,\u001b[49m\u001b[43m \u001b[49m\u001b[38;5;241;43m*\u001b[39;49m\u001b[38;5;241;43m*\u001b[39;49m\u001b[43mkwargs\u001b[49m\u001b[43m)\u001b[49m\n\u001b[1;32m    159\u001b[0m \u001b[38;5;66;03m# restore current_fx when nested context\u001b[39;00m\n\u001b[1;32m    160\u001b[0m pl_module\u001b[38;5;241m.\u001b[39m_current_fx_name \u001b[38;5;241m=\u001b[39m prev_fx_name\n",
      "File \u001b[0;32m~/gnn/src/amogel/model/GCN.py:218\u001b[0m, in \u001b[0;36mGCN.configure_optimizers\u001b[0;34m(self)\u001b[0m\n\u001b[1;32m    217\u001b[0m \u001b[38;5;28;01mdef\u001b[39;00m \u001b[38;5;21mconfigure_optimizers\u001b[39m(\u001b[38;5;28mself\u001b[39m):\n\u001b[0;32m--> 218\u001b[0m     \u001b[38;5;28;01mreturn\u001b[39;00m \u001b[43mtorch\u001b[49m\u001b[38;5;241;43m.\u001b[39;49m\u001b[43moptim\u001b[49m\u001b[38;5;241;43m.\u001b[39;49m\u001b[43mAdam\u001b[49m\u001b[43m(\u001b[49m\u001b[38;5;28;43mself\u001b[39;49m\u001b[38;5;241;43m.\u001b[39;49m\u001b[43mparameters\u001b[49m\u001b[43m(\u001b[49m\u001b[43m)\u001b[49m\u001b[43m,\u001b[49m\u001b[43m \u001b[49m\u001b[43mlr\u001b[49m\u001b[38;5;241;43m=\u001b[39;49m\u001b[38;5;28;43mself\u001b[39;49m\u001b[38;5;241;43m.\u001b[39;49m\u001b[43mlr\u001b[49m\u001b[43m \u001b[49m\u001b[43m,\u001b[49m\u001b[43m \u001b[49m\u001b[43mweight_decay\u001b[49m\u001b[38;5;241;43m=\u001b[39;49m\u001b[38;5;28;43mself\u001b[39;49m\u001b[38;5;241;43m.\u001b[39;49m\u001b[43mdecay\u001b[49m\u001b[43m \u001b[49m\u001b[43m,\u001b[49m\u001b[43m \u001b[49m\u001b[43mmomentum\u001b[49m\u001b[38;5;241;43m=\u001b[39;49m\u001b[38;5;241;43m0.9\u001b[39;49m\u001b[43m)\u001b[49m\n",
      "\u001b[0;31mTypeError\u001b[0m: __init__() got an unexpected keyword argument 'momentum'"
     ]
    }
   ],
   "source": [
    "# model training\n",
    "from torch_geometric.loader import DataLoader\n",
    "from amogel.model.GCN import GCN\n",
    "import mlflow\n",
    "from pytorch_lightning import Trainer\n",
    "\n",
    "mlflow.pytorch.autolog()\n",
    "mlflow.set_experiment(\"MPKGNN\")\n",
    "        \n",
    "train_loader = DataLoader(train_graphs , batch_size=50 , shuffle=True)\n",
    "test_loader = DataLoader(test_graphs , batch_size=50 , shuffle=False)\n",
    "\n",
    "model = GCN(\n",
    "    in_channels=train_graphs[0].x.shape[1],\n",
    "    hidden_channels=32, # default is 32\n",
    "    dnn_hidden_nodes=1024, # default is 1024\n",
    "    num_classes=5, \n",
    "    lr=0.00005,\n",
    "    drop_out=0.05, \n",
    "    pooling_ratio=0.0,\n",
    "    decay=0.0001, \n",
    "    no_of_nodes=train_graphs[0].x.shape[0] * train_graphs[0].x.shape[1], \n",
    "    DNN=True , \n",
    "    GNN=True , \n",
    "    save_dir=\".\"\n",
    ")\n",
    "\n",
    "with mlflow.start_run():\n",
    "    #mlflow.log_params(self.config.__dict__)\n",
    "    mlflow.log_params({\n",
    "        \"node_dim\": train_graphs[0].x.shape, \n",
    "        \"edge_dim\": train_graphs[0].edge_index.shape,\n",
    "        \"edge_attr_dim\": train_graphs[0].edge_attr.shape,\n",
    "        #\"edge_attr_max\": train_graph[0].edge_attr.max(dim=0).values,\n",
    "        \"nonzero_edge\": torch.count_nonzero(train_graphs[0].edge_attr , dim=0),\n",
    "        \"edge_attr_mean\": train_graphs[0].edge_attr.mean(dim=0)\n",
    "    })\n",
    "    mlflow.log_param(\"dataset\" , \"mpkgnn_brca\")\n",
    "    trainer = Trainer(max_epochs=500)\n",
    "    trainer.fit(model , train_loader , test_loader)"
   ]
  },
  {
   "cell_type": "code",
   "execution_count": null,
   "metadata": {},
   "outputs": [],
   "source": []
  }
 ],
 "metadata": {
  "kernelspec": {
   "display_name": "gnn",
   "language": "python",
   "name": "python3"
  },
  "language_info": {
   "codemirror_mode": {
    "name": "ipython",
    "version": 3
   },
   "file_extension": ".py",
   "mimetype": "text/x-python",
   "name": "python",
   "nbconvert_exporter": "python",
   "pygments_lexer": "ipython3",
   "version": "3.9.18"
  }
 },
 "nbformat": 4,
 "nbformat_minor": 2
}
