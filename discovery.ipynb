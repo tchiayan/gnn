{
 "cells": [
  {
   "cell_type": "code",
   "execution_count": 1,
   "metadata": {},
   "outputs": [],
   "source": [
    "from utils import get_omic_graph \n",
    "from discovery import get_topk_ac\n",
    "import pandas as pd \n",
    "from basic import multiomics \n",
    "import torch\n",
    "import torch_geometric.utils as geom_utils \n",
    "import torch_geometric.data as geom_data\n",
    "\n",
    "fea1_ac_filepath = r'./david/ac_rule_1.tsv'\n",
    "fea1_data_filepath = r'./BRCA/1_tr.csv'\n",
    "fea1_conversion_filepath = r'./david/1_featname_conversion.csv'\n",
    "\n",
    "fea2_ac_filepath = r'./david/ac_rule_2.tsv'\n",
    "fea2_data_filepath = r'./BRCA/2_tr.csv'\n",
    "fea2_conversion_filepath = r'./david/2_featname_conversion.csv'\n",
    "\n",
    "fea3_ac_filepath = r'./david/ac_rule_3.tsv'\n",
    "fea3_data_filepath = r'./BRCA/3_tr.csv'\n",
    "fea3_conversion_filepath = r'./david/3_featname_conversion.csv'\n",
    "\n",
    "feat1_data_test_filepath = r'./BRCA/1_te.csv'\n",
    "feat2_data_test_filepath = r'./BRCA/2_te.csv'\n",
    "feat3_data_test_filepath = r'./BRCA/3_te.csv'\n",
    "\n",
    "label_filepath = r'./BRCA/labels_tr.csv'\n",
    "label_test_filepath = r'./BRCA/labels_te.csv'"
   ]
  },
  {
   "cell_type": "code",
   "execution_count": 2,
   "metadata": {},
   "outputs": [],
   "source": [
    "def intersection(x):\n",
    "    distinct_genes = set().union(x['genes'])\n",
    "    \n",
    "    if len(x['ppi_genes']) > 0:\n",
    "        distinct_genes = distinct_genes.intersection(x['ppi_genes'])\n",
    "    \n",
    "    if len(x['kegg_go_genes']) > 0 :\n",
    "        distinct_genes = distinct_genes.intersection(x['kegg_go_genes'])\n",
    "        \n",
    "    return distinct_genes\n",
    "\n",
    "def get_common_genes(ac_filepath , data_filepath , conversion_filepath , label_filepath , visualize=False):\n",
    "    topk = get_topk_ac(ac_filepath, data_filepath, label_filepath, False)\n",
    "    _ , _ , _ , _ , _ , ( ppi_gene_set , kegg_go_gene_set , _ ) = get_omic_graph(data_filepath , conversion_filepath , ac_filepath , label_filepath , False , None , None , 0.0 , True , True , False)\n",
    "\n",
    "    topk['ppi_genes'] = pd.Series([ set(ppi_gene_set) ] * len(topk)) \n",
    "    topk['ppi_genes_count'] = topk['ppi_genes'].apply(lambda x : len(x))\n",
    "\n",
    "    topk['kegg_go_genes'] = pd.Series([ set(kegg_go_gene_set) ] * len(topk))\n",
    "    topk['kegg_go_genes_count'] = topk['kegg_go_genes'].apply(lambda x : len(x))\n",
    "\n",
    "    # convert\n",
    "    topk['genes'] = topk['genes'].apply(lambda x : set([int(y) for y in list(x)]))\n",
    "\n",
    "    # intersection between ppi and kegg_go and gene \n",
    "    topk['common_genes'] = topk.apply(lambda x : intersection(x) , axis = 1)\n",
    "    topk['common_genes_count'] = topk.apply(lambda x : len(x['common_genes']) , axis = 1)\n",
    "\n",
    "    if visualize:\n",
    "        topk.plot(x = 'k' , y = ['svm_score' , 'common_genes_count'] , secondary_y=['svm_score'])\n",
    "        \n",
    "    return topk\n"
   ]
  },
  {
   "cell_type": "code",
   "execution_count": 3,
   "metadata": {},
   "outputs": [
    {
     "name": "stdout",
     "output_type": "stream",
     "text": [
      "Generate top best K for class: 1.0\n"
     ]
    },
    {
     "name": "stderr",
     "output_type": "stream",
     "text": [
      "100%|██████████| 100/100 [00:00<00:00, 3697.67it/s]\n"
     ]
    },
    {
     "name": "stdout",
     "output_type": "stream",
     "text": [
      "Generate top best K for class: 4.0\n"
     ]
    },
    {
     "name": "stderr",
     "output_type": "stream",
     "text": [
      "100%|██████████| 100/100 [00:00<00:00, 2423.89it/s]\n"
     ]
    },
    {
     "name": "stdout",
     "output_type": "stream",
     "text": [
      "Generate top best K for class: 3.0\n"
     ]
    },
    {
     "name": "stderr",
     "output_type": "stream",
     "text": [
      "100%|██████████| 100/100 [00:00<00:00, 3265.75it/s]\n"
     ]
    },
    {
     "name": "stdout",
     "output_type": "stream",
     "text": [
      "Generate top best K for class: 0.0\n"
     ]
    },
    {
     "name": "stderr",
     "output_type": "stream",
     "text": [
      "100%|██████████| 100/100 [00:00<00:00, 1755.64it/s]\n"
     ]
    },
    {
     "name": "stdout",
     "output_type": "stream",
     "text": [
      "Generate top best K for class: 2.0\n"
     ]
    },
    {
     "name": "stderr",
     "output_type": "stream",
     "text": [
      "100%|██████████| 100/100 [00:00<00:00, 4167.22it/s]\n"
     ]
    },
    {
     "name": "stderr",
     "output_type": "stream",
     "text": [
      "/home/tchiayan/gnn/discovery.py:71: FutureWarning: Setting an item of incompatible dtype is deprecated and will raise in a future error of pandas. Value '0.7317073170731707' has dtype incompatible with int64, please explicitly cast to a compatible dtype first.\n",
      "  topk_agg.loc[idx , 'svm_score'] = clf.score(X_test, y_test)\n",
      "Generate graph data: 100%|██████████| 612/612 [00:11<00:00, 52.61it/s]\n"
     ]
    },
    {
     "name": "stdout",
     "output_type": "stream",
     "text": [
      "Generate top best K for class: 1.0\n"
     ]
    },
    {
     "name": "stderr",
     "output_type": "stream",
     "text": [
      "100%|██████████| 100/100 [00:00<00:00, 1919.96it/s]\n"
     ]
    },
    {
     "name": "stdout",
     "output_type": "stream",
     "text": [
      "Generate top best K for class: 0.0\n"
     ]
    },
    {
     "name": "stderr",
     "output_type": "stream",
     "text": [
      "100%|██████████| 100/100 [00:00<00:00, 1212.15it/s]\n"
     ]
    },
    {
     "name": "stdout",
     "output_type": "stream",
     "text": [
      "Generate top best K for class: 3.0\n"
     ]
    },
    {
     "name": "stderr",
     "output_type": "stream",
     "text": [
      "100%|██████████| 100/100 [00:00<00:00, 2454.20it/s]\n"
     ]
    },
    {
     "name": "stdout",
     "output_type": "stream",
     "text": [
      "Generate top best K for class: 4.0\n"
     ]
    },
    {
     "name": "stderr",
     "output_type": "stream",
     "text": [
      "100%|██████████| 100/100 [00:00<00:00, 1928.87it/s]\n",
      "/home/tchiayan/gnn/discovery.py:71: FutureWarning: Setting an item of incompatible dtype is deprecated and will raise in a future error of pandas. Value '0.6504065040650406' has dtype incompatible with int64, please explicitly cast to a compatible dtype first.\n",
      "  topk_agg.loc[idx , 'svm_score'] = clf.score(X_test, y_test)\n",
      "Generate graph data: 100%|██████████| 612/612 [00:08<00:00, 69.22it/s]\n"
     ]
    },
    {
     "name": "stdout",
     "output_type": "stream",
     "text": [
      "Generate top best K for class: 0.0\n"
     ]
    },
    {
     "name": "stderr",
     "output_type": "stream",
     "text": [
      "100%|██████████| 100/100 [00:00<00:00, 1798.41it/s]\n"
     ]
    },
    {
     "name": "stdout",
     "output_type": "stream",
     "text": [
      "Generate top best K for class: 1.0\n"
     ]
    },
    {
     "name": "stderr",
     "output_type": "stream",
     "text": [
      "100%|██████████| 100/100 [00:00<00:00, 3760.22it/s]\n"
     ]
    },
    {
     "name": "stdout",
     "output_type": "stream",
     "text": [
      "Generate top best K for class: 3.0\n"
     ]
    },
    {
     "name": "stderr",
     "output_type": "stream",
     "text": [
      "100%|██████████| 100/100 [00:00<00:00, 3478.59it/s]\n"
     ]
    },
    {
     "name": "stdout",
     "output_type": "stream",
     "text": [
      "Generate top best K for class: 4.0\n"
     ]
    },
    {
     "name": "stderr",
     "output_type": "stream",
     "text": [
      "100%|██████████| 100/100 [00:00<00:00, 2343.63it/s]\n"
     ]
    },
    {
     "name": "stdout",
     "output_type": "stream",
     "text": [
      "Generate top best K for class: 2.0\n"
     ]
    },
    {
     "name": "stderr",
     "output_type": "stream",
     "text": [
      "100%|██████████| 100/100 [00:00<00:00, 3645.70it/s]\n",
      "/home/tchiayan/gnn/discovery.py:71: FutureWarning: Setting an item of incompatible dtype is deprecated and will raise in a future error of pandas. Value '0.6585365853658537' has dtype incompatible with int64, please explicitly cast to a compatible dtype first.\n",
      "  topk_agg.loc[idx , 'svm_score'] = clf.score(X_test, y_test)\n",
      "Generate graph data: 100%|██████████| 612/612 [00:02<00:00, 286.71it/s]\n"
     ]
    }
   ],
   "source": [
    "df_fea1 = get_common_genes(fea1_ac_filepath , fea1_data_filepath , fea1_conversion_filepath , label_filepath , False)\n",
    "df_fea2 = get_common_genes(fea2_ac_filepath , fea2_data_filepath , fea2_conversion_filepath , label_filepath , False)\n",
    "df_fea3 = get_common_genes(fea3_ac_filepath , fea3_data_filepath , fea3_conversion_filepath , label_filepath , False)"
   ]
  },
  {
   "cell_type": "code",
   "execution_count": 4,
   "metadata": {},
   "outputs": [
    {
     "data": {
      "text/plain": [
       "k          99.000000\n",
       "score       0.688347\n",
       "score_1     0.739837\n",
       "score_2     0.674797\n",
       "score_3     0.650407\n",
       "Name: 98, dtype: float64"
      ]
     },
     "execution_count": 4,
     "metadata": {},
     "output_type": "execute_result"
    },
    {
     "data": {
      "image/png": "[encoded data removed]",
      "text/plain": [
       "<Figure size 640x480 with 1 Axes>"
      ]
     },
     "metadata": {},
     "output_type": "display_data"
    }
   ],
   "source": [
    "df = pd.DataFrame()\n",
    "df = df_fea1[['k']].copy()\n",
    "df['score'] = (df_fea1['svm_score'] + df_fea2['svm_score'] + df_fea3['svm_score']) / 3\n",
    "df['score_1'] = df_fea1['svm_score']\n",
    "df['score_2'] = df_fea2['svm_score']\n",
    "df['score_3'] = df_fea3['svm_score']\n",
    "df.plot(x = 'k' , y = ['score','score_1','score_2','score_3'])\n",
    "\n",
    "# get max score row \n",
    "df.loc[df['score'].idxmax()]"
   ]
  },
  {
   "cell_type": "code",
   "execution_count": 5,
   "metadata": {},
   "outputs": [
    {
     "name": "stderr",
     "output_type": "stream",
     "text": [
      "Generate graph data: 100%|██████████| 612/612 [00:11<00:00, 51.38it/s]\n",
      "Generate graph data: 100%|██████████| 612/612 [00:10<00:00, 58.77it/s]\n",
      "Generate graph data: 100%|██████████| 612/612 [00:02<00:00, 235.38it/s]\n",
      "Generate graph data: 100%|██████████| 263/263 [00:05<00:00, 49.40it/s]\n",
      "Generate graph data: 100%|██████████| 263/263 [00:04<00:00, 59.42it/s]\n",
      "Generate graph data: 100%|██████████| 263/263 [00:01<00:00, 232.75it/s]\n",
      "GPU available: True (cuda), used: True\n",
      "TPU available: False, using: 0 TPU cores\n",
      "IPU available: False, using: 0 IPUs\n",
      "HPU available: False, using: 0 HPUs\n",
      "/home/tchiayan/anaconda3/envs/gnn/lib/python3.9/site-packages/lightning/pytorch/trainer/connectors/logger_connector/logger_connector.py:67: Starting from v1.9.0, `tensorboardX` has been removed as a dependency of the `lightning.pytorch` package, due to potential conflicts with other packages in the ML ecosystem. For this reason, `logger=True` will use `CSVLogger` as the default logger, unless the `tensorboard` or `tensorboardX` packages are found. Please `pip install lightning[extra]` or one of them to enable TensorBoard support by default\n",
      "You are using a CUDA device ('NVIDIA GeForce RTX 3080 Ti') that has Tensor Cores. To properly utilize them, you should set `torch.set_float32_matmul_precision('medium' | 'high')` which will trade-off precision for performance. For more details, read https://pytorch.org/docs/stable/generated/torch.set_float32_matmul_precision.html#torch.set_float32_matmul_precision\n",
      "LOCAL_RANK: 0 - CUDA_VISIBLE_DEVICES: [0]\n",
      "\n",
      "   | Name             | Type                      | Params\n",
      "----------------------------------------------------------------\n",
      "0  | graph1           | GraphPooling              | 30.0 K\n",
      "1  | graph2           | GraphPooling              | 30.0 K\n",
      "2  | graph3           | GraphPooling              | 30.0 K\n",
      "3  | mlp              | Sequential                | 6.4 K \n",
      "4  | acc              | MulticlassAccuracy        | 0     \n",
      "5  | loss             | CrossEntropyLoss          | 0     \n",
      "6  | auc              | MulticlassAUROC           | 0     \n",
      "7  | f1               | MulticlassF1Score         | 0     \n",
      "8  | confusion_matrix | MulticlassConfusionMatrix | 0     \n",
      "9  | specificity      | MulticlassSpecificity     | 0     \n",
      "10 | sensivity        | MulticlassRecall          | 0     \n",
      "----------------------------------------------------------------\n",
      "96.4 K    Trainable params\n",
      "0         Non-trainable params\n",
      "96.4 K    Total params\n",
      "0.385     Total estimated model params size (MB)\n"
     ]
    },
    {
     "name": "stdout",
     "output_type": "stream",
     "text": [
      "Sanity Checking DataLoader 0:   0%|          | 0/2 [00:00<?, ?it/s]"
     ]
    },
    {
     "name": "stderr",
     "output_type": "stream",
     "text": [
      "/home/tchiayan/anaconda3/envs/gnn/lib/python3.9/site-packages/lightning/pytorch/trainer/connectors/data_connector.py:441: The 'val_dataloader' does not have many workers which may be a bottleneck. Consider increasing the value of the `num_workers` argument` to `num_workers=11` in the `DataLoader` to improve performance.\n"
     ]
    },
    {
     "name": "stdout",
     "output_type": "stream",
     "text": [
      "                                                                           "
     ]
    },
    {
     "name": "stderr",
     "output_type": "stream",
     "text": [
      "/home/tchiayan/gnn/basic.py:277: UserWarning: Implicit dimension choice for softmax has been deprecated. Change the call to include dim=X as an argument.\n",
      "  acc = self.acc(torch.nn.functional.softmax(output) , y1)\n",
      "/home/tchiayan/gnn/basic.py:278: UserWarning: Implicit dimension choice for softmax has been deprecated. Change the call to include dim=X as an argument.\n",
      "  f1 = self.f1(torch.nn.functional.softmax(output) , y1)\n",
      "/home/tchiayan/gnn/basic.py:279: UserWarning: Implicit dimension choice for softmax has been deprecated. Change the call to include dim=X as an argument.\n",
      "  auroc = self.auc(torch.nn.functional.softmax(output) , y1)\n",
      "/home/tchiayan/anaconda3/envs/gnn/lib/python3.9/site-packages/torchmetrics/utilities/prints.py:43: UserWarning: No positive samples in targets, true positive value should be meaningless. Returning zero tensor in true positive score\n",
      "  warnings.warn(*args, **kwargs)  # noqa: B028\n",
      "/home/tchiayan/gnn/basic.py:280: UserWarning: Implicit dimension choice for softmax has been deprecated. Change the call to include dim=X as an argument.\n",
      "  specificity = self.specificity(torch.nn.functional.softmax(output) , y1)\n",
      "/home/tchiayan/gnn/basic.py:281: UserWarning: Implicit dimension choice for softmax has been deprecated. Change the call to include dim=X as an argument.\n",
      "  sensivity = self.sensivity(torch.nn.functional.softmax(output) , y1)\n",
      "/home/tchiayan/anaconda3/envs/gnn/lib/python3.9/site-packages/lightning/pytorch/trainer/connectors/data_connector.py:441: The 'train_dataloader' does not have many workers which may be a bottleneck. Consider increasing the value of the `num_workers` argument` to `num_workers=11` in the `DataLoader` to improve performance.\n",
      "/home/tchiayan/anaconda3/envs/gnn/lib/python3.9/site-packages/lightning/pytorch/loops/fit_loop.py:293: The number of training batches (30) is smaller than the logging interval Trainer(log_every_n_steps=50). Set a lower value for log_every_n_steps if you want to see logs for the training epoch.\n"
     ]
    },
    {
     "name": "stdout",
     "output_type": "stream",
     "text": [
      "Epoch 0:   0%|          | 0/30 [00:00<?, ?it/s] "
     ]
    },
    {
     "name": "stderr",
     "output_type": "stream",
     "text": [
      "/home/tchiayan/gnn/basic.py:262: UserWarning: Implicit dimension choice for softmax has been deprecated. Change the call to include dim=X as an argument.\n",
      "  acc = self.acc(torch.nn.functional.softmax(output) , y1)\n"
     ]
    },
    {
     "name": "stdout",
     "output_type": "stream",
     "text": [
      "Epoch 9: 100%|██████████| 30/30 [00:08<00:00,  3.57it/s, v_num=230, val_loss=0.679, val_acc=0.800, val_f1=0.716, val_auroc=0.860, val_spe=0.950, val_sen=0.800, train_loss=0.411, train_acc=0.932]  "
     ]
    },
    {
     "name": "stderr",
     "output_type": "stream",
     "text": [
      "`Trainer.fit` stopped: `max_epochs=10` reached.\n"
     ]
    },
    {
     "name": "stdout",
     "output_type": "stream",
     "text": [
      "Epoch 9: 100%|██████████| 30/30 [00:08<00:00,  3.56it/s, v_num=230, val_loss=0.679, val_acc=0.800, val_f1=0.716, val_auroc=0.860, val_spe=0.950, val_sen=0.800, train_loss=0.411, train_acc=0.932]\n"
     ]
    },
    {
     "name": "stderr",
     "output_type": "stream",
     "text": [
      "LOCAL_RANK: 0 - CUDA_VISIBLE_DEVICES: [0]\n",
      "/home/tchiayan/anaconda3/envs/gnn/lib/python3.9/site-packages/lightning/pytorch/trainer/connectors/data_connector.py:441: The 'predict_dataloader' does not have many workers which may be a bottleneck. Consider increasing the value of the `num_workers` argument` to `num_workers=11` in the `DataLoader` to improve performance.\n"
     ]
    },
    {
     "name": "stdout",
     "output_type": "stream",
     "text": [
      "Predicting DataLoader 0: 100%|██████████| 14/14 [00:01<00:00,  7.45it/s]\n"
     ]
    },
    {
     "data": {
      "image/png": "[encoded data removed]",
      "text/plain": [
       "<Figure size 640x480 with 1 Axes>"
      ]
     },
     "metadata": {},
     "output_type": "display_data"
    }
   ],
   "source": [
    "\n",
    "\n",
    "labels = [ label_filepath , label_test_filepath ]\n",
    "train_data = [ fea1_data_filepath , fea2_data_filepath , fea3_data_filepath ]\n",
    "test_data = [ feat1_data_test_filepath , feat2_data_test_filepath , feat3_data_test_filepath ]\n",
    "ac_files = [ fea1_ac_filepath , fea2_ac_filepath , fea3_ac_filepath ]\n",
    "conversion_files = [ fea1_conversion_filepath , fea2_conversion_filepath , fea3_conversion_filepath ]\n",
    "\n",
    "biomarkers , gp_trains , gp_tests = multiomics(train_data , test_data , conversion_files , ac_files , labels , ppi=True , kegg_go=True , corr=False , ac=True , topk=50 , disable_tracking=True , max_epoch=10 , remove_isolated_node=False)"
   ]
  },
  {
   "cell_type": "code",
   "execution_count": 6,
   "metadata": {},
   "outputs": [
    {
     "name": "stdout",
     "output_type": "stream",
     "text": [
      "tensor([500, 500, 500, 500, 500, 500, 500, 500, 500, 500, 500, 500, 500, 500,\n",
      "        500, 500, 500, 500, 500, 500], device='cuda:0')\n",
      "torch.Size([20, 500])\n"
     ]
    }
   ],
   "source": [
    "perm1 , perm2 , score1, score2 , batch1 , batch2 = biomarkers['omic1']\n",
    "dense_batch , mask = geom_utils.to_dense_batch(perm1 , batch1 , batch_size=20 , max_num_nodes=500)\n",
    "\n",
    "dense_batch # size => batch_size x max_num_nodes x num_features \n",
    "\n",
    "# check any False in mask \n",
    "print(mask.sum(dim=1))\n",
    "print(dense_batch.shape)"
   ]
  },
  {
   "cell_type": "code",
   "execution_count": 7,
   "metadata": {},
   "outputs": [],
   "source": [
    "omic_graph = gp_trains[0]"
   ]
  },
  {
   "cell_type": "code",
   "execution_count": 8,
   "metadata": {},
   "outputs": [
    {
     "name": "stdout",
     "output_type": "stream",
     "text": [
      "tensor([ 212,  283,  346,  ..., 9569, 9733, 9747], device='cuda:0')\n",
      "DataBatch(x=[20000, 1], edge_index=[2, 6460280], edge_attr=[6460280, 1], y=[20], num_nodes=20000, extra_label=[20000], batch=[20000], ptr=[21])\n",
      "torch.Size([10000])\n"
     ]
    }
   ],
   "source": [
    "dense_graph = geom_data.Batch.from_data_list(omic_graph[:20])\n",
    "print(biomarkers['omic3'][0])\n",
    "print(dense_graph)\n",
    "print(batch1.shape)"
   ]
  },
  {
   "cell_type": "code",
   "execution_count": 9,
   "metadata": {},
   "outputs": [],
   "source": [
    "ranked = dense_graph.extra_label[perm1.cpu()].view(20 , 500) # batch , selected_genes_index\n",
    "score = score1.cpu().view(20 , 500)\n",
    "\n",
    "genes = torch.zeros(20 , 1000)\n",
    "\n",
    "# given ranked contain index of selected genes\n",
    "# we need to put score to original gene \n",
    "\n",
    "for i in range(20):\n",
    "    genes[i , ranked[i]] = score[i]\n",
    "    "
   ]
  },
  {
   "cell_type": "code",
   "execution_count": 26,
   "metadata": {},
   "outputs": [],
   "source": [
    "discovery_genes , genes_score = genes.mean(dim=0).topk(1000)"
   ]
  },
  {
   "cell_type": "code",
   "execution_count": 27,
   "metadata": {},
   "outputs": [
    {
     "name": "stdout",
     "output_type": "stream",
     "text": [
      "tensor([ 1.0000e+00,  9.9999e-01,  9.9999e-01,  9.9998e-01,  9.9993e-01,\n",
      "         9.9987e-01,  9.9986e-01,  9.9912e-01,  9.9740e-01,  9.8786e-01,\n",
      "         9.8112e-01,  9.8000e-01,  9.7409e-01,  9.4872e-01,  9.4855e-01,\n",
      "         9.1215e-01,  8.9751e-01,  8.9196e-01,  8.3876e-01,  8.0545e-01,\n",
      "         8.0469e-01,  7.9798e-01,  7.8723e-01,  7.8249e-01,  7.6898e-01,\n",
      "         7.5000e-01,  7.4476e-01,  7.2207e-01,  6.9798e-01,  6.8052e-01,\n",
      "         5.7023e-01,  5.4473e-01,  5.3274e-01,  5.3242e-01,  5.2443e-01,\n",
      "         4.7683e-01,  4.6225e-01,  4.4961e-01,  4.3842e-01,  4.1969e-01,\n",
      "         3.9452e-01,  3.8744e-01,  3.8578e-01,  3.6866e-01,  3.5041e-01,\n",
      "         3.3207e-01,  3.2596e-01,  3.2505e-01,  3.1367e-01,  3.0870e-01,\n",
      "         3.0538e-01,  3.0463e-01,  2.8929e-01,  2.7779e-01,  2.7320e-01,\n",
      "         2.6917e-01,  2.6228e-01,  2.6122e-01,  2.6040e-01,  2.5674e-01,\n",
      "         2.5542e-01,  2.4769e-01,  2.4753e-01,  2.4461e-01,  2.4251e-01,\n",
      "         2.4243e-01,  2.4131e-01,  2.3310e-01,  2.3267e-01,  2.3251e-01,\n",
      "         2.3009e-01,  2.2967e-01,  2.2894e-01,  2.2525e-01,  2.2446e-01,\n",
      "         2.2409e-01,  2.2214e-01,  2.2072e-01,  2.1892e-01,  2.1727e-01,\n",
      "         2.1723e-01,  2.1710e-01,  2.1708e-01,  2.1566e-01,  2.1332e-01,\n",
      "         2.1122e-01,  2.1106e-01,  2.0941e-01,  2.0792e-01,  2.0531e-01,\n",
      "         2.0505e-01,  2.0485e-01,  2.0478e-01,  2.0415e-01,  2.0402e-01,\n",
      "         2.0395e-01,  2.0366e-01,  2.0349e-01,  2.0272e-01,  2.0194e-01,\n",
      "         2.0173e-01,  2.0151e-01,  2.0122e-01,  2.0056e-01,  2.0034e-01,\n",
      "         2.0030e-01,  1.9999e-01,  1.9988e-01,  1.9964e-01,  1.9874e-01,\n",
      "         1.9846e-01,  1.9820e-01,  1.9780e-01,  1.9773e-01,  1.9701e-01,\n",
      "         1.9695e-01,  1.9677e-01,  1.9654e-01,  1.9652e-01,  1.9649e-01,\n",
      "         1.9648e-01,  1.9627e-01,  1.9622e-01,  1.9616e-01,  1.9596e-01,\n",
      "         1.9583e-01,  1.9578e-01,  1.9570e-01,  1.9544e-01,  1.9512e-01,\n",
      "         1.9414e-01,  1.9408e-01,  1.9396e-01,  1.9375e-01,  1.9370e-01,\n",
      "         1.9365e-01,  1.9361e-01,  1.9288e-01,  1.9227e-01,  1.9222e-01,\n",
      "         1.9221e-01,  1.9197e-01,  1.9185e-01,  1.9145e-01,  1.9076e-01,\n",
      "         1.9068e-01,  1.8956e-01,  1.8910e-01,  1.8889e-01,  1.8853e-01,\n",
      "         1.8840e-01,  1.8813e-01,  1.8683e-01,  1.8648e-01,  1.8629e-01,\n",
      "         1.8621e-01,  1.8599e-01,  1.8576e-01,  1.8478e-01,  1.8395e-01,\n",
      "         1.8391e-01,  1.8380e-01,  1.8366e-01,  1.8317e-01,  1.8298e-01,\n",
      "         1.8261e-01,  1.8213e-01,  1.8162e-01,  1.8140e-01,  1.8125e-01,\n",
      "         1.8095e-01,  1.8082e-01,  1.8080e-01,  1.8074e-01,  1.8059e-01,\n",
      "         1.8056e-01,  1.8028e-01,  1.8021e-01,  1.8010e-01,  1.7981e-01,\n",
      "         1.7975e-01,  1.7928e-01,  1.7920e-01,  1.7911e-01,  1.7898e-01,\n",
      "         1.7842e-01,  1.7841e-01,  1.7833e-01,  1.7827e-01,  1.7812e-01,\n",
      "         1.7806e-01,  1.7793e-01,  1.7774e-01,  1.7771e-01,  1.7768e-01,\n",
      "         1.7758e-01,  1.7646e-01,  1.7631e-01,  1.7539e-01,  1.7465e-01,\n",
      "         1.7443e-01,  1.7438e-01,  1.7435e-01,  1.7426e-01,  1.7322e-01,\n",
      "         1.7288e-01,  1.7270e-01,  1.7262e-01,  1.7224e-01,  1.7203e-01,\n",
      "         1.7202e-01,  1.7178e-01,  1.7171e-01,  1.7130e-01,  1.7118e-01,\n",
      "         1.7074e-01,  1.7050e-01,  1.7025e-01,  1.6923e-01,  1.6892e-01,\n",
      "         1.6870e-01,  1.6834e-01,  1.6821e-01,  1.6746e-01,  1.6732e-01,\n",
      "         1.6666e-01,  1.6642e-01,  1.6577e-01,  1.6565e-01,  1.6543e-01,\n",
      "         1.6533e-01,  1.6525e-01,  1.6470e-01,  1.6436e-01,  1.6432e-01,\n",
      "         1.6423e-01,  1.6419e-01,  1.6414e-01,  1.6409e-01,  1.6408e-01,\n",
      "         1.6401e-01,  1.6333e-01,  1.6309e-01,  1.6291e-01,  1.6267e-01,\n",
      "         1.6250e-01,  1.6228e-01,  1.6183e-01,  1.6155e-01,  1.6122e-01,\n",
      "         1.6099e-01,  1.6097e-01,  1.6096e-01,  1.6079e-01,  1.6059e-01,\n",
      "         1.6057e-01,  1.6037e-01,  1.6026e-01,  1.6001e-01,  1.5946e-01,\n",
      "         1.5931e-01,  1.5930e-01,  1.5925e-01,  1.5899e-01,  1.5897e-01,\n",
      "         1.5871e-01,  1.5830e-01,  1.5828e-01,  1.5796e-01,  1.5796e-01,\n",
      "         1.5767e-01,  1.5742e-01,  1.5732e-01,  1.5721e-01,  1.5720e-01,\n",
      "         1.5700e-01,  1.5687e-01,  1.5650e-01,  1.5629e-01,  1.5601e-01,\n",
      "         1.5575e-01,  1.5571e-01,  1.5559e-01,  1.5522e-01,  1.5447e-01,\n",
      "         1.5437e-01,  1.5429e-01,  1.5412e-01,  1.5389e-01,  1.5386e-01,\n",
      "         1.5348e-01,  1.5343e-01,  1.5332e-01,  1.5306e-01,  1.5303e-01,\n",
      "         1.5300e-01,  1.5270e-01,  1.5268e-01,  1.5268e-01,  1.5261e-01,\n",
      "         1.5216e-01,  1.5215e-01,  1.5203e-01,  1.5199e-01,  1.5118e-01,\n",
      "         1.5117e-01,  1.5109e-01,  1.5107e-01,  1.5098e-01,  1.5097e-01,\n",
      "         1.5081e-01,  1.5072e-01,  1.5066e-01,  1.5047e-01,  1.5032e-01,\n",
      "         1.5019e-01,  1.5000e-01,  1.4999e-01,  1.4974e-01,  1.4974e-01,\n",
      "         1.4972e-01,  1.4955e-01,  1.4952e-01,  1.4931e-01,  1.4929e-01,\n",
      "         1.4925e-01,  1.4924e-01,  1.4880e-01,  1.4868e-01,  1.4854e-01,\n",
      "         1.4854e-01,  1.4846e-01,  1.4839e-01,  1.4830e-01,  1.4829e-01,\n",
      "         1.4807e-01,  1.4788e-01,  1.4771e-01,  1.4764e-01,  1.4743e-01,\n",
      "         1.4728e-01,  1.4713e-01,  1.4703e-01,  1.4703e-01,  1.4687e-01,\n",
      "         1.4685e-01,  1.4652e-01,  1.4641e-01,  1.4591e-01,  1.4569e-01,\n",
      "         1.4561e-01,  1.4546e-01,  1.4506e-01,  1.4503e-01,  1.4490e-01,\n",
      "         1.4489e-01,  1.4487e-01,  1.4480e-01,  1.4475e-01,  1.4471e-01,\n",
      "         1.4470e-01,  1.4450e-01,  1.4427e-01,  1.4398e-01,  1.4386e-01,\n",
      "         1.4381e-01,  1.4367e-01,  1.4310e-01,  1.4298e-01,  1.4296e-01,\n",
      "         1.4296e-01,  1.4290e-01,  1.4282e-01,  1.4268e-01,  1.4259e-01,\n",
      "         1.4219e-01,  1.4212e-01,  1.4195e-01,  1.4180e-01,  1.4178e-01,\n",
      "         1.4162e-01,  1.4161e-01,  1.4137e-01,  1.4100e-01,  1.4082e-01,\n",
      "         1.4079e-01,  1.4070e-01,  1.4049e-01,  1.4038e-01,  1.4029e-01,\n",
      "         1.4028e-01,  1.4022e-01,  1.4012e-01,  1.4010e-01,  1.4007e-01,\n",
      "         1.4003e-01,  1.3933e-01,  1.3919e-01,  1.3905e-01,  1.3899e-01,\n",
      "         1.3896e-01,  1.3891e-01,  1.3885e-01,  1.3884e-01,  1.3880e-01,\n",
      "         1.3875e-01,  1.3874e-01,  1.3835e-01,  1.3834e-01,  1.3803e-01,\n",
      "         1.3756e-01,  1.3743e-01,  1.3718e-01,  1.3716e-01,  1.3712e-01,\n",
      "         1.3685e-01,  1.3667e-01,  1.3635e-01,  1.3630e-01,  1.3548e-01,\n",
      "         1.3547e-01,  1.3523e-01,  1.3520e-01,  1.3502e-01,  1.3496e-01,\n",
      "         1.3493e-01,  1.3492e-01,  1.3467e-01,  1.3462e-01,  1.3447e-01,\n",
      "         1.3442e-01,  1.3437e-01,  1.3400e-01,  1.3392e-01,  1.3364e-01,\n",
      "         1.3361e-01,  1.3343e-01,  1.3339e-01,  1.3323e-01,  1.3320e-01,\n",
      "         1.3303e-01,  1.3288e-01,  1.3282e-01,  1.3277e-01,  1.3271e-01,\n",
      "         1.3270e-01,  1.3245e-01,  1.3220e-01,  1.3189e-01,  1.3162e-01,\n",
      "         1.3137e-01,  1.3109e-01,  1.3107e-01,  1.3105e-01,  1.3092e-01,\n",
      "         1.3090e-01,  1.3054e-01,  1.3052e-01,  1.3049e-01,  1.3046e-01,\n",
      "         1.3044e-01,  1.3031e-01,  1.3008e-01,  1.2972e-01,  1.2967e-01,\n",
      "         1.2906e-01,  1.2884e-01,  1.2865e-01,  1.2796e-01,  1.2794e-01,\n",
      "         1.2781e-01,  1.2777e-01,  1.2733e-01,  1.2693e-01,  1.2660e-01,\n",
      "         1.2652e-01,  1.2647e-01,  1.2586e-01,  1.2564e-01,  1.2556e-01,\n",
      "         1.2529e-01,  1.2526e-01,  1.2491e-01,  1.2455e-01,  1.2452e-01,\n",
      "         1.2431e-01,  1.2396e-01,  1.2369e-01,  1.2361e-01,  1.2353e-01,\n",
      "         1.2339e-01,  1.2288e-01,  1.2216e-01,  1.2182e-01,  1.2182e-01,\n",
      "         1.2180e-01,  1.2149e-01,  1.2123e-01,  1.2120e-01,  1.2067e-01,\n",
      "         1.2057e-01,  1.2055e-01,  1.2018e-01,  1.1941e-01,  1.1938e-01,\n",
      "         1.1823e-01,  1.1816e-01,  1.1810e-01,  1.1797e-01,  1.1787e-01,\n",
      "         1.1776e-01,  1.1766e-01,  1.1695e-01,  1.1681e-01,  1.1680e-01,\n",
      "         1.1614e-01,  1.1608e-01,  1.1450e-01,  1.1332e-01,  1.1320e-01,\n",
      "         1.1087e-01,  1.0961e-01,  1.0939e-01,  1.0875e-01,  1.0845e-01,\n",
      "         1.0833e-01,  1.0797e-01,  1.0659e-01,  1.0347e-01,  1.0312e-01,\n",
      "         9.9763e-02,  9.9449e-02,  9.8838e-02,  9.7991e-02,  9.7689e-02,\n",
      "         9.7667e-02,  9.7071e-02,  9.6716e-02,  9.6650e-02,  9.6142e-02,\n",
      "         9.6083e-02,  9.5693e-02,  9.3738e-02,  9.2693e-02,  9.1100e-02,\n",
      "         8.8221e-02,  8.5854e-02,  8.4980e-02,  8.4970e-02,  8.4502e-02,\n",
      "         8.4475e-02,  8.4459e-02,  8.4111e-02,  8.3755e-02,  8.3730e-02,\n",
      "         8.3383e-02,  8.3366e-02,  8.3107e-02,  8.3046e-02,  8.2849e-02,\n",
      "         8.0062e-02,  7.9938e-02,  7.7461e-02,  7.6716e-02,  7.5022e-02,\n",
      "         7.3951e-02,  7.3853e-02,  7.3853e-02,  7.2348e-02,  7.1872e-02,\n",
      "         7.0899e-02,  7.0145e-02,  6.9713e-02,  6.9604e-02,  6.6835e-02,\n",
      "         6.0830e-02,  5.9781e-02,  5.9185e-02,  5.8374e-02,  5.8347e-02,\n",
      "         5.8195e-02,  5.4966e-02,  5.1447e-02,  5.0707e-02,  4.9999e-02,\n",
      "         4.9833e-02,  4.9265e-02,  4.8836e-02,  4.8750e-02,  4.8525e-02,\n",
      "         4.8225e-02,  4.8105e-02,  4.7721e-02,  4.7438e-02,  4.7301e-02,\n",
      "         4.6509e-02,  4.6489e-02,  4.3085e-02,  4.2582e-02,  4.0854e-02,\n",
      "         3.8707e-02,  3.8052e-02,  3.7971e-02,  3.7929e-02,  3.7445e-02,\n",
      "         3.6543e-02,  3.4253e-02,  3.3856e-02,  3.3326e-02,  3.0068e-02,\n",
      "         2.8665e-02,  2.8483e-02,  2.8308e-02,  2.7905e-02,  2.7817e-02,\n",
      "         2.7781e-02,  2.6558e-02,  2.2709e-02,  2.1224e-02,  2.0147e-02,\n",
      "         1.9987e-02,  1.9900e-02,  1.9666e-02,  1.9395e-02,  1.9196e-02,\n",
      "         1.8880e-02,  1.8350e-02,  1.6892e-02,  1.4578e-02,  1.4287e-02,\n",
      "         1.3910e-02,  1.3750e-02,  1.3713e-02,  1.3512e-02,  1.3455e-02,\n",
      "         1.3188e-02,  1.2791e-02,  1.2784e-02,  1.2042e-02,  1.1369e-02,\n",
      "         1.1219e-02,  1.0210e-02,  1.0003e-02,  9.6197e-03,  9.3177e-03,\n",
      "         9.2576e-03,  9.2037e-03,  8.8702e-03,  8.3938e-03,  7.9697e-03,\n",
      "         7.1916e-03,  6.7014e-03,  5.3358e-03,  5.3280e-03,  5.2513e-03,\n",
      "         4.9295e-03,  3.7004e-03,  2.4020e-03,  1.0998e-03,  9.0165e-04,\n",
      "         5.2716e-04,  4.5199e-04,  0.0000e+00,  0.0000e+00,  0.0000e+00,\n",
      "         0.0000e+00,  0.0000e+00,  0.0000e+00,  0.0000e+00,  0.0000e+00,\n",
      "         0.0000e+00,  0.0000e+00,  0.0000e+00,  0.0000e+00,  0.0000e+00,\n",
      "         0.0000e+00,  0.0000e+00,  0.0000e+00,  0.0000e+00,  0.0000e+00,\n",
      "         0.0000e+00,  0.0000e+00,  0.0000e+00,  0.0000e+00,  0.0000e+00,\n",
      "         0.0000e+00,  0.0000e+00,  0.0000e+00,  0.0000e+00,  0.0000e+00,\n",
      "         0.0000e+00,  0.0000e+00,  0.0000e+00,  0.0000e+00,  0.0000e+00,\n",
      "         0.0000e+00,  0.0000e+00,  0.0000e+00,  0.0000e+00,  0.0000e+00,\n",
      "         0.0000e+00,  0.0000e+00,  0.0000e+00,  0.0000e+00,  0.0000e+00,\n",
      "         0.0000e+00,  0.0000e+00,  0.0000e+00,  0.0000e+00,  0.0000e+00,\n",
      "         0.0000e+00,  0.0000e+00,  0.0000e+00,  0.0000e+00,  0.0000e+00,\n",
      "         0.0000e+00,  0.0000e+00,  0.0000e+00,  0.0000e+00,  0.0000e+00,\n",
      "         0.0000e+00,  0.0000e+00,  0.0000e+00,  0.0000e+00,  0.0000e+00,\n",
      "         0.0000e+00,  0.0000e+00,  0.0000e+00,  0.0000e+00,  0.0000e+00,\n",
      "         0.0000e+00,  0.0000e+00,  0.0000e+00,  0.0000e+00,  0.0000e+00,\n",
      "         0.0000e+00,  0.0000e+00,  0.0000e+00,  0.0000e+00,  0.0000e+00,\n",
      "         0.0000e+00,  0.0000e+00,  0.0000e+00,  0.0000e+00,  0.0000e+00,\n",
      "         0.0000e+00,  0.0000e+00,  0.0000e+00,  0.0000e+00,  0.0000e+00,\n",
      "         0.0000e+00,  0.0000e+00,  0.0000e+00,  0.0000e+00,  0.0000e+00,\n",
      "         0.0000e+00,  0.0000e+00,  0.0000e+00,  0.0000e+00,  0.0000e+00,\n",
      "         0.0000e+00,  0.0000e+00,  0.0000e+00,  0.0000e+00,  0.0000e+00,\n",
      "         0.0000e+00,  0.0000e+00,  0.0000e+00,  0.0000e+00,  0.0000e+00,\n",
      "         0.0000e+00,  0.0000e+00,  0.0000e+00,  0.0000e+00,  0.0000e+00,\n",
      "         0.0000e+00,  0.0000e+00,  0.0000e+00,  0.0000e+00,  0.0000e+00,\n",
      "         0.0000e+00,  0.0000e+00,  0.0000e+00,  0.0000e+00,  0.0000e+00,\n",
      "         0.0000e+00,  0.0000e+00,  0.0000e+00,  0.0000e+00,  0.0000e+00,\n",
      "         0.0000e+00,  0.0000e+00,  0.0000e+00,  0.0000e+00,  0.0000e+00,\n",
      "         0.0000e+00,  0.0000e+00,  0.0000e+00,  0.0000e+00,  0.0000e+00,\n",
      "         0.0000e+00,  0.0000e+00,  0.0000e+00,  0.0000e+00,  0.0000e+00,\n",
      "         0.0000e+00,  0.0000e+00, -2.4146e-03, -3.2138e-03, -3.2532e-03,\n",
      "        -3.4970e-03, -4.3754e-03, -4.6194e-03, -4.7667e-03, -4.9025e-03,\n",
      "        -5.9595e-03, -6.3001e-03, -6.4318e-03, -6.6438e-03, -6.9304e-03,\n",
      "        -7.1631e-03, -7.2560e-03, -7.2581e-03, -7.8169e-03, -8.0757e-03,\n",
      "        -9.0362e-03, -9.3258e-03, -1.0759e-02, -1.1099e-02, -1.1194e-02,\n",
      "        -1.1506e-02, -1.1669e-02, -1.1687e-02, -1.2095e-02, -1.2616e-02,\n",
      "        -1.3204e-02, -1.4111e-02, -1.4193e-02, -1.5530e-02, -1.7176e-02,\n",
      "        -1.7902e-02, -1.9922e-02, -2.0050e-02, -2.0117e-02, -2.0135e-02,\n",
      "        -2.0211e-02, -2.0259e-02, -2.0551e-02, -2.0579e-02, -2.0854e-02,\n",
      "        -2.1609e-02, -2.1635e-02, -2.2398e-02, -2.2622e-02, -2.2772e-02,\n",
      "        -2.2889e-02, -2.2894e-02, -2.3657e-02, -2.3695e-02, -2.4071e-02,\n",
      "        -2.4279e-02, -2.4693e-02, -2.4797e-02, -2.4864e-02, -2.5200e-02,\n",
      "        -2.5371e-02, -2.5422e-02, -2.5593e-02, -2.5812e-02, -2.5991e-02,\n",
      "        -2.6000e-02, -2.6353e-02, -2.6435e-02, -2.6510e-02, -2.6569e-02,\n",
      "        -2.6585e-02, -2.6637e-02, -2.6752e-02, -2.6756e-02, -2.6817e-02,\n",
      "        -2.6819e-02, -2.6935e-02, -2.8662e-02, -2.8759e-02, -2.9102e-02,\n",
      "        -2.9624e-02, -2.9830e-02, -3.0403e-02, -3.1302e-02, -3.2374e-02,\n",
      "        -3.3916e-02, -3.4666e-02, -3.4772e-02, -3.6836e-02, -3.7912e-02,\n",
      "        -3.9665e-02, -3.9990e-02, -4.0885e-02, -4.1253e-02, -4.1349e-02,\n",
      "        -4.1401e-02, -4.1596e-02, -4.2878e-02, -4.3245e-02, -4.3449e-02,\n",
      "        -4.3815e-02, -4.3877e-02, -4.3890e-02, -4.5187e-02, -4.5516e-02,\n",
      "        -4.5562e-02, -4.6093e-02, -4.6257e-02, -4.6538e-02, -4.6753e-02,\n",
      "        -4.6930e-02, -4.7105e-02, -4.8125e-02, -4.8320e-02, -4.8412e-02,\n",
      "        -4.9354e-02, -4.9374e-02, -4.9467e-02, -4.9477e-02, -4.9520e-02,\n",
      "        -4.9840e-02, -4.9895e-02, -4.9974e-02, -5.0433e-02, -5.0534e-02,\n",
      "        -5.0973e-02, -5.1156e-02, -5.2542e-02, -5.2616e-02, -5.2834e-02,\n",
      "        -5.3787e-02, -5.3790e-02, -5.5011e-02, -5.5083e-02, -5.5467e-02,\n",
      "        -5.8828e-02, -6.0685e-02, -6.1206e-02, -6.2076e-02, -6.2342e-02,\n",
      "        -6.2364e-02, -6.2475e-02, -6.3495e-02, -6.3984e-02, -6.4502e-02,\n",
      "        -6.4509e-02, -6.4900e-02, -6.5514e-02, -6.6331e-02, -6.7305e-02,\n",
      "        -6.7462e-02, -6.8132e-02, -6.8201e-02, -6.8472e-02, -6.9605e-02,\n",
      "        -7.0378e-02, -7.0416e-02, -7.1303e-02, -7.1400e-02, -7.1494e-02,\n",
      "        -7.1700e-02, -7.2053e-02, -7.2069e-02, -7.3370e-02, -7.3521e-02,\n",
      "        -7.4464e-02, -7.4553e-02, -7.4677e-02, -7.4792e-02, -7.5754e-02,\n",
      "        -7.7329e-02, -7.7461e-02, -7.8854e-02, -8.0371e-02, -8.0943e-02,\n",
      "        -8.1092e-02, -8.1154e-02, -8.1390e-02, -8.1838e-02, -8.2065e-02,\n",
      "        -8.2240e-02, -8.3150e-02, -8.3512e-02, -8.5153e-02, -8.5579e-02,\n",
      "        -8.6104e-02, -8.6383e-02, -8.6520e-02, -8.6686e-02, -8.7221e-02,\n",
      "        -8.7930e-02, -9.0313e-02, -9.1181e-02, -9.1214e-02, -9.4423e-02])\n",
      "tensor([ 55, 453, 415, 390, 979, 569,  83, 467, 330, 646, 465, 209, 121, 889,\n",
      "        469,  98, 335, 117, 101, 116, 471, 123, 239, 329, 322, 376, 668,  84,\n",
      "         82,  89, 583, 235, 125, 115, 355,  97, 404, 251, 120, 473, 983, 963,\n",
      "         94, 970,  95, 947, 383, 995, 785, 625, 113, 254, 969, 160, 890, 574,\n",
      "        986,  99, 136, 769, 609, 165, 562, 339, 529, 382, 337, 591, 106, 386,\n",
      "        488, 540, 191, 809, 192, 571, 521, 793, 233, 385, 743, 387, 108, 681,\n",
      "        840, 654, 351, 256, 413, 253, 338, 391, 438, 659, 933, 662, 728,  12,\n",
      "        680, 194, 356, 210, 342, 844, 226, 373, 564, 379, 932, 534, 573, 333,\n",
      "         96, 834, 204, 128, 635, 655, 264, 252,  78, 359, 384, 857, 461, 974,\n",
      "        294, 374, 902, 211, 739, 195, 842, 972, 439, 140, 517, 480, 923,  70,\n",
      "        822, 966, 603,  79,  47, 900, 775, 807, 193, 705,  58,  86, 806,  75,\n",
      "        452, 178, 196, 684, 921, 792, 348, 630, 176, 397, 299, 485, 365, 237,\n",
      "        455, 475, 203, 813, 499, 484, 230, 718, 353, 263, 341,  26, 472, 762,\n",
      "        122, 112, 420, 327, 733, 470, 686, 508, 357, 622, 509, 913, 985, 975,\n",
      "        797, 406, 497, 300,  49, 313, 431, 187, 247, 858, 197, 566, 756,  13,\n",
      "        427, 880, 808, 513, 799, 232,  16, 545, 919, 804, 637, 142, 774, 893,\n",
      "        563, 268, 466, 687, 907, 417, 757, 827, 682, 269, 213, 180, 393, 619,\n",
      "        735, 870, 824, 927,  24, 224, 981, 862, 547, 343, 280, 364, 759,  36,\n",
      "        951, 153, 596, 676, 790, 317, 789, 791, 666, 375, 803, 602, 500,  69,\n",
      "        651, 556, 648, 869,  74, 620, 177, 240, 445, 725, 274, 546, 392, 716,\n",
      "        184, 414, 696, 262, 208, 672, 853, 766, 319, 722, 708, 578, 370, 321,\n",
      "        782, 297, 539, 598, 368, 731, 199, 711, 512, 914, 961, 527, 419, 150,\n",
      "        964, 236, 281, 922, 617, 577, 831, 361, 977, 223, 653, 381,  42, 167,\n",
      "        839, 311, 747, 787, 206, 395, 935, 723, 709, 428, 535, 856, 171, 613,\n",
      "        257, 836, 628, 849, 612, 818, 899, 909, 266, 525,   6, 768, 706, 720,\n",
      "        200, 660, 398, 423, 604, 478,  77, 629, 241, 287, 483, 811, 229, 216,\n",
      "        636, 255, 929, 258,  54, 868, 105, 504, 288, 436, 593, 581, 587, 717,\n",
      "        543, 468, 738, 291, 595, 380, 778, 538,  38, 592, 584, 244, 248, 212,\n",
      "        560, 854, 700, 459,  81, 770, 746, 554, 594, 162,  44, 640,  19, 363,\n",
      "        362, 492, 886,  73, 290, 174, 552, 897, 926, 259, 798, 292, 433, 503,\n",
      "        810, 442, 134, 881, 685, 771,  29,   2, 298, 861,  40, 464, 644, 418,\n",
      "         72, 882, 878, 638, 904, 582, 336, 730, 170, 980,   8, 695, 750, 555,\n",
      "        835, 451, 405, 496, 794, 279, 416, 580, 318,  18, 589, 877, 441, 796,\n",
      "        412, 761, 446, 164, 133,   9, 616, 166, 855, 141, 537, 688, 721, 823,\n",
      "        987, 447, 764, 544, 828,  57, 435, 777, 754, 954,  51, 732, 145, 643,\n",
      "        767, 658, 462, 873, 553, 260, 275, 161, 713, 312, 916, 779, 859, 429,\n",
      "        350, 168, 173, 243, 131, 678, 940, 665, 460, 220,  43, 422, 186, 175,\n",
      "        860, 188, 846, 302, 726, 691, 190, 948, 590, 314, 344, 649, 231, 871,\n",
      "        946, 129,  68, 781,  90, 118, 493, 303, 950, 139, 845, 802, 830, 189,\n",
      "        481, 486, 457, 371, 675, 674, 482, 939, 724, 219, 182, 865, 474, 652,\n",
      "        751, 511, 607, 561, 306, 585, 450, 657, 201, 227,  80, 476, 506,  60,\n",
      "        285, 669, 272, 346,  10,  87, 109, 884,  41, 955, 522, 324, 518, 838,\n",
      "        883, 408, 557, 163, 443, 494,  59, 863, 127, 238, 786, 960, 282, 945,\n",
      "        817, 316,  76, 650, 394, 388, 976, 155, 198, 917, 783, 575, 283, 495,\n",
      "         14, 172, 242, 891, 760, 541, 694, 526, 531, 645, 847, 814, 328, 586,\n",
      "        409, 918, 892, 234, 372, 734, 550, 931,  27, 411, 315, 714, 639, 829,\n",
      "        305, 369, 715, 528, 437, 982, 843,  71,  22, 434, 901, 697, 833,  64,\n",
      "        821, 440,   5, 816, 110, 267, 222, 270, 111, 396, 114, 221, 217,  33,\n",
      "        565, 225, 631, 214, 558, 144, 641,  28, 614, 610, 245, 366, 246,  63,\n",
      "        403, 104,  53, 107, 601, 600, 389, 358, 250, 261, 295,  11,  45, 152,\n",
      "        501, 498, 132, 490, 489, 135, 479, 278, 458, 502, 151, 410, 449, 749,\n",
      "        289, 444, 421, 426, 424, 523, 158, 400, 542, 401, 402, 124, 532, 744,\n",
      "         85, 119, 520, 519, 516, 515, 514, 510, 507, 505, 879, 928,   1, 925,\n",
      "        994, 851, 924, 864, 872, 993, 920, 887, 912, 895, 911, 908, 710, 906,\n",
      "        820, 801, 968, 805, 965, 959, 988, 957, 819, 903, 992, 825, 826, 727,\n",
      "        832, 941, 930, 663,   3, 332, 776, 772, 765, 202, 103, 664,   0, 334,\n",
      "        656, 647, 642, 740, 752, 325, 345, 183, 905,  91, 704,  92,  93, 702,\n",
      "        331, 800,  88, 692, 795, 690, 689, 971, 780, 634,  20, 477, 432,  66,\n",
      "        699, 719, 179, 524, 956,  46, 670, 102, 850, 536, 568, 377, 399, 812,\n",
      "        633, 599,  50, 615,  48, 677,   7, 378, 701, 205,  17, 207, 548,  65,\n",
      "        126, 326, 301, 748, 915,  62, 618, 661, 430, 138, 181, 456, 137, 159,\n",
      "        875, 157, 936, 307,  31, 549, 146, 627, 621, 967, 149,  61, 958, 894,\n",
      "        989, 671, 949, 156, 848, 147, 837, 885, 815, 296, 973, 736,  67, 606,\n",
      "        284, 340, 265,  25, 896, 407, 597, 934,  21, 991, 698,  30,  39, 367,\n",
      "        218, 990, 852, 154, 667, 841, 626, 605, 448, 360, 100, 148, 588,  35,\n",
      "        944, 773, 530, 576,  56, 952,   4, 271, 310, 866, 937, 215, 943, 707,\n",
      "        997, 533, 623, 867, 753, 712, 293, 632,  37, 673, 349, 876, 169,  34,\n",
      "        320, 898, 551, 487, 579, 425, 276, 277, 463, 999, 741, 130, 572, 286,\n",
      "        567, 559, 679, 996, 570, 347, 323,  15, 352, 304, 910, 624, 608, 938,\n",
      "        309, 888, 758,  52, 998, 763, 737, 745, 784, 729, 491, 611, 683, 942,\n",
      "        228, 962, 874, 308, 273,  23, 788, 984, 143, 185, 693, 953, 703, 755,\n",
      "        249, 454, 742, 978, 354,  32])\n"
     ]
    }
   ],
   "source": [
    "print(discovery_genes)\n",
    "print(genes_score)"
   ]
  },
  {
   "cell_type": "code",
   "execution_count": 23,
   "metadata": {},
   "outputs": [
    {
     "name": "stdout",
     "output_type": "stream",
     "text": [
      "tensor([9.9468e-01, 9.9415e-01, 9.8972e-01, 9.8425e-01, 9.8178e-01, 9.7690e-01,\n",
      "        9.7528e-01, 9.6495e-01, 8.9986e-01, 8.5561e-01, 8.5524e-01, 8.1224e-01,\n",
      "        8.0238e-01, 7.6497e-01, 7.5678e-01, 7.4901e-01, 7.4545e-01, 7.1333e-01,\n",
      "        7.0268e-01, 6.5688e-01, 6.3243e-01, 6.2871e-01, 6.0604e-01, 5.8309e-01,\n",
      "        5.7790e-01, 5.5238e-01, 5.5037e-01, 5.4703e-01, 5.4623e-01, 5.3879e-01,\n",
      "        5.2434e-01, 4.9458e-01, 4.8245e-01, 4.6475e-01, 4.6025e-01, 4.5156e-01,\n",
      "        4.2318e-01, 4.1192e-01, 4.0433e-01, 3.8364e-01, 3.7122e-01, 3.5972e-01,\n",
      "        3.2069e-01, 3.1523e-01, 3.0819e-01, 3.0811e-01, 2.9638e-01, 2.9254e-01,\n",
      "        2.8736e-01, 2.7068e-01, 2.6542e-01, 2.5529e-01, 2.4574e-01, 2.3830e-01,\n",
      "        2.2879e-01, 2.2634e-01, 2.2069e-01, 2.1886e-01, 2.0419e-01, 1.9891e-01,\n",
      "        1.9831e-01, 1.7488e-01, 1.7466e-01, 1.7044e-01, 1.5053e-01, 1.4972e-01,\n",
      "        1.2588e-01, 1.2437e-01, 1.2411e-01, 1.2340e-01, 1.2164e-01, 1.1945e-01,\n",
      "        1.1213e-01, 1.0963e-01, 1.0000e-01, 9.6203e-02, 9.6067e-02, 9.4166e-02,\n",
      "        9.2041e-02, 8.5915e-02, 8.5417e-02, 8.4767e-02, 8.1693e-02, 8.1096e-02,\n",
      "        8.0359e-02, 7.8791e-02, 6.7386e-02, 6.0978e-02, 6.0718e-02, 6.0313e-02,\n",
      "        5.6840e-02, 5.5435e-02, 5.4993e-02, 5.3605e-02, 5.0000e-02, 4.9991e-02,\n",
      "        4.9410e-02, 4.9234e-02, 4.8114e-02, 4.4424e-02, 4.2896e-02, 4.1850e-02,\n",
      "        3.6938e-02, 3.6195e-02, 3.4610e-02, 3.2981e-02, 3.2020e-02, 3.0335e-02,\n",
      "        2.9805e-02, 2.9190e-02, 2.8734e-02, 2.8561e-02, 2.8557e-02, 2.7312e-02,\n",
      "        2.6669e-02, 2.6413e-02, 2.5610e-02, 2.4301e-02, 2.4037e-02, 2.3649e-02,\n",
      "        2.2091e-02, 2.2064e-02, 2.1913e-02, 2.1759e-02, 2.1716e-02, 2.0890e-02,\n",
      "        1.8680e-02, 1.8011e-02, 1.6959e-02, 1.3876e-02, 1.3428e-02, 1.3033e-02,\n",
      "        1.2532e-02, 1.2441e-02, 1.1334e-02, 1.1318e-02, 9.1959e-03, 9.0978e-03,\n",
      "        8.1078e-03, 8.0317e-03, 5.2817e-03, 5.0355e-03, 4.8723e-03, 4.5308e-03,\n",
      "        4.5163e-03, 4.2699e-03, 4.2267e-03, 4.2132e-03, 3.5010e-03, 1.4683e-03,\n",
      "        5.3699e-04, 0.0000e+00, 0.0000e+00, 0.0000e+00, 0.0000e+00, 0.0000e+00,\n",
      "        0.0000e+00, 0.0000e+00, 0.0000e+00, 0.0000e+00, 0.0000e+00, 0.0000e+00,\n",
      "        0.0000e+00, 0.0000e+00, 0.0000e+00, 0.0000e+00, 0.0000e+00, 0.0000e+00,\n",
      "        0.0000e+00, 0.0000e+00, 0.0000e+00, 0.0000e+00, 0.0000e+00, 0.0000e+00,\n",
      "        0.0000e+00, 0.0000e+00, 0.0000e+00, 0.0000e+00, 0.0000e+00, 0.0000e+00,\n",
      "        0.0000e+00, 0.0000e+00, 0.0000e+00, 0.0000e+00, 0.0000e+00, 0.0000e+00,\n",
      "        0.0000e+00, 0.0000e+00, 0.0000e+00, 0.0000e+00, 0.0000e+00, 0.0000e+00,\n",
      "        0.0000e+00, 0.0000e+00, 0.0000e+00, 0.0000e+00, 0.0000e+00, 0.0000e+00,\n",
      "        0.0000e+00, 0.0000e+00, 0.0000e+00, 0.0000e+00, 0.0000e+00, 0.0000e+00,\n",
      "        0.0000e+00, 0.0000e+00, 0.0000e+00, 0.0000e+00, 0.0000e+00, 0.0000e+00,\n",
      "        0.0000e+00, 0.0000e+00, 0.0000e+00, 0.0000e+00, 0.0000e+00, 0.0000e+00,\n",
      "        0.0000e+00, 0.0000e+00, 0.0000e+00, 0.0000e+00, 0.0000e+00, 0.0000e+00,\n",
      "        0.0000e+00, 0.0000e+00, 0.0000e+00, 0.0000e+00, 0.0000e+00, 0.0000e+00,\n",
      "        0.0000e+00, 0.0000e+00, 0.0000e+00, 0.0000e+00, 0.0000e+00, 0.0000e+00,\n",
      "        0.0000e+00, 0.0000e+00, 0.0000e+00, 0.0000e+00, 0.0000e+00, 0.0000e+00,\n",
      "        0.0000e+00, 0.0000e+00, 0.0000e+00, 0.0000e+00, 0.0000e+00, 0.0000e+00,\n",
      "        0.0000e+00, 0.0000e+00, 0.0000e+00, 0.0000e+00])\n",
      "tensor([ 55, 453, 390, 415, 330, 569,  83, 979, 889, 469, 467, 209, 117, 101,\n",
      "        116, 646, 376, 123, 465,  98, 471, 239, 668, 121, 335,  89,  82, 583,\n",
      "        322, 329,  84, 473, 125, 115, 235,  99,  97, 404,  95, 120, 355, 969,\n",
      "        963, 251, 785, 160, 113, 254, 907,  94, 321,  86, 333, 521, 803, 112,\n",
      "        133, 356, 470, 564, 640, 297, 126, 108,  96, 472, 508, 336, 118, 649,\n",
      "        573,  38, 712, 517, 934, 639, 917,  87, 109, 953, 105,  90, 531, 802,\n",
      "        129, 699, 128, 693,  30, 876, 273, 328, 448, 670, 137, 155, 522, 518,\n",
      "        883, 102, 748, 127, 454,  22, 962, 661, 624,  15, 349, 632,  61, 621,\n",
      "        938, 143, 742,  23, 249, 875, 763,  12, 529, 863, 354, 310, 984, 293,\n",
      "        626, 755, 937, 367, 985, 588, 215, 324, 308, 786, 327, 996,  17, 960,\n",
      "        737, 487, 788, 277, 952, 303, 478, 302, 611, 456, 572, 558, 740, 600,\n",
      "        641, 757, 565, 715, 519, 633, 642, 744, 610, 727, 614, 752, 749, 586,\n",
      "        584, 601, 631, 619, 719, 426, 267, 515, 479, 795, 800, 801, 805, 458,\n",
      "        449, 812, 444, 437, 819, 765, 424, 421, 820, 825, 826, 410, 409, 794,\n",
      "        542, 545, 550, 772, 331, 850, 851, 372, 371, 369, 366, 864, 358, 872,\n",
      "        345, 334, 332, 847, 325, 879, 887, 295, 289, 283, 278, 270, 269, 895,\n",
      "          1, 687, 647, 710, 656, 704, 702, 701, 663, 664, 692, 690, 689, 714,\n",
      "        776, 403, 402, 401, 400, 399, 832, 396, 833, 389, 843, 516])\n"
     ]
    }
   ],
   "source": [
    "rank2 = dense_graph.extra_label[perm1.cpu()][perm2.cpu()].view(20 , 250)\n",
    "score2 = score2.cpu().view(20 , 250)\n",
    "\n",
    "genes2 = torch.zeros(20 , 1000)\n",
    "for i in range(20):\n",
    "    genes2[i , rank2[i]] = score2[i]\n",
    "    \n",
    "discovery_genes , genes_score = genes2.mean(dim=0).topk(250)\n",
    "print(discovery_genes)\n",
    "print(genes_score)"
   ]
  },
  {
   "cell_type": "code",
   "execution_count": null,
   "metadata": {},
   "outputs": [],
   "source": []
  }
 ],
 "metadata": {
  "kernelspec": {
   "display_name": "gnn",
   "language": "python",
   "name": "python3"
  },
  "language_info": {
   "codemirror_mode": {
    "name": "ipython",
    "version": 3
   },
   "file_extension": ".py",
   "mimetype": "text/x-python",
   "name": "python",
   "nbconvert_exporter": "python",
   "pygments_lexer": "ipython3",
   "version": "3.9.18"
  }
 },
 "nbformat": 4,
 "nbformat_minor": 2
}
