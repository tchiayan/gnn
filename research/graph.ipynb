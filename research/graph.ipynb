{
 "cells": [
  {
   "cell_type": "code",
   "execution_count": 16,
   "metadata": {},
   "outputs": [],
   "source": [
    "import torch \n",
    "import json\n",
    "\n",
    "edges = torch.load('../artifacts/biomarkers/graph_edges.pt')\n",
    "gene_names = json.load(open('../artifacts/biomarkers/gene.json'))\n",
    "top_10 = json.load(open('../artifacts/biomarkers/top_genes.json'))"
   ]
  },
  {
   "cell_type": "code",
   "execution_count": 17,
   "metadata": {},
   "outputs": [
    {
     "data": {
      "text/plain": [
       "['444', '248', '122', '101', '337', '121', '35', '4', '131', '286']"
      ]
     },
     "execution_count": 17,
     "metadata": {},
     "output_type": "execute_result"
    }
   ],
   "source": [
    "top_10"
   ]
  },
  {
   "cell_type": "code",
   "execution_count": 18,
   "metadata": {},
   "outputs": [],
   "source": [
    "# print(edges[1464][[674 , 1468 , 1310 , 1340 , 260 , 931 , 1442 , 111, 1457]])\n",
    "# print(edges[[674 , 1468 , 1310 , 1340 , 260 , 931 , 1442 , 111, 1457]][:,1464])"
   ]
  },
  {
   "cell_type": "code",
   "execution_count": 19,
   "metadata": {},
   "outputs": [
    {
     "name": "stdout",
     "output_type": "stream",
     "text": [
      "786\n"
     ]
    }
   ],
   "source": [
    "symmetric = (edges + edges.T) / 2 \n",
    "symmetric = symmetric*(1 - torch.eye(symmetric.shape[0]))  # remove self edges\n",
    "# print(symmetric[1464][[674 , 1468 , 1310 , 1340 , 260 , 931 , 1442 , 111, 1457]])\n",
    "\n",
    "# mask value below 0.004 to 0 \n",
    "# filter = 0.0045\n",
    "# mask = (symmetric < filter).float()\n",
    "# selected_symmetric = symmetric * (1 - mask)\n",
    "# selected_symmetric.sum(dim=-1)\n",
    "\n",
    "# count_nonzero = torch.count_nonzero(selected_symmetric , dim=-1).sum()\n",
    "# print(count_nonzero)\n",
    "\n",
    "# select top 200 genes \n",
    "top200 = symmetric.sum(dim=-1).topk(200).indices\n",
    "graphs = []\n",
    "edge_count = 0\n",
    "for i in top200:\n",
    "    node = {\"name\": \"omic.\"+gene_names[i] , \"score\": symmetric[i].sum().item() , \"top_10\": str(i.item()) in top_10 , \"imports\": []}\n",
    "    \n",
    "    if str(i.item()) not in top_10:\n",
    "        graphs.append(node)\n",
    "        continue\n",
    "        \n",
    "    for j in range(0 , symmetric[i].shape[0]):\n",
    "        #print(top200.tolist())\n",
    "        if j in top200.tolist(): \n",
    "            if symmetric[i][j] > 0: #0.015:\n",
    "                #if str(j) in top_10:\n",
    "                node[\"imports\"].append(\"omic.\"+gene_names[j])\n",
    "                edge_count += 1\n",
    "                \n",
    "    graphs.append(node)\n",
    "    \n",
    "print(edge_count)\n",
    "\n",
    "with open('./graph.json', 'w') as f:\n",
    "    json.dump(graphs, f , indent=1)"
   ]
  },
  {
   "cell_type": "code",
   "execution_count": 247,
   "metadata": {},
   "outputs": [],
   "source": [
    "values = []\n",
    "for i in range(0, symmetric.shape[1]):\n",
    "    if str(i) not in top_10:\n",
    "        values.append(symmetric[1464][i].item())"
   ]
  },
  {
   "cell_type": "code",
   "execution_count": 135,
   "metadata": {},
   "outputs": [],
   "source": [
    "# set the edges self to zero \n",
    "identity = torch.eye(edges.size(0)) \n",
    "# set the diagonal to zero\n",
    "edges_removed = edges * (1 - identity)"
   ]
  },
  {
   "cell_type": "code",
   "execution_count": 151,
   "metadata": {},
   "outputs": [
    {
     "data": {
      "text/plain": [
       "Text(0, 0.5, 'Frequency')"
      ]
     },
     "execution_count": 151,
     "metadata": {},
     "output_type": "execute_result"
    },
    {
     "data": {
      "image/png": "[encoded data removed]",
      "text/plain": [
       "<Figure size 640x480 with 1 Axes>"
      ]
     },
     "metadata": {},
     "output_type": "display_data"
    }
   ],
   "source": [
    "import matplotlib.pyplot as plt\n",
    "\n",
    "# set the edges self to zero \n",
    "identity = torch.eye(edges.size(0)) \n",
    "# set the diagonal to zero\n",
    "edges_removed = edges * (1 - identity)\n",
    "\n",
    "plt.hist((edges.sum(dim=-1)).numpy() , bins=100, range=(0.1, 80) , cumulative=-1)\n",
    "plt.yscale('log')\n",
    "plt.xlabel('Edge weight')\n",
    "plt.ylabel('Frequency')"
   ]
  },
  {
   "cell_type": "code",
   "execution_count": 147,
   "metadata": {},
   "outputs": [
    {
     "data": {
      "text/plain": [
       "Text(0, 0.5, 'Frequency')"
      ]
     },
     "execution_count": 147,
     "metadata": {},
     "output_type": "execute_result"
    },
    {
     "data": {
      "image/png": "[encoded data removed]",
      "text/plain": [
       "<Figure size 640x480 with 1 Axes>"
      ]
     },
     "metadata": {},
     "output_type": "display_data"
    }
   ],
   "source": [
    "plt.hist(edges.view(-1).numpy() , bins=100, range=(0.01 , 0.3) , cumulative=-1)\n",
    "plt.yscale('log')\n",
    "plt.xlabel('Edge weight')\n",
    "plt.ylabel('Frequency')"
   ]
  },
  {
   "cell_type": "code",
   "execution_count": 137,
   "metadata": {},
   "outputs": [],
   "source": [
    "# top_10 = [str(x) for x in (edges_removed.sum(dim=-1)*torch.count_nonzero(edges_removed , dim=-1)).topk(10).indices.numpy() ]\n",
    "# print(top_10)"
   ]
  },
  {
   "cell_type": "code",
   "execution_count": 138,
   "metadata": {},
   "outputs": [
    {
     "name": "stdout",
     "output_type": "stream",
     "text": [
      "mir122\n",
      "KDR\n",
      "mir126\n",
      "TSPAN5\n",
      "VEGFA\n",
      "CDH5\n",
      "PCDH12\n",
      "LOC553137\n",
      "AVPR1A\n",
      "UBE2N\n"
     ]
    }
   ],
   "source": [
    "for x in top_10:\n",
    "    print(gene_names[int(x)])"
   ]
  },
  {
   "cell_type": "code",
   "execution_count": 166,
   "metadata": {},
   "outputs": [
    {
     "data": {
      "text/plain": [
       "['1464', '674', '1468', '1310', '1340', '260', '931', '1422', '111', '1457']"
      ]
     },
     "execution_count": 166,
     "metadata": {},
     "output_type": "execute_result"
    }
   ],
   "source": [
    "top_10"
   ]
  },
  {
   "cell_type": "code",
   "execution_count": 234,
   "metadata": {},
   "outputs": [
    {
     "name": "stdout",
     "output_type": "stream",
     "text": [
      "190\n",
      "tensor(2588)\n",
      "[{'name': 'omic.AGTRAP', 'size': 0.19884377717971802, 'top_10': False, 'imports': ['omic.BDKRB1', 'omic.ENPP3', 'omic.FAM184B', 'omic.FLJ37543', 'omic.GAK', 'omic.GAS6', 'omic.HS6ST3', 'omic.INSIG1', 'omic.LOC100131551', 'omic.LRP11', 'omic.MECP2', 'omic.MPPED2', 'omic.NPHP1', 'omic.NTN1', 'omic.PART1', 'omic.SEMA5B', 'omic.SNTB1', 'omic.ST3GAL1', 'omic.WNK3', 'omic.CLDN8', 'omic.LOC404266', 'omic.MIR759', 'omic.PA2G4P4']}, {'name': 'omic.ALDH3B1', 'size': 0.009465357288718224, 'top_10': False, 'imports': ['omic.FAM184B']}, {'name': 'omic.APH1B', 'size': 0.4492564797401428, 'top_10': False, 'imports': ['omic.ATG4D', 'omic.BCL2L2', 'omic.BDKRB1', 'omic.C16orf89', 'omic.CCDC103', 'omic.CNKSR3', 'omic.CPEB4', 'omic.EIF4E', 'omic.ENPP3', 'omic.EXPH5', 'omic.FBXO33', 'omic.FLJ42875', 'omic.GAK', 'omic.GAS6', 'omic.IFT172', 'omic.KIT', 'omic.LASP1', 'omic.LNX1', 'omic.LOC100131551', 'omic.LRP11', 'omic.LRRC14B', 'omic.MECP2', 'omic.MTSS1', 'omic.NKIRAS2', 'omic.NPHP1', 'omic.NRBP1', 'omic.NTN1', 'omic.NUP85', 'omic.PART1', 'omic.SEMA5B', 'omic.SPATS2L', 'omic.TCTN2', 'omic.TP53INP2', 'omic.UBL3', 'omic.WNK3', 'omic.ARL4D', 'omic.B3GNT8', 'omic.CHAD', 'omic.CLDN8', 'omic.DEF6', 'omic.EMX2OS', 'omic.HOXB5', 'omic.HOXD8', 'omic.HOXD9', 'omic.LHX1', 'omic.LOC157627', 'omic.LOC404266', 'omic.ODAM', 'omic.SLC16A5', 'omic.mir122']}, {'name': 'omic.ATG4A', 'size': 0.025938034057617188, 'top_10': False, 'imports': ['omic.FAM184B', 'omic.PART1', 'omic.SNORA43']}, {'name': 'omic.ATG4D', 'size': 0.20457050204277039, 'top_10': False, 'imports': ['omic.APH1B', 'omic.B4GALT5', 'omic.CCDC102A', 'omic.CMTM7', 'omic.FAM184B', 'omic.GAS6', 'omic.LOC100131551', 'omic.LRP11', 'omic.MPPED2', 'omic.PAPLN', 'omic.PLEKHA4', 'omic.SEMA5B', 'omic.SNTB1', 'omic.SPEF1', 'omic.ST3GAL1', 'omic.WNK3', 'omic.CLDN8', 'omic.SNORA43', 'omic.SNORD22', 'omic.SNORD29', 'omic.SNORD31', 'omic.SNORD79', 'omic.mir2191']}, {'name': 'omic.ATP6V0A1', 'size': 0.03924460709095001, 'top_10': False, 'imports': ['omic.FAM184B', 'omic.TMPRSS7']}, {'name': 'omic.AVPR1A', 'size': 0.03775778412818909, 'top_10': True, 'imports': ['omic.FAM184B', 'omic.TMPRSS7']}, {'name': 'omic.B4GALT5', 'size': 0.17117038369178772, 'top_10': False, 'imports': ['omic.ATG4D', 'omic.C16orf89', 'omic.ENPP3', 'omic.EXPH5', 'omic.GAK', 'omic.GAS6', 'omic.GPRC5B', 'omic.KIT', 'omic.LOC100131551', 'omic.MECP2', 'omic.MTSS1', 'omic.NPHP1', 'omic.NTN1', 'omic.PART1', 'omic.PLEKHA4', 'omic.SEMA5B', 'omic.CLDN8', 'omic.LOC157627', 'omic.LOC404266', 'omic.mir122']}, {'name': 'omic.BCL2L2', 'size': 0.09515301883220673, 'top_10': False, 'imports': ['omic.APH1B', 'omic.CCDC102A', 'omic.CMTM7', 'omic.FAM184B', 'omic.PAPLN', 'omic.PART1', 'omic.SPEF1', 'omic.SNORA43', 'omic.SNORD29', 'omic.mir2191']}, {'name': 'omic.BDKRB1', 'size': 0.20798251032829285, 'top_10': False, 'imports': ['omic.AGTRAP', 'omic.APH1B', 'omic.ENPP3', 'omic.FAM184B', 'omic.FLJ37543', 'omic.GAK', 'omic.GAS6', 'omic.GPRC5B', 'omic.INSIG1', 'omic.LOC100131551', 'omic.LRP11', 'omic.MPPED2', 'omic.NTN1', 'omic.NUP85', 'omic.PART1', 'omic.PLEKHA4', 'omic.RAP2C', 'omic.SEMA5B', 'omic.SNTB1', 'omic.ST3GAL1', 'omic.WNK3', 'omic.CLDN8', 'omic.LHX1', 'omic.MIR759']}, {'name': 'omic.C16orf89', 'size': 0.18910950422286987, 'top_10': False, 'imports': ['omic.APH1B', 'omic.B4GALT5', 'omic.CCDC102A', 'omic.CMTM7', 'omic.ENPP3', 'omic.FAM184B', 'omic.GAS6', 'omic.LOC100131551', 'omic.LRP11', 'omic.MPPED2', 'omic.PLEKHA4', 'omic.SEMA5B', 'omic.SNTB1', 'omic.ST3GAL1', 'omic.WNK3', 'omic.CLDN8', 'omic.SNORA43', 'omic.SNORD22', 'omic.SNORD29', 'omic.SNORD31', 'omic.SNORD79', 'omic.mir2191']}, {'name': 'omic.C17orf62', 'size': 0.009355030953884125, 'top_10': False, 'imports': ['omic.FAM184B']}, {'name': 'omic.C1orf88', 'size': 0.05774390697479248, 'top_10': False, 'imports': ['omic.CCDC102A', 'omic.FAM184B', 'omic.PAPLN', 'omic.PART1', 'omic.SPEF1', 'omic.SNORA43']}, {'name': 'omic.C3orf70', 'size': 0.14299768209457397, 'top_10': False, 'imports': ['omic.ERG', 'omic.FAM184B', 'omic.TCF4', 'omic.TMPRSS7']}, {'name': 'omic.C6orf174', 'size': 0.010601774789392948, 'top_10': False, 'imports': ['omic.PAPLN']}, {'name': 'omic.C9orf167', 'size': 0.10156892240047455, 'top_10': False, 'imports': ['omic.ENPP3', 'omic.GAS6', 'omic.LOC100131551', 'omic.LRP11', 'omic.NUP85', 'omic.PART1', 'omic.PLEKHA4', 'omic.SEMA5B', 'omic.WNK3', 'omic.CLDN8', 'omic.MIR759', 'omic.mir2191']}, {'name': 'omic.CA12', 'size': 0.009450869634747505, 'top_10': False, 'imports': ['omic.FAM184B']}, {'name': 'omic.CCDC102A', 'size': 0.42064961791038513, 'top_10': False, 'imports': ['omic.ATG4D', 'omic.BCL2L2', 'omic.C16orf89', 'omic.C1orf88', 'omic.CCDC103', 'omic.CNKSR3', 'omic.CPEB4', 'omic.EIF4E', 'omic.ENPP3', 'omic.EXPH5', 'omic.FLJ42875', 'omic.GAK', 'omic.GAS6', 'omic.IFT172', 'omic.KIT', 'omic.LASP1', 'omic.LNX1', 'omic.LOC100131551', 'omic.LRRC14B', 'omic.MECP2', 'omic.MTSS1', 'omic.NPHP1', 'omic.NRBP1', 'omic.NTN1', 'omic.PART1', 'omic.PLD2', 'omic.PLEKHA4', 'omic.SATB2', 'omic.SEMA5B', 'omic.SPATS2L', 'omic.TCTN2', 'omic.TP53INP2', 'omic.UBL3', 'omic.ADH1C', 'omic.ARL4D', 'omic.B3GNT8', 'omic.CLDN8', 'omic.EMX2OS', 'omic.HOXB5', 'omic.HOXD8', 'omic.HOXD9', 'omic.LOC157627', 'omic.LOC404266', 'omic.ODAM', 'omic.SLC16A5', 'omic.mir122', 'omic.mir21']}, {'name': 'omic.CCDC103', 'size': 0.1618589609861374, 'top_10': False, 'imports': ['omic.APH1B', 'omic.CCDC102A', 'omic.CMTM7', 'omic.FAM184B', 'omic.GAS6', 'omic.LOC100131551', 'omic.LRP11', 'omic.MPPED2', 'omic.PAPLN', 'omic.PART1', 'omic.PLEKHA4', 'omic.SEMA5B', 'omic.SPEF1', 'omic.CLDN8', 'omic.SNORA43', 'omic.SNORD22', 'omic.SNORD29', 'omic.mir2191']}, {'name': 'omic.CCNG2', 'size': 0.009508443996310234, 'top_10': False, 'imports': ['omic.FAM184B']}, {'name': 'omic.CD34', 'size': 0.9471025466918945, 'top_10': False, 'imports': ['omic.CDH5', 'omic.CLEC14A', 'omic.CXorf36', 'omic.ELTD1', 'omic.ERG', 'omic.FAM184B', 'omic.GPR4', 'omic.KDR', 'omic.LDB2', 'omic.MYCT1', 'omic.NOTCH4', 'omic.PCDH12', 'omic.ROBO4', 'omic.S1PR1', 'omic.TMPRSS7', 'omic.mir122']}, {'name': 'omic.CDH5', 'size': 0.4316293001174927, 'top_10': True, 'imports': ['omic.CD34', 'omic.CLEC14A', 'omic.ELTD1', 'omic.ERG', 'omic.FAM184B', 'omic.GPR4', 'omic.MYCT1', 'omic.ROBO4', 'omic.S1PR1', 'omic.TCF4', 'omic.TMPRSS7']}, {'name': 'omic.CLEC14A', 'size': 0.8810800313949585, 'top_10': False, 'imports': ['omic.CD34', 'omic.CDH5', 'omic.CXorf36', 'omic.ELTD1', 'omic.ERG', 'omic.GPR4', 'omic.KDR', 'omic.LDB2', 'omic.MYCT1', 'omic.NOTCH4', 'omic.NOVA2', 'omic.PCDH12', 'omic.PLVAP', 'omic.ROBO4', 'omic.S1PR1', 'omic.TCF4']}, {'name': 'omic.CMTM7', 'size': 0.31005382537841797, 'top_10': False, 'imports': ['omic.ATG4D', 'omic.BCL2L2', 'omic.C16orf89', 'omic.CCDC103', 'omic.CNKSR3', 'omic.ENPP3', 'omic.EXPH5', 'omic.FLJ42875', 'omic.GAK', 'omic.GAS6', 'omic.KIT', 'omic.LASP1', 'omic.LOC100131551', 'omic.LRRC14B', 'omic.MECP2', 'omic.MTSS1', 'omic.NPHP1', 'omic.NRBP1', 'omic.NTN1', 'omic.PART1', 'omic.PLD2', 'omic.PLEKHA4', 'omic.SEMA5B', 'omic.TCTN2', 'omic.UBL3', 'omic.ARL4D', 'omic.CLDN8', 'omic.EMX2OS', 'omic.HOXB5', 'omic.HOXD8', 'omic.HOXD9', 'omic.LOC157627', 'omic.LOC404266', 'omic.SLC16A5', 'omic.mir122']}, {'name': 'omic.CNKSR3', 'size': 0.09220054745674133, 'top_10': False, 'imports': ['omic.APH1B', 'omic.CCDC102A', 'omic.CMTM7', 'omic.FAM184B', 'omic.PAPLN', 'omic.PART1', 'omic.SPEF1', 'omic.SNORA43', 'omic.SNORD29', 'omic.mir2191']}, {'name': 'omic.CPEB4', 'size': 0.051883161067962646, 'top_10': False, 'imports': ['omic.APH1B', 'omic.CCDC102A', 'omic.FAM184B', 'omic.PART1', 'omic.SNORA43', 'omic.SNORD29']}, {'name': 'omic.CREB5', 'size': 0.01740994118154049, 'top_10': False, 'imports': ['omic.PART1', 'omic.SNORA43']}, {'name': 'omic.CXorf36', 'size': 0.3647833466529846, 'top_10': False, 'imports': ['omic.CD34', 'omic.CLEC14A', 'omic.ELTD1', 'omic.ERG', 'omic.GPR4', 'omic.MYCT1', 'omic.ROBO4', 'omic.S1PR1', 'omic.TMPRSS7']}, {'name': 'omic.CYBA', 'size': 0.0, 'top_10': False, 'imports': []}, {'name': 'omic.DAGLB', 'size': 0.008301977068185806, 'top_10': False, 'imports': ['omic.PART1']}, {'name': 'omic.DOK4', 'size': 0.031504373997449875, 'top_10': False, 'imports': ['omic.FAM184B', 'omic.PAPLN', 'omic.SPEF1']}, {'name': 'omic.EIF4E', 'size': 0.043539006263017654, 'top_10': False, 'imports': ['omic.APH1B', 'omic.CCDC102A', 'omic.FAM184B', 'omic.PART1', 'omic.SNORA43']}, {'name': 'omic.ELTD1', 'size': 0.818383514881134, 'top_10': False, 'imports': ['omic.CD34', 'omic.CDH5', 'omic.CLEC14A', 'omic.CXorf36', 'omic.ERG', 'omic.FAM184B', 'omic.GPR4', 'omic.KDR', 'omic.LDB2', 'omic.MYCT1', 'omic.PCDH12', 'omic.S1PR1', 'omic.mir122']}, {'name': 'omic.ENPP3', 'size': 0.44150492548942566, 'top_10': False, 'imports': ['omic.AGTRAP', 'omic.APH1B', 'omic.B4GALT5', 'omic.BDKRB1', 'omic.C16orf89', 'omic.C9orf167', 'omic.CCDC102A', 'omic.CMTM7', 'omic.EXPH5', 'omic.FLJ37543', 'omic.GAK', 'omic.GATA2', 'omic.GPRC5B', 'omic.HS6ST3', 'omic.INSIG1', 'omic.KCNQ1', 'omic.KIT', 'omic.KLHL15', 'omic.LRP11', 'omic.MECP2', 'omic.MPPED2', 'omic.MTSS1', 'omic.MYO5A', 'omic.NBL1', 'omic.NPHP1', 'omic.NTN1', 'omic.NUP85', 'omic.OXGR1', 'omic.PAPLN', 'omic.PLEKHA4', 'omic.RAP2C', 'omic.SNTB1', 'omic.SPEF1', 'omic.ST3GAL1', 'omic.UBL3', 'omic.WNK3', 'omic.CHAD', 'omic.LHX1', 'omic.LOC157627', 'omic.LOC404266', 'omic.MIR759', 'omic.PA2G4P4', 'omic.SNORA4', 'omic.SNORA43', 'omic.SNORD22', 'omic.SNORD29', 'omic.SNORD30', 'omic.SNORD31', 'omic.SNORD79', 'omic.mir2191']}, {'name': 'omic.ERG', 'size': 0.9791914820671082, 'top_10': False, 'imports': ['omic.C3orf70', 'omic.CD34', 'omic.CDH5', 'omic.CLEC14A', 'omic.CXorf36', 'omic.ELTD1', 'omic.GPR4', 'omic.KDR', 'omic.LDB2', 'omic.MYCT1', 'omic.PCDH12', 'omic.ROBO4', 'omic.S1PR1', 'omic.TCF4', 'omic.TMPRSS7', 'omic.mir122']}, {'name': 'omic.ETS1', 'size': 0.3971686065196991, 'top_10': False, 'imports': ['omic.S1PR1', 'omic.TCF4']}, {'name': 'omic.EXOC7', 'size': 0.009340817108750343, 'top_10': False, 'imports': ['omic.FAM184B']}, {'name': 'omic.EXPH5', 'size': 0.23308877646923065, 'top_10': False, 'imports': ['omic.APH1B', 'omic.B4GALT5', 'omic.CCDC102A', 'omic.CMTM7', 'omic.ENPP3', 'omic.FAM184B', 'omic.GAS6', 'omic.LOC100131551', 'omic.LRP11', 'omic.MPPED2', 'omic.NUP85', 'omic.PLEKHA4', 'omic.RAP2C', 'omic.SEMA5B', 'omic.SNTB1', 'omic.ST3GAL1', 'omic.WNK3', 'omic.CLDN8', 'omic.LHX1', 'omic.MIR759', 'omic.SNORA43', 'omic.SNORD22', 'omic.SNORD29', 'omic.SNORD30', 'omic.SNORD31', 'omic.SNORD79', 'omic.mir2191']}, {'name': 'omic.FAM13C', 'size': 0.038977861404418945, 'top_10': False, 'imports': ['omic.FAM184B', 'omic.TMPRSS7']}, {'name': 'omic.FAM174A', 'size': 0.008454389870166779, 'top_10': False, 'imports': ['omic.PART1']}, {'name': 'omic.FAM184B', 'size': 1.3668047189712524, 'top_10': False, 'imports': ['omic.AGTRAP', 'omic.ALDH3B1', 'omic.ATG4A', 'omic.ATG4D', 'omic.ATP6V0A1', 'omic.AVPR1A', 'omic.BCL2L2', 'omic.BDKRB1', 'omic.C16orf89', 'omic.C17orf62', 'omic.C1orf88', 'omic.C3orf70', 'omic.CA12', 'omic.CCDC103', 'omic.CCNG2', 'omic.CD34', 'omic.CDH5', 'omic.CNKSR3', 'omic.CPEB4', 'omic.DOK4', 'omic.EIF4E', 'omic.ELTD1', 'omic.EXOC7', 'omic.EXPH5', 'omic.FAM13C', 'omic.FBXO33', 'omic.FDXR', 'omic.FLJ37543', 'omic.FLJ42875', 'omic.FLJ90757', 'omic.GATA2', 'omic.GCOM1', 'omic.GPR4', 'omic.HNF1B', 'omic.HS6ST3', 'omic.HSD11B2', 'omic.IFT172', 'omic.INSIG1', 'omic.KDR', 'omic.KIAA1328', 'omic.KIT', 'omic.LASP1', 'omic.LDB2', 'omic.LIMCH1', 'omic.LNX1', 'omic.LOC151534', 'omic.LOC90246', 'omic.LRP11', 'omic.LRRC14B', 'omic.MECOM', 'omic.MECP2', 'omic.MPPED2', 'omic.MTSS1', 'omic.MTUS1', 'omic.MYCT1', 'omic.NEK11', 'omic.NEURL', 'omic.NKIRAS2', 'omic.NOTCH4', 'omic.NOVA2', 'omic.NPHP1', 'omic.NPTN', 'omic.NRBP1', 'omic.OCIAD2', 'omic.OXGR1', 'omic.PCDH12', 'omic.PCDH1', 'omic.PLCG2', 'omic.PRDM16', 'omic.PRKAG2', 'omic.RCAN2', 'omic.RGS12', 'omic.SATB2', 'omic.SNTB1', 'omic.SPATS2L', 'omic.SSH2', 'omic.ST3GAL1', 'omic.SYNGR2', 'omic.SYT7', 'omic.TCTN1', 'omic.TCTN2', 'omic.TMEM43', 'omic.TP53INP2', 'omic.TSPAN5', 'omic.UBE2QL1', 'omic.UBL3', 'omic.VEGFA', 'omic.WNK3', 'omic.ADH1C', 'omic.ARL4D', 'omic.ATP5G2', 'omic.B3GNT8', 'omic.CHKB-CPT1B', 'omic.CPT1B', 'omic.EMX2OS', 'omic.EPGN', 'omic.FLJ32063', 'omic.HOXB3', 'omic.HOXB5', 'omic.HOXD8', 'omic.HOXD9', 'omic.KIAA1737', 'omic.LOC157627', 'omic.LOC404266', 'omic.LOC553137', 'omic.MGP', 'omic.MIR759', 'omic.NPY', 'omic.ODAM', 'omic.PA2G4P4', 'omic.PLAC4', 'omic.RPL13AP17', 'omic.SLC16A5', 'omic.SOCS1', 'omic.TSC22D4', 'omic.UBE2N', 'omic.VMO1', 'omic.ZBTB10', 'omic.mir126']}, {'name': 'omic.FARP1', 'size': 0.020280085504055023, 'top_10': False, 'imports': ['omic.PAPLN', 'omic.PART1']}, {'name': 'omic.FBXO33', 'size': 0.07702390104532242, 'top_10': False, 'imports': ['omic.APH1B', 'omic.FAM184B', 'omic.GAS6', 'omic.LRP11', 'omic.MPPED2', 'omic.PART1', 'omic.PLEKHA4', 'omic.SEMA5B', 'omic.WNK3']}, {'name': 'omic.FDXR', 'size': 0.020200222730636597, 'top_10': False, 'imports': ['omic.FAM184B', 'omic.PAPLN']}, {'name': 'omic.FGFR4', 'size': 0.02002396620810032, 'top_10': False, 'imports': ['omic.PART1', 'omic.SPEF1']}, {'name': 'omic.FLJ37543', 'size': 0.17375679314136505, 'top_10': False, 'imports': ['omic.AGTRAP', 'omic.BDKRB1', 'omic.ENPP3', 'omic.FAM184B', 'omic.GAK', 'omic.GAS6', 'omic.INSIG1', 'omic.LOC100131551', 'omic.LRP11', 'omic.MECP2', 'omic.MPPED2', 'omic.NTN1', 'omic.PART1', 'omic.SEMA5B', 'omic.SNTB1', 'omic.ST3GAL1', 'omic.WNK3', 'omic.CLDN8', 'omic.LOC404266', 'omic.MIR759']}, {'name': 'omic.FLJ42875', 'size': 0.06976737827062607, 'top_10': False, 'imports': ['omic.APH1B', 'omic.CCDC102A', 'omic.CMTM7', 'omic.FAM184B', 'omic.PART1', 'omic.SNORA43', 'omic.SNORD29', 'omic.mir2191']}, {'name': 'omic.FLJ90757', 'size': 0.019393321126699448, 'top_10': False, 'imports': ['omic.FAM184B', 'omic.PART1']}, {'name': 'omic.FLOT2', 'size': 0.04099650681018829, 'top_10': False, 'imports': ['omic.SPEF1', 'omic.TMPRSS7']}, {'name': 'omic.FOXN3', 'size': 0.03872295096516609, 'top_10': False, 'imports': ['omic.PART1', 'omic.TMPRSS7']}, {'name': 'omic.GAK', 'size': 0.3594017028808594, 'top_10': False, 'imports': ['omic.AGTRAP', 'omic.APH1B', 'omic.B4GALT5', 'omic.BDKRB1', 'omic.CCDC102A', 'omic.CMTM7', 'omic.ENPP3', 'omic.FLJ37543', 'omic.GAS6', 'omic.GPRC5B', 'omic.HS6ST3', 'omic.INSIG1', 'omic.KCNQ1', 'omic.LOC100131551', 'omic.LRP11', 'omic.MECP2', 'omic.MPPED2', 'omic.NBL1', 'omic.NPHP1', 'omic.NTN1', 'omic.NUP85', 'omic.PAPLN', 'omic.PLEKHA4', 'omic.RAP2C', 'omic.SNTB1', 'omic.SPEF1', 'omic.ST3GAL1', 'omic.WNK3', 'omic.CHAD', 'omic.CLDN8', 'omic.LHX1', 'omic.LOC404266', 'omic.MIR759', 'omic.PA2G4P4', 'omic.SNORA43', 'omic.SNORD22', 'omic.SNORD29', 'omic.SNORD30', 'omic.SNORD31', 'omic.SNORD79', 'omic.mir2191']}, {'name': 'omic.GAS6', 'size': 0.5260589718818665, 'top_10': False, 'imports': ['omic.AGTRAP', 'omic.APH1B', 'omic.ATG4D', 'omic.B4GALT5', 'omic.BDKRB1', 'omic.C16orf89', 'omic.C9orf167', 'omic.CCDC102A', 'omic.CCDC103', 'omic.CMTM7', 'omic.EXPH5', 'omic.FBXO33', 'omic.FLJ37543', 'omic.GAK', 'omic.GATA2', 'omic.GCOM1', 'omic.GPRC5B', 'omic.HS6ST3', 'omic.INSIG1', 'omic.ITPR1', 'omic.KCNQ1', 'omic.KIT', 'omic.KLHL15', 'omic.LRP11', 'omic.MECP2', 'omic.MPPED2', 'omic.MTSS1', 'omic.MYO5A', 'omic.NBL1', 'omic.NPHP1', 'omic.NTN1', 'omic.NUP85', 'omic.OXGR1', 'omic.PAPLN', 'omic.PLD2', 'omic.PLEKHA4', 'omic.PLS3', 'omic.RAP2C', 'omic.SEZ6L2', 'omic.SNTB1', 'omic.SPEF1', 'omic.ST3GAL1', 'omic.UBL3', 'omic.WNK3', 'omic.CHAD', 'omic.HOXB5', 'omic.LHX1', 'omic.LOC157627', 'omic.LOC404266', 'omic.MIR759', 'omic.PA2G4P4', 'omic.SNORA4', 'omic.SNORA43', 'omic.SNORD22', 'omic.SNORD29', 'omic.SNORD30', 'omic.SNORD31', 'omic.SNORD79', 'omic.mir2191']}, {'name': 'omic.GATA2', 'size': 0.10334217548370361, 'top_10': False, 'imports': ['omic.ENPP3', 'omic.FAM184B', 'omic.GAS6', 'omic.LOC100131551', 'omic.LRP11', 'omic.MPPED2', 'omic.PART1', 'omic.SEMA5B', 'omic.SNTB1', 'omic.ST3GAL1', 'omic.WNK3', 'omic.CLDN8']}, {'name': 'omic.GCOM1', 'size': 0.08017797768115997, 'top_10': False, 'imports': ['omic.FAM184B', 'omic.GAS6', 'omic.LRP11', 'omic.MPPED2', 'omic.PAPLN', 'omic.PART1', 'omic.SEMA5B', 'omic.WNK3', 'omic.mir2191']}, {'name': 'omic.GPR4', 'size': 0.963900625705719, 'top_10': False, 'imports': ['omic.CD34', 'omic.CDH5', 'omic.CLEC14A', 'omic.CXorf36', 'omic.ELTD1', 'omic.ERG', 'omic.FAM184B', 'omic.KDR', 'omic.LDB2', 'omic.MYCT1', 'omic.NOTCH4', 'omic.NOVA2', 'omic.PCDH12', 'omic.PLVAP', 'omic.ROBO4', 'omic.TMPRSS7', 'omic.mir122']}, {'name': 'omic.GPRC5B', 'size': 0.12685687839984894, 'top_10': False, 'imports': ['omic.B4GALT5', 'omic.BDKRB1', 'omic.ENPP3', 'omic.GAK', 'omic.GAS6', 'omic.LOC100131551', 'omic.LRP11', 'omic.NUP85', 'omic.PART1', 'omic.PLEKHA4', 'omic.SEMA5B', 'omic.WNK3', 'omic.CLDN8', 'omic.LHX1', 'omic.MIR759']}, {'name': 'omic.HNF1B', 'size': 0.009709562174975872, 'top_10': False, 'imports': ['omic.FAM184B']}, {'name': 'omic.HS6ST3', 'size': 0.13036173582077026, 'top_10': False, 'imports': ['omic.AGTRAP', 'omic.ENPP3', 'omic.FAM184B', 'omic.GAK', 'omic.GAS6', 'omic.LOC100131551', 'omic.LRP11', 'omic.MPPED2', 'omic.PART1', 'omic.SEMA5B', 'omic.SNTB1', 'omic.ST3GAL1', 'omic.WNK3', 'omic.CLDN8', 'omic.MIR759']}, {'name': 'omic.HSD11B2', 'size': 0.00963653065264225, 'top_10': False, 'imports': ['omic.FAM184B']}, {'name': 'omic.IFT172', 'size': 0.04305001348257065, 'top_10': False, 'imports': ['omic.APH1B', 'omic.CCDC102A', 'omic.FAM184B', 'omic.PART1', 'omic.SNORA43']}, {'name': 'omic.INSIG1', 'size': 0.16457296907901764, 'top_10': False, 'imports': ['omic.AGTRAP', 'omic.BDKRB1', 'omic.ENPP3', 'omic.FAM184B', 'omic.FLJ37543', 'omic.GAK', 'omic.GAS6', 'omic.LOC100131551', 'omic.LRP11', 'omic.MPPED2', 'omic.NTN1', 'omic.PART1', 'omic.RAP2C', 'omic.SEMA5B', 'omic.SNTB1', 'omic.ST3GAL1', 'omic.WNK3', 'omic.CLDN8', 'omic.MIR759']}, {'name': 'omic.ITPR1', 'size': 0.057542506605386734, 'top_10': False, 'imports': ['omic.GAS6', 'omic.LOC100131551', 'omic.LRP11', 'omic.PART1', 'omic.SEMA5B', 'omic.WNK3', 'omic.CLDN8']}, {'name': 'omic.KCNQ1', 'size': 0.12705980241298676, 'top_10': False, 'imports': ['omic.ENPP3', 'omic.GAK', 'omic.GAS6', 'omic.LOC100131551', 'omic.LRP11', 'omic.NUP85', 'omic.PART1', 'omic.PLEKHA4', 'omic.SEMA5B', 'omic.SNTB1', 'omic.ST3GAL1', 'omic.WNK3', 'omic.CLDN8', 'omic.LHX1', 'omic.MIR759']}, {'name': 'omic.KDR', 'size': 0.339962899684906, 'top_10': True, 'imports': ['omic.CD34', 'omic.CLEC14A', 'omic.ELTD1', 'omic.ERG', 'omic.FAM184B', 'omic.GPR4', 'omic.MYCT1', 'omic.PAPLN', 'omic.S1PR1', 'omic.SPEF1', 'omic.TMPRSS7']}, {'name': 'omic.KIAA1328', 'size': 0.009851161390542984, 'top_10': False, 'imports': ['omic.FAM184B']}, {'name': 'omic.KIT', 'size': 0.22344624996185303, 'top_10': False, 'imports': ['omic.APH1B', 'omic.B4GALT5', 'omic.CCDC102A', 'omic.CMTM7', 'omic.ENPP3', 'omic.FAM184B', 'omic.GAS6', 'omic.LOC100131551', 'omic.LRP11', 'omic.MPPED2', 'omic.PAPLN', 'omic.PLEKHA4', 'omic.SEMA5B', 'omic.SNTB1', 'omic.SPEF1', 'omic.ST3GAL1', 'omic.WNK3', 'omic.CLDN8', 'omic.MIR759', 'omic.SNORA43', 'omic.SNORD22', 'omic.SNORD29', 'omic.SNORD31', 'omic.SNORD79', 'omic.mir2191']}, {'name': 'omic.KLHL15', 'size': 0.06747469305992126, 'top_10': False, 'imports': ['omic.ENPP3', 'omic.GAS6', 'omic.LOC100131551', 'omic.PART1', 'omic.SEMA5B', 'omic.CLDN8', 'omic.SNORD22', 'omic.SNORD31']}, {'name': 'omic.LASP1', 'size': 0.06874377280473709, 'top_10': False, 'imports': ['omic.APH1B', 'omic.CCDC102A', 'omic.CMTM7', 'omic.FAM184B', 'omic.PART1', 'omic.SNORA43', 'omic.SNORD29', 'omic.mir2191']}, {'name': 'omic.LBX2', 'size': 0.008911537006497383, 'top_10': False, 'imports': ['omic.PART1']}, {'name': 'omic.LDB2', 'size': 0.2892618477344513, 'top_10': False, 'imports': ['omic.CD34', 'omic.CLEC14A', 'omic.ELTD1', 'omic.ERG', 'omic.FAM184B', 'omic.GPR4', 'omic.MYCT1', 'omic.PART1', 'omic.TMPRSS7']}, {'name': 'omic.LIMCH1', 'size': 0.019434772431850433, 'top_10': False, 'imports': ['omic.FAM184B', 'omic.PART1']}, {'name': 'omic.LNX1', 'size': 0.043364498764276505, 'top_10': False, 'imports': ['omic.APH1B', 'omic.CCDC102A', 'omic.FAM184B', 'omic.PART1', 'omic.SNORA43']}, {'name': 'omic.LOC100131551', 'size': 0.5167222023010254, 'top_10': False, 'imports': ['omic.AGTRAP', 'omic.APH1B', 'omic.ATG4D', 'omic.B4GALT5', 'omic.BDKRB1', 'omic.C16orf89', 'omic.C9orf167', 'omic.CCDC102A', 'omic.CCDC103', 'omic.CMTM7', 'omic.EXPH5', 'omic.FLJ37543', 'omic.GAK', 'omic.GATA2', 'omic.GPRC5B', 'omic.HS6ST3', 'omic.INSIG1', 'omic.ITPR1', 'omic.KCNQ1', 'omic.KIT', 'omic.KLHL15', 'omic.LRP11', 'omic.MECP2', 'omic.MPPED2', 'omic.MTSS1', 'omic.MYO5A', 'omic.NBL1', 'omic.NPHP1', 'omic.NTN1', 'omic.NUP85', 'omic.OXGR1', 'omic.PAPLN', 'omic.PLD2', 'omic.PLEKHA4', 'omic.PLS3', 'omic.RAP2C', 'omic.SEZ6L2', 'omic.SNTB1', 'omic.SPEF1', 'omic.ST3GAL1', 'omic.UBL3', 'omic.WNK3', 'omic.CHAD', 'omic.HOXB5', 'omic.LHX1', 'omic.LOC157627', 'omic.LOC404266', 'omic.MIR759', 'omic.PA2G4P4', 'omic.SLC16A5', 'omic.SNORA4', 'omic.SNORA43', 'omic.SNORD22', 'omic.SNORD29', 'omic.SNORD30', 'omic.SNORD31', 'omic.SNORD79', 'omic.mir2191']}, {'name': 'omic.LOC151534', 'size': 0.009605811908841133, 'top_10': False, 'imports': ['omic.FAM184B']}, {'name': 'omic.LOC90246', 'size': 0.009820239618420601, 'top_10': False, 'imports': ['omic.FAM184B']}, {'name': 'omic.LRP11', 'size': 0.46144136786460876, 'top_10': False, 'imports': ['omic.AGTRAP', 'omic.APH1B', 'omic.ATG4D', 'omic.BDKRB1', 'omic.C16orf89', 'omic.C9orf167', 'omic.CCDC103', 'omic.ENPP3', 'omic.EXPH5', 'omic.FAM184B', 'omic.FBXO33', 'omic.FLJ37543', 'omic.GAK', 'omic.GAS6', 'omic.GATA2', 'omic.GCOM1', 'omic.GPRC5B', 'omic.HS6ST3', 'omic.INSIG1', 'omic.ITPR1', 'omic.KCNQ1', 'omic.KIT', 'omic.LOC100131551', 'omic.MECP2', 'omic.MPPED2', 'omic.MTSS1', 'omic.MYO5A', 'omic.NPHP1', 'omic.NTN1', 'omic.NUP85', 'omic.OXGR1', 'omic.PLD2', 'omic.PLEKHA4', 'omic.PLS3', 'omic.RAP2C', 'omic.SEMA5B', 'omic.SEZ6L2', 'omic.SNTB1', 'omic.ST3GAL1', 'omic.TCTN2', 'omic.UBL3', 'omic.WNK3', 'omic.CHAD', 'omic.CLDN8', 'omic.HOXB5', 'omic.LHX1', 'omic.LOC157627', 'omic.LOC404266', 'omic.MIR759', 'omic.PA2G4P4', 'omic.SLC16A5', 'omic.SNORA4', 'omic.mir122']}, {'name': 'omic.LRRC14B', 'size': 0.06923489272594452, 'top_10': False, 'imports': ['omic.APH1B', 'omic.CCDC102A', 'omic.CMTM7', 'omic.FAM184B', 'omic.PART1', 'omic.SNORA43', 'omic.SNORD29', 'omic.mir2191']}, {'name': 'omic.MECOM', 'size': 0.009143739938735962, 'top_10': False, 'imports': ['omic.FAM184B']}, {'name': 'omic.MECP2', 'size': 0.25803646445274353, 'top_10': False, 'imports': ['omic.AGTRAP', 'omic.APH1B', 'omic.B4GALT5', 'omic.CCDC102A', 'omic.CMTM7', 'omic.ENPP3', 'omic.FAM184B', 'omic.FLJ37543', 'omic.GAK', 'omic.GAS6', 'omic.LOC100131551', 'omic.LRP11', 'omic.MPPED2', 'omic.NUP85', 'omic.PLEKHA4', 'omic.RAP2C', 'omic.SEMA5B', 'omic.SNTB1', 'omic.ST3GAL1', 'omic.WNK3', 'omic.CLDN8', 'omic.LHX1', 'omic.MIR759', 'omic.SNORA43', 'omic.SNORD22', 'omic.SNORD29', 'omic.SNORD30', 'omic.SNORD31', 'omic.SNORD79', 'omic.mir2191']}, {'name': 'omic.MPPED2', 'size': 0.3429397642612457, 'top_10': False, 'imports': ['omic.AGTRAP', 'omic.ATG4D', 'omic.BDKRB1', 'omic.C16orf89', 'omic.CCDC103', 'omic.ENPP3', 'omic.EXPH5', 'omic.FAM184B', 'omic.FBXO33', 'omic.FLJ37543', 'omic.GAK', 'omic.GAS6', 'omic.GATA2', 'omic.GCOM1', 'omic.HS6ST3', 'omic.INSIG1', 'omic.KIT', 'omic.LOC100131551', 'omic.LRP11', 'omic.MECP2', 'omic.MTSS1', 'omic.NPHP1', 'omic.NTN1', 'omic.OXGR1', 'omic.PART1', 'omic.SEMA5B', 'omic.SNTB1', 'omic.ST3GAL1', 'omic.TCTN2', 'omic.UBL3', 'omic.WNK3', 'omic.CLDN8', 'omic.HOXB5', 'omic.LOC157627', 'omic.LOC404266', 'omic.MIR759', 'omic.PA2G4P4', 'omic.SLC16A5', 'omic.mir122']}, {'name': 'omic.MTSS1', 'size': 0.257844477891922, 'top_10': False, 'imports': ['omic.APH1B', 'omic.B4GALT5', 'omic.CCDC102A', 'omic.CMTM7', 'omic.ENPP3', 'omic.FAM184B', 'omic.GAS6', 'omic.LOC100131551', 'omic.LRP11', 'omic.MPPED2', 'omic.NUP85', 'omic.PAPLN', 'omic.PLEKHA4', 'omic.RAP2C', 'omic.SEMA5B', 'omic.SNTB1', 'omic.SPEF1', 'omic.ST3GAL1', 'omic.WNK3', 'omic.CLDN8', 'omic.LHX1', 'omic.MIR759', 'omic.SNORA43', 'omic.SNORD22', 'omic.SNORD29', 'omic.SNORD30', 'omic.SNORD31', 'omic.SNORD79', 'omic.mir2191']}, {'name': 'omic.MTUS1', 'size': 0.04732617735862732, 'top_10': False, 'imports': ['omic.FAM184B', 'omic.PAPLN', 'omic.TMPRSS7']}, {'name': 'omic.MYCT1', 'size': 0.9590081572532654, 'top_10': False, 'imports': ['omic.CD34', 'omic.CDH5', 'omic.CLEC14A', 'omic.CXorf36', 'omic.ELTD1', 'omic.ERG', 'omic.FAM184B', 'omic.GPR4', 'omic.KDR', 'omic.LDB2', 'omic.NOTCH4', 'omic.NOVA2', 'omic.PCDH12', 'omic.ROBO4', 'omic.S1PR1', 'omic.TCF4', 'omic.mir122']}, {'name': 'omic.MYO5A', 'size': 0.07596028596162796, 'top_10': False, 'imports': ['omic.ENPP3', 'omic.GAS6', 'omic.LOC100131551', 'omic.LRP11', 'omic.PART1', 'omic.PLEKHA4', 'omic.SEMA5B', 'omic.WNK3', 'omic.CLDN8']}, {'name': 'omic.NBL1', 'size': 0.08605320751667023, 'top_10': False, 'imports': ['omic.ENPP3', 'omic.GAK', 'omic.GAS6', 'omic.LOC100131551', 'omic.NTN1', 'omic.PART1', 'omic.PLEKHA4', 'omic.SEMA5B', 'omic.CLDN8', 'omic.LOC404266']}, {'name': 'omic.NEK11', 'size': 0.06440593302249908, 'top_10': False, 'imports': ['omic.FAM184B', 'omic.PAPLN', 'omic.PART1', 'omic.PLEKHA4', 'omic.SEMA5B', 'omic.CLDN8', 'omic.mir2191']}, {'name': 'omic.NEURL', 'size': 0.019037554040551186, 'top_10': False, 'imports': ['omic.FAM184B', 'omic.PART1']}, {'name': 'omic.NKIRAS2', 'size': 0.028094809502363205, 'top_10': False, 'imports': ['omic.APH1B', 'omic.FAM184B', 'omic.PART1']}, {'name': 'omic.NOTCH4', 'size': 0.2511616051197052, 'top_10': False, 'imports': ['omic.CD34', 'omic.CLEC14A', 'omic.FAM184B', 'omic.GPR4', 'omic.MYCT1', 'omic.PART1', 'omic.ROBO4', 'omic.TMPRSS7']}, {'name': 'omic.NOVA2', 'size': 0.21025153994560242, 'top_10': False, 'imports': ['omic.CLEC14A', 'omic.FAM184B', 'omic.GPR4', 'omic.MYCT1', 'omic.PART1', 'omic.ROBO4', 'omic.TMPRSS7']}, {'name': 'omic.NPHP1', 'size': 0.27703410387039185, 'top_10': False, 'imports': ['omic.AGTRAP', 'omic.APH1B', 'omic.B4GALT5', 'omic.CCDC102A', 'omic.CMTM7', 'omic.ENPP3', 'omic.FAM184B', 'omic.GAK', 'omic.GAS6', 'omic.LOC100131551', 'omic.LRP11', 'omic.MPPED2', 'omic.NUP85', 'omic.PAPLN', 'omic.PLEKHA4', 'omic.RAP2C', 'omic.SEMA5B', 'omic.SNTB1', 'omic.SPEF1', 'omic.ST3GAL1', 'omic.WNK3', 'omic.CLDN8', 'omic.LHX1', 'omic.MIR759', 'omic.SNORA43', 'omic.SNORD22', 'omic.SNORD29', 'omic.SNORD30', 'omic.SNORD31', 'omic.SNORD79', 'omic.mir2191']}, {'name': 'omic.NPTN', 'size': 0.01946701481938362, 'top_10': False, 'imports': ['omic.FAM184B', 'omic.PART1']}, {'name': 'omic.NRBP1', 'size': 0.10466273874044418, 'top_10': False, 'imports': ['omic.APH1B', 'omic.CCDC102A', 'omic.CMTM7', 'omic.FAM184B', 'omic.PART1', 'omic.PLEKHA4', 'omic.SEMA5B', 'omic.CLDN8', 'omic.SNORA43', 'omic.SNORD22', 'omic.SNORD29', 'omic.mir2191']}, {'name': 'omic.NTN1', 'size': 0.2994997203350067, 'top_10': False, 'imports': ['omic.AGTRAP', 'omic.APH1B', 'omic.B4GALT5', 'omic.BDKRB1', 'omic.CCDC102A', 'omic.CMTM7', 'omic.ENPP3', 'omic.FLJ37543', 'omic.GAK', 'omic.GAS6', 'omic.INSIG1', 'omic.LOC100131551', 'omic.LRP11', 'omic.MPPED2', 'omic.NBL1', 'omic.NUP85', 'omic.PAPLN', 'omic.PLEKHA4', 'omic.RAP2C', 'omic.SEMA5B', 'omic.SNTB1', 'omic.SPEF1', 'omic.ST3GAL1', 'omic.WNK3', 'omic.CLDN8', 'omic.LHX1', 'omic.MIR759', 'omic.SNORA43', 'omic.SNORD22', 'omic.SNORD29', 'omic.SNORD30', 'omic.SNORD31', 'omic.SNORD79', 'omic.mir2191']}, {'name': 'omic.NUP85', 'size': 0.20482924580574036, 'top_10': False, 'imports': ['omic.APH1B', 'omic.BDKRB1', 'omic.C9orf167', 'omic.ENPP3', 'omic.EXPH5', 'omic.GAK', 'omic.GAS6', 'omic.GPRC5B', 'omic.KCNQ1', 'omic.LOC100131551', 'omic.LRP11', 'omic.MECP2', 'omic.MTSS1', 'omic.NPHP1', 'omic.NTN1', 'omic.PART1', 'omic.PLEKHA4', 'omic.SEMA5B', 'omic.WNK3', 'omic.CHAD', 'omic.CLDN8', 'omic.LHX1', 'omic.LOC404266', 'omic.MIR759']}, {'name': 'omic.OCIAD2', 'size': 0.030301686376333237, 'top_10': False, 'imports': ['omic.FAM184B', 'omic.PAPLN', 'omic.SPEF1']}, {'name': 'omic.OXGR1', 'size': 0.12158618867397308, 'top_10': False, 'imports': ['omic.ENPP3', 'omic.FAM184B', 'omic.GAS6', 'omic.LOC100131551', 'omic.LRP11', 'omic.MPPED2', 'omic.PART1', 'omic.RAP2C', 'omic.SEMA5B', 'omic.SNTB1', 'omic.ST3GAL1', 'omic.WNK3', 'omic.CLDN8', 'omic.MIR759']}, {'name': 'omic.PAPLN', 'size': 0.5594658851623535, 'top_10': False, 'imports': ['omic.ATG4D', 'omic.BCL2L2', 'omic.C1orf88', 'omic.C6orf174', 'omic.CCDC103', 'omic.CNKSR3', 'omic.DOK4', 'omic.ENPP3', 'omic.FARP1', 'omic.FDXR', 'omic.GAK', 'omic.GAS6', 'omic.GCOM1', 'omic.KDR', 'omic.KIT', 'omic.LOC100131551', 'omic.MTSS1', 'omic.MTUS1', 'omic.NEK11', 'omic.NPHP1', 'omic.NTN1', 'omic.OCIAD2', 'omic.PART1', 'omic.SEMA5B', 'omic.SPATS2L', 'omic.SSH2', 'omic.SYNGR2', 'omic.SYT7', 'omic.TCTN1', 'omic.TCTN2', 'omic.TSPAN5', 'omic.VEGFA', 'omic.ATP5G2', 'omic.CLDN8', 'omic.EMX2OS', 'omic.EPGN', 'omic.HOXD8', 'omic.LOC100130148', 'omic.LOC157627', 'omic.LOC553137', 'omic.MGP', 'omic.MIR759', 'omic.NPY', 'omic.ODAM', 'omic.RPL13AP17', 'omic.SLC16A5', 'omic.SOCS1', 'omic.VMO1', 'omic.mir122', 'omic.mir126']}, {'name': 'omic.PART1', 'size': 0.8807966113090515, 'top_10': False, 'imports': ['omic.AGTRAP', 'omic.APH1B', 'omic.ATG4A', 'omic.B4GALT5', 'omic.BCL2L2', 'omic.BDKRB1', 'omic.C1orf88', 'omic.C9orf167', 'omic.CCDC102A', 'omic.CCDC103', 'omic.CMTM7', 'omic.CNKSR3', 'omic.CPEB4', 'omic.CREB5', 'omic.DAGLB', 'omic.EIF4E', 'omic.FAM174A', 'omic.FARP1', 'omic.FBXO33', 'omic.FGFR4', 'omic.FLJ37543', 'omic.FLJ42875', 'omic.FLJ90757', 'omic.FOXN3', 'omic.GATA2', 'omic.GCOM1', 'omic.GPRC5B', 'omic.HS6ST3', 'omic.IFT172', 'omic.INSIG1', 'omic.ITPR1', 'omic.KCNQ1', 'omic.KLHL15', 'omic.LASP1', 'omic.LBX2', 'omic.LDB2', 'omic.LIMCH1', 'omic.LNX1', 'omic.LRRC14B', 'omic.MPPED2', 'omic.MYO5A', 'omic.NBL1', 'omic.NEK11', 'omic.NEURL', 'omic.NKIRAS2', 'omic.NOTCH4', 'omic.NOVA2', 'omic.NPTN', 'omic.NRBP1', 'omic.NUP85', 'omic.OXGR1', 'omic.PAPLN', 'omic.PLD2', 'omic.PLEKHA4', 'omic.PLS3', 'omic.PLVAP', 'omic.PRKAG2', 'omic.RAP2C', 'omic.SATB2', 'omic.SEZ6L2', 'omic.SNTB1', 'omic.SPATS2L', 'omic.SPEF1', 'omic.SSH2', 'omic.ST3GAL1', 'omic.SYT7', 'omic.TCTN2', 'omic.TP53INP2', 'omic.TPK1', 'omic.TSPAN7', 'omic.ADH1C', 'omic.ARL4D', 'omic.B3GNT8', 'omic.CHAD', 'omic.DEF6', 'omic.EMX1', 'omic.EMX2OS', 'omic.EPGN', 'omic.HOXB5', 'omic.HOXD8', 'omic.HOXD9', 'omic.LHX1', 'omic.MIR125B1', 'omic.ODAM', 'omic.PA2G4P4', 'omic.SLC16A5', 'omic.SNORA4', 'omic.SNORA43', 'omic.SNORD22', 'omic.SNORD29', 'omic.SNORD30', 'omic.SNORD31', 'omic.SNORD79', 'omic.mir21', 'omic.mir2191']}, {'name': 'omic.PCDH12', 'size': 0.3152056932449341, 'top_10': True, 'imports': ['omic.CD34', 'omic.CLEC14A', 'omic.ELTD1', 'omic.ERG', 'omic.FAM184B', 'omic.GPR4', 'omic.MYCT1', 'omic.ROBO4', 'omic.TMPRSS7']}, {'name': 'omic.PCDH1', 'size': 0.03777419775724411, 'top_10': False, 'imports': ['omic.FAM184B', 'omic.TMPRSS7']}, {'name': 'omic.PLCG2', 'size': 0.009595468640327454, 'top_10': False, 'imports': ['omic.FAM184B']}, {'name': 'omic.PLD2', 'size': 0.08328808844089508, 'top_10': False, 'imports': ['omic.CCDC102A', 'omic.CMTM7', 'omic.GAS6', 'omic.LOC100131551', 'omic.LRP11', 'omic.PART1', 'omic.PLEKHA4', 'omic.SEMA5B', 'omic.WNK3', 'omic.CLDN8']}, {'name': 'omic.PLEKHA4', 'size': 0.3904576897621155, 'top_10': False, 'imports': ['omic.ATG4D', 'omic.B4GALT5', 'omic.BDKRB1', 'omic.C16orf89', 'omic.C9orf167', 'omic.CCDC102A', 'omic.CCDC103', 'omic.CMTM7', 'omic.ENPP3', 'omic.EXPH5', 'omic.FBXO33', 'omic.GAK', 'omic.GAS6', 'omic.GPRC5B', 'omic.KCNQ1', 'omic.KIT', 'omic.LOC100131551', 'omic.LRP11', 'omic.MECP2', 'omic.MTSS1', 'omic.MYO5A', 'omic.NBL1', 'omic.NEK11', 'omic.NPHP1', 'omic.NRBP1', 'omic.NTN1', 'omic.NUP85', 'omic.PART1', 'omic.PLD2', 'omic.PLS3', 'omic.SEMA5B', 'omic.SEZ6L2', 'omic.TCTN2', 'omic.UBL3', 'omic.WNK3', 'omic.CLDN8', 'omic.EMX2OS', 'omic.HOXB5', 'omic.LHX1', 'omic.LOC157627', 'omic.LOC404266', 'omic.MIR759', 'omic.SLC16A5', 'omic.SNORA4', 'omic.mir122']}, {'name': 'omic.PLS3', 'size': 0.06678526103496552, 'top_10': False, 'imports': ['omic.GAS6', 'omic.LOC100131551', 'omic.LRP11', 'omic.PART1', 'omic.PLEKHA4', 'omic.SEMA5B', 'omic.WNK3', 'omic.CLDN8']}, {'name': 'omic.PLVAP', 'size': 0.1626466065645218, 'top_10': False, 'imports': ['omic.CLEC14A', 'omic.GPR4', 'omic.PART1', 'omic.ROBO4', 'omic.TMPRSS7']}, {'name': 'omic.PRDM16', 'size': 0.009248108603060246, 'top_10': False, 'imports': ['omic.FAM184B']}, {'name': 'omic.PRKAG2', 'size': 0.028207145631313324, 'top_10': False, 'imports': ['omic.FAM184B', 'omic.PART1', 'omic.mir2191']}, {'name': 'omic.RAP2C', 'size': 0.178604394197464, 'top_10': False, 'imports': ['omic.BDKRB1', 'omic.ENPP3', 'omic.EXPH5', 'omic.GAK', 'omic.GAS6', 'omic.INSIG1', 'omic.LOC100131551', 'omic.LRP11', 'omic.MECP2', 'omic.MTSS1', 'omic.NPHP1', 'omic.NTN1', 'omic.OXGR1', 'omic.PART1', 'omic.SEMA5B', 'omic.SNTB1', 'omic.ST3GAL1', 'omic.WNK3', 'omic.CLDN8', 'omic.LOC404266', 'omic.MIR759']}, {'name': 'omic.RCAN2', 'size': 0.009644275531172752, 'top_10': False, 'imports': ['omic.FAM184B']}, {'name': 'omic.RGS12', 'size': 0.00956681277602911, 'top_10': False, 'imports': ['omic.FAM184B']}, {'name': 'omic.ROBO4', 'size': 0.8873387575149536, 'top_10': False, 'imports': ['omic.CD34', 'omic.CDH5', 'omic.CLEC14A', 'omic.CXorf36', 'omic.ERG', 'omic.GPR4', 'omic.MYCT1', 'omic.NOTCH4', 'omic.NOVA2', 'omic.PCDH12', 'omic.PLVAP', 'omic.S1PR1', 'omic.TMPRSS7', 'omic.mir122']}, {'name': 'omic.S1PR1', 'size': 0.9874904155731201, 'top_10': False, 'imports': ['omic.CD34', 'omic.CDH5', 'omic.CLEC14A', 'omic.CXorf36', 'omic.ELTD1', 'omic.ERG', 'omic.ETS1', 'omic.KDR', 'omic.MYCT1', 'omic.ROBO4', 'omic.TCF4']}, {'name': 'omic.SATB2', 'size': 0.03496317192912102, 'top_10': False, 'imports': ['omic.CCDC102A', 'omic.FAM184B', 'omic.PART1', 'omic.SNORA43']}, {'name': 'omic.SEMA5B', 'size': 0.5604071617126465, 'top_10': False, 'imports': ['omic.AGTRAP', 'omic.APH1B', 'omic.ATG4D', 'omic.B4GALT5', 'omic.BDKRB1', 'omic.C16orf89', 'omic.C9orf167', 'omic.CCDC102A', 'omic.CCDC103', 'omic.CMTM7', 'omic.EXPH5', 'omic.FBXO33', 'omic.FLJ37543', 'omic.GATA2', 'omic.GCOM1', 'omic.GPRC5B', 'omic.HS6ST3', 'omic.INSIG1', 'omic.ITPR1', 'omic.KCNQ1', 'omic.KIT', 'omic.KLHL15', 'omic.LRP11', 'omic.MECP2', 'omic.MPPED2', 'omic.MTSS1', 'omic.MYO5A', 'omic.NBL1', 'omic.NEK11', 'omic.NPHP1', 'omic.NRBP1', 'omic.NTN1', 'omic.NUP85', 'omic.OXGR1', 'omic.PAPLN', 'omic.PLD2', 'omic.PLEKHA4', 'omic.PLS3', 'omic.RAP2C', 'omic.SEZ6L2', 'omic.SNTB1', 'omic.SPEF1', 'omic.ST3GAL1', 'omic.TCTN2', 'omic.UBL3', 'omic.WNK3', 'omic.CHAD', 'omic.EMX2OS', 'omic.HOXB5', 'omic.LHX1', 'omic.LOC157627', 'omic.LOC404266', 'omic.MIR759', 'omic.PA2G4P4', 'omic.SLC16A5', 'omic.SNORA4', 'omic.SNORA43', 'omic.SNORD22', 'omic.SNORD29', 'omic.SNORD30', 'omic.SNORD31', 'omic.SNORD79', 'omic.mir2191']}, {'name': 'omic.SEZ6L2', 'size': 0.06620587408542633, 'top_10': False, 'imports': ['omic.GAS6', 'omic.LOC100131551', 'omic.LRP11', 'omic.PART1', 'omic.PLEKHA4', 'omic.SEMA5B', 'omic.WNK3', 'omic.CLDN8']}, {'name': 'omic.SH3BP4', 'size': 0.0, 'top_10': False, 'imports': []}, {'name': 'omic.SLC22A23', 'size': 0.0, 'top_10': False, 'imports': []}, {'name': 'omic.SNTB1', 'size': 0.306179940700531, 'top_10': False, 'imports': ['omic.AGTRAP', 'omic.ATG4D', 'omic.BDKRB1', 'omic.C16orf89', 'omic.ENPP3', 'omic.EXPH5', 'omic.FAM184B', 'omic.FLJ37543', 'omic.GAK', 'omic.GAS6', 'omic.GATA2', 'omic.HS6ST3', 'omic.INSIG1', 'omic.KCNQ1', 'omic.KIT', 'omic.LOC100131551', 'omic.LRP11', 'omic.MECP2', 'omic.MPPED2', 'omic.MTSS1', 'omic.NPHP1', 'omic.NTN1', 'omic.OXGR1', 'omic.PART1', 'omic.RAP2C', 'omic.SEMA5B', 'omic.ST3GAL1', 'omic.UBL3', 'omic.WNK3', 'omic.CLDN8', 'omic.LOC157627', 'omic.LOC404266', 'omic.MIR759', 'omic.PA2G4P4', 'omic.mir122']}, {'name': 'omic.SPATS2L', 'size': 0.08374336361885071, 'top_10': False, 'imports': ['omic.APH1B', 'omic.CCDC102A', 'omic.FAM184B', 'omic.PAPLN', 'omic.PART1', 'omic.SPEF1', 'omic.SNORA43', 'omic.SNORD29', 'omic.mir2191']}, {'name': 'omic.SPEF1', 'size': 0.553112268447876, 'top_10': False, 'imports': ['omic.ATG4D', 'omic.BCL2L2', 'omic.C1orf88', 'omic.CCDC103', 'omic.CNKSR3', 'omic.DOK4', 'omic.ENPP3', 'omic.FGFR4', 'omic.FLOT2', 'omic.GAK', 'omic.GAS6', 'omic.KDR', 'omic.KIT', 'omic.LOC100131551', 'omic.MTSS1', 'omic.NPHP1', 'omic.NTN1', 'omic.OCIAD2', 'omic.PART1', 'omic.SEMA5B', 'omic.SPATS2L', 'omic.SSH2', 'omic.SYNGR2', 'omic.SYT7', 'omic.TCTN1', 'omic.TCTN2', 'omic.TSPAN5', 'omic.VEGFA', 'omic.ATP5G2', 'omic.CLDN8', 'omic.EMX2OS', 'omic.EPGN', 'omic.HOXD8', 'omic.LOC100130148', 'omic.LOC157627', 'omic.LOC553137', 'omic.MGP', 'omic.NPY', 'omic.ODAM', 'omic.RPL13AP17', 'omic.SLC16A5', 'omic.SOCS1', 'omic.VMO1', 'omic.mir122', 'omic.mir126']}, {'name': 'omic.SPIRE1', 'size': 0.0, 'top_10': False, 'imports': []}, {'name': 'omic.SSH2', 'size': 0.04872330278158188, 'top_10': False, 'imports': ['omic.FAM184B', 'omic.PAPLN', 'omic.PART1', 'omic.SPEF1', 'omic.SNORA43']}, {'name': 'omic.ST3GAL1', 'size': 0.3036709129810333, 'top_10': False, 'imports': ['omic.AGTRAP', 'omic.ATG4D', 'omic.BDKRB1', 'omic.C16orf89', 'omic.ENPP3', 'omic.EXPH5', 'omic.FAM184B', 'omic.FLJ37543', 'omic.GAK', 'omic.GAS6', 'omic.GATA2', 'omic.HS6ST3', 'omic.INSIG1', 'omic.KCNQ1', 'omic.KIT', 'omic.LOC100131551', 'omic.LRP11', 'omic.MECP2', 'omic.MPPED2', 'omic.MTSS1', 'omic.NPHP1', 'omic.NTN1', 'omic.OXGR1', 'omic.PART1', 'omic.RAP2C', 'omic.SEMA5B', 'omic.SNTB1', 'omic.UBL3', 'omic.WNK3', 'omic.CLDN8', 'omic.LOC157627', 'omic.LOC404266', 'omic.MIR759', 'omic.PA2G4P4', 'omic.mir122']}, {'name': 'omic.SYNGR2', 'size': 0.029916958883404732, 'top_10': False, 'imports': ['omic.FAM184B', 'omic.PAPLN', 'omic.SPEF1']}, {'name': 'omic.SYT7', 'size': 0.04008277878165245, 'top_10': False, 'imports': ['omic.FAM184B', 'omic.PAPLN', 'omic.PART1', 'omic.SPEF1']}, {'name': 'omic.TCF4', 'size': 0.7360801100730896, 'top_10': False, 'imports': ['omic.C3orf70', 'omic.CDH5', 'omic.CLEC14A', 'omic.ERG', 'omic.ETS1', 'omic.MYCT1', 'omic.S1PR1']}, {'name': 'omic.TCTN1', 'size': 0.04055291414260864, 'top_10': False, 'imports': ['omic.FAM184B', 'omic.PAPLN', 'omic.SPEF1', 'omic.SNORA43']}, {'name': 'omic.TCTN2', 'size': 0.1458754539489746, 'top_10': False, 'imports': ['omic.APH1B', 'omic.CCDC102A', 'omic.CMTM7', 'omic.FAM184B', 'omic.LRP11', 'omic.MPPED2', 'omic.PAPLN', 'omic.PART1', 'omic.PLEKHA4', 'omic.SEMA5B', 'omic.SPEF1', 'omic.CLDN8', 'omic.SNORA43', 'omic.SNORD22', 'omic.SNORD29', 'omic.mir2191']}, {'name': 'omic.TMEM43', 'size': 0.017993666231632233, 'top_10': False, 'imports': ['omic.FAM184B', 'omic.SNORA43']}, {'name': 'omic.TMPRSS7', 'size': 1.0191152095794678, 'top_10': False, 'imports': ['omic.ATP6V0A1', 'omic.AVPR1A', 'omic.C3orf70', 'omic.CD34', 'omic.CDH5', 'omic.CXorf36', 'omic.ERG', 'omic.FAM13C', 'omic.FLOT2', 'omic.FOXN3', 'omic.GPR4', 'omic.KDR', 'omic.LDB2', 'omic.MTUS1', 'omic.NOTCH4', 'omic.NOVA2', 'omic.PCDH12', 'omic.PCDH1', 'omic.PLVAP', 'omic.ROBO4', 'omic.TPK1', 'omic.TSPAN5', 'omic.TSPAN7', 'omic.VEGFA', 'omic.CPT1B', 'omic.LOC553137', 'omic.MIRLET7E', 'omic.UBE2N', 'omic.mir126']}, {'name': 'omic.TP53INP2', 'size': 0.05186158046126366, 'top_10': False, 'imports': ['omic.APH1B', 'omic.CCDC102A', 'omic.FAM184B', 'omic.PART1', 'omic.SNORA43', 'omic.SNORD29']}, {'name': 'omic.TPK1', 'size': 0.039385952055454254, 'top_10': False, 'imports': ['omic.PART1', 'omic.TMPRSS7']}, {'name': 'omic.TSPAN5', 'size': 0.056956127285957336, 'top_10': True, 'imports': ['omic.FAM184B', 'omic.PAPLN', 'omic.SPEF1', 'omic.TMPRSS7']}, {'name': 'omic.TSPAN7', 'size': 0.0389837846159935, 'top_10': False, 'imports': ['omic.PART1', 'omic.TMPRSS7']}, {'name': 'omic.UBE2QL1', 'size': 0.008967963047325611, 'top_10': False, 'imports': ['omic.FAM184B']}, {'name': 'omic.UBL3', 'size': 0.1799519658088684, 'top_10': False, 'imports': ['omic.APH1B', 'omic.CCDC102A', 'omic.CMTM7', 'omic.ENPP3', 'omic.FAM184B', 'omic.GAS6', 'omic.LOC100131551', 'omic.LRP11', 'omic.MPPED2', 'omic.PLEKHA4', 'omic.SEMA5B', 'omic.SNTB1', 'omic.ST3GAL1', 'omic.WNK3', 'omic.CLDN8', 'omic.SNORA43', 'omic.SNORD22', 'omic.SNORD29', 'omic.SNORD31', 'omic.SNORD79', 'omic.mir2191']}, {'name': 'omic.VEGFA', 'size': 0.05699779465794563, 'top_10': True, 'imports': ['omic.FAM184B', 'omic.PAPLN', 'omic.SPEF1', 'omic.TMPRSS7']}, {'name': 'omic.WNK3', 'size': 0.43523359298706055, 'top_10': False, 'imports': ['omic.AGTRAP', 'omic.APH1B', 'omic.ATG4D', 'omic.BDKRB1', 'omic.C16orf89', 'omic.C9orf167', 'omic.ENPP3', 'omic.EXPH5', 'omic.FAM184B', 'omic.FBXO33', 'omic.FLJ37543', 'omic.GAK', 'omic.GAS6', 'omic.GATA2', 'omic.GCOM1', 'omic.GPRC5B', 'omic.HS6ST3', 'omic.INSIG1', 'omic.ITPR1', 'omic.KCNQ1', 'omic.KIT', 'omic.LOC100131551', 'omic.LRP11', 'omic.MECP2', 'omic.MPPED2', 'omic.MTSS1', 'omic.MYO5A', 'omic.NPHP1', 'omic.NTN1', 'omic.NUP85', 'omic.OXGR1', 'omic.PLD2', 'omic.PLEKHA4', 'omic.PLS3', 'omic.RAP2C', 'omic.SEMA5B', 'omic.SEZ6L2', 'omic.SNTB1', 'omic.ST3GAL1', 'omic.UBL3', 'omic.CHAD', 'omic.CLDN8', 'omic.HOXB5', 'omic.LHX1', 'omic.LOC157627', 'omic.LOC404266', 'omic.MIR759', 'omic.PA2G4P4', 'omic.SNORA4', 'omic.mir122']}, {'name': 'omic.ADH1C', 'size': 0.03490137681365013, 'top_10': False, 'imports': ['omic.CCDC102A', 'omic.FAM184B', 'omic.PART1', 'omic.SNORA43']}, {'name': 'omic.ARL4D', 'size': 0.06876146793365479, 'top_10': False, 'imports': ['omic.APH1B', 'omic.CCDC102A', 'omic.CMTM7', 'omic.FAM184B', 'omic.PART1', 'omic.SNORA43', 'omic.SNORD29', 'omic.mir2191']}, {'name': 'omic.ATP5G2', 'size': 0.030824897810816765, 'top_10': False, 'imports': ['omic.FAM184B', 'omic.PAPLN', 'omic.SPEF1']}, {'name': 'omic.B3GNT8', 'size': 0.06010965257883072, 'top_10': False, 'imports': ['omic.APH1B', 'omic.CCDC102A', 'omic.FAM184B', 'omic.PART1', 'omic.SNORA43', 'omic.SNORD29', 'omic.mir2191']}, {'name': 'omic.CHAD', 'size': 0.1032184362411499, 'top_10': False, 'imports': ['omic.APH1B', 'omic.ENPP3', 'omic.GAK', 'omic.GAS6', 'omic.LOC100131551', 'omic.LRP11', 'omic.NUP85', 'omic.PART1', 'omic.SEMA5B', 'omic.WNK3', 'omic.CLDN8', 'omic.LHX1']}, {'name': 'omic.CHKB-CPT1B', 'size': 0.00923241302371025, 'top_10': False, 'imports': ['omic.FAM184B']}, {'name': 'omic.CLDN8', 'size': 0.5521159172058105, 'top_10': False, 'imports': ['omic.AGTRAP', 'omic.APH1B', 'omic.ATG4D', 'omic.B4GALT5', 'omic.BDKRB1', 'omic.C16orf89', 'omic.C9orf167', 'omic.CCDC102A', 'omic.CCDC103', 'omic.CMTM7', 'omic.EXPH5', 'omic.FLJ37543', 'omic.GAK', 'omic.GATA2', 'omic.GPRC5B', 'omic.HS6ST3', 'omic.INSIG1', 'omic.ITPR1', 'omic.KCNQ1', 'omic.KIT', 'omic.KLHL15', 'omic.LRP11', 'omic.MECP2', 'omic.MPPED2', 'omic.MTSS1', 'omic.MYO5A', 'omic.NBL1', 'omic.NEK11', 'omic.NPHP1', 'omic.NRBP1', 'omic.NTN1', 'omic.NUP85', 'omic.OXGR1', 'omic.PAPLN', 'omic.PLD2', 'omic.PLEKHA4', 'omic.PLS3', 'omic.RAP2C', 'omic.SEZ6L2', 'omic.SNTB1', 'omic.SPEF1', 'omic.ST3GAL1', 'omic.TCTN2', 'omic.UBL3', 'omic.WNK3', 'omic.CHAD', 'omic.EMX2OS', 'omic.HOXB5', 'omic.LHX1', 'omic.LOC157627', 'omic.LOC404266', 'omic.MIR759', 'omic.PA2G4P4', 'omic.SLC16A5', 'omic.SNORA4', 'omic.SNORA43', 'omic.SNORD22', 'omic.SNORD29', 'omic.SNORD30', 'omic.SNORD31', 'omic.SNORD79', 'omic.mir2191']}, {'name': 'omic.CPT1B', 'size': 0.039127327501773834, 'top_10': False, 'imports': ['omic.FAM184B', 'omic.TMPRSS7']}, {'name': 'omic.DEF6', 'size': 0.01747039705514908, 'top_10': False, 'imports': ['omic.APH1B', 'omic.PART1']}, {'name': 'omic.EMX1', 'size': 0.00822820421308279, 'top_10': False, 'imports': ['omic.PART1']}, {'name': 'omic.EMX2OS', 'size': 0.1291746348142624, 'top_10': False, 'imports': ['omic.APH1B', 'omic.CCDC102A', 'omic.CMTM7', 'omic.FAM184B', 'omic.PAPLN', 'omic.PART1', 'omic.PLEKHA4', 'omic.SEMA5B', 'omic.SPEF1', 'omic.CLDN8', 'omic.SNORA43', 'omic.SNORD22', 'omic.SNORD29', 'omic.mir2191']}, {'name': 'omic.EPGN', 'size': 0.04919926077127457, 'top_10': False, 'imports': ['omic.FAM184B', 'omic.PAPLN', 'omic.PART1', 'omic.SPEF1', 'omic.SNORA43']}, {'name': 'omic.FLJ32063', 'size': 0.009312652051448822, 'top_10': False, 'imports': ['omic.FAM184B']}, {'name': 'omic.HOXB3', 'size': 0.017872672528028488, 'top_10': False, 'imports': ['omic.FAM184B', 'omic.SNORA43']}, {'name': 'omic.HOXB5', 'size': 0.14645171165466309, 'top_10': False, 'imports': ['omic.APH1B', 'omic.CCDC102A', 'omic.CMTM7', 'omic.FAM184B', 'omic.GAS6', 'omic.LOC100131551', 'omic.LRP11', 'omic.MPPED2', 'omic.PART1', 'omic.PLEKHA4', 'omic.SEMA5B', 'omic.WNK3', 'omic.CLDN8', 'omic.SNORA43', 'omic.SNORD22', 'omic.SNORD29', 'omic.mir2191']}, {'name': 'omic.HOXD8', 'size': 0.09379248321056366, 'top_10': False, 'imports': ['omic.APH1B', 'omic.CCDC102A', 'omic.CMTM7', 'omic.FAM184B', 'omic.PAPLN', 'omic.PART1', 'omic.SPEF1', 'omic.SNORA43', 'omic.SNORD29', 'omic.mir2191']}, {'name': 'omic.HOXD9', 'size': 0.06970341503620148, 'top_10': False, 'imports': ['omic.APH1B', 'omic.CCDC102A', 'omic.CMTM7', 'omic.FAM184B', 'omic.PART1', 'omic.SNORA43', 'omic.SNORD29', 'omic.mir2191']}, {'name': 'omic.KIAA1737', 'size': 0.009817881509661674, 'top_10': False, 'imports': ['omic.FAM184B']}, {'name': 'omic.LHX1', 'size': 0.19656361639499664, 'top_10': False, 'imports': ['omic.APH1B', 'omic.BDKRB1', 'omic.ENPP3', 'omic.EXPH5', 'omic.GAK', 'omic.GAS6', 'omic.GPRC5B', 'omic.KCNQ1', 'omic.LOC100131551', 'omic.LRP11', 'omic.MECP2', 'omic.MTSS1', 'omic.NPHP1', 'omic.NTN1', 'omic.NUP85', 'omic.PART1', 'omic.PLEKHA4', 'omic.SEMA5B', 'omic.WNK3', 'omic.CHAD', 'omic.CLDN8', 'omic.LOC404266', 'omic.MIR759']}, {'name': 'omic.LOC100130148', 'size': 0.02241772785782814, 'top_10': False, 'imports': ['omic.PAPLN', 'omic.SPEF1']}, {'name': 'omic.LOC157627', 'size': 0.22299937903881073, 'top_10': False, 'imports': ['omic.APH1B', 'omic.B4GALT5', 'omic.CCDC102A', 'omic.CMTM7', 'omic.ENPP3', 'omic.FAM184B', 'omic.GAS6', 'omic.LOC100131551', 'omic.LRP11', 'omic.MPPED2', 'omic.PAPLN', 'omic.PLEKHA4', 'omic.SEMA5B', 'omic.SNTB1', 'omic.SPEF1', 'omic.ST3GAL1', 'omic.WNK3', 'omic.CLDN8', 'omic.MIR759', 'omic.SNORA43', 'omic.SNORD22', 'omic.SNORD29', 'omic.SNORD31', 'omic.SNORD79', 'omic.mir2191']}, {'name': 'omic.LOC404266', 'size': 0.2680323123931885, 'top_10': False, 'imports': ['omic.AGTRAP', 'omic.APH1B', 'omic.B4GALT5', 'omic.CCDC102A', 'omic.CMTM7', 'omic.ENPP3', 'omic.FAM184B', 'omic.FLJ37543', 'omic.GAK', 'omic.GAS6', 'omic.LOC100131551', 'omic.LRP11', 'omic.MPPED2', 'omic.NBL1', 'omic.NUP85', 'omic.PLEKHA4', 'omic.RAP2C', 'omic.SEMA5B', 'omic.SNTB1', 'omic.ST3GAL1', 'omic.WNK3', 'omic.CLDN8', 'omic.LHX1', 'omic.MIR759', 'omic.SNORA43', 'omic.SNORD22', 'omic.SNORD29', 'omic.SNORD30', 'omic.SNORD31', 'omic.SNORD79', 'omic.mir2191']}, {'name': 'omic.LOC553137', 'size': 0.05910060554742813, 'top_10': True, 'imports': ['omic.FAM184B', 'omic.PAPLN', 'omic.SPEF1', 'omic.TMPRSS7']}, {'name': 'omic.MGP', 'size': 0.030163342133164406, 'top_10': False, 'imports': ['omic.FAM184B', 'omic.PAPLN', 'omic.SPEF1']}, {'name': 'omic.MIR125B1', 'size': 0.008596457540988922, 'top_10': False, 'imports': ['omic.PART1']}, {'name': 'omic.MIR641', 'size': 0.0, 'top_10': False, 'imports': []}, {'name': 'omic.MIR759', 'size': 0.3223266899585724, 'top_10': False, 'imports': ['omic.AGTRAP', 'omic.BDKRB1', 'omic.C9orf167', 'omic.ENPP3', 'omic.EXPH5', 'omic.FAM184B', 'omic.FLJ37543', 'omic.GAK', 'omic.GAS6', 'omic.GPRC5B', 'omic.HS6ST3', 'omic.INSIG1', 'omic.KCNQ1', 'omic.KIT', 'omic.LOC100131551', 'omic.LRP11', 'omic.MECP2', 'omic.MPPED2', 'omic.MTSS1', 'omic.NPHP1', 'omic.NTN1', 'omic.NUP85', 'omic.OXGR1', 'omic.PAPLN', 'omic.PLEKHA4', 'omic.RAP2C', 'omic.SEMA5B', 'omic.SNTB1', 'omic.ST3GAL1', 'omic.WNK3', 'omic.CLDN8', 'omic.LHX1', 'omic.LOC157627', 'omic.LOC404266', 'omic.PA2G4P4', 'omic.SNORA4', 'omic.mir2191']}, {'name': 'omic.MIR99B', 'size': 0.0, 'top_10': False, 'imports': []}, {'name': 'omic.MIRLET7E', 'size': 0.030318353325128555, 'top_10': False, 'imports': ['omic.TMPRSS7']}, {'name': 'omic.NPY', 'size': 0.030996905639767647, 'top_10': False, 'imports': ['omic.FAM184B', 'omic.PAPLN', 'omic.SPEF1']}, {'name': 'omic.ODAM', 'size': 0.06656575202941895, 'top_10': False, 'imports': ['omic.APH1B', 'omic.CCDC102A', 'omic.FAM184B', 'omic.PAPLN', 'omic.PART1', 'omic.SPEF1', 'omic.SNORA43']}, {'name': 'omic.PA2G4P4', 'size': 0.1298934370279312, 'top_10': False, 'imports': ['omic.AGTRAP', 'omic.ENPP3', 'omic.FAM184B', 'omic.GAK', 'omic.GAS6', 'omic.LOC100131551', 'omic.LRP11', 'omic.MPPED2', 'omic.PART1', 'omic.SEMA5B', 'omic.SNTB1', 'omic.ST3GAL1', 'omic.WNK3', 'omic.CLDN8', 'omic.MIR759']}, {'name': 'omic.PLAC4', 'size': 0.009537946432828903, 'top_10': False, 'imports': ['omic.FAM184B']}, {'name': 'omic.RPL13AP17', 'size': 0.03056822344660759, 'top_10': False, 'imports': ['omic.FAM184B', 'omic.PAPLN', 'omic.SPEF1']}, {'name': 'omic.SLC16A5', 'size': 0.1539672464132309, 'top_10': False, 'imports': ['omic.APH1B', 'omic.CCDC102A', 'omic.CMTM7', 'omic.FAM184B', 'omic.LOC100131551', 'omic.LRP11', 'omic.MPPED2', 'omic.PAPLN', 'omic.PART1', 'omic.PLEKHA4', 'omic.SEMA5B', 'omic.SPEF1', 'omic.CLDN8', 'omic.SNORA43', 'omic.SNORD22', 'omic.SNORD29', 'omic.mir2191']}, {'name': 'omic.SNORA4', 'size': 0.08394384384155273, 'top_10': False, 'imports': ['omic.ENPP3', 'omic.GAS6', 'omic.LOC100131551', 'omic.LRP11', 'omic.PART1', 'omic.PLEKHA4', 'omic.SEMA5B', 'omic.WNK3', 'omic.CLDN8', 'omic.MIR759']}, {'name': 'omic.SNORA43', 'size': 0.46277910470962524, 'top_10': False, 'imports': ['omic.ATG4A', 'omic.ATG4D', 'omic.BCL2L2', 'omic.C16orf89', 'omic.C1orf88', 'omic.CCDC103', 'omic.CNKSR3', 'omic.CPEB4', 'omic.CREB5', 'omic.EIF4E', 'omic.ENPP3', 'omic.EXPH5', 'omic.FLJ42875', 'omic.GAK', 'omic.GAS6', 'omic.IFT172', 'omic.KIT', 'omic.LASP1', 'omic.LNX1', 'omic.LOC100131551', 'omic.LRRC14B', 'omic.MECP2', 'omic.MTSS1', 'omic.NPHP1', 'omic.NRBP1', 'omic.NTN1', 'omic.PART1', 'omic.SATB2', 'omic.SEMA5B', 'omic.SPATS2L', 'omic.SSH2', 'omic.TCTN1', 'omic.TCTN2', 'omic.TMEM43', 'omic.TP53INP2', 'omic.UBL3', 'omic.ADH1C', 'omic.ARL4D', 'omic.B3GNT8', 'omic.CLDN8', 'omic.EMX2OS', 'omic.EPGN', 'omic.HOXB3', 'omic.HOXB5', 'omic.HOXD8', 'omic.HOXD9', 'omic.LOC157627', 'omic.LOC404266', 'omic.ODAM', 'omic.SLC16A5', 'omic.mir122']}, {'name': 'omic.SNORD22', 'size': 0.24350984394550323, 'top_10': False, 'imports': ['omic.ATG4D', 'omic.C16orf89', 'omic.CCDC103', 'omic.ENPP3', 'omic.EXPH5', 'omic.GAK', 'omic.GAS6', 'omic.KIT', 'omic.KLHL15', 'omic.LOC100131551', 'omic.MECP2', 'omic.MTSS1', 'omic.NPHP1', 'omic.NRBP1', 'omic.NTN1', 'omic.PART1', 'omic.SEMA5B', 'omic.TCTN2', 'omic.UBL3', 'omic.CLDN8', 'omic.EMX2OS', 'omic.HOXB5', 'omic.LOC157627', 'omic.LOC404266', 'omic.SLC16A5', 'omic.SNORD30', 'omic.SNORD31', 'omic.mir122']}, {'name': 'omic.SNORD29', 'size': 0.32824310660362244, 'top_10': False, 'imports': ['omic.ATG4D', 'omic.BCL2L2', 'omic.C16orf89', 'omic.CCDC103', 'omic.CNKSR3', 'omic.CPEB4', 'omic.ENPP3', 'omic.EXPH5', 'omic.FLJ42875', 'omic.GAK', 'omic.GAS6', 'omic.KIT', 'omic.LASP1', 'omic.LOC100131551', 'omic.LRRC14B', 'omic.MECP2', 'omic.MTSS1', 'omic.NPHP1', 'omic.NRBP1', 'omic.NTN1', 'omic.PART1', 'omic.SEMA5B', 'omic.SPATS2L', 'omic.TCTN2', 'omic.TP53INP2', 'omic.UBL3', 'omic.ARL4D', 'omic.B3GNT8', 'omic.CLDN8', 'omic.EMX2OS', 'omic.HOXB5', 'omic.HOXD8', 'omic.HOXD9', 'omic.LOC157627', 'omic.LOC404266', 'omic.SLC16A5', 'omic.mir122']}, {'name': 'omic.SNORD30', 'size': 0.12921765446662903, 'top_10': False, 'imports': ['omic.ENPP3', 'omic.EXPH5', 'omic.GAK', 'omic.GAS6', 'omic.LOC100131551', 'omic.MECP2', 'omic.MTSS1', 'omic.NPHP1', 'omic.NTN1', 'omic.PART1', 'omic.SEMA5B', 'omic.CLDN8', 'omic.LOC404266', 'omic.SNORD22', 'omic.SNORD31']}, {'name': 'omic.SNORD31', 'size': 0.18867483735084534, 'top_10': False, 'imports': ['omic.ATG4D', 'omic.C16orf89', 'omic.ENPP3', 'omic.EXPH5', 'omic.GAK', 'omic.GAS6', 'omic.KIT', 'omic.KLHL15', 'omic.LOC100131551', 'omic.MECP2', 'omic.MTSS1', 'omic.NPHP1', 'omic.NTN1', 'omic.PART1', 'omic.SEMA5B', 'omic.UBL3', 'omic.CLDN8', 'omic.LOC157627', 'omic.LOC404266', 'omic.SNORD22', 'omic.SNORD30', 'omic.mir122']}, {'name': 'omic.SNORD79', 'size': 0.16320595145225525, 'top_10': False, 'imports': ['omic.ATG4D', 'omic.C16orf89', 'omic.ENPP3', 'omic.EXPH5', 'omic.GAK', 'omic.GAS6', 'omic.KIT', 'omic.LOC100131551', 'omic.MECP2', 'omic.MTSS1', 'omic.NPHP1', 'omic.NTN1', 'omic.PART1', 'omic.SEMA5B', 'omic.UBL3', 'omic.CLDN8', 'omic.LOC157627', 'omic.LOC404266', 'omic.mir122']}, {'name': 'omic.SOCS1', 'size': 0.030939754098653793, 'top_10': False, 'imports': ['omic.FAM184B', 'omic.PAPLN', 'omic.SPEF1']}, {'name': 'omic.TSC22D4', 'size': 0.00960406195372343, 'top_10': False, 'imports': ['omic.FAM184B']}, {'name': 'omic.UBE2N', 'size': 0.03860251605510712, 'top_10': True, 'imports': ['omic.FAM184B', 'omic.TMPRSS7']}, {'name': 'omic.VMO1', 'size': 0.03176448121666908, 'top_10': False, 'imports': ['omic.FAM184B', 'omic.PAPLN', 'omic.SPEF1']}, {'name': 'omic.ZBTB10', 'size': 0.009623756632208824, 'top_10': False, 'imports': ['omic.FAM184B']}, {'name': 'omic.mir122', 'size': 0.43226009607315063, 'top_10': True, 'imports': ['omic.APH1B', 'omic.B4GALT5', 'omic.CCDC102A', 'omic.CD34', 'omic.CMTM7', 'omic.ELTD1', 'omic.ERG', 'omic.GPR4', 'omic.LRP11', 'omic.MPPED2', 'omic.MYCT1', 'omic.PAPLN', 'omic.PLEKHA4', 'omic.ROBO4', 'omic.SNTB1', 'omic.SPEF1', 'omic.ST3GAL1', 'omic.WNK3', 'omic.SNORA43', 'omic.SNORD22', 'omic.SNORD29', 'omic.SNORD31', 'omic.SNORD79', 'omic.mir2191']}, {'name': 'omic.mir126', 'size': 0.05681956931948662, 'top_10': True, 'imports': ['omic.FAM184B', 'omic.PAPLN', 'omic.SPEF1', 'omic.TMPRSS7']}, {'name': 'omic.mir21', 'size': 0.016408735886216164, 'top_10': False, 'imports': ['omic.CCDC102A', 'omic.PART1']}, {'name': 'omic.mir2191', 'size': 0.3546643853187561, 'top_10': False, 'imports': ['omic.ATG4D', 'omic.BCL2L2', 'omic.C16orf89', 'omic.C9orf167', 'omic.CCDC103', 'omic.CNKSR3', 'omic.ENPP3', 'omic.EXPH5', 'omic.FLJ42875', 'omic.GAK', 'omic.GAS6', 'omic.GCOM1', 'omic.KIT', 'omic.LASP1', 'omic.LOC100131551', 'omic.LRRC14B', 'omic.MECP2', 'omic.MTSS1', 'omic.NEK11', 'omic.NPHP1', 'omic.NRBP1', 'omic.NTN1', 'omic.PART1', 'omic.PRKAG2', 'omic.SEMA5B', 'omic.SPATS2L', 'omic.TCTN2', 'omic.UBL3', 'omic.ARL4D', 'omic.B3GNT8', 'omic.CLDN8', 'omic.EMX2OS', 'omic.HOXB5', 'omic.HOXD8', 'omic.HOXD9', 'omic.LOC157627', 'omic.LOC404266', 'omic.MIR759', 'omic.SLC16A5', 'omic.mir122']}]\n"
     ]
    }
   ],
   "source": [
    "symmetric = (edges + edges.T) / 2 \n",
    "symmetric = symmetric*(1 - torch.eye(symmetric.shape[0]))  # remove self edges\n",
    "selected = (symmetric.sum(dim = -1) > 1.8).nonzero()\n",
    "mask_id = selected.squeeze().numpy()\n",
    "print(len(mask_id))\n",
    "selected_symmetric = symmetric[mask_id][:,mask_id]\n",
    "\n",
    "\n",
    "# plt.hist(selected_symmetric.view(-1).numpy() , bins=100, range=(0.00 , 0.0125) , cumulative=-1)\n",
    "# plt.yscale('log')\n",
    "# plt.plot()\n",
    "\n",
    "# mask value below 0.004 to 0 \n",
    "filter = 0.008\n",
    "mask = (selected_symmetric < filter).float()\n",
    "selected_symmetric = selected_symmetric * (1 - mask)\n",
    "selected_symmetric.sum(dim=-1)\n",
    "count_nonzero = torch.count_nonzero(selected_symmetric , dim=-1).sum()\n",
    "print(count_nonzero)\n",
    "\n",
    "graphs = []\n",
    "for i in range(0 , selected_symmetric.shape[0]):\n",
    "    node = {\"name\":\"omic.\"+gene_names[mask_id[i]] , \"size\": selected_symmetric[i].sum().item()  , \"top_10\": str(mask_id[i]) in top_10 , \"imports\": []}\n",
    "    \n",
    "    for j in range(0 , selected_symmetric.shape[1]):\n",
    "        if selected_symmetric[i][j] > 0:\n",
    "            node[\"imports\"].append(\"omic.\"+ gene_names[mask_id[j]])\n",
    "            \n",
    "    graphs.append(node)\n",
    "print(graphs)\n",
    "\n",
    "with open('./graph.json', 'w') as f:\n",
    "    json.dump(graphs, f , indent=1)"
   ]
  },
  {
   "cell_type": "code",
   "execution_count": 179,
   "metadata": {},
   "outputs": [
    {
     "name": "stdout",
     "output_type": "stream",
     "text": [
      "Removed node count: 1075\n"
     ]
    }
   ],
   "source": [
    "# build \n",
    "graphs = []\n",
    "empty_nodes = 0\n",
    "removed_low_score_nodes = []\n",
    "selected = []\n",
    "\n",
    "for i in range(0 , edges.size(0)):\n",
    "    node = {\"name\": \"omic.\" + gene_names[i] , \"size\": int(edges[i].sum()*torch.count_nonzero(edges[i])) , \"top_10\": str(i) in top_10 , \"imports\": []}\n",
    "    \n",
    "    for j in range(edges[i].size(0)):\n",
    "        if edges[i][j] > 0:\n",
    "            if i != j and str(j) not in top_10:\n",
    "                node[\"imports\"].append(\"omic.\" + gene_names[j])\n",
    "    \n",
    "    # if len(node[\"imports\"]) == 0:\n",
    "    #     empty_nodes += 1\n",
    "    #     removed_nodes.append(\"omic.\" + gene_names[i])\n",
    "    #     print(\"Empty node: \" + str(i))\n",
    "        \n",
    "    if (edges[i].sum() * torch.count_nonzero(edges[i])) <= 25: \n",
    "        removed_low_score_nodes.append(\"omic.\" + gene_names[i])\n",
    "        #print(\"Low score node: \" + str(i))\n",
    "    selected.append(i)\n",
    "    graphs.append(node)\n",
    "        \n",
    "print(\"Removed node count: \" + str(len(removed_low_score_nodes)))"
   ]
  },
  {
   "cell_type": "code",
   "execution_count": 180,
   "metadata": {},
   "outputs": [
    {
     "name": "stdout",
     "output_type": "stream",
     "text": [
      "Original edges count: 94837 , Removed edges count: 15188, Remaining edges: 79649\n"
     ]
    }
   ],
   "source": [
    "# remove the low score nodes\n",
    "filter_graphs = []\n",
    "original_edges_count = 0\n",
    "removed_edges_count = 0\n",
    "for node in graphs: \n",
    "    if node[\"name\"] in removed_low_score_nodes:\n",
    "        # graphs.remove(node)\n",
    "        continue \n",
    "    \n",
    "    \n",
    "    original_edges = len(node[\"imports\"])\n",
    "    original_edges_count += original_edges\n",
    "    node['imports'] = [x for x in node['imports'] if x not in removed_low_score_nodes]\n",
    "    removed_edges_count += (original_edges - len(node['imports']))\n",
    "    \n",
    "    filter_graphs.append(node)\n",
    "    \n",
    "print(f\"Original edges count: {original_edges_count} , Removed edges count: {removed_edges_count}, Remaining edges: {original_edges_count - removed_edges_count}\")\n",
    "\n",
    "# # remove the neighbour that are removed \n",
    "# check_incomming = {k:0 for k in removed_nodes}\n",
    "# for node in graphs: \n",
    "#     # node[\"imports\"] = [x for x in node[\"imports\"] if x not in removed_nodes]\n",
    "#     for outgoing in node[\"imports\"]:\n",
    "#         if outgoing in check_incomming:\n",
    "#             check_incomming[outgoing] += 1"
   ]
  },
  {
   "cell_type": "code",
   "execution_count": 178,
   "metadata": {},
   "outputs": [],
   "source": [
    "import json \n",
    "with open('./graph.json', 'w') as f:\n",
    "    json.dump(filter_graphs, f , indent=1)"
   ]
  },
  {
   "cell_type": "code",
   "execution_count": 129,
   "metadata": {},
   "outputs": [
    {
     "data": {
      "text/plain": [
       "[('omic.DOK4', 6),\n",
       " ('omic.OCIAD2', 6),\n",
       " ('omic.SPATS2L', 6),\n",
       " ('omic.TCTN1', 6),\n",
       " ('omic.TCTN2', 6),\n",
       " ('omic.ATP5G2', 6),\n",
       " ('omic.HOXD8', 6),\n",
       " ('omic.LOC553137', 6),\n",
       " ('omic.MGP', 6),\n",
       " ('omic.NPY', 6),\n",
       " ('omic.SOCS1', 6),\n",
       " ('omic.VMO1', 6),\n",
       " ('omic.ADIPOR2', 5),\n",
       " ('omic.ANKRD9', 5),\n",
       " ('omic.ATG4D', 5),\n",
       " ('omic.BCL2L2', 5),\n",
       " ('omic.C1orf88', 5),\n",
       " ('omic.CCDC103', 5),\n",
       " ('omic.CLDN8', 5),\n",
       " ('omic.CNKSR3', 5),\n",
       " ('omic.COL23A1', 5),\n",
       " ('omic.DHX40', 5),\n",
       " ('omic.ENPP3', 5),\n",
       " ('omic.GAK', 5),\n",
       " ('omic.GAS6', 5),\n",
       " ('omic.HAGHL', 5),\n",
       " ('omic.KDR', 5),\n",
       " ('omic.KIT', 5),\n",
       " ('omic.LOC100131551', 5),\n",
       " ('omic.MAPKSP1', 5),\n",
       " ('omic.MTSS1', 5),\n",
       " ('omic.NPHP1', 5),\n",
       " ('omic.NTN1', 5),\n",
       " ('omic.NUDT22', 5),\n",
       " ('omic.PART1', 5),\n",
       " ('omic.PLEKHJ1', 5),\n",
       " ('omic.SEMA5B', 5),\n",
       " ('omic.SLC39A13', 5),\n",
       " ('omic.SSH2', 5),\n",
       " ('omic.ST8SIA5', 5),\n",
       " ('omic.SYNGR2', 5),\n",
       " ('omic.SYT7', 5),\n",
       " ('omic.TMEM129', 5),\n",
       " ('omic.TRAPPC6B', 5),\n",
       " ('omic.TSPAN5', 5),\n",
       " ('omic.VEGFA', 5),\n",
       " ('omic.EMX2OS', 5),\n",
       " ('omic.EPGN', 5),\n",
       " ('omic.LOC157627', 5),\n",
       " ('omic.MIR124-1', 5),\n",
       " ('omic.RPL13AP17', 5),\n",
       " ('omic.SLC16A5', 5),\n",
       " ('omic.mir122', 5),\n",
       " ('omic.mir126', 5),\n",
       " ('omic.mir222', 5),\n",
       " ('omic.FDXR', 3),\n",
       " ('omic.NEK11', 3),\n",
       " ('omic.LOC100130148', 3),\n",
       " ('omic.C6orf174', 2),\n",
       " ('omic.GCOM1', 2),\n",
       " ('omic.HNF1B', 2),\n",
       " ('omic.MTUS1', 2),\n",
       " ('omic.SLBP', 2),\n",
       " ('omic.TPST2', 2),\n",
       " ('omic.HYAL4', 2),\n",
       " ('omic.MIR759', 2),\n",
       " ('omic.AGTRAP', 1),\n",
       " ('omic.ALDH3B1', 1),\n",
       " ('omic.ASPHD2', 1),\n",
       " ('omic.ATP6V0A1', 1),\n",
       " ('omic.B4GALT5', 1),\n",
       " ('omic.BDKRB1', 1),\n",
       " ('omic.C17orf62', 1),\n",
       " ('omic.FARP1', 1),\n",
       " ('omic.FBXO33', 1),\n",
       " ('omic.FGFR4', 1),\n",
       " ('omic.FLJ90757', 1),\n",
       " ('omic.FLOT2', 1),\n",
       " ('omic.GNPNAT1', 1),\n",
       " ('omic.INSIG1', 1),\n",
       " ('omic.LASP1', 1),\n",
       " ('omic.LOC151534', 1),\n",
       " ('omic.NEURL', 1),\n",
       " ('omic.OXGR1', 1),\n",
       " ('omic.RGS12', 1),\n",
       " ('omic.SNTB1', 1),\n",
       " ('omic.ST3GAL1', 1),\n",
       " ('omic.ADH1C', 1),\n",
       " ('omic.CHKB-CPT1B', 1),\n",
       " ('omic.FLJ32063', 1),\n",
       " ('omic.HOXB3', 1),\n",
       " ('omic.HOXB5', 1),\n",
       " ('omic.LOC404266', 1),\n",
       " ('omic.UBE2N', 1),\n",
       " ('omic.ZBTB10', 1),\n",
       " ('omic.ZNF233', 1),\n",
       " ('omic.APH1B', 0),\n",
       " ('omic.ARHGAP6', 0),\n",
       " ('omic.ARMCX3', 0),\n",
       " ('omic.ATG4A', 0),\n",
       " ('omic.BLNK', 0),\n",
       " ('omic.BNIP3L', 0),\n",
       " ('omic.BSND', 0),\n",
       " ('omic.C16orf89', 0),\n",
       " ('omic.C3orf70', 0),\n",
       " ('omic.C9orf116', 0),\n",
       " ('omic.C9orf167', 0),\n",
       " ('omic.CA12', 0),\n",
       " ('omic.CA9', 0),\n",
       " ('omic.CCDC102A', 0),\n",
       " ('omic.CCNG2', 0),\n",
       " ('omic.CDH5', 0),\n",
       " ('omic.CGNL1', 0),\n",
       " ('omic.CKMT1B', 0),\n",
       " ('omic.CMTM7', 0),\n",
       " ('omic.CPEB4', 0),\n",
       " ('omic.CPT1A', 0),\n",
       " ('omic.CR1L', 0),\n",
       " ('omic.CREB5', 0),\n",
       " ('omic.CXCL16', 0),\n",
       " ('omic.CXorf36', 0),\n",
       " ('omic.CYB561', 0),\n",
       " ('omic.CYBA', 0),\n",
       " ('omic.CYP51A1', 0),\n",
       " ('omic.DAGLB', 0),\n",
       " ('omic.DYRK3', 0),\n",
       " ('omic.EFHA2', 0),\n",
       " ('omic.EIF4E', 0),\n",
       " ('omic.EXOC7', 0),\n",
       " ('omic.EXPH5', 0),\n",
       " ('omic.FAM13C', 0),\n",
       " ('omic.FAM174A', 0),\n",
       " ('omic.FAM184B', 0),\n",
       " ('omic.FAM71E1', 0),\n",
       " ('omic.FLJ37543', 0),\n",
       " ('omic.FLJ42875', 0),\n",
       " ('omic.FOXI2', 0),\n",
       " ('omic.FOXN3', 0),\n",
       " ('omic.GATA2', 0),\n",
       " ('omic.GPRC5B', 0),\n",
       " ('omic.HS6ST3', 0),\n",
       " ('omic.HSD11B2', 0),\n",
       " ('omic.IFT172', 0),\n",
       " ('omic.IQGAP2', 0),\n",
       " ('omic.ITPR1', 0),\n",
       " ('omic.KCNJ11', 0),\n",
       " ('omic.KCNQ1', 0),\n",
       " ('omic.KIAA1328', 0),\n",
       " ('omic.KLHL15', 0),\n",
       " ('omic.KREMEN1', 0),\n",
       " ('omic.LBX2', 0),\n",
       " ('omic.LDB2', 0),\n",
       " ('omic.LIMCH1', 0),\n",
       " ('omic.LNX1', 0),\n",
       " ('omic.LOC90246', 0),\n",
       " ('omic.LRP11', 0),\n",
       " ('omic.LRRC14B', 0),\n",
       " ('omic.MAGI1', 0),\n",
       " ('omic.MECOM', 0),\n",
       " ('omic.MECP2', 0),\n",
       " ('omic.MPPED2', 0),\n",
       " ('omic.MYO5A', 0),\n",
       " ('omic.NAP1L5', 0),\n",
       " ('omic.NBL1', 0),\n",
       " ('omic.NKIRAS2', 0),\n",
       " ('omic.NOTCH4', 0),\n",
       " ('omic.NOVA2', 0),\n",
       " ('omic.NPHP4', 0),\n",
       " ('omic.NPTN', 0),\n",
       " ('omic.NR3C2', 0),\n",
       " ('omic.NRBP1', 0),\n",
       " ('omic.NUP85', 0),\n",
       " ('omic.OGDHL', 0),\n",
       " ('omic.OXNAD1', 0),\n",
       " ('omic.PAPLN', 0),\n",
       " ('omic.PCDH12', 0),\n",
       " ('omic.PCDH1', 0),\n",
       " ('omic.PLCG2', 0),\n",
       " ('omic.PLD2', 0),\n",
       " ('omic.PLEKHA4', 0),\n",
       " ('omic.PLIN2', 0),\n",
       " ('omic.PLS3', 0),\n",
       " ('omic.PLVAP', 0),\n",
       " ('omic.PRDM16', 0),\n",
       " ('omic.PRKAG2', 0),\n",
       " ('omic.RAP1GDS1', 0),\n",
       " ('omic.RAP2C', 0),\n",
       " ('omic.RCAN2', 0),\n",
       " ('omic.RGS16', 0),\n",
       " ('omic.SATB2', 0),\n",
       " ('omic.SEZ6L2', 0),\n",
       " ('omic.SH3BP4', 0),\n",
       " ('omic.SLC22A23', 0),\n",
       " ('omic.SPEF1', 0),\n",
       " ('omic.SPIRE1', 0),\n",
       " ('omic.TBC1D1', 0),\n",
       " ('omic.TFIP11', 0),\n",
       " ('omic.TMEM30B', 0),\n",
       " ('omic.TMEM43', 0),\n",
       " ('omic.TMEM72', 0),\n",
       " ('omic.TP53INP2', 0),\n",
       " ('omic.TPK1', 0),\n",
       " ('omic.TSC22D2', 0),\n",
       " ('omic.TSPAN7', 0),\n",
       " ('omic.UBE2QL1', 0),\n",
       " ('omic.UBL3', 0),\n",
       " ('omic.VAT1', 0),\n",
       " ('omic.WNK3', 0),\n",
       " ('omic.YAF2', 0),\n",
       " ('omic.ZNF91', 0),\n",
       " ('omic.CHAD', 0),\n",
       " ('omic.DEF6', 0),\n",
       " ('omic.EMX1', 0),\n",
       " ('omic.HOXD9', 0),\n",
       " ('omic.KCNJ1', 0),\n",
       " ('omic.LHX1', 0),\n",
       " ('omic.MIR125B1', 0),\n",
       " ('omic.MIR641', 0),\n",
       " ('omic.MIR99B', 0),\n",
       " ('omic.MIRLET7E', 0),\n",
       " ('omic.PA2G4P4', 0),\n",
       " ('omic.PLAC4', 0),\n",
       " ('omic.SNORA4', 0),\n",
       " ('omic.SNORA43', 0),\n",
       " ('omic.SNORD22', 0),\n",
       " ('omic.SNORD29', 0),\n",
       " ('omic.SNORD30', 0),\n",
       " ('omic.SNORD31', 0),\n",
       " ('omic.SNORD79', 0),\n",
       " ('omic.TSC22D4', 0),\n",
       " ('omic.mir21', 0),\n",
       " ('omic.mir2191', 0),\n",
       " ('omic.mir582', 0)]"
      ]
     },
     "execution_count": 129,
     "metadata": {},
     "output_type": "execute_result"
    }
   ],
   "source": [
    "count_dict = {graph['name']:len(graph['imports']) for graph in filter_graphs }\n",
    "sorted(count_dict.items(), key=lambda x: x[1], reverse=True)"
   ]
  },
  {
   "cell_type": "code",
   "execution_count": 108,
   "metadata": {},
   "outputs": [
    {
     "data": {
      "text/plain": [
       "Text(0, 0.5, 'Frequency')"
      ]
     },
     "execution_count": 108,
     "metadata": {},
     "output_type": "execute_result"
    },
    {
     "data": {
      "image/png": "[encoded data removed]",
      "text/plain": [
       "<Figure size 640x480 with 1 Axes>"
      ]
     },
     "metadata": {},
     "output_type": "display_data"
    }
   ],
   "source": [
    "import matplotlib.pyplot as plt\n",
    "\n",
    "plt.hist(edges[selected , selected].view(-1).numpy() , bins=100, range=(0.01 , 0.2))\n",
    "#plt.yscale('log')\n",
    "plt.xlabel('Edge weight')\n",
    "plt.ylabel('Frequency')\n",
    "\n"
   ]
  },
  {
   "cell_type": "code",
   "execution_count": 16,
   "metadata": {},
   "outputs": [
    {
     "data": {
      "text/plain": [
       "tensor([[1., 0., 0., 0., 0., 0., 0., 0., 0., 0.],\n",
       "        [0., 1., 0., 0., 0., 0., 0., 0., 0., 0.],\n",
       "        [0., 0., 1., 0., 0., 0., 0., 0., 0., 0.],\n",
       "        [0., 0., 0., 1., 0., 0., 0., 0., 0., 0.],\n",
       "        [0., 0., 0., 0., 1., 0., 0., 0., 0., 0.],\n",
       "        [0., 0., 0., 0., 0., 1., 0., 0., 0., 0.],\n",
       "        [0., 0., 0., 0., 0., 0., 1., 0., 0., 0.],\n",
       "        [0., 0., 0., 0., 0., 0., 0., 1., 0., 0.],\n",
       "        [0., 0., 0., 0., 0., 0., 0., 0., 1., 0.],\n",
       "        [0., 0., 0., 0., 0., 0., 0., 0., 0., 1.]])"
      ]
     },
     "execution_count": 16,
     "metadata": {},
     "output_type": "execute_result"
    }
   ],
   "source": [
    "torch.eye(10)"
   ]
  },
  {
   "cell_type": "code",
   "execution_count": 76,
   "metadata": {},
   "outputs": [
    {
     "data": {
      "text/plain": [
       "Text(0, 0.5, 'Frequency')"
      ]
     },
     "execution_count": 76,
     "metadata": {},
     "output_type": "execute_result"
    },
    {
     "data": {
      "image/png": "[encoded data removed]",
      "text/plain": [
       "<Figure size 640x480 with 1 Axes>"
      ]
     },
     "metadata": {},
     "output_type": "display_data"
    }
   ],
   "source": [
    "import matplotlib.pyplot as plt\n",
    "\n",
    "# set the edges self to zero \n",
    "identity = torch.eye(edges.size(0)) \n",
    "# set the diagonal to zero\n",
    "edges_removed = edges * (1 - identity)\n",
    "\n",
    "plt.hist((edges_removed.sum(dim=-1) * torch.count_nonzero(edges_removed , dim=-1)).numpy() , bins=10, range=(0.1, 600))\n",
    "#plt.yscale('log')\n",
    "plt.xlabel('Edge weight')\n",
    "plt.ylabel('Frequency')"
   ]
  },
  {
   "cell_type": "code",
   "execution_count": 2,
   "metadata": {},
   "outputs": [],
   "source": [
    "# plot the graph\n",
    "import networkx as nx\n",
    "import matplotlib.pyplot as plt\n",
    "\n",
    "G = nx.Graph()\n",
    "\n",
    "for i , edge_value in enumerate(edges[444].numpy()):\n",
    "    G.add_node(i)\n",
    "    \n",
    "    if edge_value > 0:\n",
    "        G.add_edge(444, i, weight=edge_value)\n"
   ]
  },
  {
   "cell_type": "code",
   "execution_count": 3,
   "metadata": {},
   "outputs": [
    {
     "ename": "ValueError",
     "evalue": "'vertices' must be 2D with shape (N, 2), but your input has shape (2, 3)",
     "output_type": "error",
     "traceback": [
      "\u001b[0;31m---------------------------------------------------------------------------\u001b[0m",
      "\u001b[0;31mValueError\u001b[0m                                Traceback (most recent call last)",
      "Cell \u001b[0;32mIn[3], line 6\u001b[0m\n\u001b[1;32m      4\u001b[0m \u001b[38;5;66;03m# draw the graph\u001b[39;00m\n\u001b[1;32m      5\u001b[0m pos \u001b[38;5;241m=\u001b[39m nx\u001b[38;5;241m.\u001b[39mpetersen_graph(G)\n\u001b[0;32m----> 6\u001b[0m \u001b[43mnx\u001b[49m\u001b[38;5;241;43m.\u001b[39;49m\u001b[43mdraw\u001b[49m\u001b[43m(\u001b[49m\u001b[43mG\u001b[49m\u001b[43m,\u001b[49m\u001b[43m \u001b[49m\u001b[43mpos\u001b[49m\u001b[43m,\u001b[49m\u001b[43m \u001b[49m\u001b[43mwith_labels\u001b[49m\u001b[38;5;241;43m=\u001b[39;49m\u001b[38;5;28;43;01mTrue\u001b[39;49;00m\u001b[43m,\u001b[49m\u001b[43m \u001b[49m\u001b[43mnode_size\u001b[49m\u001b[38;5;241;43m=\u001b[39;49m\u001b[38;5;241;43m10\u001b[39;49m\u001b[43m,\u001b[49m\u001b[43m \u001b[49m\u001b[43mfont_size\u001b[49m\u001b[38;5;241;43m=\u001b[39;49m\u001b[38;5;241;43m10\u001b[39;49m\u001b[43m)\u001b[49m\n\u001b[1;32m      7\u001b[0m edge_labels \u001b[38;5;241m=\u001b[39m nx\u001b[38;5;241m.\u001b[39mget_edge_attributes(G, \u001b[38;5;124m'\u001b[39m\u001b[38;5;124mweight\u001b[39m\u001b[38;5;124m'\u001b[39m)\n\u001b[1;32m      8\u001b[0m nx\u001b[38;5;241m.\u001b[39mdraw_networkx_edge_labels(G, pos, edge_labels\u001b[38;5;241m=\u001b[39medge_labels)\n",
      "File \u001b[0;32m~/miniconda3/envs/gnn/lib/python3.9/site-packages/networkx/drawing/nx_pylab.py:121\u001b[0m, in \u001b[0;36mdraw\u001b[0;34m(G, pos, ax, **kwds)\u001b[0m\n\u001b[1;32m    118\u001b[0m \u001b[38;5;28;01mif\u001b[39;00m \u001b[38;5;124m\"\u001b[39m\u001b[38;5;124mwith_labels\u001b[39m\u001b[38;5;124m\"\u001b[39m \u001b[38;5;129;01mnot\u001b[39;00m \u001b[38;5;129;01min\u001b[39;00m kwds:\n\u001b[1;32m    119\u001b[0m     kwds[\u001b[38;5;124m\"\u001b[39m\u001b[38;5;124mwith_labels\u001b[39m\u001b[38;5;124m\"\u001b[39m] \u001b[38;5;241m=\u001b[39m \u001b[38;5;124m\"\u001b[39m\u001b[38;5;124mlabels\u001b[39m\u001b[38;5;124m\"\u001b[39m \u001b[38;5;129;01min\u001b[39;00m kwds\n\u001b[0;32m--> 121\u001b[0m \u001b[43mdraw_networkx\u001b[49m\u001b[43m(\u001b[49m\u001b[43mG\u001b[49m\u001b[43m,\u001b[49m\u001b[43m \u001b[49m\u001b[43mpos\u001b[49m\u001b[38;5;241;43m=\u001b[39;49m\u001b[43mpos\u001b[49m\u001b[43m,\u001b[49m\u001b[43m \u001b[49m\u001b[43max\u001b[49m\u001b[38;5;241;43m=\u001b[39;49m\u001b[43max\u001b[49m\u001b[43m,\u001b[49m\u001b[43m \u001b[49m\u001b[38;5;241;43m*\u001b[39;49m\u001b[38;5;241;43m*\u001b[39;49m\u001b[43mkwds\u001b[49m\u001b[43m)\u001b[49m\n\u001b[1;32m    122\u001b[0m ax\u001b[38;5;241m.\u001b[39mset_axis_off()\n\u001b[1;32m    123\u001b[0m plt\u001b[38;5;241m.\u001b[39mdraw_if_interactive()\n",
      "File \u001b[0;32m~/miniconda3/envs/gnn/lib/python3.9/site-packages/networkx/drawing/nx_pylab.py:304\u001b[0m, in \u001b[0;36mdraw_networkx\u001b[0;34m(G, pos, arrows, with_labels, **kwds)\u001b[0m\n\u001b[1;32m    301\u001b[0m     pos \u001b[38;5;241m=\u001b[39m nx\u001b[38;5;241m.\u001b[39mdrawing\u001b[38;5;241m.\u001b[39mspring_layout(G)  \u001b[38;5;66;03m# default to spring layout\u001b[39;00m\n\u001b[1;32m    303\u001b[0m draw_networkx_nodes(G, pos, \u001b[38;5;241m*\u001b[39m\u001b[38;5;241m*\u001b[39mnode_kwds)\n\u001b[0;32m--> 304\u001b[0m \u001b[43mdraw_networkx_edges\u001b[49m\u001b[43m(\u001b[49m\u001b[43mG\u001b[49m\u001b[43m,\u001b[49m\u001b[43m \u001b[49m\u001b[43mpos\u001b[49m\u001b[43m,\u001b[49m\u001b[43m \u001b[49m\u001b[43marrows\u001b[49m\u001b[38;5;241;43m=\u001b[39;49m\u001b[43marrows\u001b[49m\u001b[43m,\u001b[49m\u001b[43m \u001b[49m\u001b[38;5;241;43m*\u001b[39;49m\u001b[38;5;241;43m*\u001b[39;49m\u001b[43medge_kwds\u001b[49m\u001b[43m)\u001b[49m\n\u001b[1;32m    305\u001b[0m \u001b[38;5;28;01mif\u001b[39;00m with_labels:\n\u001b[1;32m    306\u001b[0m     draw_networkx_labels(G, pos, \u001b[38;5;241m*\u001b[39m\u001b[38;5;241m*\u001b[39mlabel_kwds)\n",
      "File \u001b[0;32m~/miniconda3/envs/gnn/lib/python3.9/site-packages/networkx/drawing/nx_pylab.py:896\u001b[0m, in \u001b[0;36mdraw_networkx_edges\u001b[0;34m(G, pos, edgelist, width, edge_color, style, alpha, arrowstyle, arrowsize, edge_cmap, edge_vmin, edge_vmax, ax, arrows, label, node_size, nodelist, node_shape, connectionstyle, min_source_margin, min_target_margin)\u001b[0m\n\u001b[1;32m    894\u001b[0m \u001b[38;5;66;03m# Draw the edges\u001b[39;00m\n\u001b[1;32m    895\u001b[0m \u001b[38;5;28;01mif\u001b[39;00m use_linecollection:\n\u001b[0;32m--> 896\u001b[0m     edge_viz_obj \u001b[38;5;241m=\u001b[39m \u001b[43m_draw_networkx_edges_line_collection\u001b[49m\u001b[43m(\u001b[49m\u001b[43m)\u001b[49m\n\u001b[1;32m    897\u001b[0m     \u001b[38;5;66;03m# Make sure selfloop edges are also drawn\u001b[39;00m\n\u001b[1;32m    898\u001b[0m     selfloops_to_draw \u001b[38;5;241m=\u001b[39m [loop \u001b[38;5;28;01mfor\u001b[39;00m loop \u001b[38;5;129;01min\u001b[39;00m nx\u001b[38;5;241m.\u001b[39mselfloop_edges(G) \u001b[38;5;28;01mif\u001b[39;00m loop \u001b[38;5;129;01min\u001b[39;00m edgelist]\n",
      "File \u001b[0;32m~/miniconda3/envs/gnn/lib/python3.9/site-packages/networkx/drawing/nx_pylab.py:738\u001b[0m, in \u001b[0;36mdraw_networkx_edges.<locals>._draw_networkx_edges_line_collection\u001b[0;34m()\u001b[0m\n\u001b[1;32m    737\u001b[0m \u001b[38;5;28;01mdef\u001b[39;00m \u001b[38;5;21m_draw_networkx_edges_line_collection\u001b[39m():\n\u001b[0;32m--> 738\u001b[0m     edge_collection \u001b[38;5;241m=\u001b[39m \u001b[43mmpl\u001b[49m\u001b[38;5;241;43m.\u001b[39;49m\u001b[43mcollections\u001b[49m\u001b[38;5;241;43m.\u001b[39;49m\u001b[43mLineCollection\u001b[49m\u001b[43m(\u001b[49m\n\u001b[1;32m    739\u001b[0m \u001b[43m        \u001b[49m\u001b[43medge_pos\u001b[49m\u001b[43m,\u001b[49m\n\u001b[1;32m    740\u001b[0m \u001b[43m        \u001b[49m\u001b[43mcolors\u001b[49m\u001b[38;5;241;43m=\u001b[39;49m\u001b[43medge_color\u001b[49m\u001b[43m,\u001b[49m\n\u001b[1;32m    741\u001b[0m \u001b[43m        \u001b[49m\u001b[43mlinewidths\u001b[49m\u001b[38;5;241;43m=\u001b[39;49m\u001b[43mwidth\u001b[49m\u001b[43m,\u001b[49m\n\u001b[1;32m    742\u001b[0m \u001b[43m        \u001b[49m\u001b[43mantialiaseds\u001b[49m\u001b[38;5;241;43m=\u001b[39;49m\u001b[43m(\u001b[49m\u001b[38;5;241;43m1\u001b[39;49m\u001b[43m,\u001b[49m\u001b[43m)\u001b[49m\u001b[43m,\u001b[49m\n\u001b[1;32m    743\u001b[0m \u001b[43m        \u001b[49m\u001b[43mlinestyle\u001b[49m\u001b[38;5;241;43m=\u001b[39;49m\u001b[43mstyle\u001b[49m\u001b[43m,\u001b[49m\n\u001b[1;32m    744\u001b[0m \u001b[43m        \u001b[49m\u001b[43malpha\u001b[49m\u001b[38;5;241;43m=\u001b[39;49m\u001b[43malpha\u001b[49m\u001b[43m,\u001b[49m\n\u001b[1;32m    745\u001b[0m \u001b[43m    \u001b[49m\u001b[43m)\u001b[49m\n\u001b[1;32m    746\u001b[0m     edge_collection\u001b[38;5;241m.\u001b[39mset_cmap(edge_cmap)\n\u001b[1;32m    747\u001b[0m     edge_collection\u001b[38;5;241m.\u001b[39mset_clim(edge_vmin, edge_vmax)\n",
      "File \u001b[0;32m~/miniconda3/envs/gnn/lib/python3.9/site-packages/matplotlib/collections.py:1396\u001b[0m, in \u001b[0;36mLineCollection.__init__\u001b[0;34m(self, segments, zorder, **kwargs)\u001b[0m\n\u001b[1;32m   1392\u001b[0m kwargs\u001b[38;5;241m.\u001b[39msetdefault(\u001b[38;5;124m'\u001b[39m\u001b[38;5;124mfacecolors\u001b[39m\u001b[38;5;124m'\u001b[39m, \u001b[38;5;124m'\u001b[39m\u001b[38;5;124mnone\u001b[39m\u001b[38;5;124m'\u001b[39m)\n\u001b[1;32m   1393\u001b[0m \u001b[38;5;28msuper\u001b[39m()\u001b[38;5;241m.\u001b[39m\u001b[38;5;21m__init__\u001b[39m(\n\u001b[1;32m   1394\u001b[0m     zorder\u001b[38;5;241m=\u001b[39mzorder,\n\u001b[1;32m   1395\u001b[0m     \u001b[38;5;241m*\u001b[39m\u001b[38;5;241m*\u001b[39mkwargs)\n\u001b[0;32m-> 1396\u001b[0m \u001b[38;5;28;43mself\u001b[39;49m\u001b[38;5;241;43m.\u001b[39;49m\u001b[43mset_segments\u001b[49m\u001b[43m(\u001b[49m\u001b[43msegments\u001b[49m\u001b[43m)\u001b[49m\n",
      "File \u001b[0;32m~/miniconda3/envs/gnn/lib/python3.9/site-packages/matplotlib/collections.py:1402\u001b[0m, in \u001b[0;36mLineCollection.set_segments\u001b[0;34m(self, segments)\u001b[0m\n\u001b[1;32m   1399\u001b[0m \u001b[38;5;28;01mif\u001b[39;00m segments \u001b[38;5;129;01mis\u001b[39;00m \u001b[38;5;28;01mNone\u001b[39;00m:\n\u001b[1;32m   1400\u001b[0m     \u001b[38;5;28;01mreturn\u001b[39;00m\n\u001b[0;32m-> 1402\u001b[0m \u001b[38;5;28mself\u001b[39m\u001b[38;5;241m.\u001b[39m_paths \u001b[38;5;241m=\u001b[39m [mpath\u001b[38;5;241m.\u001b[39mPath(seg) \u001b[38;5;28;01mif\u001b[39;00m \u001b[38;5;28misinstance\u001b[39m(seg, np\u001b[38;5;241m.\u001b[39mma\u001b[38;5;241m.\u001b[39mMaskedArray)\n\u001b[1;32m   1403\u001b[0m                \u001b[38;5;28;01melse\u001b[39;00m mpath\u001b[38;5;241m.\u001b[39mPath(np\u001b[38;5;241m.\u001b[39masarray(seg, \u001b[38;5;28mfloat\u001b[39m))\n\u001b[1;32m   1404\u001b[0m                \u001b[38;5;28;01mfor\u001b[39;00m seg \u001b[38;5;129;01min\u001b[39;00m segments]\n\u001b[1;32m   1405\u001b[0m \u001b[38;5;28mself\u001b[39m\u001b[38;5;241m.\u001b[39mstale \u001b[38;5;241m=\u001b[39m \u001b[38;5;28;01mTrue\u001b[39;00m\n",
      "File \u001b[0;32m~/miniconda3/envs/gnn/lib/python3.9/site-packages/matplotlib/collections.py:1403\u001b[0m, in \u001b[0;36m<listcomp>\u001b[0;34m(.0)\u001b[0m\n\u001b[1;32m   1399\u001b[0m \u001b[38;5;28;01mif\u001b[39;00m segments \u001b[38;5;129;01mis\u001b[39;00m \u001b[38;5;28;01mNone\u001b[39;00m:\n\u001b[1;32m   1400\u001b[0m     \u001b[38;5;28;01mreturn\u001b[39;00m\n\u001b[1;32m   1402\u001b[0m \u001b[38;5;28mself\u001b[39m\u001b[38;5;241m.\u001b[39m_paths \u001b[38;5;241m=\u001b[39m [mpath\u001b[38;5;241m.\u001b[39mPath(seg) \u001b[38;5;28;01mif\u001b[39;00m \u001b[38;5;28misinstance\u001b[39m(seg, np\u001b[38;5;241m.\u001b[39mma\u001b[38;5;241m.\u001b[39mMaskedArray)\n\u001b[0;32m-> 1403\u001b[0m                \u001b[38;5;28;01melse\u001b[39;00m \u001b[43mmpath\u001b[49m\u001b[38;5;241;43m.\u001b[39;49m\u001b[43mPath\u001b[49m\u001b[43m(\u001b[49m\u001b[43mnp\u001b[49m\u001b[38;5;241;43m.\u001b[39;49m\u001b[43masarray\u001b[49m\u001b[43m(\u001b[49m\u001b[43mseg\u001b[49m\u001b[43m,\u001b[49m\u001b[43m \u001b[49m\u001b[38;5;28;43mfloat\u001b[39;49m\u001b[43m)\u001b[49m\u001b[43m)\u001b[49m\n\u001b[1;32m   1404\u001b[0m                \u001b[38;5;28;01mfor\u001b[39;00m seg \u001b[38;5;129;01min\u001b[39;00m segments]\n\u001b[1;32m   1405\u001b[0m \u001b[38;5;28mself\u001b[39m\u001b[38;5;241m.\u001b[39mstale \u001b[38;5;241m=\u001b[39m \u001b[38;5;28;01mTrue\u001b[39;00m\n",
      "File \u001b[0;32m~/miniconda3/envs/gnn/lib/python3.9/site-packages/matplotlib/path.py:130\u001b[0m, in \u001b[0;36mPath.__init__\u001b[0;34m(self, vertices, codes, _interpolation_steps, closed, readonly)\u001b[0m\n\u001b[1;32m    101\u001b[0m \u001b[38;5;250m\u001b[39m\u001b[38;5;124;03m\"\"\"\u001b[39;00m\n\u001b[1;32m    102\u001b[0m \u001b[38;5;124;03mCreate a new path with the given vertices and codes.\u001b[39;00m\n\u001b[1;32m    103\u001b[0m \n\u001b[0;32m   (...)\u001b[0m\n\u001b[1;32m    127\u001b[0m \u001b[38;5;124;03m    and codes as read-only arrays.\u001b[39;00m\n\u001b[1;32m    128\u001b[0m \u001b[38;5;124;03m\"\"\"\u001b[39;00m\n\u001b[1;32m    129\u001b[0m vertices \u001b[38;5;241m=\u001b[39m _to_unmasked_float_array(vertices)\n\u001b[0;32m--> 130\u001b[0m \u001b[43m_api\u001b[49m\u001b[38;5;241;43m.\u001b[39;49m\u001b[43mcheck_shape\u001b[49m\u001b[43m(\u001b[49m\u001b[43m(\u001b[49m\u001b[38;5;28;43;01mNone\u001b[39;49;00m\u001b[43m,\u001b[49m\u001b[43m \u001b[49m\u001b[38;5;241;43m2\u001b[39;49m\u001b[43m)\u001b[49m\u001b[43m,\u001b[49m\u001b[43m \u001b[49m\u001b[43mvertices\u001b[49m\u001b[38;5;241;43m=\u001b[39;49m\u001b[43mvertices\u001b[49m\u001b[43m)\u001b[49m\n\u001b[1;32m    132\u001b[0m \u001b[38;5;28;01mif\u001b[39;00m codes \u001b[38;5;129;01mis\u001b[39;00m \u001b[38;5;129;01mnot\u001b[39;00m \u001b[38;5;28;01mNone\u001b[39;00m:\n\u001b[1;32m    133\u001b[0m     codes \u001b[38;5;241m=\u001b[39m np\u001b[38;5;241m.\u001b[39masarray(codes, \u001b[38;5;28mself\u001b[39m\u001b[38;5;241m.\u001b[39mcode_type)\n",
      "File \u001b[0;32m~/miniconda3/envs/gnn/lib/python3.9/site-packages/matplotlib/_api/__init__.py:161\u001b[0m, in \u001b[0;36mcheck_shape\u001b[0;34m(shape, **kwargs)\u001b[0m\n\u001b[1;32m    158\u001b[0m \u001b[38;5;28;01mif\u001b[39;00m \u001b[38;5;28mlen\u001b[39m(shape) \u001b[38;5;241m==\u001b[39m \u001b[38;5;241m1\u001b[39m:\n\u001b[1;32m    159\u001b[0m     text_shape \u001b[38;5;241m+\u001b[39m\u001b[38;5;241m=\u001b[39m \u001b[38;5;124m\"\u001b[39m\u001b[38;5;124m,\u001b[39m\u001b[38;5;124m\"\u001b[39m\n\u001b[0;32m--> 161\u001b[0m \u001b[38;5;28;01mraise\u001b[39;00m \u001b[38;5;167;01mValueError\u001b[39;00m(\n\u001b[1;32m    162\u001b[0m     \u001b[38;5;124mf\u001b[39m\u001b[38;5;124m\"\u001b[39m\u001b[38;5;132;01m{\u001b[39;00mk\u001b[38;5;132;01m!r}\u001b[39;00m\u001b[38;5;124m must be \u001b[39m\u001b[38;5;132;01m{\u001b[39;00m\u001b[38;5;28mlen\u001b[39m(shape)\u001b[38;5;132;01m}\u001b[39;00m\u001b[38;5;124mD with shape (\u001b[39m\u001b[38;5;132;01m{\u001b[39;00mtext_shape\u001b[38;5;132;01m}\u001b[39;00m\u001b[38;5;124m), \u001b[39m\u001b[38;5;124m\"\u001b[39m\n\u001b[1;32m    163\u001b[0m     \u001b[38;5;124mf\u001b[39m\u001b[38;5;124m\"\u001b[39m\u001b[38;5;124mbut your input has shape \u001b[39m\u001b[38;5;132;01m{\u001b[39;00mv\u001b[38;5;241m.\u001b[39mshape\u001b[38;5;132;01m}\u001b[39;00m\u001b[38;5;124m\"\u001b[39m\n\u001b[1;32m    164\u001b[0m )\n",
      "\u001b[0;31mValueError\u001b[0m: 'vertices' must be 2D with shape (N, 2), but your input has shape (2, 3)"
     ]
    },
    {
     "data": {
      "image/png": "[encoded data removed]",
      "text/plain": [
       "<Figure size 640x480 with 1 Axes>"
      ]
     },
     "metadata": {},
     "output_type": "display_data"
    }
   ],
   "source": [
    "# hide isolated nodes\n",
    "G.remove_nodes_from(list(nx.isolates(G)))\n",
    "\n",
    "# draw the graph\n",
    "pos = nx.petersen_graph(G)\n",
    "nx.draw(G, pos, with_labels=True, node_size=10, font_size=10)\n",
    "edge_labels = nx.get_edge_attributes(G, 'weight')\n",
    "nx.draw_networkx_edge_labels(G, pos, edge_labels=edge_labels)\n",
    "plt.show()\n"
   ]
  },
  {
   "cell_type": "code",
   "execution_count": 33,
   "metadata": {},
   "outputs": [],
   "source": [
    "import torch \n",
    "import os \n",
    "from pathlib import Path\n",
    "\n",
    "# list available files from a directory\n",
    "def list_files(directory):\n",
    "    return [f for f in os.listdir(directory) if os.path.isfile(os.path.join(directory, f))]\n",
    "\n",
    "test_dir = Path(\"../biomarkers/BRCA/prior\")\n",
    "available_files = list_files(test_dir)"
   ]
  },
  {
   "cell_type": "code",
   "execution_count": 34,
   "metadata": {},
   "outputs": [],
   "source": [
    "edge_list = [torch.load(test_dir / f) for f in available_files]"
   ]
  },
  {
   "cell_type": "code",
   "execution_count": 45,
   "metadata": {},
   "outputs": [
    {
     "name": "stdout",
     "output_type": "stream",
     "text": [
      "dict_keys(['edges_score', 'gene_names'])\n",
      "Common genes: 252\n",
      "torch.Size([5, 252, 252])\n",
      "FOXC1\n",
      "ESR1\n",
      "FOXA1\n",
      "MIR563\n",
      "AGR3\n",
      "GPR77\n",
      "GATA3\n",
      "TBC1D9\n",
      "mir934\n",
      "XBP1\n",
      "LOC145837\n",
      "IL34\n",
      "CA12\n",
      "ANXA9\n",
      "SLC44A4\n",
      "C6orf97\n",
      "MLPH\n",
      "CCDC125\n",
      "CMBL\n",
      "THSD4\n",
      "ZNF552\n",
      "SLC22A5\n",
      "GREB1\n",
      "ARSG\n",
      "ABAT\n",
      "DNALI1\n",
      "CDH3\n",
      "SPDEF\n",
      "LOC100130331\n",
      "GPR160\n",
      "ARL4C\n",
      "SIDT1\n",
      "TRIM29\n",
      "CSDA\n",
      "mir190b\n",
      "SLC7A8\n",
      "RUNX3\n",
      "CCDC82\n",
      "MIA\n",
      "MAPT\n",
      "INGX\n",
      "EPHA2\n",
      "BCL11A\n",
      "SUSD3\n",
      "SOX10\n",
      "MPHOSPH6\n",
      "SFRP1\n",
      "AFF3\n",
      "NCOA7\n",
      "IVD\n",
      "CHST3\n",
      "PLAGL1\n",
      "BCL2\n",
      "C4orf34\n",
      "RNF145\n",
      "TLE4\n",
      "HAPLN3\n",
      "VGLL1\n",
      "S1PR2\n",
      "MICALL1\n",
      "GABRP\n",
      "FAM63A\n",
      "UGT2B11\n",
      "FAM171A1\n",
      "SCPEP1\n",
      "PTX3\n",
      "TMEM86A\n",
      "CNTNAP3\n",
      "RRM2\n",
      "DUSP7\n",
      "mir516a2\n",
      "PRNP\n",
      "TRPV6\n",
      "SEC14L4\n",
      "MALL\n",
      "HRK\n",
      "mir1052\n",
      "LOC84856\n",
      "SIRPA\n",
      "PPM1F\n",
      "TMPRSS12\n",
      "mir765\n",
      "mir519a1\n",
      "PLEKHG1\n",
      "PSAT1\n",
      "SOX11\n",
      "SPEF2\n",
      "C16orf57\n",
      "PADI2\n",
      "IFFO2\n",
      "KLHDC1\n",
      "MMP7\n",
      "mir522\n",
      "PHF15\n",
      "WDR19\n",
      "FZD7\n",
      "ARHGEF4\n",
      "MID1\n",
      "BBOX1\n",
      "DNMT3B\n"
     ]
    }
   ],
   "source": [
    "common_genes = set()\n",
    "print(edge_list[0].keys())\n",
    "\n",
    "for i , sample in enumerate(edge_list):\n",
    "    if i == 0:\n",
    "        common_genes = set(sample['gene_names'])\n",
    "        continue \n",
    "    \n",
    "    common_genes = common_genes.intersection(set(sample['gene_names']))\n",
    "    \n",
    "print(\"Common genes: \" + str(len(common_genes)))\n",
    "common_genes = list(common_genes)\n",
    "\n",
    "edges = []\n",
    "for sample in edge_list:\n",
    "    gene_idx = []\n",
    "    for gene in common_genes:\n",
    "        gene_idx.append(sample['gene_names'].index(gene))\n",
    "        \n",
    "    edge = sample['edges_score'][gene_idx][:,gene_idx]\n",
    "    # remove self edges \n",
    "    edge = edge * (1 - torch.eye(edge.size(0)))\n",
    "    # normalize the edge \n",
    "    # edge = edge / edge.max()\n",
    "    edge = torch.nn.functional.normalize(edge)\n",
    "    edges.append(edge)\n",
    "    \n",
    "edges = torch.stack(edges)\n",
    "print(edges.shape)\n",
    "\n",
    "for i in edges.sum(dim=0).sum(dim=-1).topk(100).indices: \n",
    "    print(common_genes[i])"
   ]
  },
  {
   "cell_type": "code",
   "execution_count": 44,
   "metadata": {},
   "outputs": [
    {
     "data": {
      "text/plain": [
       "tensor([[-0.7079, -0.0780,  0.7020],\n",
       "        [ 0.7489, -0.0489, -0.6609],\n",
       "        [-0.7526, -0.5580,  0.3497]])"
      ]
     },
     "execution_count": 44,
     "metadata": {},
     "output_type": "execute_result"
    }
   ],
   "source": [
    "torch.nn.functional.normalize(torch.randn(3,3),p=2, dim=1)"
   ]
  },
  {
   "cell_type": "code",
   "execution_count": null,
   "metadata": {},
   "outputs": [],
   "source": []
  }
 ],
 "metadata": {
  "kernelspec": {
   "display_name": "gnn",
   "language": "python",
   "name": "python3"
  },
  "language_info": {
   "codemirror_mode": {
    "name": "ipython",
    "version": 3
   },
   "file_extension": ".py",
   "mimetype": "text/x-python",
   "name": "python",
   "nbconvert_exporter": "python",
   "pygments_lexer": "ipython3",
   "version": "3.9.18"
  }
 },
 "nbformat": 4,
 "nbformat_minor": 2
}
