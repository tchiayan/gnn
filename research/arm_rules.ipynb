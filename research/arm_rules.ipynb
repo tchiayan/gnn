{
 "cells": [
  {
   "cell_type": "code",
   "execution_count": 1,
   "metadata": {},
   "outputs": [],
   "source": [
    "import pandas as pd"
   ]
  },
  {
   "cell_type": "code",
   "execution_count": 2,
   "metadata": {},
   "outputs": [],
   "source": [
    "ac_rule_1_tr = pd.read_csv(r\"../artifacts\\data_preprocessing\\BRCA\\ac_rule_1.tsv\", sep=\"\\t\" , header=None , names=[\"label\" , \"support\" , \"confidence\" , \"rules\" , \"interestingness\"])\n",
    "ac_rule_1_te = pd.read_csv(r\"../artifacts\\data_preprocessing\\BRCA\\ac_rule_1_te.tsv\", sep=\"\\t\" , header=None , names=[\"label\" , \"support\" , \"confidence\" , \"rules\" , \"interestingness\"])"
   ]
  },
  {
   "cell_type": "code",
   "execution_count": 3,
   "metadata": {},
   "outputs": [
    {
     "name": "stderr",
     "output_type": "stream",
     "text": [
      "C:\\Users\\tchia\\AppData\\Local\\Temp\\ipykernel_16268\\1642498320.py:2: DeprecationWarning: DataFrameGroupBy.apply operated on the grouping columns. This behavior is deprecated, and in a future version of pandas the grouping columns will be excluded from the operation. Either pass `include_groups=False` to exclude the groupings or explicitly select the grouping columns after groupby to silence this warning.\n",
      "  grouped_top50_tr = ac_rule_1_tr.groupby(\"label\").apply(lambda x: x.nlargest(50, \"interestingness\")).reset_index(drop=True)\n",
      "C:\\Users\\tchia\\AppData\\Local\\Temp\\ipykernel_16268\\1642498320.py:3: DeprecationWarning: DataFrameGroupBy.apply operated on the grouping columns. This behavior is deprecated, and in a future version of pandas the grouping columns will be excluded from the operation. Either pass `include_groups=False` to exclude the groupings or explicitly select the grouping columns after groupby to silence this warning.\n",
      "  grouped_top50_te = ac_rule_1_te.groupby(\"label\").apply(lambda x: x.nlargest(50, \"interestingness\")).reset_index(drop=True)\n"
     ]
    }
   ],
   "source": [
    "# get top 50 rules based on interestingness for each label \n",
    "grouped_top50_tr = ac_rule_1_tr.groupby(\"label\").apply(lambda x: x.nlargest(50, \"interestingness\")).reset_index(drop=True)\n",
    "grouped_top50_te = ac_rule_1_te.groupby(\"label\").apply(lambda x: x.nlargest(50, \"interestingness\")).reset_index(drop=True)"
   ]
  },
  {
   "cell_type": "code",
   "execution_count": 49,
   "metadata": {},
   "outputs": [],
   "source": [
    "# Loop for each group and summary the unique antecedent count of the rules\n",
    "class_summary_tr = {}\n",
    "\n",
    "for label in grouped_top50_tr[\"label\"].unique():\n",
    "    filtered = grouped_top50_tr[grouped_top50_tr[\"label\"] == label]\n",
    "    \n",
    "    class_summary_tr[label] = {}\n",
    "    \n",
    "    for idx , row in filtered.iterrows():\n",
    "        antecedents = [x.split(\":\")[0] for x in row[\"rules\"].split(\",\")]\n",
    "        \n",
    "        for antecedent in antecedents:\n",
    "            if antecedent not in class_summary_tr[label]:\n",
    "                class_summary_tr[label][antecedent] = 1\n",
    "            else:\n",
    "                class_summary_tr[label][antecedent] += 1\n",
    "\n",
    "class_summary_te = {}         \n",
    "for label in grouped_top50_te[\"label\"].unique():\n",
    "    filtered = grouped_top50_te[grouped_top50_tr[\"label\"] == label]\n",
    "    \n",
    "    class_summary_te[label] = {}\n",
    "    \n",
    "    for idx , row in filtered.iterrows():\n",
    "        antecedents = [x.split(\":\")[0] for x in row[\"rules\"].split(\",\")]\n",
    "        \n",
    "        for antecedent in antecedents:\n",
    "            if antecedent not in class_summary_te[label]:\n",
    "                class_summary_te[label][antecedent] = 1\n",
    "            else:\n",
    "                class_summary_te[label][antecedent] += 1"
   ]
  },
  {
   "cell_type": "code",
   "execution_count": 50,
   "metadata": {},
   "outputs": [
    {
     "name": "stdout",
     "output_type": "stream",
     "text": [
      "Train | Class 0.0 has 174 unique antecedents\n",
      "Train | Class 1.0 has 719 unique antecedents\n",
      "Train | Class 2.0 has 647 unique antecedents\n",
      "Train | Class 3.0 has 511 unique antecedents\n",
      "Train | Class 4.0 has 871 unique antecedents\n",
      "Train | Class 0.0 has 242 unique antecedents\n",
      "Train | Class 1.0 has 840 unique antecedents\n",
      "Train | Class 2.0 has 616 unique antecedents\n",
      "Train | Class 3.0 has 486 unique antecedents\n",
      "Train | Class 4.0 has 959 unique antecedents\n"
     ]
    }
   ],
   "source": [
    "# print the summary\n",
    "for key in class_summary_tr.keys():\n",
    "    print(f\"Train | Class {key} has {len(class_summary_tr[key].keys())} unique antecedents\")\n",
    "    \n",
    "for key in class_summary_te.keys():\n",
    "    print(f\"Train | Class {key} has {len(class_summary_te[key].keys())} unique antecedents\")\n",
    "    \n",
    "# print common antecedents between classes\n"
   ]
  },
  {
   "cell_type": "code",
   "execution_count": 63,
   "metadata": {},
   "outputs": [
    {
     "data": {
      "text/plain": [
       "<Axes: >"
      ]
     },
     "execution_count": 63,
     "metadata": {},
     "output_type": "execute_result"
    },
    {
     "data": {
      "image/png": "[encoded data removed]",
      "text/plain": [
       "<Figure size 640x480 with 1 Axes>"
      ]
     },
     "metadata": {},
     "output_type": "display_data"
    }
   ],
   "source": [
    "pd.Series(class_summary_te[2.0].values()).hist(bins=50)"
   ]
  },
  {
   "cell_type": "code",
   "execution_count": 60,
   "metadata": {},
   "outputs": [
    {
     "name": "stdout",
     "output_type": "stream",
     "text": [
      "Class 0.0 has 123 common antecedents between train and test\n",
      "Class 1.0 has 635 common antecedents between train and test\n",
      "Class 2.0 has 505 common antecedents between train and test\n",
      "Class 3.0 has 344 common antecedents between train and test\n",
      "Class 4.0 has 845 common antecedents between train and test\n",
      "\n",
      "Class 0.0 : [0, 12, 2, 3, 12]\n",
      "Class 1.0 : [62, 0, 78, 83, 68]\n",
      "Class 2.0 : [10, 62, 0, 77, 55]\n",
      "Class 3.0 : [10, 45, 52, 0, 36]\n",
      "Class 4.0 : [86, 90, 92, 90, 0]\n",
      "\n",
      "Class 0.0 : [0, 77, 13, 13, 106]\n",
      "Class 1.0 : [77, 0, 398, 286, 576]\n",
      "Class 2.0 : [13, 398, 0, 266, 468]\n",
      "Class 3.0 : [13, 286, 266, 0, 310]\n",
      "Class 4.0 : [106, 576, 468, 310, 0]\n"
     ]
    }
   ],
   "source": [
    "intersection_genes_set = {}\n",
    "for key in class_summary_tr.keys():\n",
    "    # find intersection between classes\n",
    "    intersection = set(class_summary_tr[key].keys()).intersection(class_summary_te[key].keys())\n",
    "    print(f\"Class {key} has {len(intersection)} common antecedents between train and test\")\n",
    "    intersection_genes_set[key] = intersection\n",
    "    \n",
    "print()\n",
    "# print the common antecedents among the classes \n",
    "for key in intersection_genes_set.keys():\n",
    "    print(f\"Class {key} : {[ 0 if x == key else int(len(intersection_genes_set[x].intersection(intersection_genes_set[key]))/len(intersection_genes_set[x])*100)  for x in intersection_genes_set.keys() ]}\")\n",
    "    \n",
    "# print the common antecedents among the classes \n",
    "print()\n",
    "for key in intersection_genes_set.keys():\n",
    "    print(f\"Class {key} : {[ 0 if x == key else len(intersection_genes_set[x].intersection(intersection_genes_set[key])) for x in intersection_genes_set.keys() ]}\")"
   ]
  },
  {
   "cell_type": "code",
   "execution_count": 64,
   "metadata": {},
   "outputs": [],
   "source": [
    "te = pd.read_csv(r\"../artifacts\\data_preprocessing\\BRCA\\labels_te.csv\", sep=\"\\t\" , header=None)\n",
    "tr = pd.read_csv(r\"../artifacts\\data_preprocessing\\BRCA\\labels_tr.csv\", sep=\"\\t\" , header=None)"
   ]
  },
  {
   "cell_type": "code",
   "execution_count": 65,
   "metadata": {},
   "outputs": [
    {
     "name": "stdout",
     "output_type": "stream",
     "text": [
      "0\n",
      "0.0     44\n",
      "1.0     10\n",
      "2.0    122\n",
      "3.0     45\n",
      "4.0     10\n",
      "dtype: int64\n",
      "0\n",
      "0.0     86\n",
      "1.0     36\n",
      "2.0    297\n",
      "3.0     95\n",
      "4.0     24\n",
      "dtype: int64\n"
     ]
    }
   ],
   "source": [
    "print(te.groupby(0).size())\n",
    "print(tr.groupby(0).size())"
   ]
  },
  {
   "cell_type": "code",
   "execution_count": 4,
   "metadata": {},
   "outputs": [],
   "source": [
    "# load pickle file KBinsDiscretizer\n",
    "import pickle\n",
    "\n",
    "with open(r\"../artifacts\\data_preprocessing\\BRCA\\kbins_1.joblib\", \"rb\") as file:\n",
    "    est = pickle.load(file)\n",
    "    \n",
    "# load test data\n",
    "omic_1_te = pd.read_csv(r\"../artifacts\\data_preprocessing\\BRCA\\1_te.csv\", header=None)\n",
    "# Discritize the test data\n",
    "omic_1_te = pd.DataFrame(est.transform(omic_1_te) , columns=omic_1_te.columns)"
   ]
  },
  {
   "cell_type": "code",
   "execution_count": 7,
   "metadata": {},
   "outputs": [],
   "source": [
    "testing_model = {}\n",
    "\n",
    "for label in grouped_top50_te[\"label\"].unique():\n",
    "    filtered = grouped_top50_te[grouped_top50_te[\"label\"] == label]\n",
    "    \n",
    "    testing_model[label] = []\n",
    "    \n",
    "    for idx , row in filtered.iterrows():\n",
    "        rules = set(row[\"rules\"].split(\",\"))\n",
    "        testing_model[label].append(rules)\n",
    "        \n",
    "        "
   ]
  },
  {
   "cell_type": "code",
   "execution_count": 32,
   "metadata": {},
   "outputs": [],
   "source": [
    "import numpy as np\n",
    "classification_summary = []\n",
    "for idx , row in omic_1_te.iterrows():\n",
    "    # test each rules \n",
    "    sample = set([f\"{x[0]}:{x[1]}\" for x in list(zip(row.index , row.values))])\n",
    "    # print(sample)\n",
    "    # print(testing_model[0.0][0])\n",
    "    # print(len(testing_model[0.0][0].intersection(sample)))\n",
    "    # print(len(testing_model[0.0][0]))\n",
    "    summary = {}\n",
    "    for label in testing_model.keys():\n",
    "        summary[label] = []\n",
    "        \n",
    "        for rule in testing_model[label]:\n",
    "            insersection_set = rule.intersection(sample)\n",
    "            summary[label].append(len(insersection_set)/len(rule))\n",
    "            \n",
    "        summary[label] = np.mean(summary[label])\n",
    "    \n",
    "    # select max value key\n",
    "    summary['prediction'] = max(summary, key=summary.get)\n",
    "    summary['sample'] = idx\n",
    "    classification_summary.append(summary)\n",
    "    #print(summary)\n"
   ]
  },
  {
   "cell_type": "code",
   "execution_count": 34,
   "metadata": {},
   "outputs": [
    {
     "data": {
      "text/html": [
       "<div>\n",
       "<style scoped>\n",
       "    .dataframe tbody tr th:only-of-type {\n",
       "        vertical-align: middle;\n",
       "    }\n",
       "\n",
       "    .dataframe tbody tr th {\n",
       "        vertical-align: top;\n",
       "    }\n",
       "\n",
       "    .dataframe thead th {\n",
       "        text-align: right;\n",
       "    }\n",
       "</style>\n",
       "<table border=\"1\" class=\"dataframe\">\n",
       "  <thead>\n",
       "    <tr style=\"text-align: right;\">\n",
       "      <th></th>\n",
       "      <th>0.0</th>\n",
       "      <th>1.0</th>\n",
       "      <th>2.0</th>\n",
       "      <th>3.0</th>\n",
       "      <th>4.0</th>\n",
       "      <th>prediction</th>\n",
       "      <th>sample</th>\n",
       "    </tr>\n",
       "  </thead>\n",
       "  <tbody>\n",
       "    <tr>\n",
       "      <th>0</th>\n",
       "      <td>0.984438</td>\n",
       "      <td>0.972336</td>\n",
       "      <td>0.962903</td>\n",
       "      <td>0.964840</td>\n",
       "      <td>0.957914</td>\n",
       "      <td>0.0</td>\n",
       "      <td>0</td>\n",
       "    </tr>\n",
       "    <tr>\n",
       "      <th>1</th>\n",
       "      <td>0.986221</td>\n",
       "      <td>0.994100</td>\n",
       "      <td>1.000000</td>\n",
       "      <td>0.997803</td>\n",
       "      <td>0.998516</td>\n",
       "      <td>2.0</td>\n",
       "      <td>1</td>\n",
       "    </tr>\n",
       "    <tr>\n",
       "      <th>2</th>\n",
       "      <td>0.897539</td>\n",
       "      <td>0.975734</td>\n",
       "      <td>0.998172</td>\n",
       "      <td>0.997803</td>\n",
       "      <td>0.983642</td>\n",
       "      <td>2.0</td>\n",
       "      <td>2</td>\n",
       "    </tr>\n",
       "    <tr>\n",
       "      <th>3</th>\n",
       "      <td>0.979400</td>\n",
       "      <td>0.991205</td>\n",
       "      <td>0.998172</td>\n",
       "      <td>0.997803</td>\n",
       "      <td>0.994531</td>\n",
       "      <td>2.0</td>\n",
       "      <td>3</td>\n",
       "    </tr>\n",
       "    <tr>\n",
       "      <th>4</th>\n",
       "      <td>0.979266</td>\n",
       "      <td>0.980019</td>\n",
       "      <td>0.988816</td>\n",
       "      <td>0.997803</td>\n",
       "      <td>0.976421</td>\n",
       "      <td>3.0</td>\n",
       "      <td>4</td>\n",
       "    </tr>\n",
       "    <tr>\n",
       "      <th>...</th>\n",
       "      <td>...</td>\n",
       "      <td>...</td>\n",
       "      <td>...</td>\n",
       "      <td>...</td>\n",
       "      <td>...</td>\n",
       "      <td>...</td>\n",
       "      <td>...</td>\n",
       "    </tr>\n",
       "    <tr>\n",
       "      <th>226</th>\n",
       "      <td>0.994021</td>\n",
       "      <td>0.938194</td>\n",
       "      <td>0.921334</td>\n",
       "      <td>0.937436</td>\n",
       "      <td>0.937757</td>\n",
       "      <td>0.0</td>\n",
       "      <td>226</td>\n",
       "    </tr>\n",
       "    <tr>\n",
       "      <th>227</th>\n",
       "      <td>0.917734</td>\n",
       "      <td>0.981056</td>\n",
       "      <td>1.000000</td>\n",
       "      <td>0.995605</td>\n",
       "      <td>0.985830</td>\n",
       "      <td>2.0</td>\n",
       "      <td>227</td>\n",
       "    </tr>\n",
       "    <tr>\n",
       "      <th>228</th>\n",
       "      <td>0.958529</td>\n",
       "      <td>0.987735</td>\n",
       "      <td>1.000000</td>\n",
       "      <td>0.999912</td>\n",
       "      <td>0.986391</td>\n",
       "      <td>2.0</td>\n",
       "      <td>228</td>\n",
       "    </tr>\n",
       "    <tr>\n",
       "      <th>229</th>\n",
       "      <td>0.992773</td>\n",
       "      <td>0.989196</td>\n",
       "      <td>0.999927</td>\n",
       "      <td>0.997803</td>\n",
       "      <td>0.996630</td>\n",
       "      <td>2.0</td>\n",
       "      <td>229</td>\n",
       "    </tr>\n",
       "    <tr>\n",
       "      <th>230</th>\n",
       "      <td>0.828398</td>\n",
       "      <td>0.957167</td>\n",
       "      <td>0.994480</td>\n",
       "      <td>0.990332</td>\n",
       "      <td>0.963890</td>\n",
       "      <td>2.0</td>\n",
       "      <td>230</td>\n",
       "    </tr>\n",
       "  </tbody>\n",
       "</table>\n",
       "<p>231 rows × 7 columns</p>\n",
       "</div>"
      ],
      "text/plain": [
       "          0.0       1.0       2.0       3.0       4.0  prediction  sample\n",
       "0    0.984438  0.972336  0.962903  0.964840  0.957914         0.0       0\n",
       "1    0.986221  0.994100  1.000000  0.997803  0.998516         2.0       1\n",
       "2    0.897539  0.975734  0.998172  0.997803  0.983642         2.0       2\n",
       "3    0.979400  0.991205  0.998172  0.997803  0.994531         2.0       3\n",
       "4    0.979266  0.980019  0.988816  0.997803  0.976421         3.0       4\n",
       "..        ...       ...       ...       ...       ...         ...     ...\n",
       "226  0.994021  0.938194  0.921334  0.937436  0.937757         0.0     226\n",
       "227  0.917734  0.981056  1.000000  0.995605  0.985830         2.0     227\n",
       "228  0.958529  0.987735  1.000000  0.999912  0.986391         2.0     228\n",
       "229  0.992773  0.989196  0.999927  0.997803  0.996630         2.0     229\n",
       "230  0.828398  0.957167  0.994480  0.990332  0.963890         2.0     230\n",
       "\n",
       "[231 rows x 7 columns]"
      ]
     },
     "execution_count": 34,
     "metadata": {},
     "output_type": "execute_result"
    }
   ],
   "source": [
    "df_prediction = pd.DataFrame(classification_summary)\n",
    "df_prediction"
   ]
  },
  {
   "cell_type": "code",
   "execution_count": 35,
   "metadata": {},
   "outputs": [],
   "source": [
    "label = pd.read_csv(r\"..\\artifacts\\data_preprocessing\\BRCA\\labels_te.csv\" , header=None)"
   ]
  },
  {
   "cell_type": "code",
   "execution_count": 37,
   "metadata": {},
   "outputs": [
    {
     "name": "stdout",
     "output_type": "stream",
     "text": [
      "              precision    recall  f1-score   support\n",
      "\n",
      "         0.0       0.85      0.91      0.88        44\n",
      "         1.0       1.00      0.60      0.75        10\n",
      "         2.0       0.86      0.96      0.91       122\n",
      "         3.0       0.89      0.76      0.82        45\n",
      "         4.0       0.75      0.30      0.43        10\n",
      "\n",
      "    accuracy                           0.87       231\n",
      "   macro avg       0.87      0.70      0.76       231\n",
      "weighted avg       0.87      0.87      0.86       231\n",
      "\n"
     ]
    }
   ],
   "source": [
    "from sklearn.metrics import classification_report\n",
    "\n",
    "print(classification_report(label , df_prediction[\"prediction\"]))"
   ]
  },
  {
   "cell_type": "code",
   "execution_count": null,
   "metadata": {},
   "outputs": [],
   "source": []
  }
 ],
 "metadata": {
  "kernelspec": {
   "display_name": "gnn",
   "language": "python",
   "name": "python3"
  },
  "language_info": {
   "codemirror_mode": {
    "name": "ipython",
    "version": 3
   },
   "file_extension": ".py",
   "mimetype": "text/x-python",
   "name": "python",
   "nbconvert_exporter": "python",
   "pygments_lexer": "ipython3",
   "version": "3.9.19"
  }
 },
 "nbformat": 4,
 "nbformat_minor": 2
}
