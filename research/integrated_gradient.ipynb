{
 "cells": [
  {
   "cell_type": "code",
   "execution_count": 1,
   "metadata": {},
   "outputs": [
    {
     "name": "stderr",
     "output_type": "stream",
     "text": [
      "/home/student/anaconda3/envs/gnn/lib/python3.9/site-packages/tqdm/auto.py:21: TqdmWarning: IProgress not found. Please update jupyter and ipywidgets. See https://ipywidgets.readthedocs.io/en/stable/user_install.html\n",
      "  from .autonotebook import tqdm as notebook_tqdm\n"
     ]
    }
   ],
   "source": [
    "from amogel.model.GCN import GCN\n",
    "import torch\n",
    "from torch_geometric.utils import to_dense_batch\n",
    "from torch_geometric.loader import DataLoader\n",
    "from captum.attr import IntegratedGradients\n",
    "from tqdm import tqdm\n",
    "from amogel.utils.common import load_omic_features_name "
   ]
  },
  {
   "cell_type": "code",
   "execution_count": 3,
   "metadata": {},
   "outputs": [
    {
     "ename": "RuntimeError",
     "evalue": "Error(s) in loading state_dict for GCN:\n\tsize mismatch for lin.weight: copying a param with shape torch.Size([5, 32]) from checkpoint, the shape in current model is torch.Size([3, 32]).\n\tsize mismatch for lin.bias: copying a param with shape torch.Size([5]) from checkpoint, the shape in current model is torch.Size([3]).\n\tsize mismatch for mlp.8.weight: copying a param with shape torch.Size([5, 32]) from checkpoint, the shape in current model is torch.Size([3, 32]).\n\tsize mismatch for mlp.8.bias: copying a param with shape torch.Size([5]) from checkpoint, the shape in current model is torch.Size([3]).",
     "output_type": "error",
     "traceback": [
      "\u001b[0;31m---------------------------------------------------------------------------\u001b[0m",
      "\u001b[0;31mRuntimeError\u001b[0m                              Traceback (most recent call last)",
      "Cell \u001b[0;32mIn[3], line 4\u001b[0m\n\u001b[1;32m      2\u001b[0m test_loader \u001b[39m=\u001b[39m DataLoader(test_graph, batch_size\u001b[39m=\u001b[39m\u001b[39m50\u001b[39m, shuffle\u001b[39m=\u001b[39m\u001b[39mFalse\u001b[39;00m)\n\u001b[1;32m      3\u001b[0m model \u001b[39m=\u001b[39m GCN(\u001b[39m3\u001b[39m, \u001b[39m32\u001b[39m , \u001b[39m3\u001b[39m , test_graph[\u001b[39m0\u001b[39m]\u001b[39m.\u001b[39mx\u001b[39m.\u001b[39mshape[\u001b[39m0\u001b[39m] \u001b[39m*\u001b[39m test_graph[\u001b[39m0\u001b[39m]\u001b[39m.\u001b[39mx\u001b[39m.\u001b[39mshape[\u001b[39m1\u001b[39m])\n\u001b[0;32m----> 4\u001b[0m model\u001b[39m.\u001b[39;49mload_state_dict(torch\u001b[39m.\u001b[39;49mload(\u001b[39m\"\u001b[39;49m\u001b[39m../artifacts/amogel/BRCA_model.pt\u001b[39;49m\u001b[39m\"\u001b[39;49m))\n\u001b[1;32m      6\u001b[0m \u001b[39mclass\u001b[39;00m \u001b[39mNewModel\u001b[39;00m(torch\u001b[39m.\u001b[39mnn\u001b[39m.\u001b[39mModule):\n\u001b[1;32m      7\u001b[0m     \u001b[39mdef\u001b[39;00m \u001b[39m__init__\u001b[39m(\u001b[39mself\u001b[39m, model):\n",
      "File \u001b[0;32m~/anaconda3/envs/gnn/lib/python3.9/site-packages/torch/nn/modules/module.py:2152\u001b[0m, in \u001b[0;36mModule.load_state_dict\u001b[0;34m(self, state_dict, strict, assign)\u001b[0m\n\u001b[1;32m   2147\u001b[0m         error_msgs\u001b[39m.\u001b[39minsert(\n\u001b[1;32m   2148\u001b[0m             \u001b[39m0\u001b[39m, \u001b[39m'\u001b[39m\u001b[39mMissing key(s) in state_dict: \u001b[39m\u001b[39m{}\u001b[39;00m\u001b[39m. \u001b[39m\u001b[39m'\u001b[39m\u001b[39m.\u001b[39mformat(\n\u001b[1;32m   2149\u001b[0m                 \u001b[39m'\u001b[39m\u001b[39m, \u001b[39m\u001b[39m'\u001b[39m\u001b[39m.\u001b[39mjoin(\u001b[39mf\u001b[39m\u001b[39m'\u001b[39m\u001b[39m\"\u001b[39m\u001b[39m{\u001b[39;00mk\u001b[39m}\u001b[39;00m\u001b[39m\"\u001b[39m\u001b[39m'\u001b[39m \u001b[39mfor\u001b[39;00m k \u001b[39min\u001b[39;00m missing_keys)))\n\u001b[1;32m   2151\u001b[0m \u001b[39mif\u001b[39;00m \u001b[39mlen\u001b[39m(error_msgs) \u001b[39m>\u001b[39m \u001b[39m0\u001b[39m:\n\u001b[0;32m-> 2152\u001b[0m     \u001b[39mraise\u001b[39;00m \u001b[39mRuntimeError\u001b[39;00m(\u001b[39m'\u001b[39m\u001b[39mError(s) in loading state_dict for \u001b[39m\u001b[39m{}\u001b[39;00m\u001b[39m:\u001b[39m\u001b[39m\\n\u001b[39;00m\u001b[39m\\t\u001b[39;00m\u001b[39m{}\u001b[39;00m\u001b[39m'\u001b[39m\u001b[39m.\u001b[39mformat(\n\u001b[1;32m   2153\u001b[0m                        \u001b[39mself\u001b[39m\u001b[39m.\u001b[39m\u001b[39m__class__\u001b[39m\u001b[39m.\u001b[39m\u001b[39m__name__\u001b[39m, \u001b[39m\"\u001b[39m\u001b[39m\\n\u001b[39;00m\u001b[39m\\t\u001b[39;00m\u001b[39m\"\u001b[39m\u001b[39m.\u001b[39mjoin(error_msgs)))\n\u001b[1;32m   2154\u001b[0m \u001b[39mreturn\u001b[39;00m _IncompatibleKeys(missing_keys, unexpected_keys)\n",
      "\u001b[0;31mRuntimeError\u001b[0m: Error(s) in loading state_dict for GCN:\n\tsize mismatch for lin.weight: copying a param with shape torch.Size([5, 32]) from checkpoint, the shape in current model is torch.Size([3, 32]).\n\tsize mismatch for lin.bias: copying a param with shape torch.Size([5]) from checkpoint, the shape in current model is torch.Size([3]).\n\tsize mismatch for mlp.8.weight: copying a param with shape torch.Size([5, 32]) from checkpoint, the shape in current model is torch.Size([3, 32]).\n\tsize mismatch for mlp.8.bias: copying a param with shape torch.Size([5]) from checkpoint, the shape in current model is torch.Size([3])."
     ]
    }
   ],
   "source": [
    "test_graph = torch.load(\"../artifacts/amogel/test_graph.pt\")\n",
    "test_loader = DataLoader(test_graph, batch_size=50, shuffle=False)\n",
    "model = GCN(3, 32 , 3 , test_graph[0].x.shape[0] * test_graph[0].x.shape[1])\n",
    "model.load_state_dict(torch.load(\"../artifacts/amogel/BRCA_model.pt\"))\n",
    "\n",
    "class NewModel(torch.nn.Module):\n",
    "    def __init__(self, model):\n",
    "        super(NewModel, self).__init__()\n",
    "        self.A = model.feedforward \n",
    "        self.B = model.mlp\n",
    "        self.z = torch.zeros(50, 64) # batch_size\n",
    "        \n",
    "    def forward(self, x , gnn_x):\n",
    "        i = self.A(x)\n",
    "        #print(i.shape)\n",
    "        #print(self.z.shape)\n",
    "        y  = torch.concat([gnn_x , i], dim=-1)\n",
    "        #print(y.shape)\n",
    "        return self.B(y)\n",
    " \n",
    "new_model = NewModel(model)\n",
    "new_model.eval()\n",
    "\n",
    "actual = []\n",
    "attribution = []\n",
    "with tqdm(total=len(test_loader)) as pbar:\n",
    "    for batch in test_loader: \n",
    "        output2 , _ , _ , _ , _ , _ , gnn_x = model(batch.x , batch.edge_index , batch.edge_attr , batch.batch)\n",
    "        x , edge_index , edge_attr, batch , y = batch.x , batch.edge_index , batch.edge_attr , batch.batch , batch.y\n",
    "        batch_x , batch_mask = to_dense_batch(x , batch) # dimension ( no_batch , number_of_node )\n",
    "        batch_x = batch_x.view(batch_x.shape[0] , batch_x.shape[1] * batch_x.shape[2]) \n",
    "        #print(batch_x.shape)\n",
    "        #print(y)\n",
    "        #print(new_model(batch_x).shape)\n",
    "        output = new_model(batch_x , gnn_x)\n",
    "        # calculate accuracy\n",
    "        #print(output.argmax(dim=-1))\n",
    "        #print((output.argmax(dim=1) == y).sum().item() / y.shape[0])\n",
    "        #print(output2.argmax(dim=-1))\n",
    "        #print((output2.argmax(dim=1) == y).sum().item() / y.shape[0])\n",
    "        \n",
    "        ig = IntegratedGradients(new_model)\n",
    "        attr , app_err = ig.attribute((batch_x , gnn_x) , (torch.zeros_like(batch_x) , gnn_x) , return_convergence_delta=True , target=y)\n",
    "        #print(attr[0][0][0:9])\n",
    "        #print(attr[0].reshape(50, -1 , 3).sum(dim=-1))\n",
    "        actual.append(y)\n",
    "        attribution.append(attr[0].reshape(batch_x.shape[0], -1 , 3).sum(dim=-1))\n",
    "        pbar.update(1)\n",
    "\n",
    "#print(test_graph[0].x.shape[0] * test_graph[0].x.shape[1])"
   ]
  },
  {
   "cell_type": "code",
   "execution_count": 25,
   "metadata": {},
   "outputs": [],
   "source": [
    "total_actual = torch.cat(actual , dim=0)\n",
    "total_attr = torch.cat(attribution , dim=0)"
   ]
  },
  {
   "cell_type": "code",
   "execution_count": 78,
   "metadata": {},
   "outputs": [
    {
     "name": "stdout",
     "output_type": "stream",
     "text": [
      "mir1271\n",
      "SPRY1\n",
      "PART1\n",
      "CDH13\n",
      "CAV1\n",
      "mir26a1\n",
      "C2orf62\n",
      "FAM184B\n",
      "CHKB\n",
      "mir424\n",
      "UBE2N\n",
      "mir561\n",
      "MGAT4B\n",
      "DTNA\n",
      "SPATA12\n",
      "KCP\n",
      "FMNL3\n",
      "C22orf45\n",
      "BARX2\n",
      "GPR124\n"
     ]
    }
   ],
   "source": [
    "import seaborn as sns\n",
    "# heatmap if actual = 0\n",
    "heatmap = []\n",
    "for idx, output in enumerate(total_attr):\n",
    "    actual = total_actual[idx]\n",
    "    if actual == 2:\n",
    "        #mask = (output <= 0.01)\n",
    "        mask_output = output.clone()\n",
    "        #mask_output[mask] = 0\n",
    "        heatmap.append(mask_output)\n",
    "        \n",
    "#sns.heatmap(heatmap)\n",
    "\n",
    "omic_types = [ 1 , 2 , 3 ]\n",
    "feature_names = load_omic_features_name(\n",
    "    \"../artifacts/data_preprocessing/\" , \"KIPAN\" , [1,2,3]\n",
    ")\n",
    "\n",
    "# ac selected genes \n",
    "ac_genes = torch.load(\"../artifacts/ac_genes/gene.pt\" , map_location=torch.device(\"cpu\"))\n",
    "filter_df = feature_names[feature_names[\"gene_idx\"].isin(ac_genes)]\n",
    "\n",
    "indices = torch.stack(heatmap, dim=0).sum(dim=0).topk(20).indices\n",
    "for i in indices:\n",
    "    print(filter_df.iloc[int(i)].gene_name)"
   ]
  },
  {
   "cell_type": "code",
   "execution_count": null,
   "metadata": {},
   "outputs": [],
   "source": [
    "import torch \n",
    "from captum.attr import IntegratedGradients"
   ]
  },
  {
   "cell_type": "code",
   "execution_count": null,
   "metadata": {},
   "outputs": [],
   "source": [
    "model.feedforward\n",
    "model.mlp\n",
    "\n",
    "class NewModel(torch.nn.Module):\n",
    "    def __init__(self, model):\n",
    "        super(NewModel, self).__init__()\n",
    "        self.A = model.feedforward \n",
    "        self.B = model.mlp\n",
    "        self.z = torch.zeros(10, 64)\n",
    "        \n",
    "    def forward(self, x):\n",
    "        i = self.A(x)\n",
    "        print(i.shape)\n",
    "        print(self.z.shape)\n",
    "        y  = torch.concat([i , torch.zeros_like(i)], dim=-1)\n",
    "        print(y.shape)\n",
    "        return self.B(y)\n",
    " \n",
    "new_model = NewModel(model)\n",
    "\n",
    "new_model.eval()\n",
    "        "
   ]
  },
  {
   "cell_type": "code",
   "execution_count": null,
   "metadata": {},
   "outputs": [],
   "source": [
    "new_model(torch.rand(10, 100))"
   ]
  },
  {
   "cell_type": "code",
   "execution_count": null,
   "metadata": {},
   "outputs": [],
   "source": [
    "A = torch.randn(10 , 100)\n",
    "B = torch.zeros(10 , 100)\n",
    "\n",
    "ig = IntegratedGradients(new_model)\n",
    "attr , app_err = ig.attribute(A , B , return_convergence_delta=True , target=[0,1,2,3,4,0,1,2,3,4])\n",
    "attr.shape"
   ]
  },
  {
   "cell_type": "code",
   "execution_count": null,
   "metadata": {},
   "outputs": [],
   "source": [
    "attr[0]"
   ]
  },
  {
   "cell_type": "code",
   "execution_count": null,
   "metadata": {},
   "outputs": [],
   "source": []
  }
 ],
 "metadata": {
  "kernelspec": {
   "display_name": "gnn",
   "language": "python",
   "name": "python3"
  },
  "language_info": {
   "codemirror_mode": {
    "name": "ipython",
    "version": 3
   },
   "file_extension": ".py",
   "mimetype": "text/x-python",
   "name": "python",
   "nbconvert_exporter": "python",
   "pygments_lexer": "ipython3",
   "version": "3.9.18"
  }
 },
 "nbformat": 4,
 "nbformat_minor": 2
}
