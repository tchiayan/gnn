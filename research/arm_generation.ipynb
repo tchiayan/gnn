{
 "cells": [
  {
   "cell_type": "code",
   "execution_count": 1,
   "metadata": {},
   "outputs": [],
   "source": [
    "from amogel.utils.ac import generate_ac_to_file \n",
    "import pandas as pd "
   ]
  },
  {
   "cell_type": "code",
   "execution_count": 8,
   "metadata": {},
   "outputs": [
    {
     "name": "stdout",
     "output_type": "stream",
     "text": [
      "Shape: (459, 1000) (459, 115) (459, 273) (459, 1)\n"
     ]
    }
   ],
   "source": [
    "omic1_path = \"../artifacts/data_preprocessing/KIPAN/1_tr.csv\"\n",
    "omic2_path = \"../artifacts/data_preprocessing/KIPAN/2_tr.csv\"\n",
    "omic3_path = \"../artifacts/data_preprocessing/KIPAN/3_tr.csv\"\n",
    "label_path = \"../artifacts/data_preprocessing/KIPAN/labels_tr.csv\"\n",
    "\n",
    "def read_data(omic1_path, omic2_path, omic3_path, label_path):\n",
    "    omic1 = pd.read_csv(omic1_path, header=None)\n",
    "    omic2 = pd.read_csv(omic2_path, header=None)\n",
    "    omic3 = pd.read_csv(omic3_path, header=None)\n",
    "    \n",
    "    labels = pd.read_csv(label_path, header=None)\n",
    "    print(f\"Shape: {omic1.shape} {omic2.shape} {omic3.shape} {labels.shape}\")\n",
    "    # join \n",
    "    data = pd.concat([omic1, omic2, omic3], axis=1)\n",
    "    return omic1 , omic2 , omic3 , data  , labels\n",
    "omic1 , omic2 , omic3 , data , label = read_data(omic1_path, omic2_path, omic3_path, label_path)"
   ]
  },
  {
   "cell_type": "code",
   "execution_count": 12,
   "metadata": {},
   "outputs": [
    {
     "name": "stderr",
     "output_type": "stream",
     "text": [
      "Generate CARs for class 2.0: 100%|██████████| 3/3 [00:02<00:00,  1.15it/s]            \n"
     ]
    },
    {
     "name": "stdout",
     "output_type": "stream",
     "text": [
      "------ ARM summary [Gene Filter: 0]---------\n",
      "   data_shape  itemset_length  support  support_percentage  cars_length  \\\n",
      "0   (50, 115)            1513       44           88.000000         1494   \n",
      "1  (219, 115)            1025      111           50.684932          196   \n",
      "2  (190, 115)            1215      139           73.157895         1029   \n",
      "\n",
      "   avg_confidence  \n",
      "0        0.857960  \n",
      "1        0.695903  \n",
      "2        0.868908  \n",
      "Selected gene corr: 108\n"
     ]
    }
   ],
   "source": [
    "# generate ac \n",
    "est , selected_gene = generate_ac_to_file(omic2 , label , \"ac_file.txt\" , n_bins=2, min_confidence=0.8)"
   ]
  },
  {
   "cell_type": "code",
   "execution_count": 10,
   "metadata": {},
   "outputs": [
    {
     "name": "stdout",
     "output_type": "stream",
     "text": [
      "[0, 1, 2, 3, 4, 5, 6, 7, 8, 9, 10, 11, 12, 13, 14, 15, 16, 17, 18, 19, 20, 21, 22, 23, 24, 25, 26, 27, 28, 29, 30, 31, 32, 33, 34, 35, 36, 37, 38, 39, 40, 41, 42, 43, 44, 45, 46, 47, 48, 49, 50, 51, 52, 53, 54, 55, 56, 57, 58, 59, 60, 61, 62, 63, 64, 65, 66, 67, 68, 69, 70, 71, 72, 73, 74, 75, 76, 77, 78, 79, 80, 81, 82, 83, 84, 85, 86, 87, 88, 89, 90, 91, 92, 93, 94, 95, 97, 98, 99, 100, 101, 102, 103, 105, 106, 107, 108, 109, 110, 111, 112, 113, 114]\n"
     ]
    }
   ],
   "source": [
    "print(selected_gene)"
   ]
  },
  {
   "cell_type": "code",
   "execution_count": null,
   "metadata": {},
   "outputs": [],
   "source": []
  }
 ],
 "metadata": {
  "kernelspec": {
   "display_name": "gnn",
   "language": "python",
   "name": "python3"
  },
  "language_info": {
   "codemirror_mode": {
    "name": "ipython",
    "version": 3
   },
   "file_extension": ".py",
   "mimetype": "text/x-python",
   "name": "python",
   "nbconvert_exporter": "python",
   "pygments_lexer": "ipython3",
   "version": "3.9.19"
  }
 },
 "nbformat": 4,
 "nbformat_minor": 2
}
