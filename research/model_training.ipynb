{
 "cells": [
  {
   "cell_type": "code",
   "execution_count": 1,
   "metadata": {},
   "outputs": [],
   "source": [
    "from amogel.model.GCN import GCN\n",
    "from amogel.model.graph_classification import GraphClassification , MultiGraphClassification , BinaryLearning , ContrastiveLearning\n",
    "from amogel.utils.pair_dataset import PairDataset\n",
    "from torch_geometric.data import Batch\n",
    "from torch_geometric.loader  import DataLoader\n",
    "import torch \n",
    "import pytorch_lightning as pl\n",
    "from amogel.entity.config_entity import ModelTrainingConfig\n"
   ]
  },
  {
   "cell_type": "code",
   "execution_count": 2,
   "metadata": {},
   "outputs": [],
   "source": [
    "def collate_multigraph(data_list , class_num:int):\n",
    "        batchAs = []\n",
    "        batchBs = []\n",
    "        batchCs = []\n",
    "        for i in range(class_num):\n",
    "            batchA = Batch.from_data_list([data[0][i] for data in data_list])\n",
    "            batchB = Batch.from_data_list([data[1][i] for data in data_list])\n",
    "            batchC = Batch.from_data_list([data[2][i] for data in data_list])\n",
    "            \n",
    "            batchAs.append(batchA)\n",
    "            batchBs.append(batchB)\n",
    "            batchCs.append(batchC)\n",
    "        \n",
    "        return batchAs, batchBs , batchCs"
   ]
  },
  {
   "cell_type": "code",
   "execution_count": 3,
   "metadata": {},
   "outputs": [],
   "source": [
    "def collate_contrastive_multigraph(data_list):\n",
    "        batchA = [\n",
    "            Batch.from_data_list([data[0][0] for data in data_list]), # posiive\n",
    "            Batch.from_data_list([data[0][1] for data in data_list]) # negative\n",
    "        ]\n",
    "        \n",
    "        batchB = [\n",
    "            Batch.from_data_list([data[1][0] for data in data_list]), # posiive\n",
    "            Batch.from_data_list([data[1][1] for data in data_list]) # negative\n",
    "        ]\n",
    "        \n",
    "        batchC = [\n",
    "            Batch.from_data_list([data[2][0] for data in data_list]), # posiive\n",
    "            Batch.from_data_list([data[2][1] for data in data_list]) # negative\n",
    "        ]\n",
    "    \n",
    "        return batchA, batchB , batchC"
   ]
  },
  {
   "cell_type": "code",
   "execution_count": 4,
   "metadata": {},
   "outputs": [],
   "source": [
    "def collate(data_list):\n",
    "        \"\"\"Collate multiple data objects into a single data object.\"\"\"\n",
    "        batch = Batch.from_data_list(data_list)\n",
    "        batchA = Batch.from_data_list([data[0] for data in data_list])\n",
    "        batchB = Batch.from_data_list([data[1] for data in data_list])\n",
    "        batchC = Batch.from_data_list([data[2] for data in data_list])\n",
    "        return batchA, batchB , batchC"
   ]
  },
  {
   "cell_type": "code",
   "execution_count": 6,
   "metadata": {},
   "outputs": [],
   "source": [
    "train_omic_1_graphs = torch.load(r\"../artifacts/knowledge_graph/BRCA/training_contrastive_multigraphs_omic_1.pt\")\n",
    "train_omic_2_graphs = torch.load(r\"../artifacts/knowledge_graph/BRCA/training_contrastive_multigraphs_omic_2.pt\")\n",
    "train_omic_3_graphs = torch.load(r\"../artifacts/knowledge_graph/BRCA/training_contrastive_multigraphs_omic_3.pt\")\n",
    "\n",
    "test_omic_1_graphs = torch.load(r\"../artifacts/knowledge_graph/BRCA/testing_constrastive_multigraphs_omic_1.pt\")\n",
    "test_omic_2_graphs = torch.load(r\"../artifacts/knowledge_graph/BRCA/testing_constrastive_multigraphs_omic_2.pt\")\n",
    "test_omic_3_graphs = torch.load(r\"../artifacts/knowledge_graph/BRCA/testing_constrastive_multigraphs_omic_3.pt\")"
   ]
  },
  {
   "cell_type": "code",
   "execution_count": 7,
   "metadata": {},
   "outputs": [],
   "source": [
    "train_loader = DataLoader(\n",
    "                PairDataset(train_omic_1_graphs , train_omic_2_graphs , train_omic_3_graphs) ,\n",
    "                batch_size=10 ,\n",
    "                shuffle=True ,\n",
    "                collate_fn=collate_contrastive_multigraph\n",
    "            )"
   ]
  },
  {
   "cell_type": "code",
   "execution_count": 12,
   "metadata": {},
   "outputs": [
    {
     "name": "stdout",
     "output_type": "stream",
     "text": [
      "tensor([1, 1, 1, 1, 1, 1, 1, 1, 1, 1])\n",
      "tensor([0, 0, 0, 0, 0, 0, 0, 0, 0, 0])\n"
     ]
    }
   ],
   "source": [
    "for batch in train_loader:\n",
    "    batch1 , batch2 , batch3 = batch\n",
    "    psitive_batch1 , negative_batch1 = batch1\n",
    "    print(psitive_batch1.y)\n",
    "    print(negative_batch1.y)\n",
    "    break"
   ]
  },
  {
   "cell_type": "code",
   "execution_count": null,
   "metadata": {},
   "outputs": [],
   "source": []
  }
 ],
 "metadata": {
  "kernelspec": {
   "display_name": "gnn",
   "language": "python",
   "name": "python3"
  },
  "language_info": {
   "codemirror_mode": {
    "name": "ipython",
    "version": 3
   },
   "file_extension": ".py",
   "mimetype": "text/x-python",
   "name": "python",
   "nbconvert_exporter": "python",
   "pygments_lexer": "ipython3",
   "version": "3.9.19"
  }
 },
 "nbformat": 4,
 "nbformat_minor": 2
}
