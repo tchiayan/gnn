{
 "cells": [
  {
   "cell_type": "code",
   "execution_count": 2,
   "metadata": {},
   "outputs": [],
   "source": [
    "import torch.nn as nn \n",
    "import torch "
   ]
  },
  {
   "cell_type": "code",
   "execution_count": 3,
   "metadata": {},
   "outputs": [
    {
     "name": "stdout",
     "output_type": "stream",
     "text": [
      "tensor([1.5647, 2.7916, 0.0000, 0.0000, 1.3775, 2.5655, 1.2642, 0.0000, 0.0000,\n",
      "        1.4127, 0.0000, 1.4705, 1.3452, 0.7758, 1.2851, 0.0000, 0.2906, 0.0000,\n",
      "        0.0000, 1.2064, 0.5281, 0.9091, 0.9547, 0.3590, 0.1795, 0.0000, 2.8105,\n",
      "        0.0000, 1.3269, 0.9776, 0.7879, 2.4472, 0.1252, 0.0929, 0.0000, 1.8014,\n",
      "        0.0000, 0.7398, 0.0000, 0.0000, 0.0000, 0.1869, 0.0000, 0.7145, 0.7825,\n",
      "        1.9635, 1.0805, 1.2515, 0.2094, 0.0000, 1.4799, 0.9534, 0.2588, 0.6354,\n",
      "        0.1507, 0.0000, 0.0000, 1.1175, 0.0000, 1.8731, 0.0000, 0.0000, 2.1268,\n",
      "        1.2125, 1.4955, 0.0000, 0.0000, 0.7481, 0.0000, 1.4244, 1.1444, 1.1575,\n",
      "        1.4120, 0.0000, 0.0000, 2.0138, 0.0000, 0.0000, 0.0119, 0.0000, 1.2190,\n",
      "        0.3086, 0.0000, 1.5399, 1.1431, 0.8727, 3.1873, 1.4640, 1.8665, 0.0000,\n",
      "        0.0000, 1.0287, 0.0000, 1.6278, 0.5634, 0.1963, 0.0000, 0.0000, 0.1198,\n",
      "        0.5864])\n"
     ]
    }
   ],
   "source": [
    "distance = nn.PairwiseDistance(p=2)\n",
    "\n",
    "input1 = torch.randn(100, 128)\n",
    "input2 = torch.randn(100, 128)\n",
    "input3 = torch.randn(100, 128)\n",
    "input4 = torch.randn(100, 128)\n",
    "\n",
    "print(torch.maximum(distance(input1 , input2) - distance(input1 , input3) + 0.5 , torch.tensor(0)))"
   ]
  },
  {
   "cell_type": "code",
   "execution_count": 13,
   "metadata": {},
   "outputs": [],
   "source": [
    "import pandas as pd \n",
    "\n",
    "df = pd.read_csv(r'../artifacts\\data_preprocessing\\BRCA\\labels_te.csv', header=None)"
   ]
  },
  {
   "cell_type": "code",
   "execution_count": 18,
   "metadata": {},
   "outputs": [
    {
     "data": {
      "text/plain": [
       "0\n",
       "0.0    27\n",
       "1.0     5\n",
       "2.0    84\n",
       "3.0    33\n",
       "4.0     5\n",
       "dtype: int64"
      ]
     },
     "execution_count": 18,
     "metadata": {},
     "output_type": "execute_result"
    }
   ],
   "source": [
    "df.groupby([0]).size()"
   ]
  },
  {
   "cell_type": "code",
   "execution_count": 4,
   "metadata": {},
   "outputs": [
    {
     "name": "stdout",
     "output_type": "stream",
     "text": [
      "tensor(1.4649)\n"
     ]
    }
   ],
   "source": [
    "def quodruplet_loss(input1 , input2 , input3 , input4 , margin=0.5 , p=2):\n",
    "    distance = nn.PairwiseDistance(p=p)    \n",
    "    return (torch.maximum(distance(input1 , input2) - distance(input1 , input3) + margin , torch.tensor(0)) + torch.maximum(distance(input1 , input2) - distance(input1 , input4) + margin , torch.tensor(0))).mean()\n",
    "\n",
    "print(quodruplet_loss(input1 , input2 , input3 , input4))\n",
    "\n"
   ]
  },
  {
   "cell_type": "code",
   "execution_count": null,
   "metadata": {},
   "outputs": [],
   "source": []
  }
 ],
 "metadata": {
  "kernelspec": {
   "display_name": "gnn",
   "language": "python",
   "name": "python3"
  },
  "language_info": {
   "codemirror_mode": {
    "name": "ipython",
    "version": 3
   },
   "file_extension": ".py",
   "mimetype": "text/x-python",
   "name": "python",
   "nbconvert_exporter": "python",
   "pygments_lexer": "ipython3",
   "version": "3.9.19"
  }
 },
 "nbformat": 4,
 "nbformat_minor": 2
}
