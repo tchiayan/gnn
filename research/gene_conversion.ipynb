{
 "cells": [
  {
   "cell_type": "code",
   "execution_count": 1,
   "metadata": {},
   "outputs": [
    {
     "name": "stdout",
     "output_type": "stream",
     "text": [
      "\n",
      "\n",
      "\n",
      "\n",
      "\n",
      "\n",
      "\n",
      "\n",
      "\n",
      "<html>\n",
      "<head>\n",
      "</head>\n",
      "<body>\n",
      "<form name=\"apiForm\" method=\"POST\">\n",
      "<input type=\"hidden\" name=\"rowids\">\n",
      "<input type=\"hidden\" name=\"annot\">\n",
      "\n",
      "<script type=\"text/javascript\">\n",
      "document.apiForm.rowids.value=\"6364,2919,6348,6347\";\n",
      "document.apiForm.annot.value=\"\";\n",
      "document.apiForm.action = \"list.jsp\";\n",
      "document.apiForm.submit();\n",
      "</script>\n",
      "\n",
      "</form>\n",
      "</body>\n",
      "</html>\n",
      "\n"
     ]
    }
   ],
   "source": [
    "# API request \n",
    "import requests\n",
    "\n",
    "# API URL\n",
    "url = \"https://davidbioinformatics.nih.gov/api.jsp?type=ENTREZ_GENE_ID&ids=2919,6347,6348,6364&tool=list\"\n",
    "\n",
    "\n",
    "# API request\n",
    "response = requests.get(url)\n",
    "\n",
    "# Print the response\n",
    "print(response.text)"
   ]
  },
  {
   "cell_type": "code",
   "execution_count": 5,
   "metadata": {},
   "outputs": [],
   "source": [
    "import pandas as pd \n",
    "\n",
    "df = pd.read_csv(r'../data\\DAVIDKnowledgebase\\OFFICIAL_GENE_SYMBOL2ENTREZ_GENE_SUMMARY.txt', sep='\\t')"
   ]
  },
  {
   "cell_type": "code",
   "execution_count": 6,
   "metadata": {},
   "outputs": [
    {
     "data": {
      "text/html": [
       "<div>\n",
       "<style scoped>\n",
       "    .dataframe tbody tr th:only-of-type {\n",
       "        vertical-align: middle;\n",
       "    }\n",
       "\n",
       "    .dataframe tbody tr th {\n",
       "        vertical-align: top;\n",
       "    }\n",
       "\n",
       "    .dataframe thead th {\n",
       "        text-align: right;\n",
       "    }\n",
       "</style>\n",
       "<table border=\"1\" class=\"dataframe\">\n",
       "  <thead>\n",
       "    <tr style=\"text-align: right;\">\n",
       "      <th></th>\n",
       "      <th>LOC127270490</th>\n",
       "      <th>This genomic region was validated as an active enhancer by the ChIP-STARR-seq massively parallel reporter assay (MPRA) in naive human embryonic stem cells, where it is marked by the H3K27ac and H3K4me1 histone modifications. This locus also includes an accessible chromatin subregion that was validated as an enhancer based on its ability to activate an origin of replication minimal core promoter by the ATAC-STARR-seq (assay for transposase-accessible chromatin with self-transcribing active regulatory region sequencing) MPRA in GM12878 lymphoblastoid cells. [provided by RefSeq, May 2023]</th>\n",
       "    </tr>\n",
       "  </thead>\n",
       "  <tbody>\n",
       "    <tr>\n",
       "      <th>0</th>\n",
       "      <td>LOC130008909</td>\n",
       "      <td>This genomic sequence represents an accessible...</td>\n",
       "    </tr>\n",
       "    <tr>\n",
       "      <th>1</th>\n",
       "      <td>LOC130055608</td>\n",
       "      <td>This genomic sequence represents an accessible...</td>\n",
       "    </tr>\n",
       "    <tr>\n",
       "      <th>2</th>\n",
       "      <td>LOC127402584</td>\n",
       "      <td>This genomic region was validated as an active...</td>\n",
       "    </tr>\n",
       "    <tr>\n",
       "      <th>3</th>\n",
       "      <td>LOC127891874</td>\n",
       "      <td>This genomic region was validated as an active...</td>\n",
       "    </tr>\n",
       "    <tr>\n",
       "      <th>4</th>\n",
       "      <td>LOC129662368</td>\n",
       "      <td>This genomic sequence includes an accessible c...</td>\n",
       "    </tr>\n",
       "  </tbody>\n",
       "</table>\n",
       "</div>"
      ],
      "text/plain": [
       "   LOC127270490  \\\n",
       "0  LOC130008909   \n",
       "1  LOC130055608   \n",
       "2  LOC127402584   \n",
       "3  LOC127891874   \n",
       "4  LOC129662368   \n",
       "\n",
       "  This genomic region was validated as an active enhancer by the ChIP-STARR-seq massively parallel reporter assay (MPRA) in naive human embryonic stem cells, where it is marked by the H3K27ac and H3K4me1 histone modifications. This locus also includes an accessible chromatin subregion that was validated as an enhancer based on its ability to activate an origin of replication minimal core promoter by the ATAC-STARR-seq (assay for transposase-accessible chromatin with self-transcribing active regulatory region sequencing) MPRA in GM12878 lymphoblastoid cells. [provided by RefSeq, May 2023]  \n",
       "0  This genomic sequence represents an accessible...                                                                                                                                                                                                                                                                                                                                                                                                                                                                                                                                                                \n",
       "1  This genomic sequence represents an accessible...                                                                                                                                                                                                                                                                                                                                                                                                                                                                                                                                                                \n",
       "2  This genomic region was validated as an active...                                                                                                                                                                                                                                                                                                                                                                                                                                                                                                                                                                \n",
       "3  This genomic region was validated as an active...                                                                                                                                                                                                                                                                                                                                                                                                                                                                                                                                                                \n",
       "4  This genomic sequence includes an accessible c...                                                                                                                                                                                                                                                                                                                                                                                                                                                                                                                                                                "
      ]
     },
     "execution_count": 6,
     "metadata": {},
     "output_type": "execute_result"
    }
   ],
   "source": [
    "df.head()"
   ]
  },
  {
   "cell_type": "code",
   "execution_count": 7,
   "metadata": {},
   "outputs": [],
   "source": [
    "# Gene networks\n",
    "\n",
    "GOTERM_BP = pd.read_csv(r'..\\data\\DAVIDKnowledgebase\\OFFICIAL_GENE_SYMBOL2GOTERM_BP_ALL.txt', sep='\\t', header=None)\n",
    "GOTERM_BP.columns = ['Gene', 'GOTERM_BP']\n",
    "\n",
    "GOTERM_CC = pd.read_csv(r'..\\data\\DAVIDKnowledgebase\\OFFICIAL_GENE_SYMBOL2GOTERM_CC_ALL.txt', sep='\\t', header=None)\n",
    "GOTERM_CC.columns = ['Gene', 'GOTERM_CC']\n",
    "\n",
    "GOTERM_MF = pd.read_csv(r'..\\data\\DAVIDKnowledgebase\\OFFICIAL_GENE_SYMBOL2GOTERM_MF_ALL.txt', sep='\\t', header=None)\n",
    "GOTERM_MF.columns = ['Gene', 'GOTERM_MF']\n"
   ]
  },
  {
   "cell_type": "code",
   "execution_count": 27,
   "metadata": {},
   "outputs": [
    {
     "data": {
      "text/html": [
       "<div>\n",
       "<style scoped>\n",
       "    .dataframe tbody tr th:only-of-type {\n",
       "        vertical-align: middle;\n",
       "    }\n",
       "\n",
       "    .dataframe tbody tr th {\n",
       "        vertical-align: top;\n",
       "    }\n",
       "\n",
       "    .dataframe thead th {\n",
       "        text-align: right;\n",
       "    }\n",
       "</style>\n",
       "<table border=\"1\" class=\"dataframe\">\n",
       "  <thead>\n",
       "    <tr style=\"text-align: right;\">\n",
       "      <th></th>\n",
       "      <th>Gene</th>\n",
       "    </tr>\n",
       "  </thead>\n",
       "  <tbody>\n",
       "    <tr>\n",
       "      <th>0</th>\n",
       "      <td>A2LD1</td>\n",
       "    </tr>\n",
       "    <tr>\n",
       "      <th>1</th>\n",
       "      <td>A2ML1</td>\n",
       "    </tr>\n",
       "    <tr>\n",
       "      <th>2</th>\n",
       "      <td>A4GALT</td>\n",
       "    </tr>\n",
       "    <tr>\n",
       "      <th>3</th>\n",
       "      <td>ABAT</td>\n",
       "    </tr>\n",
       "    <tr>\n",
       "      <th>4</th>\n",
       "      <td>ABCC11</td>\n",
       "    </tr>\n",
       "  </tbody>\n",
       "</table>\n",
       "</div>"
      ],
      "text/plain": [
       "     Gene\n",
       "0   A2LD1\n",
       "1   A2ML1\n",
       "2  A4GALT\n",
       "3    ABAT\n",
       "4  ABCC11"
      ]
     },
     "execution_count": 27,
     "metadata": {},
     "output_type": "execute_result"
    }
   ],
   "source": [
    "# Gene features \n",
    "\n",
    "feature_name = pd.read_csv(r'..\\artifacts\\data_preprocessing\\BRCA\\2_featname.csv', header=None)\n",
    "feature_name.columns = ['Gene']\n",
    "\n",
    "feature_name.head()"
   ]
  },
  {
   "cell_type": "code",
   "execution_count": 28,
   "metadata": {},
   "outputs": [],
   "source": [
    "bp_gene = GOTERM_BP.groupby(['Gene']).size().reset_index(name='bp_counts')\n",
    "cc_gene = GOTERM_CC.groupby(['Gene']).size().reset_index(name='cc_counts')\n",
    "mf_gene = GOTERM_MF.groupby(['Gene']).size().reset_index(name='mf_counts')\n",
    "\n",
    "feature_stats = feature_name.join(bp_gene.set_index('Gene'), on='Gene').join(cc_gene.set_index('Gene'), on='Gene').join(mf_gene.set_index('Gene'), on='Gene')\n",
    "\n"
   ]
  },
  {
   "cell_type": "code",
   "execution_count": 29,
   "metadata": {},
   "outputs": [
    {
     "data": {
      "text/plain": [
       "Gene          0.0\n",
       "bp_counts    25.0\n",
       "cc_counts    21.8\n",
       "mf_counts    26.3\n",
       "dtype: float64"
      ]
     },
     "execution_count": 29,
     "metadata": {},
     "output_type": "execute_result"
    }
   ],
   "source": [
    "feature_stats.isnull().sum() / len(feature_stats) * 100"
   ]
  },
  {
   "cell_type": "code",
   "execution_count": 35,
   "metadata": {},
   "outputs": [
    {
     "data": {
      "text/html": [
       "<div>\n",
       "<style scoped>\n",
       "    .dataframe tbody tr th:only-of-type {\n",
       "        vertical-align: middle;\n",
       "    }\n",
       "\n",
       "    .dataframe tbody tr th {\n",
       "        vertical-align: top;\n",
       "    }\n",
       "\n",
       "    .dataframe thead th {\n",
       "        text-align: right;\n",
       "    }\n",
       "</style>\n",
       "<table border=\"1\" class=\"dataframe\">\n",
       "  <thead>\n",
       "    <tr style=\"text-align: right;\">\n",
       "      <th></th>\n",
       "      <th>GeneID</th>\n",
       "      <th>Gene</th>\n",
       "    </tr>\n",
       "  </thead>\n",
       "  <tbody>\n",
       "    <tr>\n",
       "      <th>0</th>\n",
       "      <td>ABAT|18</td>\n",
       "      <td>ABAT</td>\n",
       "    </tr>\n",
       "    <tr>\n",
       "      <th>1</th>\n",
       "      <td>ABCF1|23</td>\n",
       "      <td>ABCF1</td>\n",
       "    </tr>\n",
       "    <tr>\n",
       "      <th>2</th>\n",
       "      <td>ABCF2|10061</td>\n",
       "      <td>ABCF2</td>\n",
       "    </tr>\n",
       "    <tr>\n",
       "      <th>3</th>\n",
       "      <td>ACOT4|122970</td>\n",
       "      <td>ACOT4</td>\n",
       "    </tr>\n",
       "    <tr>\n",
       "      <th>4</th>\n",
       "      <td>ACOT9|23597</td>\n",
       "      <td>ACOT9</td>\n",
       "    </tr>\n",
       "  </tbody>\n",
       "</table>\n",
       "</div>"
      ],
      "text/plain": [
       "         GeneID   Gene\n",
       "0       ABAT|18   ABAT\n",
       "1      ABCF1|23  ABCF1\n",
       "2   ABCF2|10061  ABCF2\n",
       "3  ACOT4|122970  ACOT4\n",
       "4   ACOT9|23597  ACOT9"
      ]
     },
     "execution_count": 35,
     "metadata": {},
     "output_type": "execute_result"
    }
   ],
   "source": [
    "feature_name_1 = pd.read_csv(r'..\\artifacts\\data_preprocessing\\BRCA\\1_featname.csv', header=None)\n",
    "feature_name_1.columns = ['GeneID']\n",
    "\n",
    "feature_name_1['Gene'] = feature_name_1['GeneID'].apply(lambda x: x.split(\"|\")[0])\n",
    "feature_name_1.head()"
   ]
  },
  {
   "cell_type": "code",
   "execution_count": 41,
   "metadata": {},
   "outputs": [
    {
     "data": {
      "text/plain": [
       "{'ABAT',\n",
       " 'AGR3',\n",
       " 'AKR1E2',\n",
       " 'APBA2',\n",
       " 'ARL4C',\n",
       " 'B3GNT5',\n",
       " 'BTG3',\n",
       " 'C17orf28',\n",
       " 'C1QL4',\n",
       " 'C1orf174',\n",
       " 'C1orf59',\n",
       " 'C9orf98',\n",
       " 'CA12',\n",
       " 'CCDC150',\n",
       " 'CDC25A',\n",
       " 'CHST2',\n",
       " 'CHST3',\n",
       " 'CLDN23',\n",
       " 'CMBL',\n",
       " 'CMTM7',\n",
       " 'CTPS',\n",
       " 'DAPK1',\n",
       " 'DLGAP5',\n",
       " 'DNALI1',\n",
       " 'DSC3',\n",
       " 'DUSP7',\n",
       " 'EAPP',\n",
       " 'EN1',\n",
       " 'ENO1',\n",
       " 'EPHB3',\n",
       " 'FAM57A',\n",
       " 'FAM63A',\n",
       " 'FANCA',\n",
       " 'FOXA1',\n",
       " 'FOXC1',\n",
       " 'FUT3',\n",
       " 'FUT4',\n",
       " 'GABRP',\n",
       " 'GPR161',\n",
       " 'GPR77',\n",
       " 'GPRIN2',\n",
       " 'GPSM2',\n",
       " 'GPX7',\n",
       " 'HORMAD1',\n",
       " 'KDM2B',\n",
       " 'LBR',\n",
       " 'LOC100132215',\n",
       " 'MALL',\n",
       " 'MFI2',\n",
       " 'MIA',\n",
       " 'MLPH',\n",
       " 'MTPAP',\n",
       " 'MYO10',\n",
       " 'NCRNA00092',\n",
       " 'NFE2L3',\n",
       " 'NFIL3',\n",
       " 'NOL10',\n",
       " 'NOSTRIN',\n",
       " 'NOTCH1',\n",
       " 'ODC1',\n",
       " 'PDIA6',\n",
       " 'PPARD',\n",
       " 'PROM1',\n",
       " 'PSAT1',\n",
       " 'PVR',\n",
       " 'RASSF4',\n",
       " 'RBM38',\n",
       " 'RIPK4',\n",
       " 'ROPN1',\n",
       " 'ROPN1B',\n",
       " 'RPS2P32',\n",
       " 'SCNN1A',\n",
       " 'SENP3',\n",
       " 'SF3B3',\n",
       " 'SFRS13B',\n",
       " 'SFT2D2',\n",
       " 'SLC25A37',\n",
       " 'SLC43A3',\n",
       " 'SNORA8',\n",
       " 'SOX10',\n",
       " 'SOX11',\n",
       " 'SPDEF',\n",
       " 'ST8SIA1',\n",
       " 'SYNJ2BP',\n",
       " 'TBC1D1',\n",
       " 'TBC1D9',\n",
       " 'TIGD2',\n",
       " 'TMEM25',\n",
       " 'TRA2B',\n",
       " 'TRIM65',\n",
       " 'TTYH3',\n",
       " 'UGT8',\n",
       " 'WDR67',\n",
       " 'WWTR1',\n",
       " 'ZNF124',\n",
       " 'ZNF454'}"
      ]
     },
     "execution_count": 41,
     "metadata": {},
     "output_type": "execute_result"
    }
   ],
   "source": [
    "# number of intersection of gene between two omics data\n",
    "(set(feature_name_1['Gene'].unique().tolist()).intersection(set(feature_stats['Gene'].unique().tolist())))"
   ]
  },
  {
   "cell_type": "code",
   "execution_count": null,
   "metadata": {},
   "outputs": [],
   "source": []
  }
 ],
 "metadata": {
  "kernelspec": {
   "display_name": "gnn",
   "language": "python",
   "name": "python3"
  },
  "language_info": {
   "codemirror_mode": {
    "name": "ipython",
    "version": 3
   },
   "file_extension": ".py",
   "mimetype": "text/x-python",
   "name": "python",
   "nbconvert_exporter": "python",
   "pygments_lexer": "ipython3",
   "version": "3.9.19"
  }
 },
 "nbformat": 4,
 "nbformat_minor": 2
}
